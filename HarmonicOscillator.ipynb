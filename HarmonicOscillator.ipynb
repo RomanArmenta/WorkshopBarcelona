{
 "cells": [
  {
   "cell_type": "markdown",
   "metadata": {},
   "source": [
    "# Quantum Monte-Carlo for Quantum Many-Body Systems\n",
    "\n",
    "In this notebook, we apply the quantum Monte-Carlo method alongside with the variational method and neural network methods in order to find the ground state of a first quantized many-body systems. \n",
    "\n",
    "A general solution of a quantum many-body system $\\Psi(\\mathbf{r})$ must satisfy the quantum Schr\\\"odinger equation given by,\n",
    "\n",
    "$$\\hat{H}\\Psi(\\mathbf{r}) = E\\Psi(\\mathbf{r}),$$\n",
    "\n",
    "where $E$ is the energy of the system in the state $\\Psi(\\mathbf{r})$, where $\\mathbf{r}$ are the positions of all the quantum bodies in the system. We can see $\\Psi$ as an eigenvector of the Hamiltonian operator $\\hat{H}$ with eigenvalue $E$.\n",
    "\n",
    "The general form of a many-body quantum Hamiltonian is given by,\n",
    "\n",
    "$$\\hat{H} = \\hat{K} + \\hat{V}$$\n",
    "$$\\hat{K} = -\\sum_{i=1}^{N}\\frac{\\hbar^2}{2m_i}\\hat{\\nabla}^2_{\\mathbf{r}_i}$$\n",
    "$$\\hat{V} = V(\\{\\mathbf{r}_i\\}_{i=1}^{N})$$\n",
    "\n",
    "where we have defined $\\mathbf{r} = (\\mathbf{r}_1, \\mathbf{r}_2, \\cdots, \\mathbf{r}_N)$ with $\\mathbf{r}_i$ the position vector for the particle $i$, and $\\hat{V}$ is the potential energy operator, that only depends on the potitions of all the quantum bodies of the systems.\n",
    "\n",
    "For molecular systems, we can define the general form of the Hamiltonian as,\n",
    "\n",
    "$$\\hat{H} = \\hat{K} + \\hat{V}$$\n",
    "$$\\hat{K} = -\\sum_{i=1}^{N_n}\\frac{\\hbar^2}{2M_i}\\hat{\\nabla}^2_{\\mathbf{R}_i} - \\sum_{j=1}^{N_e}\\frac{\\hbar^2}{2m_j}\\hat{\\nabla}^2_{\\mathbf{r}_j}$$\n",
    "$$\\hat{V} = \\hat{V}_{ee}(\\{\\mathbf{r}_j\\}_{j=1}^{N_e}) + \\hat{V}_{nn}(\\{\\mathbf{R}_i\\}_{i=1}^{N_n}) + \\hat{V}_{en}(\\{\\mathbf{R}_i\\}_{i=1}^{N_n}, \\{\\mathbf{r}_j\\}_{j_1}^{N_e})$$\n",
    "\n",
    "where $\\hat{K}$ is the kinetic energy for all the nuclei and electrons in the molecular system, $\\hat{V}$ is the potential energy, with $\\hat{V}_{ee}$ the Coulumb potential between electrons, $\\hat{V}_{nn}$ the Coulomb potential between nuclei and $\\hat{V}_{en}$ the Coulomb potential between electrons and nuclei, $\\{\\mathbf{R}_i\\}_{i=1}^{N_n}$ are the position vectors for all the nuclei in the molecular system, and $\\{\\mathbf{r}_j\\}_{j=1}^{N_e}$ are the position vectors for the electrons.\n",
    "\n",
    "\n",
    "As a first approximation, we study the One-Dimensional Harmonic Oscillator system."
   ]
  },
  {
   "cell_type": "markdown",
   "metadata": {},
   "source": [
    "## One-Dimensional Harmonic Oscilator\n",
    "\n",
    "### Hamiltonian\n",
    "\n",
    "We can compute the energy of the system for a given state $\\Psi$ as follow:\n",
    "\n",
    "$$E[\\Psi] = \\frac{\\int \\Psi^\\dagger (\\mathbf{R})\\hat{H}\\Psi(\\mathbf{R})d\\mathbf{R}}{\\int\\left|\\Psi(\\mathbf{R}')\\right|^2 d\\mathbf{R}'} = \\int P(\\mathbf{R})E_{loc}(\\mathbf{R})d\\mathbf{R},$$\n",
    "\n",
    "where,\n",
    "\n",
    "$$P(\\mathbf{R}) = \\frac{|\\Psi(\\mathbf{R})|^2}{\\int |\\Psi(\\mathbf{R}')|^2 d\\mathbf{R}'}$$\n",
    "$$E_{loc} (\\mathbf{R}) = \\frac{\\hat{H}\\Psi(\\mathbf{R})}{\\Psi (\\mathbf{R})}$$\n",
    "\n",
    "where we can identify $P(\\mathbf{R})$ as the probability distribution of the positions of particles in the system for the specific state $\\Psi$, and $E_{loc} (\\mathbf{R})$ is the local energy  of the system in that state for a given position of the particles. So, in order to get the energy for a given state, we need to compute the above integral in all the space.\n",
    "\n",
    "In order to explain how to do this, we first get as a first approach the One-Dimensional Harmonic Oscillator system, where its Hamiltonian is given by,\n",
    "\n",
    "$$\\hat{H} = \\hat{K} + \\hat{V} = -\\frac{\\hbar^2}{2m}\\frac{d^2}{dx^2} + \\frac{1}{2}m\\omega^2 x^2,$$\n",
    "\n",
    "where $m$ is the mass of the particle in the oscillating potential, and $\\omega$ gives the oscillation frequency of this potential.\n",
    "\n",
    "We start this exercise writing the class for this Hamiltonian."
   ]
  },
  {
   "cell_type": "code",
   "execution_count": 10,
   "metadata": {},
   "outputs": [],
   "source": [
    "import jax\n",
    "import jax.numpy as jnp\n",
    "from functools import partial\n",
    "import numpy as np\n",
    "from matplotlib import pyplot as plt"
   ]
  },
  {
   "cell_type": "code",
   "execution_count": null,
   "metadata": {},
   "outputs": [],
   "source": [
    "# Class for the 1D - Harmonic Oscillator (OneDHO)\n",
    "\n",
    "class OneDHO_Hamiltonian:\n",
    "\n",
    "    '''\n",
    "    Class that calculate Local Energies and variational energies of a given\n",
    "    trial wavefunctions.\n",
    "\n",
    "    mass:\n",
    "        Mass of the particle in the 1D Harmonic Oscillator potential.\n",
    "    omega:\n",
    "        Frequency of oscillation of the harmonic oscillator\n",
    "    hbar:\n",
    "        The value of hbar considered\n",
    "    potential_energy_fn:\n",
    "        Function of the one dimensional potential if not harmonic oscilator.\n",
    "    '''\n",
    "\n",
    "    def __init__(self, mass=1.0, omega=1.0, hbar=1.0):\n",
    "        self.mass = mass\n",
    "        self.omega = omega\n",
    "        self.hbar = hbar\n",
    "\n",
    "    @partial(jax.jit, static_argnums=(0,))\n",
    "    def kinetic_energy(self, psi, psi_laplacian):\n",
    "        \"\"\"\n",
    "        Calculates local kinetic energy for a given value of the wavefunction and\n",
    "        laplacian.\n",
    "        ---------------------\n",
    "        Input:\n",
    "\n",
    "        psi:\n",
    "            Value of the variational wavefunction for a given position Ψ(r).\n",
    "        psi_laplacian:\n",
    "            Value of the variational laplacian for a given position ∇²Ψ(r).\n",
    "\n",
    "        ---------------------\n",
    "        Output:\n",
    "\n",
    "        Local kinetic energy:\n",
    "            -(hbar^2/2m)∇²Ψ(r)/Ψ(r)\n",
    "        \"\"\"\n",
    "        return -(((self.hbar)**2)/(2 * self.mass)) * psi_laplacian / psi\n",
    "\n",
    "\n",
    "    @partial(jax.jit, static_argnums=(0,))\n",
    "    def potential_energy(self, position):\n",
    "        \"\"\"\n",
    "        Calculates local potential energy for a given potition.\n",
    "        ---------------------\n",
    "        Input:\n",
    "\n",
    "        position:\n",
    "            The position of the particle.\n",
    "\n",
    "        ---------------------\n",
    "        Output:\n",
    "\n",
    "        Local potential energy:\n",
    "            0.5 * omega^2 * mass * position^2\n",
    "        \"\"\"\n",
    "        return 0.5 * self.mass * (self.omega ** 2) * jnp.sum(jnp.square(position))\n",
    "\n",
    "    @partial(jax.jit, static_argnums=(0,))\n",
    "    def total_energy(self, position, psi, psi_laplacian):\n",
    "        \"\"\"\n",
    "        Calculates local total energy for a given potition.\n",
    "        ---------------------\n",
    "        Input:\n",
    "\n",
    "        position:\n",
    "            The position of the particle.\n",
    "        psi:\n",
    "            Value of the variational wavefunction for a given position Ψ(r).\n",
    "        psi_laplacian:\n",
    "            Value of the variational laplacian for a given position ∇²Ψ(r).\n",
    "\n",
    "        ---------------------\n",
    "        Output:\n",
    "\n",
    "        Local total energy:\n",
    "            -(hbar^2/2m)∇²Ψ(position)/Ψ(position) + 0.5 * omega^2 * mass * position^2\n",
    "        \"\"\"\n",
    "        kinetic = self.kinetic_energy(psi, psi_laplacian)\n",
    "        potential = self.potential_energy(position)\n",
    "        return kinetic + potential\n",
    "\n",
    "    @partial(jax.jit, static_argnums=(0,))\n",
    "    def variational_energy(self, psi, positions, psi_laplacians):\n",
    "        return jnp.mean(self.total_energy_vmap(psi, positions, psi_laplacians))\n",
    "\n",
    "    #######################\n",
    "    # vmapped functions\n",
    "    #######################\n",
    "\n",
    "    @partial(jax.vmap, in_axes = (None, 0, 0), out_axes = 0)\n",
    "    @partial(jax.jit, static_argnums=(0,))\n",
    "    def kinetic_energy_vmap(self, psi, psi_laplacian):\n",
    "        return -0.5 * (((self.hbar)**2)/(2 * self.mass)) * psi_laplacian / psi\n",
    "\n",
    "    @partial(jax.vmap, in_axes = (None, 0), out_axes = 0)\n",
    "    @partial(jax.jit, static_argnums=(0,))\n",
    "    def potential_energy_vmap(self, positions):\n",
    "        return 0.5 * self.omega * self.mass * (self.omega ** 2) * jnp.sum(jnp.square(positions))\n",
    "\n",
    "    @partial(jax.vmap, in_axes = (None, 0, 0, 0), out_axes = 0)\n",
    "    @partial(jax.jit, static_argnums=(0,))\n",
    "    def total_energy_vmap(self, psi, positions, psi_laplacian):\n",
    "        kinetic = self.kinetic_energy(psi, psi_laplacian)\n",
    "        potential = self.potential_energy(positions)\n",
    "        return kinetic + potential"
   ]
  },
  {
   "cell_type": "markdown",
   "metadata": {},
   "source": [
    "With this instanciated python class, we can calculate the value of the local energy $E_{loc}$ of the system for a given state in a given position of the particle.\n",
    "\n",
    "Lets first instanciate a Hamiltonian in atomic units, that is, $\\hbar = m = \\omega = 1$."
   ]
  },
  {
   "cell_type": "code",
   "execution_count": 4,
   "metadata": {},
   "outputs": [],
   "source": [
    "hamiltonian = OneDHO_Hamiltonian()"
   ]
  },
  {
   "cell_type": "markdown",
   "metadata": {},
   "source": [
    "Suppose that the value of the wavefunction at $x=0.5$ is $\\Psi(x) = 0.8824969$, and the laplacian at that value of $x$ is $\\nabla^2 \\Psi(0.5) = -0.6618727$ (this are the actual values of the Gaussian wavefunction introduced forward for $\\alpha = 0.5$). We can calculate the local kinetic energy, the local potential energy and the local energy for this given example as follows."
   ]
  },
  {
   "cell_type": "code",
   "execution_count": 5,
   "metadata": {},
   "outputs": [
    {
     "name": "stdout",
     "output_type": "stream",
     "text": [
      "For x = 0.5 and a Gaussian state with alpha=0.5:\n",
      "Local kinetic energy: 0.375\n",
      "Local potential energy: 0.125\n",
      "Local energy: 0.5\n"
     ]
    }
   ],
   "source": [
    "x = 0.5\n",
    "psi = 0.8824969\n",
    "laplacian = -0.6618727\n",
    "\n",
    "# Get the local kinetic energy\n",
    "local_kinetic_energy = hamiltonian.kinetic_energy(psi, laplacian)\n",
    "\n",
    "# Get the local potential energy\n",
    "local_potential_energy = hamiltonian.potential_energy(x)\n",
    "\n",
    "# Get the local energy\n",
    "local_energy = hamiltonian.total_energy(x, psi, laplacian)\n",
    "\n",
    "print(\"For x = 0.5 and a Gaussian state with alpha=0.5:\")\n",
    "print(f\"Local kinetic energy: {local_kinetic_energy}\")\n",
    "print(f\"Local potential energy: {local_potential_energy}\")\n",
    "print(f\"Local energy: {local_energy}\")"
   ]
  },
  {
   "cell_type": "markdown",
   "metadata": {},
   "source": [
    "### Variational wavefunction: Gaussian function\n",
    "\n",
    "As a first approximation, lets propose a Gaussian of the form:\n",
    "\n",
    "$$\\Psi(x) = \\exp(-\\alpha x^2),$$\n",
    "\n",
    "where $\\alpha$ is the variational parameter to optimize. In the follow cell, the class for this wavefunction is created."
   ]
  },
  {
   "cell_type": "code",
   "execution_count": null,
   "metadata": {},
   "outputs": [],
   "source": [
    "class GaussianWaveFunction:\n",
    "    def __init__(self, params=None):\n",
    "        if params == None:\n",
    "            params = jnp.array(np.random.normal())\n",
    "        self.params = params\n",
    "\n",
    "    @partial(jax.jit, static_argnums=(0,))\n",
    "    def evaluate_wf(self, position):\n",
    "        \"\"\"Evaluate the Gaussian wavefunction: Ψ(x) = exp(-α * r²).\"\"\"\n",
    "        alpha = self.params[0]\n",
    "        return jnp.exp(-alpha * position**2)\n",
    "\n",
    "    @partial(jax.jit, static_argnums=(0,))\n",
    "    def evaluate_log_wf(self, params, position):\n",
    "        \"\"\"Evaluate the Gaussian wavefunction: Ψ(x) = exp(-α * r²).\"\"\"\n",
    "        alpha = params[0]\n",
    "        return jnp.log(jnp.exp(-alpha * position**2))\n",
    "\n",
    "    @partial(jax.jit, static_argnums=(0,))\n",
    "    def probability_function(self, position):\n",
    "        return self.evaluate_wf(position)**2\n",
    "\n",
    "    @partial(jax.jit, static_argnums=(0,))\n",
    "    def grad_wf(self, position):\n",
    "        return jax.grad(self.evaluate_wf, argnums=0)(position)\n",
    "\n",
    "    @partial(jax.jit, static_argnums=(0,))\n",
    "    def laplacian_wf(self, position):\n",
    "        return jax.grad(self.grad_wf, argnums = 0)(position)\n",
    "\n",
    "    @partial(jax.jit, static_argnums=(0,))\n",
    "    def var_log_grads(self, params, position):\n",
    "        return jax.grad(self.evaluate_log_wf, argnums=0)(params, position)\n",
    "\n",
    "    #######################\n",
    "    # vmapped functions\n",
    "    #######################\n",
    "\n",
    "    @partial(jax.vmap, in_axes = (None, 0), out_axes = 0)\n",
    "    @partial(jax.jit, static_argnums=(0,))\n",
    "    def evaluate_wf_vmap(self, positions):\n",
    "        \"\"\"Evaluate the Gaussian wavefunction: Ψ(x) = exp(-α * r²).\"\"\"\n",
    "        alpha = self.params[0]\n",
    "        return jnp.exp(-alpha * positions**2)\n",
    "\n",
    "    @partial(jax.vmap, in_axes = (None, 0), out_axes = 0)\n",
    "    @partial(jax.jit, static_argnums=(0,))\n",
    "    def grad_wf_vmap(self, positions):\n",
    "        return jax.grad(self.evaluate_wf, argnums=0)(positions)\n",
    "\n",
    "    @partial(jax.vmap, in_axes = (None, 0), out_axes = 0)\n",
    "    @partial(jax.jit, static_argnums=(0,))\n",
    "    def laplacian_wf_vmap(self, positions):\n",
    "        return jax.grad(self.grad_wf, argnums = 0)(positions)\n",
    "\n",
    "    @partial(jax.vmap, in_axes = (None, None, 0), out_axes = 0)\n",
    "    @partial(jax.jit, static_argnums=(0,))\n",
    "    def var_log_grads_vmap(self, params, position):\n",
    "        return jax.grad(self.evaluate_log_wf, argnums=0)(params, position)\n",
    "\n",
    "    @partial(jax.vmap, in_axes = (None, 0), out_axes = 0)\n",
    "    @partial(jax.jit, static_argnums=(0,))\n",
    "    def probability_function_vmap(self, position):\n",
    "        return self.evaluate_wf(position)**2"
   ]
  },
  {
   "cell_type": "markdown",
   "metadata": {},
   "source": [
    "With this class, we can instantiate a Gaussian wavefunction given a variational parameter $\\alpha$ as follow."
   ]
  },
  {
   "cell_type": "code",
   "execution_count": 7,
   "metadata": {},
   "outputs": [
    {
     "name": "stdout",
     "output_type": "stream",
     "text": [
      "For x = 0.5:\n",
      "$\\Psi(x)$ = 0.8824968934059143\n",
      "$\\nabla^2 \\Psi (x)$ = -0.6618726849555969\n"
     ]
    }
   ],
   "source": [
    "alpha = 0.5\n",
    "trial_wf = GaussianWaveFunction([jnp.array(alpha)])\n",
    "\n",
    "# Calculate values used before\n",
    "\n",
    "x = 0.5\n",
    "\n",
    "psi = trial_wf.evaluate_wf(x)\n",
    "laplacian = trial_wf.laplacian_wf(x)\n",
    "\n",
    "print(f\"For x = {x}:\")\n",
    "print(r\"$\\Psi(x)$ = {}\".format(psi))\n",
    "print(r\"$\\nabla^2 \\Psi (x)$ = {}\".format(laplacian))"
   ]
  },
  {
   "cell_type": "markdown",
   "metadata": {},
   "source": [
    "### Monte Carlo sampler\n",
    "\n",
    "The before called trial wavefunction is a very simple function, and since it is one-dimensional, one can integrate very easily numerically. Nevertheless, when we have very complicated wavefunctions in multidimensional spaces, it might be very useful to use a Monte Carlo approach to approximate the observables of the quantum systems of such states. For this, we implement a very simple form of a Metropolis-Hastings algorithm to get samples from the probability distribution of the wavefunction."
   ]
  },
  {
   "cell_type": "code",
   "execution_count": null,
   "metadata": {},
   "outputs": [],
   "source": [
    "class MetropolisHastingsSampler:\n",
    "    def __init__(self, trial_wavefunction, rng_key = None, step_size=0.01):\n",
    "        if rng_key==None:\n",
    "            rng_key = jax.random.PRNGKey(np.random.randint(10_000))\n",
    "        self.step_size = step_size\n",
    "        self.key = rng_key\n",
    "        self.trial_wavefunction = trial_wavefunction\n",
    "\n",
    "    @partial(jax.jit, static_argnums=(0,))\n",
    "    def propose_move(self, positions, key):\n",
    "        \"\"\"Propose a new move by adding Gaussian noise to the current positions.\"\"\"\n",
    "        key, new_key = jax.random.split(key)\n",
    "        move = jax.random.normal(new_key, shape=positions.shape) * self.step_size\n",
    "        new_positions = positions + move\n",
    "        return new_positions, key\n",
    "\n",
    "    @partial(jax.jit, static_argnums=(0,))\n",
    "    def acceptance_prob(self, old_positions, new_positions):\n",
    "        \"\"\"Compute the Metropolis-Hastings acceptance probability.\"\"\"\n",
    "        prob_old = self.trial_wavefunction.probability_function(position = old_positions)\n",
    "        prob_new = self.trial_wavefunction.probability_function(position = new_positions)\n",
    "        return jnp.minimum(1.0, prob_new / prob_old)\n",
    "\n",
    "    @partial(jax.jit, static_argnums=(0,))\n",
    "    def metropolis_step(self, positions, key):\n",
    "        \"\"\"Perform a single Metropolis-Hastings step.\"\"\"\n",
    "        key, sub_key = jax.random.split(key)\n",
    "        new_positions, key = self.propose_move(positions, key)\n",
    "        acc_prob = self.acceptance_prob(positions, new_positions)\n",
    "        accept = jax.random.uniform(sub_key) < acc_prob\n",
    "        positions = jnp.where(accept, new_positions, positions)\n",
    "        return positions, key\n",
    "\n",
    "    def sample(self, initial_positions, num_samples, burn_in=1_000):\n",
    "        \"\"\"Generate samples using Metropolis-Hastings with fori_loop.\"\"\"\n",
    "\n",
    "        # Define a burn-in loop function\n",
    "        def sample_step(i, carry):\n",
    "            positions, key = carry\n",
    "            positions, key = self.metropolis_step(positions, key)\n",
    "            return positions, key\n",
    "\n",
    "        # Define a burn-in loop function\n",
    "        def sample_scan(carry, x):\n",
    "            positions, key = carry\n",
    "            positions, key = self.metropolis_step(positions, key)\n",
    "            return (positions, key), positions\n",
    "\n",
    "        # Burn-in phase\n",
    "        positions, key = jax.lax.fori_loop(0, burn_in, sample_step, (initial_positions, self.key))\n",
    "\n",
    "        # Sampling phase\n",
    "        (positions, key), samples = jax.lax.scan(sample_scan, (positions, key), None, num_samples)\n",
    "\n",
    "        self.key = key\n",
    "\n",
    "        return samples"
   ]
  },
  {
   "cell_type": "code",
   "execution_count": 9,
   "metadata": {},
   "outputs": [],
   "source": [
    "trial = GaussianWaveFunction([jnp.array(0.4)])\n",
    "sampler = MetropolisHastingsSampler(trial, step_size=0.1)\n",
    "initial_positions = -0.5 + np.random.uniform()\n",
    "samples = sampler.sample(initial_positions, num_samples=1_000_000, burn_in=25_000)"
   ]
  },
  {
   "cell_type": "code",
   "execution_count": 15,
   "metadata": {},
   "outputs": [
    {
     "data": {
      "image/png": "[encoded data removed]",
      "text/plain": [
       "<Figure size 640x480 with 1 Axes>"
      ]
     },
     "metadata": {},
     "output_type": "display_data"
    }
   ],
   "source": [
    "import scipy.integrate as integrate\n",
    "\n",
    "x = np.linspace(-10, 10, 10_000)\n",
    "integral = integrate.quad(lambda x: trial.probability_function(x), -10., 10.)[0]\n",
    "y = trial.probability_function_vmap(x)/integral\n",
    "plt.hist(samples, density=True, bins=20, label = 'Sampled distribution')\n",
    "plt.plot(x, y, label='Exact distribution')\n",
    "plt.xlim([-2., 2.])\n",
    "plt.legend()\n",
    "plt.show()"
   ]
  },
  {
   "cell_type": "markdown",
   "metadata": {},
   "source": [
    "Now, lets calculate the variational energy for some values of $\\alpha$."
   ]
  },
  {
   "cell_type": "code",
   "execution_count": 16,
   "metadata": {},
   "outputs": [
    {
     "name": "stdout",
     "output_type": "stream",
     "text": [
      "0.450 \t 0.50195 ± 0.000073\n",
      "0.475 \t 0.50099 ± 0.000037\n",
      "0.500 \t 0.50000 ± 0.000000\n",
      "0.525 \t 0.50062 ± 0.000035\n",
      "0.550 \t 0.50189 ± 0.000067\n"
     ]
    }
   ],
   "source": [
    "from scipy.stats import sem\n",
    "from matplotlib import pyplot as plt\n",
    "\n",
    "energies = []\n",
    "delta_energies = []\n",
    "alpha_values = np.array([0.45, 0.475, 0.5, 0.525,0.55])\n",
    "hamiltonian = OneDHO_Hamiltonian()\n",
    "for alpha in alpha_values:\n",
    "    trial = GaussianWaveFunction([jnp.array(alpha)])\n",
    "    sampler = MetropolisHastingsSampler(trial, step_size=0.1)\n",
    "    initial_positions = -0.5 + np.random.uniform()\n",
    "    samples = sampler.sample(initial_positions, num_samples=1_000_000, burn_in=25_000)\n",
    "    psi = trial.evaluate_wf_vmap(samples)\n",
    "    laplacians = trial.laplacian_wf_vmap(samples)\n",
    "    variational_energy = hamiltonian.total_energy_vmap(psi, samples, laplacians)\n",
    "    energy, delta_energy = np.average(variational_energy), sem(variational_energy)\n",
    "    energies.append(energy)\n",
    "    delta_energies.append(delta_energy)\n",
    "    print('%5.3f \\t %7.5f ± %f' % (alpha,energy,delta_energy))"
   ]
  },
  {
   "cell_type": "code",
   "execution_count": 17,
   "metadata": {},
   "outputs": [
    {
     "data": {
      "text/plain": [
       "<matplotlib.legend.Legend at 0x16d3faba0>"
      ]
     },
     "execution_count": 17,
     "metadata": {},
     "output_type": "execute_result"
    },
    {
     "data": {
      "image/png": "[encoded data removed]",
      "text/plain": [
       "<Figure size 640x480 with 1 Axes>"
      ]
     },
     "metadata": {},
     "output_type": "display_data"
    }
   ],
   "source": [
    "alpha = np.linspace(alpha_values[0],alpha_values[-1],1000)\n",
    "plt.plot(alpha,0.5*alpha + 1/(8*alpha), '-', linewidth=1, color='green', zorder=-10,\n",
    "         label=r'$\\frac{\\alpha}{2} + \\frac{1}{8\\alpha}$')\n",
    "plt.errorbar(alpha_values,energies,yerr=delta_energies, linestyle='None', marker='o', elinewidth=1.0,\n",
    "             markersize=6, markerfacecolor='blue', markeredgecolor='blue', ecolor='blue', label='VMC')\n",
    "plt.xlabel(r'$\\alpha$')\n",
    "plt.ylabel('E');\n",
    "plt.xlim(0.44,0.56)\n",
    "plt.legend(loc='upper center')"
   ]
  },
  {
   "cell_type": "code",
   "execution_count": null,
   "metadata": {},
   "outputs": [],
   "source": []
  }
 ],
 "metadata": {
  "kernelspec": {
   "display_name": "Python 3",
   "language": "python",
   "name": "python3"
  },
  "language_info": {
   "codemirror_mode": {
    "name": "ipython",
    "version": 3
   },
   "file_extension": ".py",
   "mimetype": "text/x-python",
   "name": "python",
   "nbconvert_exporter": "python",
   "pygments_lexer": "ipython3",
   "version": "3.12.3"
  }
 },
 "nbformat": 4,
 "nbformat_minor": 2
}
