{
 "cells": [
  {
   "cell_type": "code",
   "execution_count": 66,
   "metadata": {},
   "outputs": [],
   "source": [
    "# this notebook meant to work for batched samples"
   ]
  },
  {
   "cell_type": "code",
   "execution_count": 67,
   "metadata": {},
   "outputs": [],
   "source": [
    "import jax\n",
    "import flax\n",
    "import jax.numpy as jnp\n",
    "from flax import linen as nn\n",
    "from flax import nnx\n",
    "from typing import Dict"
   ]
  },
  {
   "cell_type": "code",
   "execution_count": null,
   "metadata": {},
   "outputs": [],
   "source": [
    "\n",
    "# Atom Embedding\n",
    "# It takes the number of different atoms in the molecular systems.\n",
    "# For each atom, create an atom embedding.\n",
    "\n",
    "@jax.jit\n",
    "def count_unique(x):\n",
    "  x = jnp.sort(x)\n",
    "  return 1 + (x[1:] != x[:-1]).sum()\n",
    "\n",
    "class AtomEmbedding(nnx.Module):\n",
    "    def __init__(self, num_atom_types, embedding_dim, n_batch, rngs: nnx.Rngs = nnx.Rngs(0)):\n",
    "        super(AtomEmbedding, self).__init__()\n",
    "\n",
    "        self.embedding = nnx.Embed(\n",
    "            num_embeddings=num_atom_types,\n",
    "            features=embedding_dim,\n",
    "            rngs=rngs\n",
    "        )\n",
    "        self.n_batch = n_batch\n",
    "\n",
    "    def __call__(self, atom_types):\n",
    "        ord_atom_types = jnp.unique(atom_types)\n",
    "        mask = jnp.array([jnp.where(ord_atom_types==elem) for elem in atom_types.flatten()]).flatten()\n",
    "\n",
    "\n",
    "        return jnp.array(jnp.split(self.embedding(mask), self.n_batch))"
   ]
  },
  {
   "cell_type": "code",
   "execution_count": 267,
   "metadata": {},
   "outputs": [],
   "source": [
    "# Given a positions thing, r = (r_1, ..., r_n), returns\n",
    "# a matrix with the relative distance among them\n",
    "# (d_ij)_ij = |r_i - r_j|^2\n",
    "\n",
    "class R_distances(nnx.Module):\n",
    "    def __init__(self):\n",
    "        super().__init__()\n",
    "\n",
    "    def __call__(self, R):\n",
    "        num_atoms = len(R[0])\n",
    "        Rij = jnp.array([[[r[i] - r[j] for j in range(num_atoms)] for i in range(num_atoms)] for r in R])\n",
    "        d_ij = jnp.linalg.norm(Rij, axis=-1)\n",
    "        return d_ij"
   ]
  },
  {
   "cell_type": "code",
   "execution_count": null,
   "metadata": {},
   "outputs": [],
   "source": [
    "class RadialBasisFunctions(nnx.Module):\n",
    "    def __init__(self, rbf_min, rbf_max, n_rbf, gamma=10):\n",
    "        super().__init__()\n",
    "        self.rbf_min = rbf_min\n",
    "        self.rbf_max = rbf_max\n",
    "        self.n_rbf = n_rbf\n",
    "        self.gamma = gamma\n",
    "        self.centers = jnp.linspace(rbf_min, rbf_max, n_rbf).reshape(1, -1)\n",
    "\n",
    "    def __call__(self, d_ij):\n",
    "        diff = d_ij[..., None] - self.centers\n",
    "        return jnp.exp(-self.gamma * jnp.pow(diff, 2))"
   ]
  },
  {
   "cell_type": "code",
   "execution_count": 269,
   "metadata": {},
   "outputs": [],
   "source": [
    "r = jnp.array([[[1., 2., 3.], [4., 5., 6.]],[[1., 2., 3.], [4., 5., 6.]],[[1., 2., 3.], [4., 5., 6.]]])\n",
    "z = jnp.array([[1,8], [1,8], [1,8]])\n",
    "\n",
    "rbf_min = 0.\n",
    "rbf_max = 10.\n",
    "n_rbf = 30\n",
    "num_atom_types = 2\n",
    "embedding_dim=64\n",
    "n_batch = 10\n",
    "rbf = RadialBasisFunctions(rbf_min, rbf_max, n_rbf)\n",
    "distances = R_distances()\n",
    "emb = AtomEmbedding(num_atom_types=num_atom_types, embedding_dim=embedding_dim, n_batch=n_batch)"
   ]
  },
  {
   "cell_type": "code",
   "execution_count": 275,
   "metadata": {},
   "outputs": [],
   "source": [
    "z = batch[0]\n",
    "r = batch[1]\n",
    "z.shape\n",
    "emb = AtomEmbedding(num_atom_types=num_atom_types, embedding_dim=embedding_dim, n_batch=n_batch)"
   ]
  },
  {
   "cell_type": "code",
   "execution_count": 276,
   "metadata": {},
   "outputs": [],
   "source": [
    "at_em = emb(z)\n",
    "dis = distances(r)\n",
    "rbfs = rbf(dis)"
   ]
  },
  {
   "cell_type": "code",
   "execution_count": 277,
   "metadata": {},
   "outputs": [
    {
     "data": {
      "text/plain": [
       "(10, 3, 64)"
      ]
     },
     "execution_count": 277,
     "metadata": {},
     "output_type": "execute_result"
    }
   ],
   "source": [
    "at_em.shape"
   ]
  },
  {
   "cell_type": "code",
   "execution_count": 278,
   "metadata": {},
   "outputs": [
    {
     "data": {
      "text/plain": [
       "(10, 3, 3)"
      ]
     },
     "execution_count": 278,
     "metadata": {},
     "output_type": "execute_result"
    }
   ],
   "source": [
    "dis.shape"
   ]
  },
  {
   "cell_type": "code",
   "execution_count": 279,
   "metadata": {},
   "outputs": [
    {
     "data": {
      "text/plain": [
       "(10, 3, 3, 30)"
      ]
     },
     "execution_count": 279,
     "metadata": {},
     "output_type": "execute_result"
    }
   ],
   "source": [
    "rbfs.shape"
   ]
  },
  {
   "cell_type": "code",
   "execution_count": null,
   "metadata": {},
   "outputs": [],
   "source": [
    "# ReLU function\n",
    "\n",
    "class relu_layer(nnx.Module):\n",
    "    def __init__(self):\n",
    "        super().__init__()\n",
    "\n",
    "    def __call__(self, x):\n",
    "        return nnx.relu(x)\n",
    "\n",
    "# Shift Softplus layer\n",
    "\n",
    "class ssp_layer(nnx.Module):\n",
    "    def __init__(self):\n",
    "        super().__init__()\n",
    "\n",
    "    def __call__(self, x):\n",
    "        return jnp.log(0.5 * jnp.exp(x) + 0.5)"
   ]
  },
  {
   "cell_type": "code",
   "execution_count": null,
   "metadata": {},
   "outputs": [],
   "source": [
    "class filter_generator(nnx.Module):\n",
    "    def __init__(\n",
    "            self,\n",
    "            atom_embeddings_dim,\n",
    "            rbf_min,\n",
    "            rbf_max,\n",
    "            n_rbf,\n",
    "            rngs: nnx.Rngs = nnx.Rngs(0),\n",
    "            activation=ssp_layer\n",
    "            ):\n",
    "\n",
    "        super().__init__()\n",
    "        self.rbf = RadialBasisFunctions(rbf_min, rbf_max, n_rbf)\n",
    "        self.w_layers = nnx.Sequential(\n",
    "            nnx.Linear(n_rbf, atom_embeddings_dim, rngs=rngs),\n",
    "            activation(),\n",
    "            nnx.Linear(atom_embeddings_dim, atom_embeddings_dim, rngs=rngs),\n",
    "            activation()\n",
    "        )\n",
    "\n",
    "    def __call__(self, d_ij):\n",
    "        rbfs = self.rbf(d_ij)\n",
    "        Wij = self.w_layers(rbfs)\n",
    "        return Wij\n"
   ]
  },
  {
   "cell_type": "code",
   "execution_count": 282,
   "metadata": {},
   "outputs": [],
   "source": [
    "fil_gen = filter_generator(atom_embeddings_dim=embedding_dim, rbf_min=rbf_min, rbf_max=rbf_max, n_rbf=n_rbf)"
   ]
  },
  {
   "cell_type": "code",
   "execution_count": 283,
   "metadata": {},
   "outputs": [
    {
     "data": {
      "text/plain": [
       "(10, 3, 3, 64)"
      ]
     },
     "execution_count": 283,
     "metadata": {},
     "output_type": "execute_result"
    }
   ],
   "source": [
    "filters = fil_gen(dis); filters.shape"
   ]
  },
  {
   "cell_type": "code",
   "execution_count": null,
   "metadata": {},
   "outputs": [],
   "source": [
    "class CfConv(nnx.Module):\n",
    "    def __init__(\n",
    "            self,\n",
    "            atom_embeddings_dim,\n",
    "            rbf_min,\n",
    "            rbf_max,\n",
    "            n_rbf,\n",
    "            rngs: nnx.Rngs = nnx.Rngs(0),\n",
    "            activation=ssp_layer):\n",
    "        super().__init__()\n",
    "\n",
    "        self.rbf = RadialBasisFunctions(rbf_min, rbf_max, n_rbf)\n",
    "        self.filters = filter_generator(\n",
    "            atom_embeddings_dim,\n",
    "            rbf_min,\n",
    "            rbf_max,\n",
    "            n_rbf,\n",
    "            rngs,\n",
    "            activation\n",
    "            )\n",
    "\n",
    "    def __call__(self, X, d_ij):\n",
    "        fij = jnp.sum(self.filters(d_ij), axis = 1)\n",
    "        X_ij = X * fij\n",
    "        return X + jnp.sum(X_ij, axis=0)\n"
   ]
  },
  {
   "cell_type": "code",
   "execution_count": 285,
   "metadata": {},
   "outputs": [],
   "source": [
    "conv = CfConv(embedding_dim, rbf_min, rbf_max, n_rbf)"
   ]
  },
  {
   "cell_type": "code",
   "execution_count": 286,
   "metadata": {},
   "outputs": [
    {
     "data": {
      "text/plain": [
       "(10, 3, 64)"
      ]
     },
     "execution_count": 286,
     "metadata": {},
     "output_type": "execute_result"
    }
   ],
   "source": [
    "conv(at_em, dis).shape"
   ]
  },
  {
   "cell_type": "code",
   "execution_count": null,
   "metadata": {},
   "outputs": [],
   "source": [
    "class InteractionBlock(nnx.Module):\n",
    "\n",
    "    def __init__(\n",
    "            self,\n",
    "            atom_embeddings_dim,\n",
    "            rbf_min,\n",
    "            rbf_max,\n",
    "            n_rbf,\n",
    "            rngs: nnx.Rngs,\n",
    "            activation=ssp_layer,\n",
    "    ):\n",
    "        super().__init__()\n",
    "        self.in_atom_wise = nnx.Linear(\n",
    "            atom_embeddings_dim,\n",
    "            atom_embeddings_dim,\n",
    "            rngs=rngs\n",
    "        )\n",
    "\n",
    "        self.cf_conv = CfConv(\n",
    "            atom_embeddings_dim,\n",
    "            rbf_min,\n",
    "            rbf_max,\n",
    "            n_rbf,\n",
    "            rngs=rngs,\n",
    "            activation=activation\n",
    "        )\n",
    "\n",
    "        self.out_atom_wise = nnx.Sequential(\n",
    "            nnx.Linear(atom_embeddings_dim, atom_embeddings_dim, rngs=rngs),\n",
    "            activation(),\n",
    "            nnx.Linear(atom_embeddings_dim, atom_embeddings_dim, rngs=rngs)\n",
    "        )\n",
    "\n",
    "    def __call__(self, X, R_distances):\n",
    "        X_in = self.in_atom_wise(X)\n",
    "        X_conv = self.cf_conv(X_in, R_distances)\n",
    "        V = self.out_atom_wise(X_conv)\n",
    "        return X + V\n"
   ]
  },
  {
   "cell_type": "code",
   "execution_count": null,
   "metadata": {},
   "outputs": [],
   "source": [
    "class SchNet(nnx.Module):\n",
    "    def __init__(\n",
    "            self,\n",
    "            n_batch,\n",
    "            atom_embedding_dim=64,\n",
    "            n_interactions=3,\n",
    "            n_atom_types=3,\n",
    "            rbf_min=0.,\n",
    "            rbf_max=30.,\n",
    "            n_rbf=300,\n",
    "            rngs: nnx.Rngs = nnx.Rngs(0),\n",
    "            activation: nnx.Module = ssp_layer\n",
    "    ):\n",
    "        super().__init__()\n",
    "        self.n_atom_types = n_atom_types\n",
    "        self.embedding = AtomEmbedding(n_atom_types, atom_embedding_dim, rngs=rngs, n_batch=n_batch)\n",
    "\n",
    "        self.interactions = [\n",
    "            InteractionBlock(\n",
    "                atom_embedding_dim, rbf_min, rbf_max, n_rbf, rngs, activation\n",
    "            )\n",
    "            for _ in range(n_interactions)\n",
    "        ]\n",
    "\n",
    "        self.output_layers = nnx.Sequential(\n",
    "            nnx.Linear(atom_embedding_dim, 32, rngs=rngs),\n",
    "            activation(),\n",
    "            nnx.Linear(32, 1, rngs=rngs)\n",
    "        )\n",
    "\n",
    "        self.distances = R_distances()\n",
    "\n",
    "    def __call__(self, batch):\n",
    "        Z = batch[0]\n",
    "        R = batch[1]\n",
    "        R_distances = self.distances(R)\n",
    "        X = self.embedding(Z)\n",
    "        X_interacted = X\n",
    "        for _, interaction in enumerate(self.interactions):\n",
    "            X_interacted = interaction(X_interacted, R_distances)\n",
    "\n",
    "        atom_outputs = self.output_layers(X_interacted)\n",
    "        predicted_energies = jnp.sum(atom_outputs, axis=1)\n",
    "        return predicted_energies\n"
   ]
  },
  {
   "cell_type": "code",
   "execution_count": 289,
   "metadata": {},
   "outputs": [],
   "source": [
    "import jax_dataloader as jdl\n",
    "import numpy as np\n",
    "\n",
    "def create_water_dataset_from_npz(data_name: str):\n",
    "    water_data = np.load(data_name)\n",
    "    energy = water_data[\"E\"]\n",
    "    n_data = len(energy)\n",
    "    atom_types = jnp.array([water_data[\"z\"] for _ in range(n_data)])\n",
    "    positions = water_data[\"R\"]\n",
    "    return jdl.ArrayDataset(atom_types, positions, energy)\n",
    "\n",
    "\n",
    "# Create a dataset with multiple identical water molecules\n",
    "dataset = create_water_dataset_from_npz(\"data_water.npz\")\n",
    "dataloader = jdl.DataLoader(dataset, 'jax', batch_size=10, shuffle=True)\n",
    "#loader = jdl.DataLoader(dataset=dataset, batch_size=10, backend='jax', shuffle=True)\n"
   ]
  },
  {
   "cell_type": "code",
   "execution_count": 295,
   "metadata": {},
   "outputs": [
    {
     "ename": "ValueError",
     "evalue": "Arrays leaves are not supported, at 'interactions/0/cf_conv/filters/rbf/centers': [[ 0.          0.10033445  0.2006689   0.30100334  0.4013378   0.50167227\n   0.6020067   0.70234114  0.8026756   0.9030101   1.0033445   1.103679\n   1.2040133   1.3043479   1.4046823   1.5050168   1.6053512   1.7056856\n   1.8060201   1.9063545   2.006689    2.1070235   2.207358    2.3076923\n   2.4080267   2.5083613   2.6086957   2.7090302   2.8093646   2.909699\n   3.0100336   3.110368    3.2107024   3.3110368   3.4113712   3.5117059\n   3.6120403   3.7123747   3.812709    3.9130435   4.013378    4.1137123\n   4.214047    4.3143816   4.414716    4.5150504   4.6153846   4.715719\n   4.8160534   4.916388    5.0167227   5.117057    5.2173915   5.3177257\n   5.4180603   5.518395    5.618729    5.7190638   5.819398    5.9197326\n   6.020067    6.1204014   6.220736    6.32107     6.421405    6.5217395\n   6.6220737   6.7224083   6.8227425   6.923077    7.0234118   7.123746\n   7.2240806   7.3244147   7.4247494   7.525084    7.625418    7.725753\n   7.826087    7.9264216   8.026756    8.12709     8.227425    8.32776\n   8.428094    8.528428    8.628763    8.729097    8.829432    8.929766\n   9.030101    9.130435    9.230769    9.331104    9.431438    9.531773\n   9.632107    9.732442    9.832776    9.93311    10.033445   10.13378\n  10.234114   10.334449   10.434783   10.535117   10.635451   10.735786\n  10.836121   10.936455   11.03679    11.137124   11.237458   11.337793\n  11.4381275  11.538462   11.638796   11.739131   11.839465   11.939799\n  12.040134   12.140469   12.240803   12.341138   12.441472   12.541806\n  12.64214    12.7424755  12.84281    12.943144   13.043479   13.143813\n  13.244147   13.344481   13.444817   13.545151   13.645485   13.74582\n  13.846154   13.946488   14.0468235  14.147158   14.247492   14.347826\n  14.448161   14.548495   14.648829   14.749165   14.849499   14.949833\n  15.050168   15.150502   15.250836   15.351171   15.451506   15.55184\n  15.652174   15.752509   15.852843   15.953177   16.053513   16.153847\n  16.25418    16.354515   16.45485    16.555183   16.65552    16.755854\n  16.856188   16.956522   17.056856   17.15719    17.257526   17.35786\n  17.458195   17.558529   17.658863   17.759197   17.859531   17.959867\n  18.060202   18.160536   18.26087    18.361204   18.461538   18.561872\n  18.662209   18.762543   18.862877   18.963211   19.063545   19.16388\n  19.264214   19.36455    19.464884   19.565218   19.665552   19.765886\n  19.86622    19.966557   20.06689    20.167225   20.26756    20.367893\n  20.468227   20.568562   20.668898   20.769232   20.869566   20.9699\n  21.070234   21.170568   21.270903   21.371239   21.471573   21.571907\n  21.672241   21.772575   21.87291    21.973246   22.07358    22.173914\n  22.274248   22.374582   22.474916   22.57525    22.675587   22.77592\n  22.876255   22.97659    23.076923   23.177258   23.277592   23.377928\n  23.478262   23.578596   23.67893    23.779264   23.879599   23.979933\n  24.080269   24.180603   24.280937   24.381271   24.481606   24.58194\n  24.682276   24.78261    24.882944   24.983278   25.083612   25.183947\n  25.28428    25.384617   25.484951   25.585285   25.68562    25.785954\n  25.886288   25.986622   26.086958   26.187292   26.287626   26.38796\n  26.488295   26.588629   26.688963   26.789299   26.889633   26.989967\n  27.090302   27.190636   27.29097    27.391306   27.49164    27.591974\n  27.692308   27.792643   27.892977   27.99331    28.093647   28.193981\n  28.294315   28.39465    28.494984   28.595318   28.695652   28.795988\n  28.896322   28.996656   29.09699    29.197325   29.297659   29.397993\n  29.49833    29.598663   29.698997   29.799332   29.899666   30.        ]]",
     "output_type": "error",
     "traceback": [
      "\u001b[0;31m---------------------------------------------------------------------------\u001b[0m",
      "\u001b[0;31mValueError\u001b[0m                                Traceback (most recent call last)",
      "Cell \u001b[0;32mIn[295], line 9\u001b[0m\n\u001b[1;32m      7\u001b[0m dataloader \u001b[38;5;241m=\u001b[39m jdl\u001b[38;5;241m.\u001b[39mDataLoader(dataset, \u001b[38;5;124m'\u001b[39m\u001b[38;5;124mjax\u001b[39m\u001b[38;5;124m'\u001b[39m, batch_size\u001b[38;5;241m=\u001b[39mn_batch, shuffle\u001b[38;5;241m=\u001b[39m\u001b[38;5;28;01mTrue\u001b[39;00m)\n\u001b[1;32m      8\u001b[0m model \u001b[38;5;241m=\u001b[39m SchNet(n_batch\u001b[38;5;241m=\u001b[39m\u001b[38;5;241m10\u001b[39m, n_atom_types\u001b[38;5;241m=\u001b[39m\u001b[38;5;241m3\u001b[39m)\n\u001b[0;32m----> 9\u001b[0m optimizer \u001b[38;5;241m=\u001b[39m \u001b[43mnnx\u001b[49m\u001b[38;5;241;43m.\u001b[39;49m\u001b[43mOptimizer\u001b[49m\u001b[43m(\u001b[49m\u001b[43mmodel\u001b[49m\u001b[43m,\u001b[49m\u001b[43m \u001b[49m\u001b[43moptax\u001b[49m\u001b[38;5;241;43m.\u001b[39;49m\u001b[43madam\u001b[49m\u001b[43m(\u001b[49m\u001b[43mlearning_rate\u001b[49m\u001b[43m)\u001b[49m\u001b[43m)\u001b[49m\n\u001b[1;32m     10\u001b[0m metrics \u001b[38;5;241m=\u001b[39m nnx\u001b[38;5;241m.\u001b[39mMultiMetric(\n\u001b[1;32m     11\u001b[0m     accuracy \u001b[38;5;241m=\u001b[39m nnx\u001b[38;5;241m.\u001b[39mmetric\u001b[38;5;241m.\u001b[39mAccuracy(),\n\u001b[1;32m     12\u001b[0m     loss \u001b[38;5;241m=\u001b[39m nnx\u001b[38;5;241m.\u001b[39mmetrics\u001b[38;5;241m.\u001b[39mAverage(\u001b[38;5;124m\"\u001b[39m\u001b[38;5;124mloss\u001b[39m\u001b[38;5;124m\"\u001b[39m),\n\u001b[1;32m     13\u001b[0m )\n\u001b[1;32m     15\u001b[0m nnx\u001b[38;5;241m.\u001b[39mdisplay(optimizer)\n",
      "File \u001b[0;32m/opt/anaconda3/envs/jax-env/lib/python3.12/site-packages/flax/nnx/object.py:79\u001b[0m, in \u001b[0;36mObjectMeta.__call__\u001b[0;34m(cls, *args, **kwargs)\u001b[0m\n\u001b[1;32m     78\u001b[0m \u001b[38;5;28;01mdef\u001b[39;00m \u001b[38;5;21m__call__\u001b[39m(\u001b[38;5;28mcls\u001b[39m, \u001b[38;5;241m*\u001b[39margs: Any, \u001b[38;5;241m*\u001b[39m\u001b[38;5;241m*\u001b[39mkwargs: Any) \u001b[38;5;241m-\u001b[39m\u001b[38;5;241m>\u001b[39m Any:\n\u001b[0;32m---> 79\u001b[0m   \u001b[38;5;28;01mreturn\u001b[39;00m \u001b[43m_graph_node_meta_call\u001b[49m\u001b[43m(\u001b[49m\u001b[38;5;28;43mcls\u001b[39;49m\u001b[43m,\u001b[49m\u001b[43m \u001b[49m\u001b[38;5;241;43m*\u001b[39;49m\u001b[43margs\u001b[49m\u001b[43m,\u001b[49m\u001b[43m \u001b[49m\u001b[38;5;241;43m*\u001b[39;49m\u001b[38;5;241;43m*\u001b[39;49m\u001b[43mkwargs\u001b[49m\u001b[43m)\u001b[49m\n",
      "File \u001b[0;32m/opt/anaconda3/envs/jax-env/lib/python3.12/site-packages/flax/nnx/object.py:88\u001b[0m, in \u001b[0;36m_graph_node_meta_call\u001b[0;34m(cls, *args, **kwargs)\u001b[0m\n\u001b[1;32m     86\u001b[0m node \u001b[38;5;241m=\u001b[39m \u001b[38;5;28mcls\u001b[39m\u001b[38;5;241m.\u001b[39m\u001b[38;5;21m__new__\u001b[39m(\u001b[38;5;28mcls\u001b[39m, \u001b[38;5;241m*\u001b[39margs, \u001b[38;5;241m*\u001b[39m\u001b[38;5;241m*\u001b[39mkwargs)\n\u001b[1;32m     87\u001b[0m \u001b[38;5;28mvars\u001b[39m(node)[\u001b[38;5;124m'\u001b[39m\u001b[38;5;124m_object__state\u001b[39m\u001b[38;5;124m'\u001b[39m] \u001b[38;5;241m=\u001b[39m ObjectState()\n\u001b[0;32m---> 88\u001b[0m \u001b[38;5;28;43mcls\u001b[39;49m\u001b[38;5;241;43m.\u001b[39;49m\u001b[43m_object_meta_construct\u001b[49m\u001b[43m(\u001b[49m\u001b[43mnode\u001b[49m\u001b[43m,\u001b[49m\u001b[43m \u001b[49m\u001b[38;5;241;43m*\u001b[39;49m\u001b[43margs\u001b[49m\u001b[43m,\u001b[49m\u001b[43m \u001b[49m\u001b[38;5;241;43m*\u001b[39;49m\u001b[38;5;241;43m*\u001b[39;49m\u001b[43mkwargs\u001b[49m\u001b[43m)\u001b[49m\n\u001b[1;32m     90\u001b[0m \u001b[38;5;28;01mreturn\u001b[39;00m node\n",
      "File \u001b[0;32m/opt/anaconda3/envs/jax-env/lib/python3.12/site-packages/flax/nnx/object.py:82\u001b[0m, in \u001b[0;36mObjectMeta._object_meta_construct\u001b[0;34m(cls, self, *args, **kwargs)\u001b[0m\n\u001b[1;32m     81\u001b[0m \u001b[38;5;28;01mdef\u001b[39;00m \u001b[38;5;21m_object_meta_construct\u001b[39m(\u001b[38;5;28mcls\u001b[39m, \u001b[38;5;28mself\u001b[39m, \u001b[38;5;241m*\u001b[39margs, \u001b[38;5;241m*\u001b[39m\u001b[38;5;241m*\u001b[39mkwargs):\n\u001b[0;32m---> 82\u001b[0m   \u001b[38;5;28;43mself\u001b[39;49m\u001b[38;5;241;43m.\u001b[39;49m\u001b[38;5;21;43m__init__\u001b[39;49m\u001b[43m(\u001b[49m\u001b[38;5;241;43m*\u001b[39;49m\u001b[43margs\u001b[49m\u001b[43m,\u001b[49m\u001b[43m \u001b[49m\u001b[38;5;241;43m*\u001b[39;49m\u001b[38;5;241;43m*\u001b[39;49m\u001b[43mkwargs\u001b[49m\u001b[43m)\u001b[49m\n",
      "File \u001b[0;32m/opt/anaconda3/envs/jax-env/lib/python3.12/site-packages/flax/nnx/training/optimizer.py:193\u001b[0m, in \u001b[0;36mOptimizer.__init__\u001b[0;34m(self, model, tx, wrt)\u001b[0m\n\u001b[1;32m    191\u001b[0m \u001b[38;5;28mself\u001b[39m\u001b[38;5;241m.\u001b[39mmodel \u001b[38;5;241m=\u001b[39m model\n\u001b[1;32m    192\u001b[0m \u001b[38;5;28mself\u001b[39m\u001b[38;5;241m.\u001b[39mtx \u001b[38;5;241m=\u001b[39m tx\n\u001b[0;32m--> 193\u001b[0m \u001b[38;5;28mself\u001b[39m\u001b[38;5;241m.\u001b[39mopt_state \u001b[38;5;241m=\u001b[39m _wrap_optimizer_state(tx\u001b[38;5;241m.\u001b[39minit(\u001b[43mnnx\u001b[49m\u001b[38;5;241;43m.\u001b[39;49m\u001b[43mstate\u001b[49m\u001b[43m(\u001b[49m\u001b[43mmodel\u001b[49m\u001b[43m,\u001b[49m\u001b[43m \u001b[49m\u001b[43mwrt\u001b[49m\u001b[43m)\u001b[49m))\n\u001b[1;32m    194\u001b[0m \u001b[38;5;28mself\u001b[39m\u001b[38;5;241m.\u001b[39mwrt \u001b[38;5;241m=\u001b[39m wrt\n",
      "File \u001b[0;32m/opt/anaconda3/envs/jax-env/lib/python3.12/site-packages/flax/nnx/graph.py:1415\u001b[0m, in \u001b[0;36mstate\u001b[0;34m(node, *filters)\u001b[0m\n\u001b[1;32m   1382\u001b[0m \u001b[38;5;28;01mdef\u001b[39;00m \u001b[38;5;21mstate\u001b[39m(\n\u001b[1;32m   1383\u001b[0m   node,\n\u001b[1;32m   1384\u001b[0m   \u001b[38;5;241m*\u001b[39mfilters: filterlib\u001b[38;5;241m.\u001b[39mFilter,\n\u001b[1;32m   1385\u001b[0m ) \u001b[38;5;241m-\u001b[39m\u001b[38;5;241m>\u001b[39m tp\u001b[38;5;241m.\u001b[39mUnion[GraphState, \u001b[38;5;28mtuple\u001b[39m[GraphState, \u001b[38;5;241m.\u001b[39m\u001b[38;5;241m.\u001b[39m\u001b[38;5;241m.\u001b[39m]]:\n\u001b[1;32m   1386\u001b[0m \u001b[38;5;250m  \u001b[39m\u001b[38;5;124;03m\"\"\"Similar to :func:`split` but only returns the :class:`State`'s indicated by the filters.\u001b[39;00m\n\u001b[1;32m   1387\u001b[0m \n\u001b[1;32m   1388\u001b[0m \u001b[38;5;124;03m  Example usage::\u001b[39;00m\n\u001b[0;32m   (...)\u001b[0m\n\u001b[1;32m   1413\u001b[0m \u001b[38;5;124;03m    One or more :class:`State` mappings.\u001b[39;00m\n\u001b[1;32m   1414\u001b[0m \u001b[38;5;124;03m  \"\"\"\u001b[39;00m\n\u001b[0;32m-> 1415\u001b[0m   _, state \u001b[38;5;241m=\u001b[39m \u001b[43mflatten\u001b[49m\u001b[43m(\u001b[49m\u001b[43mnode\u001b[49m\u001b[43m)\u001b[49m\n\u001b[1;32m   1417\u001b[0m   states: GraphState \u001b[38;5;241m|\u001b[39m \u001b[38;5;28mtuple\u001b[39m[GraphState, \u001b[38;5;241m.\u001b[39m\u001b[38;5;241m.\u001b[39m\u001b[38;5;241m.\u001b[39m]\n\u001b[1;32m   1418\u001b[0m   \u001b[38;5;28;01mif\u001b[39;00m \u001b[38;5;28mlen\u001b[39m(filters) \u001b[38;5;241m==\u001b[39m \u001b[38;5;241m0\u001b[39m:\n",
      "File \u001b[0;32m/opt/anaconda3/envs/jax-env/lib/python3.12/site-packages/flax/nnx/graph.py:357\u001b[0m, in \u001b[0;36mflatten\u001b[0;34m(node, ref_index)\u001b[0m\n\u001b[1;32m    355\u001b[0m   ref_index \u001b[38;5;241m=\u001b[39m RefMap()\n\u001b[1;32m    356\u001b[0m flat_state: \u001b[38;5;28mdict\u001b[39m[PathParts, StateLeaf] \u001b[38;5;241m=\u001b[39m {}\n\u001b[0;32m--> 357\u001b[0m graphdef \u001b[38;5;241m=\u001b[39m \u001b[43m_graph_flatten\u001b[49m\u001b[43m(\u001b[49m\u001b[43m(\u001b[49m\u001b[43m)\u001b[49m\u001b[43m,\u001b[49m\u001b[43m \u001b[49m\u001b[43mref_index\u001b[49m\u001b[43m,\u001b[49m\u001b[43m \u001b[49m\u001b[43mflat_state\u001b[49m\u001b[43m,\u001b[49m\u001b[43m \u001b[49m\u001b[43mnode\u001b[49m\u001b[43m)\u001b[49m\n\u001b[1;32m    358\u001b[0m \u001b[38;5;28;01mreturn\u001b[39;00m graphdef, GraphState\u001b[38;5;241m.\u001b[39mfrom_flat_path(flat_state)\n",
      "File \u001b[0;32m/opt/anaconda3/envs/jax-env/lib/python3.12/site-packages/flax/nnx/graph.py:389\u001b[0m, in \u001b[0;36m_graph_flatten\u001b[0;34m(path, ref_index, flat_state, node)\u001b[0m\n\u001b[1;32m    387\u001b[0m \u001b[38;5;28;01mfor\u001b[39;00m key, value \u001b[38;5;129;01min\u001b[39;00m values:\n\u001b[1;32m    388\u001b[0m   \u001b[38;5;28;01mif\u001b[39;00m is_node(value):\n\u001b[0;32m--> 389\u001b[0m     nodedef \u001b[38;5;241m=\u001b[39m \u001b[43m_graph_flatten\u001b[49m\u001b[43m(\u001b[49m\u001b[43m(\u001b[49m\u001b[38;5;241;43m*\u001b[39;49m\u001b[43mpath\u001b[49m\u001b[43m,\u001b[49m\u001b[43m \u001b[49m\u001b[43mkey\u001b[49m\u001b[43m)\u001b[49m\u001b[43m,\u001b[49m\u001b[43m \u001b[49m\u001b[43mref_index\u001b[49m\u001b[43m,\u001b[49m\u001b[43m \u001b[49m\u001b[43mflat_state\u001b[49m\u001b[43m,\u001b[49m\u001b[43m \u001b[49m\u001b[43mvalue\u001b[49m\u001b[43m)\u001b[49m\n\u001b[1;32m    390\u001b[0m     subgraphs\u001b[38;5;241m.\u001b[39mappend((key, nodedef))\n\u001b[1;32m    391\u001b[0m   \u001b[38;5;28;01melif\u001b[39;00m \u001b[38;5;28misinstance\u001b[39m(value, Variable):\n",
      "File \u001b[0;32m/opt/anaconda3/envs/jax-env/lib/python3.12/site-packages/flax/nnx/graph.py:389\u001b[0m, in \u001b[0;36m_graph_flatten\u001b[0;34m(path, ref_index, flat_state, node)\u001b[0m\n\u001b[1;32m    387\u001b[0m \u001b[38;5;28;01mfor\u001b[39;00m key, value \u001b[38;5;129;01min\u001b[39;00m values:\n\u001b[1;32m    388\u001b[0m   \u001b[38;5;28;01mif\u001b[39;00m is_node(value):\n\u001b[0;32m--> 389\u001b[0m     nodedef \u001b[38;5;241m=\u001b[39m \u001b[43m_graph_flatten\u001b[49m\u001b[43m(\u001b[49m\u001b[43m(\u001b[49m\u001b[38;5;241;43m*\u001b[39;49m\u001b[43mpath\u001b[49m\u001b[43m,\u001b[49m\u001b[43m \u001b[49m\u001b[43mkey\u001b[49m\u001b[43m)\u001b[49m\u001b[43m,\u001b[49m\u001b[43m \u001b[49m\u001b[43mref_index\u001b[49m\u001b[43m,\u001b[49m\u001b[43m \u001b[49m\u001b[43mflat_state\u001b[49m\u001b[43m,\u001b[49m\u001b[43m \u001b[49m\u001b[43mvalue\u001b[49m\u001b[43m)\u001b[49m\n\u001b[1;32m    390\u001b[0m     subgraphs\u001b[38;5;241m.\u001b[39mappend((key, nodedef))\n\u001b[1;32m    391\u001b[0m   \u001b[38;5;28;01melif\u001b[39;00m \u001b[38;5;28misinstance\u001b[39m(value, Variable):\n",
      "    \u001b[0;31m[... skipping similar frames: _graph_flatten at line 389 (2 times)]\u001b[0m\n",
      "File \u001b[0;32m/opt/anaconda3/envs/jax-env/lib/python3.12/site-packages/flax/nnx/graph.py:389\u001b[0m, in \u001b[0;36m_graph_flatten\u001b[0;34m(path, ref_index, flat_state, node)\u001b[0m\n\u001b[1;32m    387\u001b[0m \u001b[38;5;28;01mfor\u001b[39;00m key, value \u001b[38;5;129;01min\u001b[39;00m values:\n\u001b[1;32m    388\u001b[0m   \u001b[38;5;28;01mif\u001b[39;00m is_node(value):\n\u001b[0;32m--> 389\u001b[0m     nodedef \u001b[38;5;241m=\u001b[39m \u001b[43m_graph_flatten\u001b[49m\u001b[43m(\u001b[49m\u001b[43m(\u001b[49m\u001b[38;5;241;43m*\u001b[39;49m\u001b[43mpath\u001b[49m\u001b[43m,\u001b[49m\u001b[43m \u001b[49m\u001b[43mkey\u001b[49m\u001b[43m)\u001b[49m\u001b[43m,\u001b[49m\u001b[43m \u001b[49m\u001b[43mref_index\u001b[49m\u001b[43m,\u001b[49m\u001b[43m \u001b[49m\u001b[43mflat_state\u001b[49m\u001b[43m,\u001b[49m\u001b[43m \u001b[49m\u001b[43mvalue\u001b[49m\u001b[43m)\u001b[49m\n\u001b[1;32m    390\u001b[0m     subgraphs\u001b[38;5;241m.\u001b[39mappend((key, nodedef))\n\u001b[1;32m    391\u001b[0m   \u001b[38;5;28;01melif\u001b[39;00m \u001b[38;5;28misinstance\u001b[39m(value, Variable):\n",
      "File \u001b[0;32m/opt/anaconda3/envs/jax-env/lib/python3.12/site-packages/flax/nnx/graph.py:404\u001b[0m, in \u001b[0;36m_graph_flatten\u001b[0;34m(path, ref_index, flat_state, node)\u001b[0m\n\u001b[1;32m    402\u001b[0m     \u001b[38;5;28;01mif\u001b[39;00m \u001b[38;5;28misinstance\u001b[39m(value, (jax\u001b[38;5;241m.\u001b[39mArray, np\u001b[38;5;241m.\u001b[39mndarray)):\n\u001b[1;32m    403\u001b[0m       path_str \u001b[38;5;241m=\u001b[39m \u001b[38;5;124m'\u001b[39m\u001b[38;5;124m/\u001b[39m\u001b[38;5;124m'\u001b[39m\u001b[38;5;241m.\u001b[39mjoin(\u001b[38;5;28mmap\u001b[39m(\u001b[38;5;28mstr\u001b[39m, (\u001b[38;5;241m*\u001b[39mpath, key)))\n\u001b[0;32m--> 404\u001b[0m       \u001b[38;5;28;01mraise\u001b[39;00m \u001b[38;5;167;01mValueError\u001b[39;00m(\n\u001b[1;32m    405\u001b[0m           \u001b[38;5;124mf\u001b[39m\u001b[38;5;124m'\u001b[39m\u001b[38;5;124mArrays leaves are not supported, at \u001b[39m\u001b[38;5;132;01m{\u001b[39;00mpath_str\u001b[38;5;132;01m!r}\u001b[39;00m\u001b[38;5;124m: \u001b[39m\u001b[38;5;132;01m{\u001b[39;00mvalue\u001b[38;5;132;01m}\u001b[39;00m\u001b[38;5;124m'\u001b[39m\n\u001b[1;32m    406\u001b[0m       )\n\u001b[1;32m    407\u001b[0m     static_fields\u001b[38;5;241m.\u001b[39mappend((key, value))\n\u001b[1;32m    409\u001b[0m nodedef \u001b[38;5;241m=\u001b[39m NodeDef\u001b[38;5;241m.\u001b[39mcreate(\n\u001b[1;32m    410\u001b[0m   \u001b[38;5;28mtype\u001b[39m\u001b[38;5;241m=\u001b[39mnode_impl\u001b[38;5;241m.\u001b[39mtype,\n\u001b[1;32m    411\u001b[0m   index\u001b[38;5;241m=\u001b[39mindex,\n\u001b[0;32m   (...)\u001b[0m\n\u001b[1;32m    417\u001b[0m   index_mapping\u001b[38;5;241m=\u001b[39m\u001b[38;5;28;01mNone\u001b[39;00m,\n\u001b[1;32m    418\u001b[0m )\n",
      "\u001b[0;31mValueError\u001b[0m: Arrays leaves are not supported, at 'interactions/0/cf_conv/filters/rbf/centers': [[ 0.          0.10033445  0.2006689   0.30100334  0.4013378   0.50167227\n   0.6020067   0.70234114  0.8026756   0.9030101   1.0033445   1.103679\n   1.2040133   1.3043479   1.4046823   1.5050168   1.6053512   1.7056856\n   1.8060201   1.9063545   2.006689    2.1070235   2.207358    2.3076923\n   2.4080267   2.5083613   2.6086957   2.7090302   2.8093646   2.909699\n   3.0100336   3.110368    3.2107024   3.3110368   3.4113712   3.5117059\n   3.6120403   3.7123747   3.812709    3.9130435   4.013378    4.1137123\n   4.214047    4.3143816   4.414716    4.5150504   4.6153846   4.715719\n   4.8160534   4.916388    5.0167227   5.117057    5.2173915   5.3177257\n   5.4180603   5.518395    5.618729    5.7190638   5.819398    5.9197326\n   6.020067    6.1204014   6.220736    6.32107     6.421405    6.5217395\n   6.6220737   6.7224083   6.8227425   6.923077    7.0234118   7.123746\n   7.2240806   7.3244147   7.4247494   7.525084    7.625418    7.725753\n   7.826087    7.9264216   8.026756    8.12709     8.227425    8.32776\n   8.428094    8.528428    8.628763    8.729097    8.829432    8.929766\n   9.030101    9.130435    9.230769    9.331104    9.431438    9.531773\n   9.632107    9.732442    9.832776    9.93311    10.033445   10.13378\n  10.234114   10.334449   10.434783   10.535117   10.635451   10.735786\n  10.836121   10.936455   11.03679    11.137124   11.237458   11.337793\n  11.4381275  11.538462   11.638796   11.739131   11.839465   11.939799\n  12.040134   12.140469   12.240803   12.341138   12.441472   12.541806\n  12.64214    12.7424755  12.84281    12.943144   13.043479   13.143813\n  13.244147   13.344481   13.444817   13.545151   13.645485   13.74582\n  13.846154   13.946488   14.0468235  14.147158   14.247492   14.347826\n  14.448161   14.548495   14.648829   14.749165   14.849499   14.949833\n  15.050168   15.150502   15.250836   15.351171   15.451506   15.55184\n  15.652174   15.752509   15.852843   15.953177   16.053513   16.153847\n  16.25418    16.354515   16.45485    16.555183   16.65552    16.755854\n  16.856188   16.956522   17.056856   17.15719    17.257526   17.35786\n  17.458195   17.558529   17.658863   17.759197   17.859531   17.959867\n  18.060202   18.160536   18.26087    18.361204   18.461538   18.561872\n  18.662209   18.762543   18.862877   18.963211   19.063545   19.16388\n  19.264214   19.36455    19.464884   19.565218   19.665552   19.765886\n  19.86622    19.966557   20.06689    20.167225   20.26756    20.367893\n  20.468227   20.568562   20.668898   20.769232   20.869566   20.9699\n  21.070234   21.170568   21.270903   21.371239   21.471573   21.571907\n  21.672241   21.772575   21.87291    21.973246   22.07358    22.173914\n  22.274248   22.374582   22.474916   22.57525    22.675587   22.77592\n  22.876255   22.97659    23.076923   23.177258   23.277592   23.377928\n  23.478262   23.578596   23.67893    23.779264   23.879599   23.979933\n  24.080269   24.180603   24.280937   24.381271   24.481606   24.58194\n  24.682276   24.78261    24.882944   24.983278   25.083612   25.183947\n  25.28428    25.384617   25.484951   25.585285   25.68562    25.785954\n  25.886288   25.986622   26.086958   26.187292   26.287626   26.38796\n  26.488295   26.588629   26.688963   26.789299   26.889633   26.989967\n  27.090302   27.190636   27.29097    27.391306   27.49164    27.591974\n  27.692308   27.792643   27.892977   27.99331    28.093647   28.193981\n  28.294315   28.39465    28.494984   28.595318   28.695652   28.795988\n  28.896322   28.996656   29.09699    29.197325   29.297659   29.397993\n  29.49833    29.598663   29.698997   29.799332   29.899666   30.        ]]"
     ]
    }
   ],
   "source": [
    "import optax\n",
    "\n",
    "learning_rate = 0.005\n",
    "momentum = 0.9\n",
    "n_batch = 10\n",
    "\n",
    "dataloader = jdl.DataLoader(dataset, 'jax', batch_size=n_batch, shuffle=True)\n",
    "model = SchNet(n_batch=10, n_atom_types=3)\n",
    "optimizer = nnx.Optimizer(model, optax.adam(learning_rate))\n",
    "metrics = nnx.MultiMetric(\n",
    "    accuracy = nnx.metric.Accuracy(),\n",
    "    loss = nnx.metrics.Average(\"loss\"),\n",
    ")\n",
    "\n",
    "nnx.display(optimizer)"
   ]
  },
  {
   "cell_type": "code",
   "execution_count": 291,
   "metadata": {},
   "outputs": [],
   "source": [
    "model = SchNet(n_batch=10, n_atom_types=3)"
   ]
  },
  {
   "cell_type": "code",
   "execution_count": 296,
   "metadata": {},
   "outputs": [
    {
     "data": {
      "text/plain": [
       "'0.10.0'"
      ]
     },
     "execution_count": 296,
     "metadata": {},
     "output_type": "execute_result"
    }
   ],
   "source": [
    "flax.__version__"
   ]
  },
  {
   "cell_type": "code",
   "execution_count": 297,
   "metadata": {},
   "outputs": [
    {
     "data": {
      "text/plain": [
       "'0.2.3'"
      ]
     },
     "execution_count": 297,
     "metadata": {},
     "output_type": "execute_result"
    }
   ],
   "source": [
    "optax.__version__"
   ]
  },
  {
   "cell_type": "code",
   "execution_count": 292,
   "metadata": {},
   "outputs": [],
   "source": [
    "energy = model(batch)"
   ]
  },
  {
   "cell_type": "code",
   "execution_count": 293,
   "metadata": {},
   "outputs": [
    {
     "data": {
      "text/plain": [
       "Array([[-0.16561924],\n",
       "       [-0.16561924],\n",
       "       [-0.16561924],\n",
       "       [-0.16561924],\n",
       "       [-0.16561924],\n",
       "       [-0.16561924],\n",
       "       [-0.16561924],\n",
       "       [-0.16561924],\n",
       "       [-0.16561925],\n",
       "       [-0.1656192 ]], dtype=float32)"
      ]
     },
     "execution_count": 293,
     "metadata": {},
     "output_type": "execute_result"
    }
   ],
   "source": [
    "energy"
   ]
  },
  {
   "cell_type": "code",
   "execution_count": 206,
   "metadata": {},
   "outputs": [
    {
     "data": {
      "text/plain": [
       "Array(0.8646013, dtype=float32)"
      ]
     },
     "execution_count": 206,
     "metadata": {},
     "output_type": "execute_result"
    }
   ],
   "source": [
    "energy"
   ]
  },
  {
   "cell_type": "code",
   "execution_count": 192,
   "metadata": {},
   "outputs": [
    {
     "data": {
      "text/plain": [
       "(3, 2, 1)"
      ]
     },
     "execution_count": 192,
     "metadata": {},
     "output_type": "execute_result"
    }
   ],
   "source": [
    "energy[0].shape"
   ]
  },
  {
   "cell_type": "code",
   "execution_count": 80,
   "metadata": {},
   "outputs": [],
   "source": [
    "dis = R_distances(3)"
   ]
  },
  {
   "cell_type": "code",
   "execution_count": 81,
   "metadata": {},
   "outputs": [
    {
     "data": {
      "text/plain": [
       "Array([[[[[0., 0.]]]],\n",
       "\n",
       "\n",
       "\n",
       "       [[[[0., 0.]]]],\n",
       "\n",
       "\n",
       "\n",
       "       [[[[0., 0.]]]]], dtype=float32)"
      ]
     },
     "execution_count": 81,
     "metadata": {},
     "output_type": "execute_result"
    }
   ],
   "source": [
    "dis(r_d)"
   ]
  },
  {
   "cell_type": "code",
   "execution_count": 45,
   "metadata": {},
   "outputs": [],
   "source": [
    "x_s = jnp.split(x_i, 3)"
   ]
  },
  {
   "cell_type": "code",
   "execution_count": 46,
   "metadata": {},
   "outputs": [
    {
     "data": {
      "text/plain": [
       "(3, 2, 64)"
      ]
     },
     "execution_count": 46,
     "metadata": {},
     "output_type": "execute_result"
    }
   ],
   "source": [
    "jnp.array(x_s).shape"
   ]
  },
  {
   "cell_type": "code",
   "execution_count": null,
   "metadata": {},
   "outputs": [],
   "source": []
  }
 ],
 "metadata": {
  "kernelspec": {
   "display_name": "jax-env",
   "language": "python",
   "name": "python3"
  },
  "language_info": {
   "codemirror_mode": {
    "name": "ipython",
    "version": 3
   },
   "file_extension": ".py",
   "mimetype": "text/x-python",
   "name": "python",
   "nbconvert_exporter": "python",
   "pygments_lexer": "ipython3",
   "version": "3.12.3"
  }
 },
 "nbformat": 4,
 "nbformat_minor": 2
}
