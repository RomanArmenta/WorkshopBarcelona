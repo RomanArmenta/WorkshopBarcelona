{
 "cells": [
  {
   "cell_type": "code",
   "execution_count": 2,
   "metadata": {},
   "outputs": [],
   "source": [
    "import jax\n",
    "import flax\n",
    "import jax.numpy as jnp\n",
    "from flax import linen as nn\n",
    "from flax import nnx\n",
    "from typing import Dict\n",
    "\n",
    "#from schnetpack.nn.scatter import scatter_add"
   ]
  },
  {
   "cell_type": "code",
   "execution_count": 2,
   "metadata": {},
   "outputs": [],
   "source": [
    "def radius_graph(x, r=1):\n",
    "    distances = jnp.array([[jnp.linalg.norm(x[i] - x[j]) for i in range(len(x))] for j in range(len(x))])\n",
    "    indices = jnp.array([[[i,j] for i in range(len(x))] for j in range(len(x))])\n",
    "    mask = (distances<r)\n",
    "    row, col = indices[mask][:,0], indices[mask][:,1]\n",
    "    return jnp.array(row), jnp.array(col)"
   ]
  },
  {
   "cell_type": "code",
   "execution_count": null,
   "metadata": {},
   "outputs": [],
   "source": [
    "class AtomEmbedding(nnx.Module):\n",
    "    def __init__(self, num_atom_types, embedding_dim, rngs: nnx.Rngs):\n",
    "        super(AtomEmbedding, self).__init__()\n",
    "        self.embedding = nnx.Embed(\n",
    "            num_embeddings=num_atom_types,\n",
    "            features=embedding_dim,\n",
    "            rngs=rngs\n",
    "        )\n",
    "\n",
    "    def __call__(self, atom_types):\n",
    "        return self.embedding(atom_types)"
   ]
  },
  {
   "cell_type": "code",
   "execution_count": null,
   "metadata": {},
   "outputs": [],
   "source": [
    "class InteractionBlock(nnx.Module):\n",
    "    def __init__(self, embedding_dim, hidden_dim, num_filters, rngs: nnx.Rngs):\n",
    "        super(InteractionBlock, self).__init__()\n",
    "        self.hidden_dim = hidden_dim\n",
    "        self.embedding_dim = embedding_dim\n",
    "\n",
    "        self.rbf = nnx.Linear(1, num_filters, rngs=rngs)\n",
    "\n",
    "        self.mlp_1 = nnx.Linear(num_filters, hidden_dim, rngs=rngs)\n",
    "\n",
    "        self.mlp_2 = nnx.Linear(hidden_dim, embedding_dim, rngs=rngs)\n",
    "\n",
    "        self.update_mlp_1 = nnx.Linear(embedding_dim, hidden_dim, rngs=rngs)\n",
    "\n",
    "        self.update_mlp_2 = nnx.Linear(hidden_dim, embedding_dim, rngs=rngs)\n",
    "\n",
    "    def __call__(self, x, edge_index, edge_distance):\n",
    "        rbf = self.rbf(jnp.expand_dims(edge_distance, 1))\n",
    "        filters = self.mlp_2(nnx.relu(self.mlp_1(rbf)))\n",
    "        messages = x[edge_index[0]] * filters\n",
    "        out = jax.lax.scatter_add(messages, edge_index[1], dimension_numbers=0)\n",
    "        out = self.update_mlp_2(nnx.relu(self.update_mlp_1(out)))\n",
    "        return x + out"
   ]
  },
  {
   "cell_type": "code",
   "execution_count": null,
   "metadata": {},
   "outputs": [],
   "source": [
    "class SchNet_JAX(nnx.Module):\n",
    "    def __init__(\n",
    "            self,\n",
    "            num_atom_types,\n",
    "            rngs: nnx.Rngs,\n",
    "            embedding_dim=128,\n",
    "            hidden_dim=128,\n",
    "            num_filters=64,\n",
    "            num_interactions=3\n",
    "    ):\n",
    "        super(SchNet_JAX, self).__init__()\n",
    "        self.hidden_dim = hidden_dim\n",
    "        self.rngs = rngs\n",
    "        self.embedding_dim = embedding_dim\n",
    "        self.atom_embedding = AtomEmbedding(num_atom_types + 1, embedding_dim, rngs)\n",
    "        self.interactions = [\n",
    "            InteractionBlock(\n",
    "                embedding_dim,\n",
    "                hidden_dim,\n",
    "                num_filters,\n",
    "                rngs\n",
    "            )\n",
    "            for _ in range(num_interactions)\n",
    "        ]\n",
    "\n",
    "    def __call__(self, data):\n",
    "        atom_types = data[0]\n",
    "        pos = data[1]\n",
    "        energy = data[2]\n",
    "        x = self.atom_embedding(atom_types)\n",
    "        row, col = radius_graph(pos, r=5.0)\n",
    "        edge_distance = jnp.linalg.norm((pos[row] - pos[col]))**2\n",
    "        print(edge_distance)\n",
    "        print((row, col))\n",
    "        for interaction in self.interactions:\n",
    "            x = interaction(x, (row, col), edge_distance)\n",
    "\n",
    "        energy = nnx.Linear(self.embedding_dim, self.hidden_dim, self.rngs)(x)\n",
    "        energy = nnx.relu(energy)\n",
    "        energy = nnx.Linear(self.hidden_dim, 1, rngs=self.rngs)(energy)\n",
    "        energy = jnp.array([jnp.sum(energy[i*3:(i+1)*3]) for i in range(3)])\n",
    "        return energy\n"
   ]
  },
  {
   "cell_type": "code",
   "execution_count": 388,
   "metadata": {},
   "outputs": [],
   "source": [
    "xd = jnp.array([0,1,2,3,4])"
   ]
  },
  {
   "cell_type": "code",
   "execution_count": 400,
   "metadata": {},
   "outputs": [
    {
     "data": {
      "text/plain": [
       "(10, 3, 3)"
      ]
     },
     "execution_count": 400,
     "metadata": {},
     "output_type": "execute_result"
    }
   ],
   "source": [
    "batch[1].shape"
   ]
  },
  {
   "cell_type": "code",
   "execution_count": 402,
   "metadata": {},
   "outputs": [
    {
     "data": {
      "text/plain": [
       "Array([[0., 0., 0.],\n",
       "       [0., 0., 0.],\n",
       "       [0., 0., 0.]], dtype=float32)"
      ]
     },
     "execution_count": 402,
     "metadata": {},
     "output_type": "execute_result"
    }
   ],
   "source": [
    "jnp.linalg.norm(batch[1][xd] - batch[1][xd], axis=0)"
   ]
  },
  {
   "cell_type": "code",
   "execution_count": 389,
   "metadata": {},
   "outputs": [],
   "source": [
    "model = SchNet_JAX(8, rngs=nnx.Rngs(0))"
   ]
  },
  {
   "cell_type": "code",
   "execution_count": 390,
   "metadata": {},
   "outputs": [
    {
     "name": "stdout",
     "output_type": "stream",
     "text": [
      "0.0\n",
      "(Array([0, 1, 2, 3, 4, 5, 6, 7, 8, 9, 0, 1, 2, 3, 4, 5, 6, 7, 8, 9, 0, 1,\n",
      "       2, 3, 4, 5, 6, 7, 8, 9, 0, 1, 2, 3, 4, 5, 6, 7, 8, 9, 0, 1, 2, 3,\n",
      "       4, 5, 6, 7, 8, 9, 0, 1, 2, 3, 4, 5, 6, 7, 8, 9, 0, 1, 2, 3, 4, 5,\n",
      "       6, 7, 8, 9, 0, 1, 2, 3, 4, 5, 6, 7, 8, 9, 0, 1, 2, 3, 4, 5, 6, 7,\n",
      "       8, 9, 0, 1, 2, 3, 4, 5, 6, 7, 8, 9], dtype=int32), Array([0, 0, 0, 0, 0, 0, 0, 0, 0, 0, 1, 1, 1, 1, 1, 1, 1, 1, 1, 1, 2, 2,\n",
      "       2, 2, 2, 2, 2, 2, 2, 2, 3, 3, 3, 3, 3, 3, 3, 3, 3, 3, 4, 4, 4, 4,\n",
      "       4, 4, 4, 4, 4, 4, 5, 5, 5, 5, 5, 5, 5, 5, 5, 5, 6, 6, 6, 6, 6, 6,\n",
      "       6, 6, 6, 6, 7, 7, 7, 7, 7, 7, 7, 7, 7, 7, 8, 8, 8, 8, 8, 8, 8, 8,\n",
      "       8, 8, 9, 9, 9, 9, 9, 9, 9, 9, 9, 9], dtype=int32))\n"
     ]
    },
    {
     "ename": "ValueError",
     "evalue": "axis 1 is out of bounds for array of dimension 1",
     "output_type": "error",
     "traceback": [
      "\u001b[0;31m---------------------------------------------------------------------------\u001b[0m",
      "\u001b[0;31mValueError\u001b[0m                                Traceback (most recent call last)",
      "Cell \u001b[0;32mIn[390], line 1\u001b[0m\n\u001b[0;32m----> 1\u001b[0m \u001b[43mmodel\u001b[49m\u001b[43m(\u001b[49m\u001b[43mbatch\u001b[49m\u001b[43m)\u001b[49m\n",
      "Cell \u001b[0;32mIn[387], line 36\u001b[0m, in \u001b[0;36mSchNet_JAX.__call__\u001b[0;34m(self, data)\u001b[0m\n\u001b[1;32m     34\u001b[0m \u001b[38;5;28mprint\u001b[39m((row, col))\n\u001b[1;32m     35\u001b[0m \u001b[38;5;28;01mfor\u001b[39;00m interaction \u001b[38;5;129;01min\u001b[39;00m \u001b[38;5;28mself\u001b[39m\u001b[38;5;241m.\u001b[39minteractions:\n\u001b[0;32m---> 36\u001b[0m     x \u001b[38;5;241m=\u001b[39m \u001b[43minteraction\u001b[49m\u001b[43m(\u001b[49m\u001b[43mx\u001b[49m\u001b[43m,\u001b[49m\u001b[43m \u001b[49m\u001b[43m(\u001b[49m\u001b[43mrow\u001b[49m\u001b[43m,\u001b[49m\u001b[43m \u001b[49m\u001b[43mcol\u001b[49m\u001b[43m)\u001b[49m\u001b[43m,\u001b[49m\u001b[43m \u001b[49m\u001b[43medge_distance\u001b[49m\u001b[43m)\u001b[49m\n\u001b[1;32m     38\u001b[0m energy \u001b[38;5;241m=\u001b[39m nnx\u001b[38;5;241m.\u001b[39mLinear(\u001b[38;5;28mself\u001b[39m\u001b[38;5;241m.\u001b[39membedding_dim, \u001b[38;5;28mself\u001b[39m\u001b[38;5;241m.\u001b[39mhidden_dim, \u001b[38;5;28mself\u001b[39m\u001b[38;5;241m.\u001b[39mrngs)(x)\n\u001b[1;32m     39\u001b[0m energy \u001b[38;5;241m=\u001b[39m nnx\u001b[38;5;241m.\u001b[39mrelu(energy)\n",
      "Cell \u001b[0;32mIn[374], line 18\u001b[0m, in \u001b[0;36mInteractionBlock.__call__\u001b[0;34m(self, x, edge_index, edge_distance)\u001b[0m\n\u001b[1;32m     17\u001b[0m \u001b[38;5;28;01mdef\u001b[39;00m \u001b[38;5;21m__call__\u001b[39m(\u001b[38;5;28mself\u001b[39m, x, edge_index, edge_distance):\n\u001b[0;32m---> 18\u001b[0m     rbf \u001b[38;5;241m=\u001b[39m \u001b[38;5;28mself\u001b[39m\u001b[38;5;241m.\u001b[39mrbf(\u001b[43mjnp\u001b[49m\u001b[38;5;241;43m.\u001b[39;49m\u001b[43mexpand_dims\u001b[49m\u001b[43m(\u001b[49m\u001b[43medge_distance\u001b[49m\u001b[43m,\u001b[49m\u001b[43m \u001b[49m\u001b[38;5;241;43m1\u001b[39;49m\u001b[43m)\u001b[49m)\n\u001b[1;32m     19\u001b[0m     filters \u001b[38;5;241m=\u001b[39m \u001b[38;5;28mself\u001b[39m\u001b[38;5;241m.\u001b[39mmlp_2(nnx\u001b[38;5;241m.\u001b[39mrelu(\u001b[38;5;28mself\u001b[39m\u001b[38;5;241m.\u001b[39mmlp_1(rbf)))\n\u001b[1;32m     20\u001b[0m     messages \u001b[38;5;241m=\u001b[39m x[edge_index[\u001b[38;5;241m0\u001b[39m]] \u001b[38;5;241m*\u001b[39m filters\n",
      "File \u001b[0;32m/opt/anaconda3/envs/jax-env/lib/python3.12/site-packages/jax/_src/numpy/lax_numpy.py:2521\u001b[0m, in \u001b[0;36mexpand_dims\u001b[0;34m(a, axis)\u001b[0m\n\u001b[1;32m   2519\u001b[0m util\u001b[38;5;241m.\u001b[39mcheck_arraylike(\u001b[38;5;124m\"\u001b[39m\u001b[38;5;124mexpand_dims\u001b[39m\u001b[38;5;124m\"\u001b[39m, a)\n\u001b[1;32m   2520\u001b[0m axis \u001b[38;5;241m=\u001b[39m _ensure_index_tuple(axis)\n\u001b[0;32m-> 2521\u001b[0m \u001b[38;5;28;01mreturn\u001b[39;00m \u001b[43mlax\u001b[49m\u001b[38;5;241;43m.\u001b[39;49m\u001b[43mexpand_dims\u001b[49m\u001b[43m(\u001b[49m\u001b[43ma\u001b[49m\u001b[43m,\u001b[49m\u001b[43m \u001b[49m\u001b[43maxis\u001b[49m\u001b[43m)\u001b[49m\n",
      "File \u001b[0;32m/opt/anaconda3/envs/jax-env/lib/python3.12/site-packages/jax/_src/lax/lax.py:1784\u001b[0m, in \u001b[0;36mexpand_dims\u001b[0;34m(array, dimensions)\u001b[0m\n\u001b[1;32m   1782\u001b[0m   \u001b[38;5;28;01mraise\u001b[39;00m \u001b[38;5;167;01mValueError\u001b[39;00m(\u001b[38;5;124mf\u001b[39m\u001b[38;5;124m'\u001b[39m\u001b[38;5;124mrepeated axis in lax.expand_dims: \u001b[39m\u001b[38;5;132;01m{\u001b[39;00mdimensions\u001b[38;5;132;01m}\u001b[39;00m\u001b[38;5;124m'\u001b[39m)\n\u001b[1;32m   1783\u001b[0m ndim_out \u001b[38;5;241m=\u001b[39m np\u001b[38;5;241m.\u001b[39mndim(array) \u001b[38;5;241m+\u001b[39m \u001b[38;5;28mlen\u001b[39m(dimensions)\n\u001b[0;32m-> 1784\u001b[0m dims \u001b[38;5;241m=\u001b[39m [\u001b[43mcanonicalize_axis\u001b[49m\u001b[43m(\u001b[49m\u001b[43mi\u001b[49m\u001b[43m,\u001b[49m\u001b[43m \u001b[49m\u001b[43mndim_out\u001b[49m\u001b[43m)\u001b[49m \u001b[38;5;28;01mfor\u001b[39;00m i \u001b[38;5;129;01min\u001b[39;00m dimensions]\n\u001b[1;32m   1785\u001b[0m \u001b[38;5;28;01mif\u001b[39;00m \u001b[38;5;28mlen\u001b[39m(\u001b[38;5;28mset\u001b[39m(dims)) \u001b[38;5;241m!=\u001b[39m \u001b[38;5;28mlen\u001b[39m(dims):  \u001b[38;5;66;03m# check again after canonicalizing\u001b[39;00m\n\u001b[1;32m   1786\u001b[0m   \u001b[38;5;28;01mraise\u001b[39;00m \u001b[38;5;167;01mValueError\u001b[39;00m(\u001b[38;5;124mf\u001b[39m\u001b[38;5;124m'\u001b[39m\u001b[38;5;124mrepeated axis in lax.expand_dims: \u001b[39m\u001b[38;5;132;01m{\u001b[39;00mdims\u001b[38;5;132;01m}\u001b[39;00m\u001b[38;5;124m'\u001b[39m)\n",
      "File \u001b[0;32m/opt/anaconda3/envs/jax-env/lib/python3.12/site-packages/jax/_src/util.py:389\u001b[0m, in \u001b[0;36mcanonicalize_axis\u001b[0;34m(axis, num_dims)\u001b[0m\n\u001b[1;32m    387\u001b[0m axis \u001b[38;5;241m=\u001b[39m operator\u001b[38;5;241m.\u001b[39mindex(axis)\n\u001b[1;32m    388\u001b[0m \u001b[38;5;28;01mif\u001b[39;00m \u001b[38;5;129;01mnot\u001b[39;00m \u001b[38;5;241m-\u001b[39mnum_dims \u001b[38;5;241m<\u001b[39m\u001b[38;5;241m=\u001b[39m axis \u001b[38;5;241m<\u001b[39m num_dims:\n\u001b[0;32m--> 389\u001b[0m   \u001b[38;5;28;01mraise\u001b[39;00m \u001b[38;5;167;01mValueError\u001b[39;00m(\u001b[38;5;124mf\u001b[39m\u001b[38;5;124m\"\u001b[39m\u001b[38;5;124maxis \u001b[39m\u001b[38;5;132;01m{\u001b[39;00maxis\u001b[38;5;132;01m}\u001b[39;00m\u001b[38;5;124m is out of bounds for array of dimension \u001b[39m\u001b[38;5;132;01m{\u001b[39;00mnum_dims\u001b[38;5;132;01m}\u001b[39;00m\u001b[38;5;124m\"\u001b[39m)\n\u001b[1;32m    390\u001b[0m \u001b[38;5;28;01mif\u001b[39;00m axis \u001b[38;5;241m<\u001b[39m \u001b[38;5;241m0\u001b[39m:\n\u001b[1;32m    391\u001b[0m   axis \u001b[38;5;241m=\u001b[39m axis \u001b[38;5;241m+\u001b[39m num_dims\n",
      "\u001b[0;31mValueError\u001b[0m: axis 1 is out of bounds for array of dimension 1"
     ]
    }
   ],
   "source": [
    "model(batch)"
   ]
  },
  {
   "cell_type": "code",
   "execution_count": 255,
   "metadata": {},
   "outputs": [
    {
     "data": {
      "text/plain": [
       "Array([3, 6, 9], dtype=int32)"
      ]
     },
     "execution_count": 255,
     "metadata": {},
     "output_type": "execute_result"
    }
   ],
   "source": [
    "coso"
   ]
  },
  {
   "cell_type": "code",
   "execution_count": null,
   "metadata": {},
   "outputs": [
    {
     "name": "stderr",
     "output_type": "stream",
     "text": [
      "/var/folders/ns/x0vvs1s15bb4wkzknj03y9k40000gn/T/ipykernel_59765/2717858818.py:8: UserWarning: Explicitly requested dtype <class 'jax.numpy.float64'> requested in array is not available, and will be truncated to dtype float32. To enable more dtypes, set the jax_enable_x64 configuration option or the JAX_ENABLE_X64 shell environment variable. See https://github.com/jax-ml/jax#current-gotchas for more.\n",
      "  atom_types = jnp.array([0, 1, 1], dtype=jnp.float64)\n",
      "/var/folders/ns/x0vvs1s15bb4wkzknj03y9k40000gn/T/ipykernel_59765/2717858818.py:10: UserWarning: Explicitly requested dtype <class 'jax.numpy.float64'> requested in array is not available, and will be truncated to dtype float32. To enable more dtypes, set the jax_enable_x64 configuration option or the JAX_ENABLE_X64 shell environment variable. See https://github.com/jax-ml/jax#current-gotchas for more.\n",
      "  pos = jnp.array([\n",
      "/var/folders/ns/x0vvs1s15bb4wkzknj03y9k40000gn/T/ipykernel_59765/2717858818.py:16: UserWarning: Explicitly requested dtype <class 'jax.numpy.float64'> requested in array is not available, and will be truncated to dtype float32. To enable more dtypes, set the jax_enable_x64 configuration option or the JAX_ENABLE_X64 shell environment variable. See https://github.com/jax-ml/jax#current-gotchas for more.\n",
      "  energy = jnp.array([-76.0], dtype=jnp.float64)\n"
     ]
    },
    {
     "ename": "AssertionError",
     "evalue": "All arrays must have the same dimension.",
     "output_type": "error",
     "traceback": [
      "\u001b[0;31m---------------------------------------------------------------------------\u001b[0m",
      "\u001b[0;31mAssertionError\u001b[0m                            Traceback (most recent call last)",
      "Cell \u001b[0;32mIn[188], line 39\u001b[0m\n\u001b[1;32m     35\u001b[0m     \u001b[38;5;28;01mreturn\u001b[39;00m jdl\u001b[38;5;241m.\u001b[39mArrayDataset(atom_types, pos, energy)\n\u001b[1;32m     38\u001b[0m \u001b[38;5;66;03m# Create a dataset with multiple identical water molecules\u001b[39;00m\n\u001b[0;32m---> 39\u001b[0m dataset \u001b[38;5;241m=\u001b[39m \u001b[43mcreate_water_dataset\u001b[49m\u001b[43m(\u001b[49m\u001b[43m)\u001b[49m\n\u001b[1;32m     40\u001b[0m dataloader \u001b[38;5;241m=\u001b[39m jdl\u001b[38;5;241m.\u001b[39mDataLoader(dataset, \u001b[38;5;124m'\u001b[39m\u001b[38;5;124mjax\u001b[39m\u001b[38;5;124m'\u001b[39m, batch_size\u001b[38;5;241m=\u001b[39m\u001b[38;5;241m10\u001b[39m, shuffle\u001b[38;5;241m=\u001b[39m\u001b[38;5;28;01mTrue\u001b[39;00m)\n\u001b[1;32m     41\u001b[0m \u001b[38;5;66;03m#loader = jdl.DataLoader(dataset=dataset, batch_size=10, backend='jax', shuffle=True)\u001b[39;00m\n",
      "Cell \u001b[0;32mIn[188], line 35\u001b[0m, in \u001b[0;36mcreate_water_dataset\u001b[0;34m(n_data)\u001b[0m\n\u001b[1;32m     33\u001b[0m pos \u001b[38;5;241m=\u001b[39m jnp\u001b[38;5;241m.\u001b[39marray(pos_list)\n\u001b[1;32m     34\u001b[0m energy \u001b[38;5;241m=\u001b[39m jnp\u001b[38;5;241m.\u001b[39marray(pos_list)\n\u001b[0;32m---> 35\u001b[0m \u001b[38;5;28;01mreturn\u001b[39;00m \u001b[43mjdl\u001b[49m\u001b[38;5;241;43m.\u001b[39;49m\u001b[43mArrayDataset\u001b[49m\u001b[43m(\u001b[49m\u001b[43matom_types\u001b[49m\u001b[43m,\u001b[49m\u001b[43m \u001b[49m\u001b[43mpos\u001b[49m\u001b[43m,\u001b[49m\u001b[43m \u001b[49m\u001b[43menergy\u001b[49m\u001b[43m)\u001b[49m\n",
      "File \u001b[0;32m/opt/anaconda3/envs/jax-env/lib/python3.12/site-packages/jax_dataloader/datasets.py:30\u001b[0m, in \u001b[0;36mArrayDataset.__init__\u001b[0;34m(self, asnumpy, *arrays)\u001b[0m\n\u001b[1;32m     25\u001b[0m \u001b[38;5;28;01mdef\u001b[39;00m \u001b[38;5;21m__init__\u001b[39m(\n\u001b[1;32m     26\u001b[0m     \u001b[38;5;28mself\u001b[39m, \n\u001b[1;32m     27\u001b[0m     \u001b[38;5;241m*\u001b[39marrays: jax\u001b[38;5;241m.\u001b[39mArray, \u001b[38;5;66;03m# Numpy array with same first dimension\u001b[39;00m\n\u001b[1;32m     28\u001b[0m     asnumpy: \u001b[38;5;28mbool\u001b[39m \u001b[38;5;241m=\u001b[39m \u001b[38;5;28;01mTrue\u001b[39;00m, \u001b[38;5;66;03m# Store arrays as numpy arrays if True; otherwise store as array type of *arrays\u001b[39;00m\n\u001b[1;32m     29\u001b[0m ):\n\u001b[0;32m---> 30\u001b[0m     \u001b[38;5;28;01massert\u001b[39;00m \u001b[38;5;28mall\u001b[39m(arrays[\u001b[38;5;241m0\u001b[39m]\u001b[38;5;241m.\u001b[39mshape[\u001b[38;5;241m0\u001b[39m] \u001b[38;5;241m==\u001b[39m arr\u001b[38;5;241m.\u001b[39mshape[\u001b[38;5;241m0\u001b[39m] \u001b[38;5;28;01mfor\u001b[39;00m arr \u001b[38;5;129;01min\u001b[39;00m arrays), \\\n\u001b[1;32m     31\u001b[0m         \u001b[38;5;124m\"\u001b[39m\u001b[38;5;124mAll arrays must have the same dimension.\u001b[39m\u001b[38;5;124m\"\u001b[39m\n\u001b[1;32m     32\u001b[0m     \u001b[38;5;28mself\u001b[39m\u001b[38;5;241m.\u001b[39marrays \u001b[38;5;241m=\u001b[39m \u001b[38;5;28mtuple\u001b[39m(arrays)\n\u001b[1;32m     33\u001b[0m     \u001b[38;5;28;01mif\u001b[39;00m asnumpy:\n",
      "\u001b[0;31mAssertionError\u001b[0m: All arrays must have the same dimension."
     ]
    }
   ],
   "source": [
    "import jax_dataloader as jdl\n",
    "\n",
    "jdl.manual_seed(1234)\n",
    "\n",
    "# Example: Create a single water molecule\n",
    "def create_water_molecule():\n",
    "    # Atom types: Oxygen (0), Hydrogen (1)\n",
    "    atom_types = jnp.array([0, 1, 1], dtype=jnp.float64)\n",
    "    # Positions in angstroms\n",
    "    pos = jnp.array([\n",
    "        [0.0, 0.0, 0.0],        # Oxygen\n",
    "        [0.96, 0.0, 0.0],       # Hydrogen 1\n",
    "        [-0.24, 0.93, 0.0]      # Hydrogen 2\n",
    "    ], dtype=jnp.float64)\n",
    "    # Assume total energy is -76.0 eV (for example)\n",
    "    energy = jnp.array([-76.0], dtype=jnp.float64)\n",
    "    return atom_types, pos, energy\n",
    "\n",
    "def create_water_dataset(n_data=100):\n",
    "    atom_types_list = []\n",
    "    pos_list = []\n",
    "    energy_list = []\n",
    "    for _ in range(n_data):\n",
    "        atom_types, pos, energy = create_water_molecule()\n",
    "        atom_types_list.append(atom_types)\n",
    "        pos_list.append(pos)\n",
    "        energy_list.append(energy)\n",
    "    #array_dataset = jdl.ArrayDataset(jnp.array(atom_types_list), jnp.array(pos), jnp.array(energy))\n",
    "    #return array_dataset\n",
    "    # Must be: [num_atoms,]\n",
    "    atom_types = jnp.array(atom_types_list)\n",
    "    atom_types = atom_types.reshape(atom_types.shape[0]*atom_types.shape[1])\n",
    "\n",
    "    # Must be: [num_atoms, 3]\n",
    "    pos = jnp.array(pos_list)\n",
    "    pos = pos.reshape()\n",
    "    energy = jnp.array(pos_list)\n",
    "    return jdl.ArrayDataset(atom_types, pos, energy)\n",
    "\n",
    "\n",
    "# Create a dataset with multiple identical water molecules\n",
    "dataset = create_water_dataset()\n",
    "dataloader = jdl.DataLoader(dataset, 'jax', batch_size=10, shuffle=True)\n",
    "#loader = jdl.DataLoader(dataset=dataset, batch_size=10, backend='jax', shuffle=True)\n"
   ]
  },
  {
   "cell_type": "code",
   "execution_count": 242,
   "metadata": {},
   "outputs": [],
   "source": [
    "class Block(nnx.Module):\n",
    "\n",
    "\n",
    "  def __init__(self, rngs):\n",
    "    self.linear = nnx.Linear(5, 10, rngs=rngs)\n",
    "    self.bn = nnx.BatchNorm(10, rngs=rngs)\n",
    "    self.dropout = nnx.Dropout(0.1, rngs=rngs)\n",
    "\n",
    "  def __call__(self, x):\n",
    "    return nnx.relu(self.dropout(self.bn(self.linear(x))))\n",
    "\n",
    "x = jnp.ones((1, 5))\n",
    "model = Block(nnx.Rngs(0))\n",
    "\n",
    "\n",
    "\n",
    "y = model(x)"
   ]
  },
  {
   "cell_type": "code",
   "execution_count": 248,
   "metadata": {},
   "outputs": [
    {
     "data": {
      "text/plain": [
       "Array([0.0000000e+00, 4.1395313e-05, 0.0000000e+00, 0.0000000e+00,\n",
       "       0.0000000e+00, 0.0000000e+00, 1.0471470e-05, 1.0471470e-05,\n",
       "       0.0000000e+00, 0.0000000e+00], dtype=float32)"
      ]
     },
     "execution_count": 248,
     "metadata": {},
     "output_type": "execute_result"
    }
   ],
   "source": [
    "y[0]"
   ]
  },
  {
   "cell_type": "code",
   "execution_count": 191,
   "metadata": {},
   "outputs": [],
   "source": [
    "import numpy as np"
   ]
  },
  {
   "cell_type": "code",
   "execution_count": null,
   "metadata": {},
   "outputs": [],
   "source": [
    "import numpy as np"
   ]
  },
  {
   "cell_type": "code",
   "execution_count": 215,
   "metadata": {},
   "outputs": [],
   "source": [
    "water_data = np.load(\"data_water.npz\")"
   ]
  },
  {
   "cell_type": "code",
   "execution_count": 227,
   "metadata": {},
   "outputs": [
    {
     "data": {
      "text/plain": [
       "array([8, 1, 1])"
      ]
     },
     "execution_count": 227,
     "metadata": {},
     "output_type": "execute_result"
    }
   ],
   "source": [
    "water_data[\"z\"]"
   ]
  },
  {
   "cell_type": "code",
   "execution_count": 3,
   "metadata": {},
   "outputs": [],
   "source": [
    "import torch\n",
    "import torch.nn as nn\n",
    "import torch.nn.functional as F\n",
    "from torch_geometric.nn import radius_graph\n",
    "from torch_scatter import scatter_add\n",
    "from torch_geometric.data import Data#, DataLoader\n",
    "from torch_geometric.loader import DataLoader\n",
    "import jax_dataloader as jdl\n",
    "\n",
    "\n",
    "# Example: Create a single water molecule\n",
    "def create_water_molecule_pytorch():\n",
    "    # Atom types: Oxygen (0), Hydrogen (1)\n",
    "    atom_types = torch.tensor([0, 1, 1], dtype=torch.long)\n",
    "    # Positions in angstroms\n",
    "    pos = torch.tensor([\n",
    "        [0.0, 0.0, 0.0],        # Oxygen\n",
    "        [0.96, 0.0, 0.0],       # Hydrogen 1\n",
    "        [-0.24, 0.93, 0.0]      # Hydrogen 2\n",
    "    ], dtype=torch.float)\n",
    "    # Assume total energy is -76.0 eV (for example)\n",
    "    energy = torch.tensor([-76.0], dtype=torch.float)\n",
    "    data = Data(x=atom_types, pos=pos, y=energy)\n",
    "    return data\n",
    "\n",
    "# Create a dataset with multiple identical water molecules\n",
    "dataset = [create_water_molecule_pytorch() for _ in range(100)]\n",
    "loader = DataLoader(dataset, batch_size=10, shuffle=True)\n"
   ]
  },
  {
   "cell_type": "code",
   "execution_count": 5,
   "metadata": {},
   "outputs": [
    {
     "ename": "AttributeError",
     "evalue": "'list' object has no attribute 'size'",
     "output_type": "error",
     "traceback": [
      "\u001b[0;31m---------------------------------------------------------------------------\u001b[0m",
      "\u001b[0;31mAttributeError\u001b[0m                            Traceback (most recent call last)",
      "Cell \u001b[0;32mIn[5], line 1\u001b[0m\n\u001b[0;32m----> 1\u001b[0m dataset \u001b[38;5;241m=\u001b[39m \u001b[43mtorch\u001b[49m\u001b[38;5;241;43m.\u001b[39;49m\u001b[43mutils\u001b[49m\u001b[38;5;241;43m.\u001b[39;49m\u001b[43mdata\u001b[49m\u001b[38;5;241;43m.\u001b[39;49m\u001b[43mTensorDataset\u001b[49m\u001b[43m(\u001b[49m\u001b[43mdataset\u001b[49m\u001b[43m)\u001b[49m\n",
      "File \u001b[0;32m/opt/anaconda3/envs/jax-env/lib/python3.12/site-packages/torch/utils/data/dataset.py:205\u001b[0m, in \u001b[0;36mTensorDataset.__init__\u001b[0;34m(self, *tensors)\u001b[0m\n\u001b[1;32m    204\u001b[0m \u001b[38;5;28;01mdef\u001b[39;00m \u001b[38;5;21m__init__\u001b[39m(\u001b[38;5;28mself\u001b[39m, \u001b[38;5;241m*\u001b[39mtensors: Tensor) \u001b[38;5;241m-\u001b[39m\u001b[38;5;241m>\u001b[39m \u001b[38;5;28;01mNone\u001b[39;00m:\n\u001b[0;32m--> 205\u001b[0m     \u001b[38;5;28;01massert\u001b[39;00m \u001b[38;5;28;43mall\u001b[39;49m\u001b[43m(\u001b[49m\n\u001b[1;32m    206\u001b[0m \u001b[43m        \u001b[49m\u001b[43mtensors\u001b[49m\u001b[43m[\u001b[49m\u001b[38;5;241;43m0\u001b[39;49m\u001b[43m]\u001b[49m\u001b[38;5;241;43m.\u001b[39;49m\u001b[43msize\u001b[49m\u001b[43m(\u001b[49m\u001b[38;5;241;43m0\u001b[39;49m\u001b[43m)\u001b[49m\u001b[43m \u001b[49m\u001b[38;5;241;43m==\u001b[39;49m\u001b[43m \u001b[49m\u001b[43mtensor\u001b[49m\u001b[38;5;241;43m.\u001b[39;49m\u001b[43msize\u001b[49m\u001b[43m(\u001b[49m\u001b[38;5;241;43m0\u001b[39;49m\u001b[43m)\u001b[49m\u001b[43m \u001b[49m\u001b[38;5;28;43;01mfor\u001b[39;49;00m\u001b[43m \u001b[49m\u001b[43mtensor\u001b[49m\u001b[43m \u001b[49m\u001b[38;5;129;43;01min\u001b[39;49;00m\u001b[43m \u001b[49m\u001b[43mtensors\u001b[49m\n\u001b[1;32m    207\u001b[0m \u001b[43m    \u001b[49m\u001b[43m)\u001b[49m, \u001b[38;5;124m\"\u001b[39m\u001b[38;5;124mSize mismatch between tensors\u001b[39m\u001b[38;5;124m\"\u001b[39m\n\u001b[1;32m    208\u001b[0m     \u001b[38;5;28mself\u001b[39m\u001b[38;5;241m.\u001b[39mtensors \u001b[38;5;241m=\u001b[39m tensors\n",
      "File \u001b[0;32m/opt/anaconda3/envs/jax-env/lib/python3.12/site-packages/torch/utils/data/dataset.py:206\u001b[0m, in \u001b[0;36m<genexpr>\u001b[0;34m(.0)\u001b[0m\n\u001b[1;32m    204\u001b[0m \u001b[38;5;28;01mdef\u001b[39;00m \u001b[38;5;21m__init__\u001b[39m(\u001b[38;5;28mself\u001b[39m, \u001b[38;5;241m*\u001b[39mtensors: Tensor) \u001b[38;5;241m-\u001b[39m\u001b[38;5;241m>\u001b[39m \u001b[38;5;28;01mNone\u001b[39;00m:\n\u001b[1;32m    205\u001b[0m     \u001b[38;5;28;01massert\u001b[39;00m \u001b[38;5;28mall\u001b[39m(\n\u001b[0;32m--> 206\u001b[0m         \u001b[43mtensors\u001b[49m\u001b[43m[\u001b[49m\u001b[38;5;241;43m0\u001b[39;49m\u001b[43m]\u001b[49m\u001b[38;5;241;43m.\u001b[39;49m\u001b[43msize\u001b[49m(\u001b[38;5;241m0\u001b[39m) \u001b[38;5;241m==\u001b[39m tensor\u001b[38;5;241m.\u001b[39msize(\u001b[38;5;241m0\u001b[39m) \u001b[38;5;28;01mfor\u001b[39;00m tensor \u001b[38;5;129;01min\u001b[39;00m tensors\n\u001b[1;32m    207\u001b[0m     ), \u001b[38;5;124m\"\u001b[39m\u001b[38;5;124mSize mismatch between tensors\u001b[39m\u001b[38;5;124m\"\u001b[39m\n\u001b[1;32m    208\u001b[0m     \u001b[38;5;28mself\u001b[39m\u001b[38;5;241m.\u001b[39mtensors \u001b[38;5;241m=\u001b[39m tensors\n",
      "\u001b[0;31mAttributeError\u001b[0m: 'list' object has no attribute 'size'"
     ]
    }
   ],
   "source": [
    "dataset = torch.utils.data.TensorDataset(dataset)"
   ]
  },
  {
   "cell_type": "code",
   "execution_count": 4,
   "metadata": {},
   "outputs": [
    {
     "ename": "BeartypeCallHintParamViolation",
     "evalue": "Method jax_dataloader.loaders.torch.DataLoaderPytorch.__init__() parameter dataset=[Data(x=[3], y=[1], pos=[3, 3]), Data(x=[3], y=[1], pos=[3, 3]), Data(x=[3], y=[1], pos=[3...])] violates type hint typing.Union[jax_dataloader.datasets.Dataset, torch.utils.data.dataset.Dataset, typing.Annotated[NoneType, beartype.vale.Is[lambda _: hf_datasets is not None]]], as list [Data(x=[3], y=[1], pos=[3, 3]), Data(x=[3], y=[1], pos=[3, 3]), Data(x=[3], y=[1], pos=[3...])]:\n* Not <class \"jax_dataloader.datasets.Dataset\">.\n* Not instance of <class \"torch.utils.data.dataset.Dataset\">.\n* Not instance of <class \"builtins.NoneType\">.",
     "output_type": "error",
     "traceback": [
      "\u001b[0;31m---------------------------------------------------------------------------\u001b[0m",
      "\u001b[0;31mBeartypeCallHintParamViolation\u001b[0m            Traceback (most recent call last)",
      "Cell \u001b[0;32mIn[4], line 1\u001b[0m\n\u001b[0;32m----> 1\u001b[0m loader \u001b[38;5;241m=\u001b[39m \u001b[43mjdl\u001b[49m\u001b[38;5;241;43m.\u001b[39;49m\u001b[43mDataLoader\u001b[49m\u001b[43m(\u001b[49m\u001b[43mdataset\u001b[49m\u001b[43m,\u001b[49m\u001b[43m \u001b[49m\u001b[38;5;124;43m\"\u001b[39;49m\u001b[38;5;124;43mpytorch\u001b[39;49m\u001b[38;5;124;43m\"\u001b[39;49m\u001b[43m,\u001b[49m\u001b[43m \u001b[49m\u001b[43mbatch_size\u001b[49m\u001b[38;5;241;43m=\u001b[39;49m\u001b[38;5;241;43m10\u001b[39;49m\u001b[43m,\u001b[49m\u001b[43m \u001b[49m\u001b[43mshuffle\u001b[49m\u001b[38;5;241;43m=\u001b[39;49m\u001b[38;5;28;43;01mTrue\u001b[39;49;00m\u001b[43m)\u001b[49m\n",
      "File \u001b[0;32m/opt/anaconda3/envs/jax-env/lib/python3.12/site-packages/jax_dataloader/core.py:102\u001b[0m, in \u001b[0;36mDataLoader.__init__\u001b[0;34m(self, dataset, backend, batch_size, shuffle, drop_last, **kwargs)\u001b[0m\n\u001b[1;32m     92\u001b[0m \u001b[38;5;28;01mdef\u001b[39;00m \u001b[38;5;21m__init__\u001b[39m(\n\u001b[1;32m     93\u001b[0m     \u001b[38;5;28mself\u001b[39m,\n\u001b[1;32m     94\u001b[0m     dataset, \u001b[38;5;66;03m# Dataset from which to load the data\u001b[39;00m\n\u001b[0;32m   (...)\u001b[0m\n\u001b[1;32m     99\u001b[0m     \u001b[38;5;241m*\u001b[39m\u001b[38;5;241m*\u001b[39mkwargs\n\u001b[1;32m    100\u001b[0m ):\n\u001b[1;32m    101\u001b[0m     dl_cls \u001b[38;5;241m=\u001b[39m _dispatch_dataloader(backend)\n\u001b[0;32m--> 102\u001b[0m     \u001b[38;5;28mself\u001b[39m\u001b[38;5;241m.\u001b[39mdataloader \u001b[38;5;241m=\u001b[39m \u001b[43mdl_cls\u001b[49m\u001b[43m(\u001b[49m\n\u001b[1;32m    103\u001b[0m \u001b[43m        \u001b[49m\u001b[43mdataset\u001b[49m\u001b[38;5;241;43m=\u001b[39;49m\u001b[43mdataset\u001b[49m\u001b[43m,\u001b[49m\u001b[43m \u001b[49m\n\u001b[1;32m    104\u001b[0m \u001b[43m        \u001b[49m\u001b[43mbatch_size\u001b[49m\u001b[38;5;241;43m=\u001b[39;49m\u001b[43mbatch_size\u001b[49m\u001b[43m,\u001b[49m\u001b[43m \u001b[49m\n\u001b[1;32m    105\u001b[0m \u001b[43m        \u001b[49m\u001b[43mshuffle\u001b[49m\u001b[38;5;241;43m=\u001b[39;49m\u001b[43mshuffle\u001b[49m\u001b[43m,\u001b[49m\u001b[43m \u001b[49m\n\u001b[1;32m    106\u001b[0m \u001b[43m        \u001b[49m\u001b[43mdrop_last\u001b[49m\u001b[38;5;241;43m=\u001b[39;49m\u001b[43mdrop_last\u001b[49m\u001b[43m,\u001b[49m\n\u001b[1;32m    107\u001b[0m \u001b[43m        \u001b[49m\u001b[38;5;241;43m*\u001b[39;49m\u001b[38;5;241;43m*\u001b[39;49m\u001b[43mkwargs\u001b[49m\n\u001b[1;32m    108\u001b[0m \u001b[43m    \u001b[49m\u001b[43m)\u001b[49m\n",
      "File \u001b[0;32m<@beartype(jax_dataloader.loaders.torch.DataLoaderPytorch.__init__) at 0x16c148860>:46\u001b[0m, in \u001b[0;36m__init__\u001b[0;34m(__beartype_object_6093254928, __beartype_object_6104864928, __beartype_object_4498123232, __beartype_object_4313436144, __beartype_get_violation, __beartype_conf, __beartype_args_name_keywordable, __beartype_check_meta, __beartype_func, *args, **kwargs)\u001b[0m\n",
      "\u001b[0;31mBeartypeCallHintParamViolation\u001b[0m: Method jax_dataloader.loaders.torch.DataLoaderPytorch.__init__() parameter dataset=[Data(x=[3], y=[1], pos=[3, 3]), Data(x=[3], y=[1], pos=[3, 3]), Data(x=[3], y=[1], pos=[3...])] violates type hint typing.Union[jax_dataloader.datasets.Dataset, torch.utils.data.dataset.Dataset, typing.Annotated[NoneType, beartype.vale.Is[lambda _: hf_datasets is not None]]], as list [Data(x=[3], y=[1], pos=[3, 3]), Data(x=[3], y=[1], pos=[3, 3]), Data(x=[3], y=[1], pos=[3...])]:\n* Not <class \"jax_dataloader.datasets.Dataset\">.\n* Not instance of <class \"torch.utils.data.dataset.Dataset\">.\n* Not instance of <class \"builtins.NoneType\">."
     ]
    }
   ],
   "source": [
    "loader = jdl.DataLoader(dataset, \"pytorch\", batch_size=10, shuffle=True)"
   ]
  },
  {
   "cell_type": "code",
   "execution_count": null,
   "metadata": {},
   "outputs": [],
   "source": []
  },
  {
   "cell_type": "code",
   "execution_count": 403,
   "metadata": {},
   "outputs": [],
   "source": [
    "def create_water_dataset_from_npz(data_name: str):\n",
    "    water_data = np.load(data_name)\n",
    "    energy = water_data[\"E\"]\n",
    "    n_data = len(energy)\n",
    "    atom_types = jnp.array([water_data[\"z\"] for _ in range(n_data)])\n",
    "    positions = water_data[\"R\"]\n",
    "    return jdl.ArrayDataset(atom_types, positions, energy)\n",
    "\n",
    "\n",
    "# Create a dataset with multiple identical water molecules\n",
    "dataset = create_water_dataset_from_npz(\"data_water.npz\")\n",
    "dataloader = jdl.DataLoader(dataset, 'jax', batch_size=10, shuffle=True)\n",
    "#loader = jdl.DataLoader(dataset=dataset, batch_size=10, backend='jax', shuffle=True)\n"
   ]
  },
  {
   "cell_type": "code",
   "execution_count": 404,
   "metadata": {},
   "outputs": [],
   "source": [
    "batch = next(iter(dataloader))"
   ]
  },
  {
   "cell_type": "code",
   "execution_count": 408,
   "metadata": {},
   "outputs": [
    {
     "data": {
      "text/plain": [
       "(10, 3)"
      ]
     },
     "execution_count": 408,
     "metadata": {},
     "output_type": "execute_result"
    }
   ],
   "source": [
    "batch[0].shape"
   ]
  },
  {
   "cell_type": "code",
   "execution_count": 409,
   "metadata": {},
   "outputs": [
    {
     "data": {
      "text/plain": [
       "(10, 3, 3)"
      ]
     },
     "execution_count": 409,
     "metadata": {},
     "output_type": "execute_result"
    }
   ],
   "source": [
    "batch[1].shape"
   ]
  },
  {
   "cell_type": "code",
   "execution_count": 219,
   "metadata": {},
   "outputs": [
    {
     "data": {
      "text/plain": [
       "(99999, 3, 3)"
      ]
     },
     "execution_count": 219,
     "metadata": {},
     "output_type": "execute_result"
    }
   ],
   "source": [
    "water_data[\"R\"].shape"
   ]
  },
  {
   "cell_type": "code",
   "execution_count": 217,
   "metadata": {},
   "outputs": [
    {
     "data": {
      "text/plain": [
       "['type',\n",
       " 'R',\n",
       " 'R_units',\n",
       " 'z',\n",
       " 'E',\n",
       " 'E_units',\n",
       " 'F',\n",
       " 'F_units',\n",
       " 'Q',\n",
       " 'spin_state',\n",
       " 'name',\n",
       " 'README',\n",
       " 'theory',\n",
       " 'r_unit',\n",
       " 'e_unit',\n",
       " 'D',\n",
       " 'D_units',\n",
       " 'md5']"
      ]
     },
     "execution_count": 217,
     "metadata": {},
     "output_type": "execute_result"
    }
   ],
   "source": [
    "water_data.files"
   ]
  },
  {
   "cell_type": "code",
   "execution_count": 214,
   "metadata": {},
   "outputs": [
    {
     "data": {
      "text/plain": [
       "array([8, 1, 1])"
      ]
     },
     "execution_count": 214,
     "metadata": {},
     "output_type": "execute_result"
    }
   ],
   "source": [
    "f[\"z\"]"
   ]
  },
  {
   "cell_type": "code",
   "execution_count": 194,
   "metadata": {},
   "outputs": [],
   "source": [
    "xd = np.load(\"model_water.npz\")"
   ]
  },
  {
   "cell_type": "code",
   "execution_count": 201,
   "metadata": {},
   "outputs": [
    {
     "data": {
      "text/plain": [
       "array([8, 1, 1])"
      ]
     },
     "execution_count": 201,
     "metadata": {},
     "output_type": "execute_result"
    }
   ],
   "source": [
    "xd[\"z\"]"
   ]
  },
  {
   "cell_type": "code",
   "execution_count": 195,
   "metadata": {},
   "outputs": [
    {
     "data": {
      "text/plain": [
       "['type',\n",
       " 'code_version',\n",
       " 'dataset_name',\n",
       " 'dataset_theory',\n",
       " 'solver_name',\n",
       " 'z',\n",
       " 'idxs_train',\n",
       " 'md5_train',\n",
       " 'idxs_valid',\n",
       " 'md5_valid',\n",
       " 'n_test',\n",
       " 'md5_test',\n",
       " 'f_err',\n",
       " 'R_desc',\n",
       " 'R_d_desc_alpha',\n",
       " 'c',\n",
       " 'std',\n",
       " 'sig',\n",
       " 'lam',\n",
       " 'alphas_F',\n",
       " 'perms',\n",
       " 'tril_perms_lin',\n",
       " 'use_E',\n",
       " 'e_err',\n",
       " 'r_unit',\n",
       " 'e_unit']"
      ]
     },
     "execution_count": 195,
     "metadata": {},
     "output_type": "execute_result"
    }
   ],
   "source": [
    "xd.files"
   ]
  },
  {
   "cell_type": "code",
   "execution_count": 182,
   "metadata": {},
   "outputs": [],
   "source": [
    "batch = next(iter(dataloader))"
   ]
  },
  {
   "cell_type": "code",
   "execution_count": 190,
   "metadata": {},
   "outputs": [
    {
     "data": {
      "text/plain": [
       "(10, 3, 3)"
      ]
     },
     "execution_count": 190,
     "metadata": {},
     "output_type": "execute_result"
    }
   ],
   "source": [
    "batch[1].shape"
   ]
  },
  {
   "cell_type": "code",
   "execution_count": 186,
   "metadata": {},
   "outputs": [
    {
     "data": {
      "text/plain": [
       "array([0., 1., 1., 0., 1., 1., 0., 1., 1., 0., 1., 1., 0., 1., 1., 0., 1.,\n",
       "       1., 0., 1., 1., 0., 1., 1., 0., 1., 1., 0., 1., 1.], dtype=float32)"
      ]
     },
     "execution_count": 186,
     "metadata": {},
     "output_type": "execute_result"
    }
   ],
   "source": [
    "batch[0].reshape(30,)"
   ]
  },
  {
   "cell_type": "code",
   "execution_count": 177,
   "metadata": {},
   "outputs": [],
   "source": [
    "i=0\n",
    "for batch in dataloader:\n",
    "    atoms = batch[0]\n",
    "    pos = batch[1]\n",
    "    break"
   ]
  },
  {
   "cell_type": "code",
   "execution_count": 179,
   "metadata": {},
   "outputs": [
    {
     "data": {
      "text/plain": [
       "(10, 3)"
      ]
     },
     "execution_count": 179,
     "metadata": {},
     "output_type": "execute_result"
    }
   ],
   "source": [
    "atoms.shape"
   ]
  },
  {
   "cell_type": "code",
   "execution_count": 175,
   "metadata": {},
   "outputs": [
    {
     "data": {
      "text/plain": [
       "array([[ 0.  ,  0.  ,  0.  ],\n",
       "       [ 0.96,  0.  ,  0.  ],\n",
       "       [-0.24,  0.93,  0.  ]], dtype=float32)"
      ]
     },
     "execution_count": 175,
     "metadata": {},
     "output_type": "execute_result"
    }
   ],
   "source": [
    "pos[0]"
   ]
  },
  {
   "cell_type": "code",
   "execution_count": 170,
   "metadata": {},
   "outputs": [],
   "source": [
    "def radius_graph(x, r=1):\n",
    "    distances = jnp.array([[jnp.linalg.norm(x[i] - x[j]) for i in range(len(x))] for j in range(len(x))])\n",
    "    indices = jnp.array([[[i,j] for i in range(len(x))] for j in range(len(x))])\n",
    "    mask = (distances<r)\n",
    "    row, col = indices[mask][:,0], indices[mask][:,1]\n",
    "    return row, col"
   ]
  },
  {
   "cell_type": "code",
   "execution_count": 171,
   "metadata": {},
   "outputs": [],
   "source": [
    "num_filters = 64\n",
    "hidden_dim = 128\n",
    "embedding_dim = 128\n",
    "num_atom_types = 2\n",
    "\n",
    "# Create a radius graph (edges based on distance)\n",
    "edge_index = radius_graph(pos, r=5.0)  # Adjust radius as needed"
   ]
  },
  {
   "cell_type": "code",
   "execution_count": 173,
   "metadata": {},
   "outputs": [
    {
     "name": "stdout",
     "output_type": "stream",
     "text": [
      "(10, 3, 3)\n"
     ]
    }
   ],
   "source": [
    "print(pos.shape)"
   ]
  },
  {
   "cell_type": "code",
   "execution_count": 161,
   "metadata": {},
   "outputs": [
    {
     "data": {
      "text/plain": [
       "Array(0., dtype=float32)"
      ]
     },
     "execution_count": 161,
     "metadata": {},
     "output_type": "execute_result"
    }
   ],
   "source": [
    "jnp.linalg.norm(pos[0] - pos[1])"
   ]
  },
  {
   "cell_type": "code",
   "execution_count": 156,
   "metadata": {},
   "outputs": [
    {
     "data": {
      "text/plain": [
       "Array([[0., 0., 0.],\n",
       "       [0., 0., 0.],\n",
       "       [0., 0., 0.]], dtype=float32)"
      ]
     },
     "execution_count": 156,
     "metadata": {},
     "output_type": "execute_result"
    }
   ],
   "source": [
    "jnp.dot(pos[0] - pos[1],pos[0] - pos[1])"
   ]
  },
  {
   "cell_type": "code",
   "execution_count": null,
   "metadata": {},
   "outputs": [
    {
     "data": {
      "text/plain": [
       "array([[[ 0.  ,  0.  ,  0.  ],\n",
       "        [ 0.96,  0.  ,  0.  ],\n",
       "        [-0.24,  0.93,  0.  ]],\n",
       "\n",
       "       [[ 0.  ,  0.  ,  0.  ],\n",
       "        [ 0.96,  0.  ,  0.  ],\n",
       "        [-0.24,  0.93,  0.  ]],\n",
       "\n",
       "       [[ 0.  ,  0.  ,  0.  ],\n",
       "        [ 0.96,  0.  ,  0.  ],\n",
       "        [-0.24,  0.93,  0.  ]],\n",
       "\n",
       "       [[ 0.  ,  0.  ,  0.  ],\n",
       "        [ 0.96,  0.  ,  0.  ],\n",
       "        [-0.24,  0.93,  0.  ]],\n",
       "\n",
       "       [[ 0.  ,  0.  ,  0.  ],\n",
       "        [ 0.96,  0.  ,  0.  ],\n",
       "        [-0.24,  0.93,  0.  ]],\n",
       "\n",
       "       [[ 0.  ,  0.  ,  0.  ],\n",
       "        [ 0.96,  0.  ,  0.  ],\n",
       "        [-0.24,  0.93,  0.  ]],\n",
       "\n",
       "       [[ 0.  ,  0.  ,  0.  ],\n",
       "        [ 0.96,  0.  ,  0.  ],\n",
       "        [-0.24,  0.93,  0.  ]],\n",
       "\n",
       "       [[ 0.  ,  0.  ,  0.  ],\n",
       "        [ 0.96,  0.  ,  0.  ],\n",
       "        [-0.24,  0.93,  0.  ]],\n",
       "\n",
       "       [[ 0.  ,  0.  ,  0.  ],\n",
       "        [ 0.96,  0.  ,  0.  ],\n",
       "        [-0.24,  0.93,  0.  ]],\n",
       "\n",
       "       [[ 0.  ,  0.  ,  0.  ],\n",
       "        [ 0.96,  0.  ,  0.  ],\n",
       "        [-0.24,  0.93,  0.  ]]], dtype=float32)"
      ]
     },
     "execution_count": 146,
     "metadata": {},
     "output_type": "execute_result"
    }
   ],
   "source": [
    "num_filters = 64\n",
    "hidden_dim = 128\n",
    "embedding_dim = 128\n",
    "num_atom_types = 2\n",
    "\n",
    "# Create a radius graph (edges based on distance)\n",
    "edge_index = radius_graph(pos, r=5.0, loop=False)  # Adjust radius as needed\n",
    "atom_embedding = AtomEmbedding(num_atom_types, embedding_dim)\n",
    "# Compute distances for edges\n",
    "edge_distance = (pos[edge_index[0]] - pos[edge_index[1]]).norm(p=2, dim=1)\n",
    "rbf = nn.Linear(1, num_filters)(edge_distance.unsqueeze(1))\n",
    "mlp = nn.Sequential(\n",
    "            nn.Linear(num_filters, hidden_dim),\n",
    "            nn.ReLU(),\n",
    "            nn.Linear(hidden_dim, embedding_dim)\n",
    "        )\n",
    "update_mlp = nn.Sequential(\n",
    "            nn.Linear(embedding_dim, hidden_dim),\n",
    "            nn.ReLU(),\n",
    "            nn.Linear(hidden_dim, embedding_dim)\n",
    "        )\n",
    "x = atom_embedding(atom_types)\n",
    "filters = mlp(rbf)\n",
    "messages = x[edge_index[0]] * filters\n",
    "print(messages.shape)\n",
    "print(edge_index.shape)\n",
    "out = scatter_add(messages, edge_index[1], dim=0)\n",
    "print(out.shape)\n",
    "out = update_mlp(out)\n",
    "output = x + out"
   ]
  },
  {
   "cell_type": "code",
   "execution_count": null,
   "metadata": {},
   "outputs": [],
   "source": [
    "edge_index = radius_graph(pos, r=5.0, loop=False)\n",
    "atom_types = batch.x\n",
    "edge_distances = (pos[edge_index[0]] - pos[edge_index[1]]).norm(p=2, dim=1)\n",
    "print(edge_distances)\n",
    "print(edge_index)\n",
    "print(pos[18], pos[0])"
   ]
  },
  {
   "cell_type": "code",
   "execution_count": 47,
   "metadata": {},
   "outputs": [
    {
     "data": {
      "text/plain": [
       "100"
      ]
     },
     "execution_count": 47,
     "metadata": {},
     "output_type": "execute_result"
    }
   ],
   "source": [
    "jnp.array(dataset[0]).shape[0]"
   ]
  },
  {
   "cell_type": "code",
   "execution_count": 48,
   "metadata": {},
   "outputs": [
    {
     "data": {
      "text/plain": [
       "100"
      ]
     },
     "execution_count": 48,
     "metadata": {},
     "output_type": "execute_result"
    }
   ],
   "source": [
    "jnp.array(dataset[1]).shape[0]"
   ]
  },
  {
   "cell_type": "code",
   "execution_count": 36,
   "metadata": {},
   "outputs": [
    {
     "data": {
      "text/plain": [
       "(100, 1)"
      ]
     },
     "execution_count": 36,
     "metadata": {},
     "output_type": "execute_result"
    }
   ],
   "source": [
    "jnp.array(dataset[2]).shape"
   ]
  },
  {
   "cell_type": "code",
   "execution_count": 10,
   "metadata": {},
   "outputs": [],
   "source": [
    "X = jnp.arange(100).reshape(10, 10)\n",
    "y = jnp.arange(10)\n",
    "# Create an `ArrayDataset`\n",
    "arr_ds = jdl.ArrayDataset(X, y)"
   ]
  },
  {
   "cell_type": "code",
   "execution_count": 44,
   "metadata": {},
   "outputs": [
    {
     "data": {
      "text/plain": [
       "(10,)"
      ]
     },
     "execution_count": 44,
     "metadata": {},
     "output_type": "execute_result"
    }
   ],
   "source": [
    "X[0].shape"
   ]
  },
  {
   "cell_type": "code",
   "execution_count": 45,
   "metadata": {},
   "outputs": [
    {
     "data": {
      "text/plain": [
       "()"
      ]
     },
     "execution_count": 45,
     "metadata": {},
     "output_type": "execute_result"
    }
   ],
   "source": []
  },
  {
   "cell_type": "code",
   "execution_count": 11,
   "metadata": {},
   "outputs": [],
   "source": [
    "z = jnp.arange(10)\n",
    "arr_dss = jdl.ArrayDataset(X, y, z)"
   ]
  },
  {
   "cell_type": "code",
   "execution_count": 19,
   "metadata": {},
   "outputs": [],
   "source": [
    "dataloader = jdl.DataLoader(arr_dss, 'jax', batch_size=5, shuffle=True)\n"
   ]
  },
  {
   "cell_type": "code",
   "execution_count": 20,
   "metadata": {},
   "outputs": [],
   "source": [
    "batch = next(iter(dataloader))"
   ]
  },
  {
   "cell_type": "code",
   "execution_count": 12,
   "metadata": {},
   "outputs": [
    {
     "name": "stdout",
     "output_type": "stream",
     "text": [
      "[[[1]\n",
      "  [2]]\n",
      "\n",
      " [[3]\n",
      "  [4]]]\n",
      "(2, 2, 1)\n"
     ]
    }
   ],
   "source": [
    "new_array = jnp.expand_dims(array, 2)\n",
    "print(new_array)\n",
    "print(new_array.shape)"
   ]
  },
  {
   "cell_type": "code",
   "execution_count": null,
   "metadata": {},
   "outputs": [],
   "source": []
  }
 ],
 "metadata": {
  "kernelspec": {
   "display_name": "jax-env",
   "language": "python",
   "name": "python3"
  },
  "language_info": {
   "codemirror_mode": {
    "name": "ipython",
    "version": 3
   },
   "file_extension": ".py",
   "mimetype": "text/x-python",
   "name": "python",
   "nbconvert_exporter": "python",
   "pygments_lexer": "ipython3",
   "version": "3.12.3"
  }
 },
 "nbformat": 4,
 "nbformat_minor": 2
}
