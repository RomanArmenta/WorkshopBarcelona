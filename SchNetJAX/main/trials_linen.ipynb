{
 "cells": [
  {
   "cell_type": "code",
   "execution_count": null,
   "metadata": {},
   "outputs": [],
   "source": [
    "import jax\n",
    "import flax\n",
    "import jax.numpy as jnp\n",
    "from flax import linen as nn\n",
    "from jax import random\n",
    "import numpy as np\n",
    "#from flax import nnx\n",
    "from typing import Dict\n",
    "\n",
    "import jax_dataloader as jdl\n",
    "from functools import partial\n",
    "#######\n",
    "\n",
    "import torch\n",
    "from torch_geometric.loader import DataLoader\n",
    "from torch.utils.data import Dataset\n",
    "from torch_geometric.data import Data#, DataLoader\n"
   ]
  },
  {
   "cell_type": "code",
   "execution_count": 79,
   "metadata": {},
   "outputs": [],
   "source": [
    "class WaterDataset(Dataset):\n",
    "    \"\"\"Face Landmarks dataset.\"\"\"\n",
    "\n",
    "    def __init__(self, npz_file):\n",
    "        \"\"\"\n",
    "        Arguments:\n",
    "            npz_file (string): Path to the npz file with data.\n",
    "        \"\"\"\n",
    "        data = np.load(npz_file)\n",
    "        self.E = data[\"E\"]\n",
    "        self.Z = data[\"z\"]\n",
    "        self.R = data[\"R\"]\n",
    "\n",
    "    def __len__(self):\n",
    "        return len(self.E)\n",
    "\n",
    "    def __getitem__(self, idx):\n",
    "        if torch.is_tensor(idx):\n",
    "            idx = idx.tolist()\n",
    "\n",
    "        sample = {'positions': self.R[idx], 'atom_types': self.Z, 'energy': self.E[idx]}\n",
    "\n",
    "        return sample"
   ]
  },
  {
   "cell_type": "code",
   "execution_count": 299,
   "metadata": {},
   "outputs": [],
   "source": [
    "data = np.load(\"data_water.npz\")"
   ]
  },
  {
   "cell_type": "code",
   "execution_count": 302,
   "metadata": {},
   "outputs": [
    {
     "data": {
      "text/plain": [
       "(99999, 1)"
      ]
     },
     "execution_count": 302,
     "metadata": {},
     "output_type": "execute_result"
    }
   ],
   "source": [
    "data[\"E\"].shape"
   ]
  },
  {
   "cell_type": "code",
   "execution_count": 304,
   "metadata": {},
   "outputs": [
    {
     "data": {
      "text/plain": [
       "(99999, 3, 3)"
      ]
     },
     "execution_count": 304,
     "metadata": {},
     "output_type": "execute_result"
    }
   ],
   "source": [
    "data[\"R\"].shape"
   ]
  },
  {
   "cell_type": "code",
   "execution_count": 300,
   "metadata": {},
   "outputs": [
    {
     "data": {
      "text/plain": [
       "array([8, 1, 1])"
      ]
     },
     "execution_count": 300,
     "metadata": {},
     "output_type": "execute_result"
    }
   ],
   "source": [
    "data[\"z\"]"
   ]
  },
  {
   "cell_type": "code",
   "execution_count": 305,
   "metadata": {},
   "outputs": [],
   "source": [
    "water_dataset = WaterDataset(\"data_water.npz\")"
   ]
  },
  {
   "cell_type": "code",
   "execution_count": 306,
   "metadata": {},
   "outputs": [
    {
     "data": {
      "text/plain": [
       "{'positions': array([[0.        , 0.        , 0.        ],\n",
       "        [1.88972613, 0.        , 0.        ],\n",
       "        [0.        , 1.88972613, 0.        ]]),\n",
       " 'atom_types': array([8, 1, 1]),\n",
       " 'energy': array([-76377.68573031])}"
      ]
     },
     "execution_count": 306,
     "metadata": {},
     "output_type": "execute_result"
    }
   ],
   "source": [
    "next(iter(water_dataset))"
   ]
  },
  {
   "cell_type": "code",
   "execution_count": 312,
   "metadata": {},
   "outputs": [
    {
     "data": {
      "text/plain": [
       "array([[[ 0.00000000e+00,  0.00000000e+00,  0.00000000e+00],\n",
       "        [ 1.88972613e+00,  0.00000000e+00,  0.00000000e+00],\n",
       "        [ 0.00000000e+00,  1.88972613e+00,  0.00000000e+00]],\n",
       "\n",
       "       [[-1.27435571e-03, -1.91089106e-04,  0.00000000e+00],\n",
       "        [ 1.89716851e+00,  1.27858870e-02,  0.00000000e+00],\n",
       "        [ 1.27858870e-02,  1.87997344e+00,  0.00000000e+00]],\n",
       "\n",
       "       [[-1.18107883e-04,  1.66868486e-03,  0.00000000e+00],\n",
       "        [ 1.88682094e+00,  4.94677388e-03,  0.00000000e+00],\n",
       "        [ 4.77983547e-03,  1.85829159e+00,  0.00000000e+00]],\n",
       "\n",
       "       ...,\n",
       "\n",
       "       [[ 5.58028378e-02, -1.99056947e-02,  0.00000000e+00],\n",
       "        [ 1.91782596e+00,  7.38274481e-01,  0.00000000e+00],\n",
       "        [-9.13878566e-01,  1.46742206e+00,  0.00000000e+00]],\n",
       "\n",
       "       [[ 4.98592523e-02, -3.73874567e-02,  0.00000000e+00],\n",
       "        [ 2.03012446e+00,  8.53936283e-01,  0.00000000e+00],\n",
       "        [-9.31832533e-01,  1.62925450e+00,  0.00000000e+00]],\n",
       "\n",
       "       [[ 4.85929090e-02, -4.77873943e-02,  0.00000000e+00],\n",
       "        [ 2.05304083e+00,  9.13962111e-01,  0.00000000e+00],\n",
       "        [-9.34647564e-01,  1.73431069e+00,  0.00000000e+00]]])"
      ]
     },
     "execution_count": 312,
     "metadata": {},
     "output_type": "execute_result"
    }
   ],
   "source": [
    "data[\"R\"]"
   ]
  },
  {
   "cell_type": "code",
   "execution_count": 81,
   "metadata": {},
   "outputs": [],
   "source": [
    "water_loader = jdl.DataLoader(water_dataset, backend='pytorch', batch_size=5, shuffle=True, drop_last=False)"
   ]
  },
  {
   "cell_type": "code",
   "execution_count": 307,
   "metadata": {},
   "outputs": [],
   "source": [
    "batch = next(iter(water_loader))"
   ]
  },
  {
   "cell_type": "code",
   "execution_count": 311,
   "metadata": {},
   "outputs": [
    {
     "data": {
      "text/plain": [
       "array([[[ 3.92995004e-03, -7.90343938e-03,  0.00000000e+00],\n",
       "        [ 2.03940170e+00, -1.68464209e-01,  0.00000000e+00],\n",
       "        [-2.12057224e-01,  2.18364445e+00,  0.00000000e+00]],\n",
       "\n",
       "       [[ 3.62524493e-02,  1.48215000e-03,  0.00000000e+00],\n",
       "        [ 1.92562951e+00,  1.13005207e-01,  0.00000000e+00],\n",
       "        [-6.11351762e-01,  1.75319415e+00,  0.00000000e+00]],\n",
       "\n",
       "       [[ 5.84968691e-02, -4.13975122e-02,  0.00000000e+00],\n",
       "        [ 1.96645069e+00,  7.37222187e-01,  0.00000000e+00],\n",
       "        [-1.00526687e+00,  1.80962190e+00,  0.00000000e+00]],\n",
       "\n",
       "       [[ 1.82980102e-02, -3.71793222e-02,  0.00000000e+00],\n",
       "        [ 1.93921977e+00,  6.39939974e-01,  0.00000000e+00],\n",
       "        [-3.39944534e-01,  1.83994709e+00,  0.00000000e+00]],\n",
       "\n",
       "       [[ 3.99603755e-02,  6.83375990e-03,  0.00000000e+00],\n",
       "        [ 1.87247778e+00,  2.30835338e-02,  0.00000000e+00],\n",
       "        [-6.17057280e-01,  1.75816784e+00,  0.00000000e+00]]])"
      ]
     },
     "execution_count": 311,
     "metadata": {},
     "output_type": "execute_result"
    }
   ],
   "source": [
    "batch[\"positions\"]"
   ]
  },
  {
   "cell_type": "code",
   "execution_count": null,
   "metadata": {},
   "outputs": [],
   "source": [
    "class AtomEmbedding(nn.Module):\n",
    "    num_atom_types: int\n",
    "    embedding_dim: int\n",
    "    def setup(self):\n",
    "        self.embedding = nn.Embed(\n",
    "            num_embeddings=self.num_atom_types,\n",
    "            features=self.embedding_dim\n",
    "        )\n",
    "\n",
    "    @partial(jax.vmap, in_axes = (None, 0), out_axes = 0)\n",
    "    def __call__(self, atom_types):\n",
    "        ord_atom_types = jnp.unique(atom_types, size=self.num_atom_types)\n",
    "        mask = jnp.asarray([jnp.where(ord_atom_types==elem, size=1) for elem in atom_types]).squeeze()\n",
    "        return jnp.array(self.embedding(mask)).squeeze()"
   ]
  },
  {
   "cell_type": "code",
   "execution_count": 314,
   "metadata": {},
   "outputs": [
    {
     "name": "stdout",
     "output_type": "stream",
     "text": [
      "[[8 1 1]\n",
      " [8 1 1]\n",
      " [8 1 1]\n",
      " [8 1 1]\n",
      " [8 1 1]]\n"
     ]
    }
   ],
   "source": [
    "print(z)"
   ]
  },
  {
   "cell_type": "code",
   "execution_count": 313,
   "metadata": {},
   "outputs": [
    {
     "name": "stdout",
     "output_type": "stream",
     "text": [
      "(5, 3)\n",
      "(5, 3, 2)\n"
     ]
    }
   ],
   "source": [
    "z = batch[\"atom_types\"]\n",
    "print(z.shape)\n",
    "emb = AtomEmbedding(num_atom_types=2, embedding_dim=2)\n",
    "key1, key2 = random.split(random.key(0), 2)\n",
    "params = emb.init(key2, z)\n",
    "y = emb.apply(params, z)\n",
    "print(y.shape)"
   ]
  },
  {
   "cell_type": "code",
   "execution_count": 159,
   "metadata": {},
   "outputs": [],
   "source": [
    "# Given a positions thing, r = (r_1, ..., r_n), returns\n",
    "# a matrix with the relative distance among them\n",
    "# (d_ij)_ij = |r_i - r_j|^2\n",
    "\n",
    "class R_distances(nn.Module):\n",
    "\n",
    "    @partial(jax.vmap, in_axes = (None, 0), out_axes = 0)\n",
    "    def __call__(self, R):\n",
    "        Rij = jnp.array([[r_i - r_j for r_j in R] for r_i in R])\n",
    "        d_ij = jnp.linalg.norm(Rij, axis=-1)\n",
    "        return d_ij"
   ]
  },
  {
   "cell_type": "code",
   "execution_count": 175,
   "metadata": {},
   "outputs": [
    {
     "name": "stdout",
     "output_type": "stream",
     "text": [
      "(5, 3, 3)\n"
     ]
    }
   ],
   "source": [
    "dis = R_distances()\n",
    "R = batch[\"positions\"]\n",
    "distances = dis(R)\n",
    "print(distances.shape)"
   ]
  },
  {
   "cell_type": "code",
   "execution_count": 176,
   "metadata": {},
   "outputs": [],
   "source": [
    "class RadialBasisFunctions(nn.Module):\n",
    "    rbf_min: float\n",
    "    rbf_max: float\n",
    "    n_rbf: int\n",
    "    gamma: float = 10\n",
    "\n",
    "    def setup(self):\n",
    "        self.centers = jnp.linspace(self.rbf_min, self.rbf_max, self.n_rbf).reshape(1, -1)\n",
    "\n",
    "    @partial(jax.vmap, in_axes = (None, 0), out_axes = 0)\n",
    "    def __call__(self, d_ij):\n",
    "        diff = d_ij[..., None] - self.centers\n",
    "        return jnp.exp(-self.gamma * jnp.pow(diff, 2))"
   ]
  },
  {
   "cell_type": "code",
   "execution_count": 180,
   "metadata": {},
   "outputs": [
    {
     "name": "stdout",
     "output_type": "stream",
     "text": [
      "(5, 3, 3, 10)\n"
     ]
    }
   ],
   "source": [
    "rbf = RadialBasisFunctions(0.0, 30., 10)\n",
    "key1, key2 = random.split(key1, 2)\n",
    "params_rbf = rbf.init(key2, distances)\n",
    "rbfs = rbf.apply(params_rbf, distances)\n",
    "print(rbfs.shape)"
   ]
  },
  {
   "cell_type": "code",
   "execution_count": 181,
   "metadata": {},
   "outputs": [],
   "source": [
    "# ReLU function\n",
    "\n",
    "class relu_layer(nn.Module):\n",
    "    def __call__(self, x):\n",
    "        return nn.relu(x)\n",
    "\n",
    "# Shift Softplus layer\n",
    "\n",
    "class ssp_layer(nn.Module):\n",
    "    def __call__(self, x):\n",
    "        return jnp.log(0.5 * jnp.exp(x) + 0.5)"
   ]
  },
  {
   "cell_type": "code",
   "execution_count": null,
   "metadata": {},
   "outputs": [],
   "source": [
    "class filter_generator(nn.Module):\n",
    "    atom_embeddings_dim: int\n",
    "    rbf_min: float\n",
    "    rbf_max: float\n",
    "    n_rbf: int\n",
    "    activation: nn.Module = ssp_layer\n",
    "\n",
    "    def setup(self):\n",
    "        self.rbf = RadialBasisFunctions(\n",
    "            self.rbf_min, \n",
    "            self.rbf_max, \n",
    "            self.n_rbf\n",
    "            )\n",
    "        \n",
    "        self.w_layers = nn.Sequential([\n",
    "            nn.Dense(self.n_rbf, self.atom_embeddings_dim),\n",
    "            self.activation(),\n",
    "            nn.Dense(self.atom_embeddings_dim, self.atom_embeddings_dim),\n",
    "            self.activation()\n",
    "            ])\n",
    "\n",
    "    @partial(jax.vmap, in_axes = (None, 0), out_axes = 0)\n",
    "    def __call__(self, d_ij):\n",
    "        rbfs = self.rbf(d_ij)\n",
    "        Wij = self.w_layers(rbfs)\n",
    "        return Wij\n"
   ]
  },
  {
   "cell_type": "code",
   "execution_count": null,
   "metadata": {},
   "outputs": [
    {
     "name": "stdout",
     "output_type": "stream",
     "text": [
      "(5, 3, 3, 2)\n",
      "(5, 3, 2)\n"
     ]
    }
   ],
   "source": [
    "filter_gen = filter_generator(2, 0., 30., 10)\n",
    "key1, key2 = random.split(key1, 2)\n",
    "params_fil = filter_gen.init(key2, distances)\n",
    "filters = filter_gen.apply(params_fil, distances)\n",
    "print(filters.shape)\n",
    "print(y.shape)"
   ]
  },
  {
   "cell_type": "code",
   "execution_count": 265,
   "metadata": {},
   "outputs": [],
   "source": [
    "class CfConv(nn.Module):\n",
    "    \n",
    "    @partial(jax.vmap, in_axes = (None, 0, 0), out_axes = 0)\n",
    "    def __call__(self, X, fij):\n",
    "        ones = jnp.ones(shape=fij.shape)\n",
    "        jax.lax.fori_loop(0, len(ones), lambda i, ones_i: ones_i.at[i,i].set(jnp.zeros(shape=ones_i[i,i].shape)), ones)\n",
    "        filters = jnp.sum(fij, axis = 1)\n",
    "        Xij = X * filters\n",
    "        jnp.sum(Xij, axis = 0, where = ones)\n",
    "        return X + jnp.sum(Xij, axis=0)"
   ]
  },
  {
   "cell_type": "code",
   "execution_count": null,
   "metadata": {},
   "outputs": [
    {
     "name": "stdout",
     "output_type": "stream",
     "text": [
      "(5, 3, 2)\n"
     ]
    }
   ],
   "source": [
    "conv = CfConv()\n",
    "convs = conv(y, filters)\n",
    "print(convs.shape)"
   ]
  },
  {
   "cell_type": "code",
   "execution_count": null,
   "metadata": {},
   "outputs": [],
   "source": [
    "class InteractionBlock(nn.Module):\n",
    "    atom_embeddings_dim: int\n",
    "    rbf_min: float\n",
    "    rbf_max: float\n",
    "    n_rbf: int\n",
    "    activation: nn.Module = ssp_layer\n",
    "\n",
    "    def setup(self):\n",
    "        self.in_atom_wise = nn.Dense(\n",
    "            self.atom_embeddings_dim,\n",
    "            self.atom_embeddings_dim\n",
    "            )\n",
    "        \n",
    "        self.out_atom_wise = nn.Sequential([\n",
    "            nn.Dense(self.atom_embeddings_dim, self.atom_embeddings_dim),\n",
    "            self.activation(),\n",
    "            nn.Dense(self.atom_embeddings_dim, self.atom_embeddings_dim)\n",
    "            ])\n",
    "\n",
    "        self.filters = filter_generator(\n",
    "            self.atom_embeddings_dim,\n",
    "            self.rbf_min,\n",
    "            self.rbf_max,\n",
    "            self.n_rbf\n",
    "            )\n",
    "\n",
    "        self.cf_conv = CfConv()\n",
    "\n",
    "        self.distances = R_distances()\n",
    "\n",
    "    @partial(jax.vmap, in_axes = (None, 0, 0), out_axes = 0)\n",
    "    def __call__(self, X, R):\n",
    "        X_in = self.in_atom_wise(X)\n",
    "        R_distances = self.distances(R)\n",
    "        fils = self.filters(R_distances)\n",
    "        X_conv = self.cf_conv(X_in, fils)\n",
    "        V = self.out_atom_wise(X_conv)\n",
    "        return X + V"
   ]
  },
  {
   "cell_type": "code",
   "execution_count": 290,
   "metadata": {},
   "outputs": [
    {
     "name": "stdout",
     "output_type": "stream",
     "text": [
      "(5, 3, 2)\n"
     ]
    }
   ],
   "source": [
    "emb = AtomEmbedding(num_atom_types=2, embedding_dim=2)\n",
    "intblock = InteractionBlock(2, 0., 30., 10)\n",
    "Z = batch[\"atom_types\"]\n",
    "R = batch[\"positions\"]\n",
    "key1, key2, key3 = random.split(key1, 3)\n",
    "params = emb.init(key2, Z)\n",
    "X = emb.apply(params, Z)\n",
    "params_int = intblock.init(key3, X, R)\n",
    "interation = intblock.apply(params_int, X, R)\n",
    "print(interation.shape)"
   ]
  },
  {
   "cell_type": "code",
   "execution_count": 297,
   "metadata": {},
   "outputs": [],
   "source": [
    "class SchNet(nn.Module):\n",
    "    atom_embedding_dim: int = 64\n",
    "    atom_wise_out: int = 32\n",
    "    n_interactions: int = 3\n",
    "    n_atom_types: int = 2\n",
    "    rbf_min: float = 0.\n",
    "    rbf_max: float = 30.\n",
    "    n_rbf: int = 300\n",
    "    activation: nn.Module = ssp_layer\n",
    "\n",
    "    def setup(self):\n",
    "        self.embedding = AtomEmbedding(\n",
    "            self.n_atom_types,\n",
    "            self.atom_embedding_dim\n",
    "        )\n",
    "\n",
    "        self.interactions = nn.Sequential([\n",
    "            InteractionBlock(\n",
    "                self.atom_embedding_dim, self.rbf_min, self.rbf_max, self.n_rbf, self.activation\n",
    "            )\n",
    "        for _ in range(self.n_interactions)])\n",
    "\n",
    "        self.output_layers = nn.Sequential([\n",
    "            nn.Dense(self.atom_embedding_dim, self.atom_wise_out),\n",
    "            self.activation(),\n",
    "            nn.Dense(self.atom_wise_out, 1)\n",
    "        ])\n",
    "\n",
    "    @partial(jax.vmap, in_axes = (None, 0, 0), out_axes = 0)\n",
    "    def __call__(self, Z, R):\n",
    "        print(Z.shape)\n",
    "        X = self.embedding(Z)\n",
    "        X_interacted = X\n",
    "        X_interacted = self.interactions(X_interacted, R)\n",
    "        atom_outputs = self.output_layers(X_interacted)\n",
    "        predicted_energies = jnp.sum(atom_outputs, axis = -1)\n",
    "        return predicted_energies"
   ]
  },
  {
   "cell_type": "code",
   "execution_count": 298,
   "metadata": {},
   "outputs": [
    {
     "name": "stdout",
     "output_type": "stream",
     "text": [
      "(3,)\n"
     ]
    },
    {
     "ename": "TypeError",
     "evalue": "iteration over a 0-d array",
     "output_type": "error",
     "traceback": [
      "\u001b[0;31m---------------------------------------------------------------------------\u001b[0m",
      "\u001b[0;31mTypeError\u001b[0m                                 Traceback (most recent call last)",
      "Cell \u001b[0;32mIn[298], line 5\u001b[0m\n\u001b[1;32m      3\u001b[0m R \u001b[38;5;241m=\u001b[39m batch[\u001b[38;5;124m\"\u001b[39m\u001b[38;5;124mpositions\u001b[39m\u001b[38;5;124m\"\u001b[39m]\n\u001b[1;32m      4\u001b[0m key1, key2 \u001b[38;5;241m=\u001b[39m random\u001b[38;5;241m.\u001b[39msplit(key1, \u001b[38;5;241m2\u001b[39m)\n\u001b[0;32m----> 5\u001b[0m params_sch \u001b[38;5;241m=\u001b[39m \u001b[43msch\u001b[49m\u001b[38;5;241;43m.\u001b[39;49m\u001b[43minit\u001b[49m\u001b[43m(\u001b[49m\u001b[43mkey2\u001b[49m\u001b[43m,\u001b[49m\u001b[43m \u001b[49m\u001b[43mZ\u001b[49m\u001b[43m,\u001b[49m\u001b[43m \u001b[49m\u001b[43mR\u001b[49m\u001b[43m)\u001b[49m\n\u001b[1;32m      6\u001b[0m energies \u001b[38;5;241m=\u001b[39m sch\u001b[38;5;241m.\u001b[39mapply(params_sch, Z, R)\n",
      "    \u001b[0;31m[... skipping hidden 12 frame]\u001b[0m\n",
      "Cell \u001b[0;32mIn[297], line 32\u001b[0m, in \u001b[0;36mSchNet.__call__\u001b[0;34m(self, Z, R)\u001b[0m\n\u001b[1;32m     29\u001b[0m \u001b[38;5;129m@partial\u001b[39m(jax\u001b[38;5;241m.\u001b[39mvmap, in_axes \u001b[38;5;241m=\u001b[39m (\u001b[38;5;28;01mNone\u001b[39;00m, \u001b[38;5;241m0\u001b[39m, \u001b[38;5;241m0\u001b[39m), out_axes \u001b[38;5;241m=\u001b[39m \u001b[38;5;241m0\u001b[39m)\n\u001b[1;32m     30\u001b[0m \u001b[38;5;28;01mdef\u001b[39;00m \u001b[38;5;21m__call__\u001b[39m(\u001b[38;5;28mself\u001b[39m, Z, R):\n\u001b[1;32m     31\u001b[0m     \u001b[38;5;28mprint\u001b[39m(Z\u001b[38;5;241m.\u001b[39mshape)\n\u001b[0;32m---> 32\u001b[0m     X \u001b[38;5;241m=\u001b[39m \u001b[38;5;28;43mself\u001b[39;49m\u001b[38;5;241;43m.\u001b[39;49m\u001b[43membedding\u001b[49m\u001b[43m(\u001b[49m\u001b[43mZ\u001b[49m\u001b[43m)\u001b[49m\n\u001b[1;32m     33\u001b[0m     X_interacted \u001b[38;5;241m=\u001b[39m X\n\u001b[1;32m     34\u001b[0m     X_interacted \u001b[38;5;241m=\u001b[39m \u001b[38;5;28mself\u001b[39m\u001b[38;5;241m.\u001b[39minteractions(X_interacted, R)\n",
      "    \u001b[0;31m[... skipping hidden 5 frame]\u001b[0m\n",
      "Cell \u001b[0;32mIn[131], line 13\u001b[0m, in \u001b[0;36mAtomEmbedding.__call__\u001b[0;34m(self, atom_types)\u001b[0m\n\u001b[1;32m     10\u001b[0m \u001b[38;5;129m@partial\u001b[39m(jax\u001b[38;5;241m.\u001b[39mvmap, in_axes \u001b[38;5;241m=\u001b[39m (\u001b[38;5;28;01mNone\u001b[39;00m, \u001b[38;5;241m0\u001b[39m), out_axes \u001b[38;5;241m=\u001b[39m \u001b[38;5;241m0\u001b[39m)\n\u001b[1;32m     11\u001b[0m \u001b[38;5;28;01mdef\u001b[39;00m \u001b[38;5;21m__call__\u001b[39m(\u001b[38;5;28mself\u001b[39m, atom_types):\n\u001b[1;32m     12\u001b[0m     ord_atom_types \u001b[38;5;241m=\u001b[39m jnp\u001b[38;5;241m.\u001b[39munique(atom_types, size\u001b[38;5;241m=\u001b[39m\u001b[38;5;28mself\u001b[39m\u001b[38;5;241m.\u001b[39mnum_atom_types)\n\u001b[0;32m---> 13\u001b[0m     mask \u001b[38;5;241m=\u001b[39m jnp\u001b[38;5;241m.\u001b[39masarray(\u001b[43m[\u001b[49m\u001b[43mjnp\u001b[49m\u001b[38;5;241;43m.\u001b[39;49m\u001b[43mwhere\u001b[49m\u001b[43m(\u001b[49m\u001b[43mord_atom_types\u001b[49m\u001b[38;5;241;43m==\u001b[39;49m\u001b[43melem\u001b[49m\u001b[43m,\u001b[49m\u001b[43m \u001b[49m\u001b[43msize\u001b[49m\u001b[38;5;241;43m=\u001b[39;49m\u001b[38;5;241;43m1\u001b[39;49m\u001b[43m)\u001b[49m\u001b[43m \u001b[49m\u001b[38;5;28;43;01mfor\u001b[39;49;00m\u001b[43m \u001b[49m\u001b[43melem\u001b[49m\u001b[43m \u001b[49m\u001b[38;5;129;43;01min\u001b[39;49;00m\u001b[43m \u001b[49m\u001b[43matom_types\u001b[49m\u001b[43m]\u001b[49m)\u001b[38;5;241m.\u001b[39msqueeze()\n\u001b[1;32m     14\u001b[0m     \u001b[38;5;28;01mreturn\u001b[39;00m jnp\u001b[38;5;241m.\u001b[39marray(\u001b[38;5;28mself\u001b[39m\u001b[38;5;241m.\u001b[39membedding(mask))\u001b[38;5;241m.\u001b[39msqueeze()\n",
      "    \u001b[0;31m[... skipping hidden 1 frame]\u001b[0m\n",
      "File \u001b[0;32m/opt/anaconda3/envs/jax+torch_env/lib/python3.12/site-packages/jax/_src/lax/lax.py:1956\u001b[0m, in \u001b[0;36m_iter\u001b[0;34m(tracer)\u001b[0m\n\u001b[1;32m   1954\u001b[0m \u001b[38;5;28;01mdef\u001b[39;00m \u001b[38;5;21m_iter\u001b[39m(tracer):\n\u001b[1;32m   1955\u001b[0m   \u001b[38;5;28;01mif\u001b[39;00m tracer\u001b[38;5;241m.\u001b[39mndim \u001b[38;5;241m==\u001b[39m \u001b[38;5;241m0\u001b[39m:\n\u001b[0;32m-> 1956\u001b[0m     \u001b[38;5;28;01mraise\u001b[39;00m \u001b[38;5;167;01mTypeError\u001b[39;00m(\u001b[38;5;124m\"\u001b[39m\u001b[38;5;124miteration over a 0-d array\u001b[39m\u001b[38;5;124m\"\u001b[39m)  \u001b[38;5;66;03m# same as numpy error\u001b[39;00m\n\u001b[1;32m   1957\u001b[0m   \u001b[38;5;28;01melse\u001b[39;00m:\n\u001b[1;32m   1958\u001b[0m     n \u001b[38;5;241m=\u001b[39m \u001b[38;5;28mint\u001b[39m(tracer\u001b[38;5;241m.\u001b[39mshape[\u001b[38;5;241m0\u001b[39m])\n",
      "\u001b[0;31mTypeError\u001b[0m: iteration over a 0-d array"
     ]
    }
   ],
   "source": [
    "sch = SchNet()\n",
    "Z = batch[\"atom_types\"]\n",
    "R = batch[\"positions\"]\n",
    "key1, key2 = random.split(key1, 2)\n",
    "params_sch = sch.init(key2, Z, R)\n",
    "energies = sch.apply(params_sch, Z, R)\n"
   ]
  },
  {
   "cell_type": "code",
   "execution_count": null,
   "metadata": {},
   "outputs": [],
   "source": [
    "class SchNet(nnx.Module):\n",
    "    def __init__(\n",
    "            self,\n",
    "            n_batch,\n",
    "            atom_embedding_dim=64,\n",
    "            n_interactions=3,\n",
    "            n_atom_types=3,\n",
    "            rbf_min=0.,\n",
    "            rbf_max=30.,\n",
    "            n_rbf=300,\n",
    "            rngs: nnx.Rngs = nnx.Rngs(0),\n",
    "            activation: nnx.Module = ssp_layer\n",
    "    ):\n",
    "        super().__init__()\n",
    "        self.n_atom_types = n_atom_types\n",
    "        self.embedding = AtomEmbedding(n_atom_types, atom_embedding_dim, rngs=rngs, n_batch=n_batch)\n",
    "\n",
    "        self.interactions = [\n",
    "            InteractionBlock(\n",
    "                atom_embedding_dim, rbf_min, rbf_max, n_rbf, rngs, activation\n",
    "            )\n",
    "            for _ in range(n_interactions)\n",
    "        ]\n",
    "\n",
    "        self.output_layers = nnx.Sequential(\n",
    "            nnx.Linear(atom_embedding_dim, 32, rngs=rngs),\n",
    "            activation(),\n",
    "            nnx.Linear(32, 1, rngs=rngs)\n",
    "        )\n",
    "\n",
    "        self.distances = R_distances()\n",
    "\n",
    "    def __call__(self, batch):\n",
    "        Z = batch[0]\n",
    "        R = batch[1]\n",
    "        R_distances = self.distances(R)\n",
    "        X = self.embedding(Z)\n",
    "        X_interacted = X\n",
    "        for _, interaction in enumerate(self.interactions):\n",
    "            X_interacted = interaction(X_interacted, R_distances)\n",
    "\n",
    "        atom_outputs = self.output_layers(X_interacted)\n",
    "        predicted_energies = jnp.sum(atom_outputs, axis=1)\n",
    "        return predicted_energies\n"
   ]
  },
  {
   "cell_type": "code",
   "execution_count": 284,
   "metadata": {},
   "outputs": [
    {
     "data": {
      "text/plain": [
       "(5, 3)"
      ]
     },
     "execution_count": 284,
     "metadata": {},
     "output_type": "execute_result"
    }
   ],
   "source": [
    "X.shape"
   ]
  },
  {
   "cell_type": "code",
   "execution_count": null,
   "metadata": {},
   "outputs": [],
   "source": []
  },
  {
   "cell_type": "code",
   "execution_count": null,
   "metadata": {},
   "outputs": [],
   "source": [
    "class InteractionBlock(nnx.Module):\n",
    "\n",
    "    def __init__(\n",
    "            self,\n",
    "            atom_embeddings_dim,\n",
    "            rbf_min,\n",
    "            rbf_max,\n",
    "            n_rbf,\n",
    "            rngs: nnx.Rngs,\n",
    "            activation=ssp_layer,\n",
    "    ):\n",
    "        super().__init__()\n",
    "        self.in_atom_wise = nnx.Linear(\n",
    "            atom_embeddings_dim,\n",
    "            atom_embeddings_dim,\n",
    "            rngs=rngs\n",
    "        )\n",
    "        \n",
    "        self.cf_conv = CfConv(\n",
    "            atom_embeddings_dim,\n",
    "            rbf_min,\n",
    "            rbf_max,\n",
    "            n_rbf,\n",
    "            rngs=rngs,\n",
    "            activation=activation\n",
    "        )\n",
    "\n",
    "        self.out_atom_wise = nnx.Sequential(\n",
    "            nnx.Linear(atom_embeddings_dim, atom_embeddings_dim, rngs=rngs),\n",
    "            activation(),\n",
    "            nnx.Linear(atom_embeddings_dim, atom_embeddings_dim, rngs=rngs)\n",
    "        )\n",
    "\n",
    "    def __call__(self, X, R_distances):\n",
    "        X_in = self.in_atom_wise(X)\n",
    "        X_conv = self.cf_conv(X_in, R_distances)\n",
    "        V = self.out_atom_wise(X_conv)\n",
    "        return X + V\n"
   ]
  },
  {
   "cell_type": "code",
   "execution_count": 205,
   "metadata": {},
   "outputs": [],
   "source": [
    "sample_y = y[0]\n",
    "sample_fil = filters[0]"
   ]
  },
  {
   "cell_type": "code",
   "execution_count": 207,
   "metadata": {},
   "outputs": [
    {
     "name": "stdout",
     "output_type": "stream",
     "text": [
      "(3, 2) (3, 3, 2)\n"
     ]
    }
   ],
   "source": [
    "print(sample_y.shape, sample_fil.shape)"
   ]
  },
  {
   "cell_type": "code",
   "execution_count": 218,
   "metadata": {},
   "outputs": [
    {
     "name": "stdout",
     "output_type": "stream",
     "text": [
      "[[0.5235133  0.39598924]\n",
      " [1.3146187  0.842151  ]\n",
      " [1.3146187  0.842151  ]]\n",
      "----\n",
      "[[[-0.04081513 -0.04983531]\n",
      "  [ 0.          0.        ]\n",
      "  [ 0.          0.        ]]\n",
      "\n",
      " [[ 0.          0.        ]\n",
      "  [-0.04081513 -0.04983531]\n",
      "  [ 0.00211587  0.00583054]]\n",
      "\n",
      " [[ 0.          0.        ]\n",
      "  [ 0.00211587  0.00583054]\n",
      "  [-0.04081513 -0.04983531]]]\n"
     ]
    }
   ],
   "source": [
    "print(sample_y)\n",
    "print(\"----\")\n",
    "print(sample_fil)"
   ]
  },
  {
   "cell_type": "code",
   "execution_count": 223,
   "metadata": {},
   "outputs": [
    {
     "data": {
      "text/plain": [
       "-0.05365629370237"
      ]
     },
     "execution_count": 223,
     "metadata": {},
     "output_type": "execute_result"
    }
   ],
   "source": [
    "-0.0408151 * 1.3146187"
   ]
  },
  {
   "cell_type": "code",
   "execution_count": 225,
   "metadata": {},
   "outputs": [
    {
     "data": {
      "text/plain": [
       "Array([[[-0.02136726, -0.01973425],\n",
       "        [ 0.        ,  0.        ],\n",
       "        [ 0.        ,  0.        ]],\n",
       "\n",
       "       [[ 0.        ,  0.        ],\n",
       "        [-0.05365633, -0.04196886],\n",
       "        [ 0.00278156,  0.0049102 ]],\n",
       "\n",
       "       [[ 0.        ,  0.        ],\n",
       "        [ 0.00278156,  0.0049102 ],\n",
       "        [-0.05365633, -0.04196886]]], dtype=float32)"
      ]
     },
     "execution_count": 225,
     "metadata": {},
     "output_type": "execute_result"
    }
   ],
   "source": [
    "xd = (sample_fil * sample_y);xd"
   ]
  },
  {
   "cell_type": "code",
   "execution_count": 234,
   "metadata": {},
   "outputs": [],
   "source": [
    "ones = jnp.ones(shape=xd.shape)"
   ]
  },
  {
   "cell_type": "code",
   "execution_count": null,
   "metadata": {},
   "outputs": [
    {
     "data": {
      "text/plain": [
       "Array([[[0., 0.],\n",
       "        [1., 1.],\n",
       "        [1., 1.]],\n",
       "\n",
       "       [[1., 1.],\n",
       "        [1., 1.],\n",
       "        [1., 1.]],\n",
       "\n",
       "       [[1., 1.],\n",
       "        [1., 1.],\n",
       "        [1., 1.]]], dtype=float32)"
      ]
     },
     "execution_count": 237,
     "metadata": {},
     "output_type": "execute_result"
    }
   ],
   "source": [
    "ones.at[i,i].set([0.,0.]) for i in range(len(ones))"
   ]
  },
  {
   "cell_type": "code",
   "execution_count": 240,
   "metadata": {},
   "outputs": [],
   "source": [
    "for i in range(len(ones)):\n",
    "    ones = ones.at[i,i].set([0.,0.])"
   ]
  },
  {
   "cell_type": "code",
   "execution_count": 250,
   "metadata": {},
   "outputs": [],
   "source": [
    "ones = jnp.ones(shape=xd.shape)"
   ]
  },
  {
   "cell_type": "code",
   "execution_count": null,
   "metadata": {},
   "outputs": [],
   "source": [
    "def func(i, val):\n",
    "    "
   ]
  },
  {
   "cell_type": "code",
   "execution_count": 258,
   "metadata": {},
   "outputs": [],
   "source": [
    "f = lambda i, ones_i: ones_i.at[i,i].set([0., 0.])"
   ]
  },
  {
   "cell_type": "code",
   "execution_count": 256,
   "metadata": {},
   "outputs": [],
   "source": [
    "x = lambda a,b : a*b"
   ]
  },
  {
   "cell_type": "code",
   "execution_count": 257,
   "metadata": {},
   "outputs": [
    {
     "data": {
      "text/plain": [
       "2"
      ]
     },
     "execution_count": 257,
     "metadata": {},
     "output_type": "execute_result"
    }
   ],
   "source": [
    "x(1,2)"
   ]
  },
  {
   "cell_type": "code",
   "execution_count": 259,
   "metadata": {},
   "outputs": [
    {
     "data": {
      "text/plain": [
       "Array([[[0., 0.],\n",
       "        [1., 1.],\n",
       "        [1., 1.]],\n",
       "\n",
       "       [[1., 1.],\n",
       "        [1., 1.],\n",
       "        [1., 1.]],\n",
       "\n",
       "       [[1., 1.],\n",
       "        [1., 1.],\n",
       "        [1., 1.]]], dtype=float32)"
      ]
     },
     "execution_count": 259,
     "metadata": {},
     "output_type": "execute_result"
    }
   ],
   "source": [
    "f(0,ones)"
   ]
  },
  {
   "cell_type": "code",
   "execution_count": 262,
   "metadata": {},
   "outputs": [
    {
     "data": {
      "text/plain": [
       "Array([[[0., 0.],\n",
       "        [1., 1.],\n",
       "        [1., 1.]],\n",
       "\n",
       "       [[1., 1.],\n",
       "        [0., 0.],\n",
       "        [1., 1.]],\n",
       "\n",
       "       [[1., 1.],\n",
       "        [1., 1.],\n",
       "        [0., 0.]]], dtype=float32)"
      ]
     },
     "execution_count": 262,
     "metadata": {},
     "output_type": "execute_result"
    }
   ],
   "source": [
    "jax.lax.fori_loop(0, len(ones), lambda i, ones_i: ones_i.at[i,i].set(jnp.zeros(shape=ones_i[i,i].shape)), ones)"
   ]
  },
  {
   "cell_type": "code",
   "execution_count": 241,
   "metadata": {},
   "outputs": [
    {
     "data": {
      "text/plain": [
       "Array([[[0., 0.],\n",
       "        [1., 1.],\n",
       "        [1., 1.]],\n",
       "\n",
       "       [[1., 1.],\n",
       "        [0., 0.],\n",
       "        [1., 1.]],\n",
       "\n",
       "       [[1., 1.],\n",
       "        [1., 1.],\n",
       "        [0., 0.]]], dtype=float32)"
      ]
     },
     "execution_count": 241,
     "metadata": {},
     "output_type": "execute_result"
    }
   ],
   "source": [
    "ones"
   ]
  },
  {
   "cell_type": "code",
   "execution_count": 243,
   "metadata": {},
   "outputs": [
    {
     "data": {
      "text/plain": [
       "Array([[[-0.02136726, -0.01973425],\n",
       "        [ 0.        ,  0.        ],\n",
       "        [ 0.        ,  0.        ]],\n",
       "\n",
       "       [[ 0.        ,  0.        ],\n",
       "        [-0.05365633, -0.04196886],\n",
       "        [ 0.00278156,  0.0049102 ]],\n",
       "\n",
       "       [[ 0.        ,  0.        ],\n",
       "        [ 0.00278156,  0.0049102 ],\n",
       "        [-0.05365633, -0.04196886]]], dtype=float32)"
      ]
     },
     "execution_count": 243,
     "metadata": {},
     "output_type": "execute_result"
    }
   ],
   "source": [
    "xd"
   ]
  },
  {
   "cell_type": "code",
   "execution_count": 245,
   "metadata": {},
   "outputs": [
    {
     "data": {
      "text/plain": [
       "Array([[0.        , 0.        ],\n",
       "       [0.00278156, 0.0049102 ],\n",
       "       [0.00278156, 0.0049102 ]], dtype=float32)"
      ]
     },
     "execution_count": 245,
     "metadata": {},
     "output_type": "execute_result"
    }
   ],
   "source": [
    "xdd = jnp.sum(xd, axis = 0, where = ones); xdd"
   ]
  },
  {
   "cell_type": "code",
   "execution_count": 248,
   "metadata": {},
   "outputs": [
    {
     "data": {
      "text/plain": [
       "Array([[[-0.02136726, -0.01973425],\n",
       "        [ 0.        ,  0.        ],\n",
       "        [ 0.        ,  0.        ]],\n",
       "\n",
       "       [[ 0.        ,  0.        ],\n",
       "        [-0.05365633, -0.04196886],\n",
       "        [ 0.00278156,  0.0049102 ]],\n",
       "\n",
       "       [[ 0.        ,  0.        ],\n",
       "        [ 0.00278156,  0.0049102 ],\n",
       "        [-0.05365633, -0.04196886]]], dtype=float32)"
      ]
     },
     "execution_count": 248,
     "metadata": {},
     "output_type": "execute_result"
    }
   ],
   "source": [
    "xd"
   ]
  },
  {
   "cell_type": "code",
   "execution_count": 247,
   "metadata": {},
   "outputs": [
    {
     "data": {
      "text/plain": [
       "Array([[[-0.02136726, -0.01973425],\n",
       "        [ 0.        ,  0.        ],\n",
       "        [ 0.        ,  0.        ]],\n",
       "\n",
       "       [[ 0.        ,  0.        ],\n",
       "        [-0.05365633, -0.04196886],\n",
       "        [ 0.00278156,  0.0049102 ]],\n",
       "\n",
       "       [[ 0.        ,  0.        ],\n",
       "        [ 0.00278156,  0.0049102 ],\n",
       "        [-0.05365633, -0.04196886]]], dtype=float32)"
      ]
     },
     "execution_count": 247,
     "metadata": {},
     "output_type": "execute_result"
    }
   ],
   "source": [
    "xd"
   ]
  },
  {
   "cell_type": "code",
   "execution_count": 249,
   "metadata": {},
   "outputs": [
    {
     "data": {
      "text/plain": [
       "Array([[0.5235133 , 0.39598924],\n",
       "       [1.3174002 , 0.84706116],\n",
       "       [1.3174002 , 0.84706116]], dtype=float32)"
      ]
     },
     "execution_count": 249,
     "metadata": {},
     "output_type": "execute_result"
    }
   ],
   "source": [
    "sample_y + xdd"
   ]
  },
  {
   "cell_type": "code",
   "execution_count": 231,
   "metadata": {},
   "outputs": [
    {
     "ename": "ValueError",
     "evalue": "All dimensions of input must be of equal length",
     "output_type": "error",
     "traceback": [
      "\u001b[0;31m---------------------------------------------------------------------------\u001b[0m",
      "\u001b[0;31mValueError\u001b[0m                                Traceback (most recent call last)",
      "\u001b[0;32m/var/folders/ns/x0vvs1s15bb4wkzknj03y9k40000gn/T/ipykernel_28077/1355465484.py\u001b[0m in \u001b[0;36m?\u001b[0;34m()\u001b[0m\n\u001b[0;32m----> 1\u001b[0;31m \u001b[0mjnp\u001b[0m\u001b[0;34m.\u001b[0m\u001b[0mfill_diagonal\u001b[0m\u001b[0;34m(\u001b[0m\u001b[0mxd\u001b[0m\u001b[0;34m,\u001b[0m \u001b[0;36m0\u001b[0m\u001b[0;34m,\u001b[0m \u001b[0minplace\u001b[0m\u001b[0;34m=\u001b[0m\u001b[0;32mFalse\u001b[0m\u001b[0;34m)\u001b[0m\u001b[0;34m\u001b[0m\u001b[0;34m\u001b[0m\u001b[0m\n\u001b[0m",
      "\u001b[0;32m/opt/anaconda3/envs/jax+torch_env/lib/python3.12/site-packages/jax/_src/numpy/lax_numpy.py\u001b[0m in \u001b[0;36m?\u001b[0;34m(a, val, wrap, inplace)\u001b[0m\n\u001b[1;32m   7919\u001b[0m   \u001b[0mval\u001b[0m \u001b[0;34m=\u001b[0m \u001b[0masarray\u001b[0m\u001b[0;34m(\u001b[0m\u001b[0mval\u001b[0m\u001b[0;34m)\u001b[0m\u001b[0;34m\u001b[0m\u001b[0;34m\u001b[0m\u001b[0m\n\u001b[1;32m   7920\u001b[0m   \u001b[0;32mif\u001b[0m \u001b[0ma\u001b[0m\u001b[0;34m.\u001b[0m\u001b[0mndim\u001b[0m \u001b[0;34m<\u001b[0m \u001b[0;36m2\u001b[0m\u001b[0;34m:\u001b[0m\u001b[0;34m\u001b[0m\u001b[0;34m\u001b[0m\u001b[0m\n\u001b[1;32m   7921\u001b[0m     \u001b[0;32mraise\u001b[0m \u001b[0mValueError\u001b[0m\u001b[0;34m(\u001b[0m\u001b[0;34m\"array must be at least 2-d\"\u001b[0m\u001b[0;34m)\u001b[0m\u001b[0;34m\u001b[0m\u001b[0;34m\u001b[0m\u001b[0m\n\u001b[1;32m   7922\u001b[0m   \u001b[0;32mif\u001b[0m \u001b[0ma\u001b[0m\u001b[0;34m.\u001b[0m\u001b[0mndim\u001b[0m \u001b[0;34m>\u001b[0m \u001b[0;36m2\u001b[0m \u001b[0;32mand\u001b[0m \u001b[0;32mnot\u001b[0m \u001b[0mall\u001b[0m\u001b[0;34m(\u001b[0m\u001b[0mn\u001b[0m \u001b[0;34m==\u001b[0m \u001b[0ma\u001b[0m\u001b[0;34m.\u001b[0m\u001b[0mshape\u001b[0m\u001b[0;34m[\u001b[0m\u001b[0;36m0\u001b[0m\u001b[0;34m]\u001b[0m \u001b[0;32mfor\u001b[0m \u001b[0mn\u001b[0m \u001b[0;32min\u001b[0m \u001b[0ma\u001b[0m\u001b[0;34m.\u001b[0m\u001b[0mshape\u001b[0m\u001b[0;34m[\u001b[0m\u001b[0;36m1\u001b[0m\u001b[0;34m:\u001b[0m\u001b[0;34m]\u001b[0m\u001b[0;34m)\u001b[0m\u001b[0;34m:\u001b[0m\u001b[0;34m\u001b[0m\u001b[0;34m\u001b[0m\u001b[0m\n\u001b[0;32m-> 7923\u001b[0;31m     \u001b[0;32mraise\u001b[0m \u001b[0mValueError\u001b[0m\u001b[0;34m(\u001b[0m\u001b[0;34m\"All dimensions of input must be of equal length\"\u001b[0m\u001b[0;34m)\u001b[0m\u001b[0;34m\u001b[0m\u001b[0;34m\u001b[0m\u001b[0m\n\u001b[0m\u001b[1;32m   7924\u001b[0m   \u001b[0mn\u001b[0m \u001b[0;34m=\u001b[0m \u001b[0mmin\u001b[0m\u001b[0;34m(\u001b[0m\u001b[0ma\u001b[0m\u001b[0;34m.\u001b[0m\u001b[0mshape\u001b[0m\u001b[0;34m)\u001b[0m\u001b[0;34m\u001b[0m\u001b[0;34m\u001b[0m\u001b[0m\n\u001b[1;32m   7925\u001b[0m   \u001b[0midx\u001b[0m \u001b[0;34m=\u001b[0m \u001b[0mdiag_indices\u001b[0m\u001b[0;34m(\u001b[0m\u001b[0mn\u001b[0m\u001b[0;34m,\u001b[0m \u001b[0ma\u001b[0m\u001b[0;34m.\u001b[0m\u001b[0mndim\u001b[0m\u001b[0;34m)\u001b[0m\u001b[0;34m\u001b[0m\u001b[0;34m\u001b[0m\u001b[0m\n\u001b[1;32m   7926\u001b[0m   \u001b[0;32mreturn\u001b[0m \u001b[0ma\u001b[0m\u001b[0;34m.\u001b[0m\u001b[0mat\u001b[0m\u001b[0;34m[\u001b[0m\u001b[0midx\u001b[0m\u001b[0;34m]\u001b[0m\u001b[0;34m.\u001b[0m\u001b[0mset\u001b[0m\u001b[0;34m(\u001b[0m\u001b[0mval\u001b[0m \u001b[0;32mif\u001b[0m \u001b[0mval\u001b[0m\u001b[0;34m.\u001b[0m\u001b[0mndim\u001b[0m \u001b[0;34m==\u001b[0m \u001b[0;36m0\u001b[0m \u001b[0;32melse\u001b[0m \u001b[0m_tile_to_size\u001b[0m\u001b[0;34m(\u001b[0m\u001b[0mval\u001b[0m\u001b[0;34m.\u001b[0m\u001b[0mravel\u001b[0m\u001b[0;34m(\u001b[0m\u001b[0;34m)\u001b[0m\u001b[0;34m,\u001b[0m \u001b[0mn\u001b[0m\u001b[0;34m)\u001b[0m\u001b[0;34m)\u001b[0m\u001b[0;34m\u001b[0m\u001b[0;34m\u001b[0m\u001b[0m\n",
      "\u001b[0;31mValueError\u001b[0m: All dimensions of input must be of equal length"
     ]
    }
   ],
   "source": [
    "jnp.fill_diagonal(xd, 0, inplace=False)"
   ]
  },
  {
   "cell_type": "code",
   "execution_count": 208,
   "metadata": {},
   "outputs": [
    {
     "data": {
      "text/plain": [
       "Array([[[-0.04081513, -0.04983531],\n",
       "        [ 0.        ,  0.        ],\n",
       "        [ 0.        ,  0.        ]],\n",
       "\n",
       "       [[ 0.        ,  0.        ],\n",
       "        [-0.04081513, -0.04983531],\n",
       "        [ 0.00211587,  0.00583054]],\n",
       "\n",
       "       [[ 0.        ,  0.        ],\n",
       "        [ 0.00211587,  0.00583054],\n",
       "        [-0.04081513, -0.04983531]]], dtype=float32)"
      ]
     },
     "execution_count": 208,
     "metadata": {},
     "output_type": "execute_result"
    }
   ],
   "source": [
    "sample_fil"
   ]
  },
  {
   "cell_type": "code",
   "execution_count": 214,
   "metadata": {},
   "outputs": [
    {
     "ename": "ValueError",
     "evalue": "Incompatible shapes for broadcasting: shapes=[(3, 3), (3, 3, 2)]",
     "output_type": "error",
     "traceback": [
      "\u001b[0;31m---------------------------------------------------------------------------\u001b[0m",
      "\u001b[0;31mValueError\u001b[0m                                Traceback (most recent call last)",
      "    \u001b[0;31m[... skipping hidden 1 frame]\u001b[0m\n",
      "File \u001b[0;32m/opt/anaconda3/envs/jax+torch_env/lib/python3.12/site-packages/jax/_src/util.py:302\u001b[0m, in \u001b[0;36mcache.<locals>.wrap.<locals>.wrapper\u001b[0;34m(*args, **kwargs)\u001b[0m\n\u001b[1;32m    301\u001b[0m   \u001b[38;5;28;01mreturn\u001b[39;00m f(\u001b[38;5;241m*\u001b[39margs, \u001b[38;5;241m*\u001b[39m\u001b[38;5;241m*\u001b[39mkwargs)\n\u001b[0;32m--> 302\u001b[0m \u001b[38;5;28;01mreturn\u001b[39;00m \u001b[43mcached\u001b[49m\u001b[43m(\u001b[49m\u001b[43mconfig\u001b[49m\u001b[38;5;241;43m.\u001b[39;49m\u001b[43mtrace_context\u001b[49m\u001b[43m(\u001b[49m\u001b[43m)\u001b[49m\u001b[43m \u001b[49m\u001b[38;5;28;43;01mif\u001b[39;49;00m\u001b[43m \u001b[49m\u001b[43mtrace_context_in_key\u001b[49m\u001b[43m \u001b[49m\u001b[38;5;28;43;01melse\u001b[39;49;00m\u001b[43m \u001b[49m\u001b[43m_ignore\u001b[49m\u001b[43m(\u001b[49m\u001b[43m)\u001b[49m\u001b[43m,\u001b[49m\n\u001b[1;32m    303\u001b[0m \u001b[43m              \u001b[49m\u001b[38;5;241;43m*\u001b[39;49m\u001b[43margs\u001b[49m\u001b[43m,\u001b[49m\u001b[43m \u001b[49m\u001b[38;5;241;43m*\u001b[39;49m\u001b[38;5;241;43m*\u001b[39;49m\u001b[43mkwargs\u001b[49m\u001b[43m)\u001b[49m\n",
      "File \u001b[0;32m/opt/anaconda3/envs/jax+torch_env/lib/python3.12/site-packages/jax/_src/util.py:296\u001b[0m, in \u001b[0;36mcache.<locals>.wrap.<locals>.cached\u001b[0;34m(_, *args, **kwargs)\u001b[0m\n\u001b[1;32m    294\u001b[0m \u001b[38;5;129m@functools\u001b[39m\u001b[38;5;241m.\u001b[39mlru_cache(max_size)\n\u001b[1;32m    295\u001b[0m \u001b[38;5;28;01mdef\u001b[39;00m \u001b[38;5;21mcached\u001b[39m(_, \u001b[38;5;241m*\u001b[39margs, \u001b[38;5;241m*\u001b[39m\u001b[38;5;241m*\u001b[39mkwargs):\n\u001b[0;32m--> 296\u001b[0m   \u001b[38;5;28;01mreturn\u001b[39;00m \u001b[43mf\u001b[49m\u001b[43m(\u001b[49m\u001b[38;5;241;43m*\u001b[39;49m\u001b[43margs\u001b[49m\u001b[43m,\u001b[49m\u001b[43m \u001b[49m\u001b[38;5;241;43m*\u001b[39;49m\u001b[38;5;241;43m*\u001b[39;49m\u001b[43mkwargs\u001b[49m\u001b[43m)\u001b[49m\n",
      "File \u001b[0;32m/opt/anaconda3/envs/jax+torch_env/lib/python3.12/site-packages/jax/_src/lax/lax.py:155\u001b[0m, in \u001b[0;36m_broadcast_shapes_cached\u001b[0;34m(*shapes)\u001b[0m\n\u001b[1;32m    153\u001b[0m \u001b[38;5;129m@cache\u001b[39m()\n\u001b[1;32m    154\u001b[0m \u001b[38;5;28;01mdef\u001b[39;00m \u001b[38;5;21m_broadcast_shapes_cached\u001b[39m(\u001b[38;5;241m*\u001b[39mshapes: \u001b[38;5;28mtuple\u001b[39m[\u001b[38;5;28mint\u001b[39m, \u001b[38;5;241m.\u001b[39m\u001b[38;5;241m.\u001b[39m\u001b[38;5;241m.\u001b[39m]) \u001b[38;5;241m-\u001b[39m\u001b[38;5;241m>\u001b[39m \u001b[38;5;28mtuple\u001b[39m[\u001b[38;5;28mint\u001b[39m, \u001b[38;5;241m.\u001b[39m\u001b[38;5;241m.\u001b[39m\u001b[38;5;241m.\u001b[39m]:\n\u001b[0;32m--> 155\u001b[0m   \u001b[38;5;28;01mreturn\u001b[39;00m \u001b[43m_broadcast_shapes_uncached\u001b[49m\u001b[43m(\u001b[49m\u001b[38;5;241;43m*\u001b[39;49m\u001b[43mshapes\u001b[49m\u001b[43m)\u001b[49m\n",
      "File \u001b[0;32m/opt/anaconda3/envs/jax+torch_env/lib/python3.12/site-packages/jax/_src/lax/lax.py:171\u001b[0m, in \u001b[0;36m_broadcast_shapes_uncached\u001b[0;34m(*shapes)\u001b[0m\n\u001b[1;32m    170\u001b[0m \u001b[38;5;28;01mif\u001b[39;00m result_shape \u001b[38;5;129;01mis\u001b[39;00m \u001b[38;5;28;01mNone\u001b[39;00m:\n\u001b[0;32m--> 171\u001b[0m   \u001b[38;5;28;01mraise\u001b[39;00m \u001b[38;5;167;01mValueError\u001b[39;00m(\u001b[38;5;124mf\u001b[39m\u001b[38;5;124m\"\u001b[39m\u001b[38;5;124mIncompatible shapes for broadcasting: shapes=\u001b[39m\u001b[38;5;132;01m{\u001b[39;00m\u001b[38;5;28mlist\u001b[39m(shapes)\u001b[38;5;132;01m}\u001b[39;00m\u001b[38;5;124m\"\u001b[39m)\n\u001b[1;32m    172\u001b[0m \u001b[38;5;28;01mreturn\u001b[39;00m result_shape\n",
      "\u001b[0;31mValueError\u001b[0m: Incompatible shapes for broadcasting: shapes=[(3, 3), (3, 3, 2)]",
      "\nDuring handling of the above exception, another exception occurred:\n",
      "\u001b[0;31mValueError\u001b[0m                                Traceback (most recent call last)",
      "Cell \u001b[0;32mIn[214], line 1\u001b[0m\n\u001b[0;32m----> 1\u001b[0m \u001b[43mjnp\u001b[49m\u001b[38;5;241;43m.\u001b[39;49m\u001b[43mtri\u001b[49m\u001b[43m(\u001b[49m\u001b[38;5;241;43m3\u001b[39;49m\u001b[43m,\u001b[49m\u001b[43m \u001b[49m\u001b[43mk\u001b[49m\u001b[38;5;241;43m=\u001b[39;49m\u001b[38;5;241;43m-\u001b[39;49m\u001b[38;5;241;43m1\u001b[39;49m\u001b[43m)\u001b[49m\u001b[38;5;241;43m*\u001b[39;49m\u001b[43msample_fil\u001b[49m\n",
      "File \u001b[0;32m/opt/anaconda3/envs/jax+torch_env/lib/python3.12/site-packages/jax/_src/numpy/array_methods.py:573\u001b[0m, in \u001b[0;36m_defer_to_unrecognized_arg.<locals>.deferring_binary_op\u001b[0;34m(self, other)\u001b[0m\n\u001b[1;32m    571\u001b[0m args \u001b[38;5;241m=\u001b[39m (other, \u001b[38;5;28mself\u001b[39m) \u001b[38;5;28;01mif\u001b[39;00m swap \u001b[38;5;28;01melse\u001b[39;00m (\u001b[38;5;28mself\u001b[39m, other)\n\u001b[1;32m    572\u001b[0m \u001b[38;5;28;01mif\u001b[39;00m \u001b[38;5;28misinstance\u001b[39m(other, _accepted_binop_types):\n\u001b[0;32m--> 573\u001b[0m   \u001b[38;5;28;01mreturn\u001b[39;00m \u001b[43mbinary_op\u001b[49m\u001b[43m(\u001b[49m\u001b[38;5;241;43m*\u001b[39;49m\u001b[43margs\u001b[49m\u001b[43m)\u001b[49m\n\u001b[1;32m    574\u001b[0m \u001b[38;5;66;03m# Note: don't use isinstance here, because we don't want to raise for\u001b[39;00m\n\u001b[1;32m    575\u001b[0m \u001b[38;5;66;03m# subclasses, e.g. NamedTuple objects that may override operators.\u001b[39;00m\n\u001b[1;32m    576\u001b[0m \u001b[38;5;28;01mif\u001b[39;00m \u001b[38;5;28mtype\u001b[39m(other) \u001b[38;5;129;01min\u001b[39;00m _rejected_binop_types:\n",
      "File \u001b[0;32m/opt/anaconda3/envs/jax+torch_env/lib/python3.12/site-packages/jax/_src/numpy/ufunc_api.py:177\u001b[0m, in \u001b[0;36mufunc.__call__\u001b[0;34m(self, out, where, *args)\u001b[0m\n\u001b[1;32m    175\u001b[0m   \u001b[38;5;28;01mraise\u001b[39;00m \u001b[38;5;167;01mNotImplementedError\u001b[39;00m(\u001b[38;5;124mf\u001b[39m\u001b[38;5;124m\"\u001b[39m\u001b[38;5;124mwhere argument of \u001b[39m\u001b[38;5;132;01m{\u001b[39;00m\u001b[38;5;28mself\u001b[39m\u001b[38;5;132;01m}\u001b[39;00m\u001b[38;5;124m\"\u001b[39m)\n\u001b[1;32m    176\u001b[0m call \u001b[38;5;241m=\u001b[39m \u001b[38;5;28mself\u001b[39m\u001b[38;5;241m.\u001b[39m__static_props[\u001b[38;5;124m'\u001b[39m\u001b[38;5;124mcall\u001b[39m\u001b[38;5;124m'\u001b[39m] \u001b[38;5;129;01mor\u001b[39;00m \u001b[38;5;28mself\u001b[39m\u001b[38;5;241m.\u001b[39m_call_vectorized\n\u001b[0;32m--> 177\u001b[0m \u001b[38;5;28;01mreturn\u001b[39;00m \u001b[43mcall\u001b[49m\u001b[43m(\u001b[49m\u001b[38;5;241;43m*\u001b[39;49m\u001b[43margs\u001b[49m\u001b[43m)\u001b[49m\n",
      "    \u001b[0;31m[... skipping hidden 11 frame]\u001b[0m\n",
      "File \u001b[0;32m/opt/anaconda3/envs/jax+torch_env/lib/python3.12/site-packages/jax/_src/numpy/ufuncs.py:1186\u001b[0m, in \u001b[0;36m_multiply\u001b[0;34m(x, y)\u001b[0m\n\u001b[1;32m   1159\u001b[0m \u001b[38;5;129m@partial\u001b[39m(jit, inline\u001b[38;5;241m=\u001b[39m\u001b[38;5;28;01mTrue\u001b[39;00m)\n\u001b[1;32m   1160\u001b[0m \u001b[38;5;28;01mdef\u001b[39;00m \u001b[38;5;21m_multiply\u001b[39m(x: ArrayLike, y: ArrayLike, \u001b[38;5;241m/\u001b[39m) \u001b[38;5;241m-\u001b[39m\u001b[38;5;241m>\u001b[39m Array:\n\u001b[1;32m   1161\u001b[0m \u001b[38;5;250m  \u001b[39m\u001b[38;5;124;03m\"\"\"Multiply two arrays element-wise.\u001b[39;00m\n\u001b[1;32m   1162\u001b[0m \n\u001b[1;32m   1163\u001b[0m \u001b[38;5;124;03m  JAX implementation of :obj:`numpy.multiply`. This is a universal function,\u001b[39;00m\n\u001b[0;32m   (...)\u001b[0m\n\u001b[1;32m   1184\u001b[0m \u001b[38;5;124;03m    Array([ 0, 10, 20, 30], dtype=int32)\u001b[39;00m\n\u001b[1;32m   1185\u001b[0m \u001b[38;5;124;03m  \"\"\"\u001b[39;00m\n\u001b[0;32m-> 1186\u001b[0m   x, y \u001b[38;5;241m=\u001b[39m \u001b[43mpromote_args\u001b[49m\u001b[43m(\u001b[49m\u001b[38;5;124;43m\"\u001b[39;49m\u001b[38;5;124;43mmultiply\u001b[39;49m\u001b[38;5;124;43m\"\u001b[39;49m\u001b[43m,\u001b[49m\u001b[43m \u001b[49m\u001b[43mx\u001b[49m\u001b[43m,\u001b[49m\u001b[43m \u001b[49m\u001b[43my\u001b[49m\u001b[43m)\u001b[49m\n\u001b[1;32m   1187\u001b[0m   \u001b[38;5;28;01mreturn\u001b[39;00m lax\u001b[38;5;241m.\u001b[39mmul(x, y) \u001b[38;5;28;01mif\u001b[39;00m x\u001b[38;5;241m.\u001b[39mdtype \u001b[38;5;241m!=\u001b[39m \u001b[38;5;28mbool\u001b[39m \u001b[38;5;28;01melse\u001b[39;00m lax\u001b[38;5;241m.\u001b[39mbitwise_and(x, y)\n",
      "File \u001b[0;32m/opt/anaconda3/envs/jax+torch_env/lib/python3.12/site-packages/jax/_src/numpy/util.py:362\u001b[0m, in \u001b[0;36mpromote_args\u001b[0;34m(fun_name, *args)\u001b[0m\n\u001b[1;32m    360\u001b[0m _check_no_float0s(fun_name, \u001b[38;5;241m*\u001b[39margs)\n\u001b[1;32m    361\u001b[0m check_for_prngkeys(fun_name, \u001b[38;5;241m*\u001b[39margs)\n\u001b[0;32m--> 362\u001b[0m \u001b[38;5;28;01mreturn\u001b[39;00m \u001b[43mpromote_shapes\u001b[49m\u001b[43m(\u001b[49m\u001b[43mfun_name\u001b[49m\u001b[43m,\u001b[49m\u001b[43m \u001b[49m\u001b[38;5;241;43m*\u001b[39;49m\u001b[43mpromote_dtypes\u001b[49m\u001b[43m(\u001b[49m\u001b[38;5;241;43m*\u001b[39;49m\u001b[43margs\u001b[49m\u001b[43m)\u001b[49m\u001b[43m)\u001b[49m\n",
      "File \u001b[0;32m/opt/anaconda3/envs/jax+torch_env/lib/python3.12/site-packages/jax/_src/numpy/util.py:227\u001b[0m, in \u001b[0;36mpromote_shapes\u001b[0;34m(fun_name, *args)\u001b[0m\n\u001b[1;32m    225\u001b[0m \u001b[38;5;28;01mif\u001b[39;00m config\u001b[38;5;241m.\u001b[39mnumpy_rank_promotion\u001b[38;5;241m.\u001b[39mvalue \u001b[38;5;241m!=\u001b[39m \u001b[38;5;124m\"\u001b[39m\u001b[38;5;124mallow\u001b[39m\u001b[38;5;124m\"\u001b[39m:\n\u001b[1;32m    226\u001b[0m   _rank_promotion_warning_or_error(fun_name, shapes)\n\u001b[0;32m--> 227\u001b[0m result_rank \u001b[38;5;241m=\u001b[39m \u001b[38;5;28mlen\u001b[39m(\u001b[43mlax\u001b[49m\u001b[38;5;241;43m.\u001b[39;49m\u001b[43mbroadcast_shapes\u001b[49m\u001b[43m(\u001b[49m\u001b[38;5;241;43m*\u001b[39;49m\u001b[43mshapes\u001b[49m\u001b[43m)\u001b[49m)\n\u001b[1;32m    228\u001b[0m \u001b[38;5;28;01mreturn\u001b[39;00m [lax\u001b[38;5;241m.\u001b[39mbroadcast_to_rank(arg, result_rank) \u001b[38;5;28;01mfor\u001b[39;00m arg \u001b[38;5;129;01min\u001b[39;00m args]\n",
      "    \u001b[0;31m[... skipping hidden 1 frame]\u001b[0m\n",
      "File \u001b[0;32m/opt/anaconda3/envs/jax+torch_env/lib/python3.12/site-packages/jax/_src/lax/lax.py:171\u001b[0m, in \u001b[0;36m_broadcast_shapes_uncached\u001b[0;34m(*shapes)\u001b[0m\n\u001b[1;32m    169\u001b[0m result_shape \u001b[38;5;241m=\u001b[39m _try_broadcast_shapes(shape_list)\n\u001b[1;32m    170\u001b[0m \u001b[38;5;28;01mif\u001b[39;00m result_shape \u001b[38;5;129;01mis\u001b[39;00m \u001b[38;5;28;01mNone\u001b[39;00m:\n\u001b[0;32m--> 171\u001b[0m   \u001b[38;5;28;01mraise\u001b[39;00m \u001b[38;5;167;01mValueError\u001b[39;00m(\u001b[38;5;124mf\u001b[39m\u001b[38;5;124m\"\u001b[39m\u001b[38;5;124mIncompatible shapes for broadcasting: shapes=\u001b[39m\u001b[38;5;132;01m{\u001b[39;00m\u001b[38;5;28mlist\u001b[39m(shapes)\u001b[38;5;132;01m}\u001b[39;00m\u001b[38;5;124m\"\u001b[39m)\n\u001b[1;32m    172\u001b[0m \u001b[38;5;28;01mreturn\u001b[39;00m result_shape\n",
      "\u001b[0;31mValueError\u001b[0m: Incompatible shapes for broadcasting: shapes=[(3, 3), (3, 3, 2)]"
     ]
    }
   ],
   "source": [
    "jnp.tri(3, k=-1)*sample_fil"
   ]
  },
  {
   "cell_type": "code",
   "execution_count": 209,
   "metadata": {},
   "outputs": [
    {
     "data": {
      "text/plain": [
       "Array([[[-0.04081513, -0.04983531],\n",
       "        [ 0.        ,  0.        ],\n",
       "        [ 0.        ,  0.        ]],\n",
       "\n",
       "       [[ 0.        ,  0.        ],\n",
       "        [ 0.        , -0.04983531],\n",
       "        [ 0.        ,  0.        ]],\n",
       "\n",
       "       [[ 0.        ,  0.        ],\n",
       "        [ 0.        ,  0.00583054],\n",
       "        [ 0.        ,  0.        ]]], dtype=float32)"
      ]
     },
     "execution_count": 209,
     "metadata": {},
     "output_type": "execute_result"
    }
   ],
   "source": [
    "jnp.triu(sample_fil)"
   ]
  },
  {
   "cell_type": "code",
   "execution_count": 211,
   "metadata": {},
   "outputs": [
    {
     "data": {
      "text/plain": [
       "Array([0., 0.], dtype=float32)"
      ]
     },
     "execution_count": 211,
     "metadata": {},
     "output_type": "execute_result"
    }
   ],
   "source": [
    "sample_fil[1,0]"
   ]
  },
  {
   "cell_type": "code",
   "execution_count": null,
   "metadata": {},
   "outputs": [],
   "source": [
    "class CfConv(nn.Module):\n",
    "    \n",
    "    @partial(jax.vmap, in_axes = (None, 0, 0), out_axes = 0)\n",
    "    def __call__(self, X, fij):\n",
    "        ones = jnp.ones(shape=fij.shape)\n",
    "        \n",
    "        filters = jnp.sum(fij, axis = 1)\n",
    "        Xij = X * filters\n",
    "        return X + jnp.sum(Xij, axis=0)"
   ]
  },
  {
   "cell_type": "code",
   "execution_count": 203,
   "metadata": {},
   "outputs": [
    {
     "data": {
      "text/plain": [
       "(5, 3, 3)"
      ]
     },
     "execution_count": 203,
     "metadata": {},
     "output_type": "execute_result"
    }
   ],
   "source": [
    "distances.shape"
   ]
  },
  {
   "cell_type": "code",
   "execution_count": 202,
   "metadata": {},
   "outputs": [
    {
     "name": "stdout",
     "output_type": "stream",
     "text": [
      "(3, 3, 1, 2)\n",
      "(3, 3, 1, 2)\n",
      "(5, 3, 2)\n"
     ]
    }
   ],
   "source": [
    "conv = CfConv(2, 0., 30., 10)\n",
    "key1, key2 = random.split(key1, 2)\n",
    "params_conv = conv.init(key2, y, distances)\n",
    "convs = conv.apply(params_conv, y, distances)\n",
    "print(convs.shape)"
   ]
  },
  {
   "cell_type": "code",
   "execution_count": null,
   "metadata": {},
   "outputs": [],
   "source": [
    "class CfConv(nnx.Module):\n",
    "    def __init__(\n",
    "            self,\n",
    "            atom_embeddings_dim,\n",
    "            rbf_min,\n",
    "            rbf_max,\n",
    "            n_rbf,\n",
    "            rngs: nnx.Rngs = nnx.Rngs(0),\n",
    "            activation=ssp_layer):\n",
    "        super().__init__()\n",
    "\n",
    "        self.rbf = RadialBasisFunctions(rbf_min, rbf_max, n_rbf)\n",
    "        self.filters = filter_generator(\n",
    "            atom_embeddings_dim,\n",
    "            rbf_min,\n",
    "            rbf_max,\n",
    "            n_rbf,\n",
    "            rngs,\n",
    "            activation\n",
    "            )\n",
    "\n",
    "    def __call__(self, X, d_ij):\n",
    "        fij = jnp.sum(self.filters(d_ij), axis = 1)\n",
    "        X_ij = X * fij\n",
    "        return X + jnp.sum(X_ij, axis=0)\n"
   ]
  },
  {
   "cell_type": "code",
   "execution_count": 42,
   "metadata": {},
   "outputs": [],
   "source": [
    "class AtomEmbedding(nn.Module):\n",
    "    num_atom_types: int\n",
    "    embedding_dim: int\n",
    "    n_batch: int\n",
    "    def setup(self):\n",
    "        self.embedding = nn.Embed(\n",
    "            num_embeddings=self.num_atom_types,\n",
    "            features=self.embedding_dim\n",
    "        )\n",
    "\n",
    "    def __call__(self, atom_types):\n",
    "        ord_atom_types = jnp.unique(atom_types)\n",
    "        mask = jnp.array([jnp.where(ord_atom_types==elem) for elem in atom_types.flatten()]).flatten()\n",
    "\n",
    "\n",
    "        return jnp.array(jnp.split(self.embedding(mask), self.n_batch))"
   ]
  },
  {
   "cell_type": "code",
   "execution_count": 45,
   "metadata": {},
   "outputs": [],
   "source": [
    "z = sample[\"atom_types\"]\n",
    "emb = AtomEmbedding(num_atom_types=2, embedding_dim=64)\n",
    "key1, key2 = random.split(random.key(0), 2)\n",
    "params = emb.init(key2, z)\n",
    "y = emb.apply(params, z)"
   ]
  },
  {
   "cell_type": "code",
   "execution_count": 47,
   "metadata": {},
   "outputs": [
    {
     "data": {
      "text/plain": [
       "(3, 1, 1, 64)"
      ]
     },
     "execution_count": 47,
     "metadata": {},
     "output_type": "execute_result"
    }
   ],
   "source": [
    "y.shape"
   ]
  },
  {
   "cell_type": "code",
   "execution_count": null,
   "metadata": {},
   "outputs": [],
   "source": [
    "\n",
    "# Atom Embedding\n",
    "# It takes the number of different atoms in the molecular systems.\n",
    "# For each atom, create an atom embedding.\n",
    "\n",
    "@jax.jit\n",
    "def count_unique(x):\n",
    "  x = jnp.sort(x)\n",
    "  return 1 + (x[1:] != x[:-1]).sum()\n",
    "\n",
    "class AtomEmbedding(nn.Module):\n",
    "    num_atom_types: int\n",
    "    embedding_dim: int\n",
    "    n_batch: int\n",
    "    def setup(self):\n",
    "        self.embedding = nn.Embed(\n",
    "            num_embeddings=self.num_atom_types,\n",
    "            features=self.embedding_dim\n",
    "        )\n",
    "\n",
    "    def __call__(self, atom_types):\n",
    "        ord_atom_types = jnp.unique(atom_types)\n",
    "        mask = jnp.array([jnp.where(ord_atom_types==elem) for elem in atom_types.flatten()]).flatten()\n",
    "\n",
    "\n",
    "        return jnp.array(jnp.split(self.embedding(mask), self.n_batch))"
   ]
  },
  {
   "cell_type": "code",
   "execution_count": null,
   "metadata": {},
   "outputs": [],
   "source": []
  },
  {
   "cell_type": "code",
   "execution_count": 3,
   "metadata": {},
   "outputs": [],
   "source": [
    "r = jnp.array([[[1., 2., 3.], [4., 5., 6.]],[[1., 2., 3.], [4., 5., 6.]],[[1., 2., 3.], [4., 5., 6.]]])\n",
    "z = jnp.array([[1,8], [1,8], [1,8]])\n",
    "\n",
    "rbf_min = 0.\n",
    "rbf_max = 10.\n",
    "n_rbf = 4\n",
    "num_atom_types = 2\n",
    "embedding_dim=5\n",
    "n_batch = 3\n",
    "emb = AtomEmbedding(num_atom_types=num_atom_types, embedding_dim=embedding_dim, n_batch=n_batch)"
   ]
  },
  {
   "cell_type": "code",
   "execution_count": 4,
   "metadata": {},
   "outputs": [
    {
     "name": "stdout",
     "output_type": "stream",
     "text": [
      "initialized parameter shapes:\n",
      " {'params': {'embedding': {'embedding': (2, 5)}}}\n",
      "output:\n",
      " [[[ 0.02224981 -0.03897022  0.4141354  -0.64674884  0.04295832]\n",
      "  [ 0.28187937  0.35178837  0.28512442  0.165287    0.21933578]]\n",
      "\n",
      " [[ 0.02224981 -0.03897022  0.4141354  -0.64674884  0.04295832]\n",
      "  [ 0.28187937  0.35178837  0.28512442  0.165287    0.21933578]]\n",
      "\n",
      " [[ 0.02224981 -0.03897022  0.4141354  -0.64674884  0.04295832]\n",
      "  [ 0.28187937  0.35178837  0.28512442  0.165287    0.21933578]]]\n"
     ]
    }
   ],
   "source": [
    "key1, key2 = random.split(random.key(0), 2)\n",
    "params = emb.init(key2, z)\n",
    "y = emb.apply(params, z)\n",
    "\n",
    "print('initialized parameter shapes:\\n', jax.tree_util.tree_map(jnp.shape, flax.core.unfreeze(params)))\n",
    "print('output:\\n', y)"
   ]
  },
  {
   "cell_type": "code",
   "execution_count": 5,
   "metadata": {},
   "outputs": [],
   "source": [
    "# Given a positions thing, r = (r_1, ..., r_n), returns\n",
    "# a matrix with the relative distance among them\n",
    "# (d_ij)_ij = |r_i - r_j|^2\n",
    "\n",
    "class R_distances(nn.Module):\n",
    "\n",
    "    def __call__(self, R):\n",
    "        num_atoms = len(R[0])\n",
    "        Rij = jnp.array([[[r[i] - r[j] for j in range(num_atoms)] for i in range(num_atoms)] for r in R])\n",
    "        d_ij = jnp.linalg.norm(Rij, axis=-1)\n",
    "        return d_ij"
   ]
  },
  {
   "cell_type": "code",
   "execution_count": 6,
   "metadata": {},
   "outputs": [],
   "source": [
    "distances = R_distances()\n",
    "dis = distances(r)"
   ]
  },
  {
   "cell_type": "code",
   "execution_count": 7,
   "metadata": {},
   "outputs": [
    {
     "data": {
      "text/plain": [
       "Array([[[0.      , 5.196152],\n",
       "        [5.196152, 0.      ]],\n",
       "\n",
       "       [[0.      , 5.196152],\n",
       "        [5.196152, 0.      ]],\n",
       "\n",
       "       [[0.      , 5.196152],\n",
       "        [5.196152, 0.      ]]], dtype=float32)"
      ]
     },
     "execution_count": 7,
     "metadata": {},
     "output_type": "execute_result"
    }
   ],
   "source": [
    "dis"
   ]
  },
  {
   "cell_type": "code",
   "execution_count": null,
   "metadata": {},
   "outputs": [],
   "source": [
    "class RadialBasisFunctions(nn.Module):\n",
    "    rbf_min: float\n",
    "    rbf_max: float\n",
    "    n_rbf: int\n",
    "    gamma: float = 10\n",
    "\n",
    "    def setup(self):\n",
    "        self.centers = jnp.linspace(self.rbf_min, self.rbf_max, self.n_rbf).reshape(1, -1)\n",
    "\n",
    "    def __call__(self, d_ij):\n",
    "        diff = d_ij[..., None] - self.centers\n",
    "        return jnp.exp(-self.gamma * jnp.pow(diff, 2))"
   ]
  },
  {
   "cell_type": "code",
   "execution_count": 45,
   "metadata": {},
   "outputs": [],
   "source": [
    "num_atom_types = 2\n",
    "embedding_dim=5\n",
    "n_batch = 10\n",
    "rbf = RadialBasisFunctions(rbf_min, rbf_max, n_rbf)"
   ]
  },
  {
   "cell_type": "code",
   "execution_count": 46,
   "metadata": {},
   "outputs": [],
   "source": [
    "# ReLU function\n",
    "\n",
    "class relu_layer(nn.Module):\n",
    "    def __call__(self, x):\n",
    "        return nn.relu(x)\n",
    "\n",
    "# Shift Softplus layer\n",
    "\n",
    "class ssp_layer(nn.Module):\n",
    "    def __call__(self, x):\n",
    "        return jnp.log(0.5 * jnp.exp(x) + 0.5)"
   ]
  },
  {
   "cell_type": "code",
   "execution_count": null,
   "metadata": {},
   "outputs": [],
   "source": [
    "class filter_generator(nn.Module):\n",
    "    atom_embeddings_dim: int\n",
    "    rbf_min: float\n",
    "    rbf_max: float\n",
    "    n_rbf: int\n",
    "    activation: nn.Module = ssp_layer\n",
    "\n",
    "    def setup(self):\n",
    "        self.rbf = RadialBasisFunctions(self.rbf_min, self.rbf_max, self.n_rbf)\n",
    "        self.w_layers = nn.Sequential([\n",
    "            nn.Dense(self.n_rbf, self.atom_embeddings_dim),\n",
    "            self.activation(),\n",
    "            nn.Dense(self.atom_embeddings_dim, self.atom_embeddings_dim),\n",
    "            self.activation()\n",
    "        ])\n",
    "\n",
    "    def __call__(self, d_ij):\n",
    "        rbfs = self.rbf(d_ij)\n",
    "        Wij = self.w_layers(rbfs)\n",
    "        return Wij\n"
   ]
  },
  {
   "cell_type": "code",
   "execution_count": 48,
   "metadata": {},
   "outputs": [],
   "source": [
    "fil_gen = filter_generator(atom_embeddings_dim=embedding_dim, rbf_min=rbf_min, rbf_max=rbf_max, n_rbf=n_rbf)"
   ]
  },
  {
   "cell_type": "code",
   "execution_count": 50,
   "metadata": {},
   "outputs": [
    {
     "name": "stdout",
     "output_type": "stream",
     "text": [
      "initialized parameter shapes:\n",
      " {'params': {'w_layers': {'layers_0': {'bias': (4,), 'kernel': (4, 4)}, 'layers_2': {'bias': (5,), 'kernel': (4, 5)}}}}\n",
      "output:\n",
      " [[[[-0.01525517  0.36826965  0.08764708 -0.09227908 -0.18746187]\n",
      "   [ 0.          0.          0.          0.          0.        ]]\n",
      "\n",
      "  [[ 0.          0.          0.          0.          0.        ]\n",
      "   [-0.01525517  0.36826965  0.08764708 -0.09227908 -0.18746187]]]\n",
      "\n",
      "\n",
      " [[[-0.01525517  0.36826965  0.08764708 -0.09227908 -0.18746187]\n",
      "   [ 0.          0.          0.          0.          0.        ]]\n",
      "\n",
      "  [[ 0.          0.          0.          0.          0.        ]\n",
      "   [-0.01525517  0.36826965  0.08764708 -0.09227908 -0.18746187]]]\n",
      "\n",
      "\n",
      " [[[-0.01525517  0.36826965  0.08764708 -0.09227908 -0.18746187]\n",
      "   [ 0.          0.          0.          0.          0.        ]]\n",
      "\n",
      "  [[ 0.          0.          0.          0.          0.        ]\n",
      "   [-0.01525517  0.36826965  0.08764708 -0.09227908 -0.18746187]]]] (3, 2, 2, 5)\n"
     ]
    }
   ],
   "source": [
    "key1, key2 = random.split(key1)\n",
    "\n",
    "params_f = fil_gen.init(key2, dis)\n",
    "y_f = fil_gen.apply(params_f, dis)\n",
    "\n",
    "print('initialized parameter shapes:\\n', jax.tree_util.tree_map(jnp.shape, flax.core.unfreeze(params_f)))\n",
    "print('output:\\n', y_f, y_f.shape)"
   ]
  },
  {
   "cell_type": "code",
   "execution_count": null,
   "metadata": {},
   "outputs": [],
   "source": []
  }
 ],
 "metadata": {
  "kernelspec": {
   "display_name": "jax+torch_env",
   "language": "python",
   "name": "python3"
  },
  "language_info": {
   "codemirror_mode": {
    "name": "ipython",
    "version": 3
   },
   "file_extension": ".py",
   "mimetype": "text/x-python",
   "name": "python",
   "nbconvert_exporter": "python",
   "pygments_lexer": "ipython3",
   "version": "3.12.3"
  }
 },
 "nbformat": 4,
 "nbformat_minor": 2
}
