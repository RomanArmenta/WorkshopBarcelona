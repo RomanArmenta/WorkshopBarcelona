{
 "cells": [
  {
   "cell_type": "code",
   "execution_count": 1,
   "metadata": {},
   "outputs": [],
   "source": [
    "import jax\n",
    "import jax.numpy as jnp\n",
    "from functools import partial\n",
    "import numpy as np\n",
    "from matplotlib import pyplot as plt"
   ]
  },
  {
   "cell_type": "code",
   "execution_count": null,
   "metadata": {},
   "outputs": [],
   "source": [
    "# Calculates local energy of a given positions and laplacian\n",
    "\n",
    "class ManyBodyHamiltonian:\n",
    "\n",
    "    def __init__(self, potential_energy_fn=None, mass=1.0, omega=1.0, hbar=1.0):\n",
    "        self.mass = mass\n",
    "        self.omega = omega\n",
    "        self.hbar = hbar\n",
    "        self.potential_energy_fn = potential_energy_fn\n",
    "\n",
    "    @partial(jax.jit, static_argnums=(0,))\n",
    "    def kinetic_energy(self, psi, psi_laplacian):\n",
    "        \"\"\"Local Kinetic energy: T = (- (ħ² / 2m)) ∇²Ψ/Ψ, approximated by gradients.\n",
    "        - psi: value of the wavefunction in position\n",
    "        - psi_laplacian: the laplacian of the wavefunction in the position required\n",
    "        \"\"\"\n",
    "        return -(((self.hbar)**2)/(2 * self.mass)) * psi_laplacian / psi\n",
    "\n",
    "\n",
    "    @partial(jax.jit, static_argnums=(0,))\n",
    "    def potential_energy(self, position):\n",
    "        \"\"\"Local Potential energy for harmonic oscillator: V = 0.5 * m * ω² * r².\n",
    "        - position: must be the position sampled by the wavefunction probability\n",
    "        \"\"\"\n",
    "        return 0.5 * self.mass * (self.omega ** 2) * position**2\n",
    "\n",
    "    @partial(jax.jit, static_argnums=(0,))\n",
    "    def total_energy(self, position, psi, psi_laplacian):\n",
    "        \"\"\"Total energy: E = T + V.\"\"\"\n",
    "        kinetic = self.kinetic_energy(psi, psi_laplacian)\n",
    "        potential = self.potential_energy(position)\n",
    "        return kinetic + potential\n",
    "\n",
    "    @partial(jax.jit, static_argnums=(0,))\n",
    "    def variational_energy(self, psi, positions, psi_laplacians):\n",
    "        return jnp.mean(self.total_energy_vmap(psi, positions, psi_laplacians))\n",
    "\n",
    "    #######################\n",
    "    # vmapped functions\n",
    "    #######################\n",
    "\n",
    "    @partial(jax.vmap, in_axes = (None, 0, 0), out_axes = 0)\n",
    "    @partial(jax.jit, static_argnums=(0,))\n",
    "    def kinetic_energy_vmap(self, psi, psi_laplacian):\n",
    "        \"\"\"Local Kinetic energy: T = (- (ħ² / 2m)) ∇²Ψ/Ψ, approximated by gradients.\n",
    "        - psi_laplacian: the laplacian of the wavefunction in all the positions sampled\n",
    "        \"\"\"\n",
    "        return -0.5 * (((self.hbar)**2)/(2 * self.mass)) * psi_laplacian / psi\n",
    "\n",
    "    @partial(jax.vmap, in_axes = (None, 0), out_axes = 0)\n",
    "    @partial(jax.jit, static_argnums=(0,))\n",
    "    def potential_energy_vmap(self, positions):\n",
    "        \"\"\"Potential energy for harmonic oscillator: V = 0.5 * m * ω² * r².\n",
    "        - positions: must be the positions sampled by the wavefunction probability\n",
    "        \"\"\"\n",
    "        return 0.5 * self.omega * self.mass * (self.omega ** 2) * positions**2\n",
    "\n",
    "    @partial(jax.vmap, in_axes = (None, 0, 0, 0), out_axes = 0)\n",
    "    @partial(jax.jit, static_argnums=(0,))\n",
    "    def total_energy_vmap(self, psi, positions, psi_laplacian):\n",
    "        \"\"\"Total energy: E = T + V.\"\"\"\n",
    "        kinetic = self.kinetic_energy(psi, psi_laplacian)\n",
    "        potential = self.potential_energy(positions)\n",
    "        return kinetic + potential"
   ]
  },
  {
   "cell_type": "code",
   "execution_count": null,
   "metadata": {},
   "outputs": [],
   "source": [
    "class TrialWavefunction:\n",
    "    def __init__(self, params=None):\n",
    "        if params == None:\n",
    "            params = jnp.array(np.random.normal())\n",
    "        self.params = params\n",
    "\n",
    "    @partial(jax.jit, static_argnums=(0,))\n",
    "    def evaluate_wf(self, position):\n",
    "        \"\"\"Evaluate the Gaussian wavefunction: Ψ(x) = exp(-α * r²).\"\"\"\n",
    "        alpha = self.params[0]\n",
    "        return jnp.exp(-alpha * position**2)\n",
    "\n",
    "    @partial(jax.jit, static_argnums=(0,))\n",
    "    def evaluate_log_wf(self, params, position):\n",
    "        \"\"\"Evaluate the Gaussian wavefunction: Ψ(x) = exp(-α * r²).\"\"\"\n",
    "        alpha = params[0]\n",
    "        return jnp.log(jnp.exp(-alpha * position**2))\n",
    "\n",
    "    @partial(jax.jit, static_argnums=(0,))\n",
    "    def probability_function(self, position):\n",
    "        return self.evaluate_wf(position)**2\n",
    "\n",
    "    @partial(jax.jit, static_argnums=(0,))\n",
    "    def grad_wf(self, position):\n",
    "        return jax.grad(self.evaluate_wf, argnums=0)(position)\n",
    "\n",
    "    @partial(jax.jit, static_argnums=(0,))\n",
    "    def laplacian_wf(self, position):\n",
    "        return jax.grad(self.grad_wf, argnums = 0)(position)\n",
    "\n",
    "    @partial(jax.jit, static_argnums=(0,))\n",
    "    def var_log_grads(self, params, position):\n",
    "        return jax.grad(self.evaluate_log_wf, argnums=0)(params, position)\n",
    "\n",
    "    #######################\n",
    "    # vmapped functions\n",
    "    #######################\n",
    "\n",
    "    @partial(jax.vmap, in_axes = (None, 0), out_axes = 0)\n",
    "    @partial(jax.jit, static_argnums=(0,))\n",
    "    def evaluate_wf_vmap(self, positions):\n",
    "        \"\"\"Evaluate the Gaussian wavefunction: Ψ(x) = exp(-α * r²).\"\"\"\n",
    "        alpha = self.params[0]\n",
    "        return jnp.exp(-alpha * positions**2)\n",
    "\n",
    "    @partial(jax.vmap, in_axes = (None, 0), out_axes = 0)\n",
    "    @partial(jax.jit, static_argnums=(0,))\n",
    "    def grad_wf_vmap(self, positions):\n",
    "        return jax.grad(self.evaluate_wf, argnums=0)(positions)\n",
    "\n",
    "    @partial(jax.vmap, in_axes = (None, 0), out_axes = 0)\n",
    "    @partial(jax.jit, static_argnums=(0,))\n",
    "    def laplacian_wf_vmap(self, positions):\n",
    "        return jax.grad(self.grad_wf, argnums = 0)(positions)\n",
    "\n",
    "    @partial(jax.vmap, in_axes = (None, None, 0), out_axes = 0)\n",
    "    @partial(jax.jit, static_argnums=(0,))\n",
    "    def var_log_grads_vmap(self, params, position):\n",
    "        return jax.grad(self.evaluate_log_wf, argnums=0)(params, position)\n",
    "\n",
    "    @partial(jax.vmap, in_axes = (None, 0), out_axes = 0)\n",
    "    @partial(jax.jit, static_argnums=(0,))\n",
    "    def probability_function_vmap(self, position):\n",
    "        return self.evaluate_wf(position)**2"
   ]
  },
  {
   "cell_type": "code",
   "execution_count": null,
   "metadata": {},
   "outputs": [],
   "source": [
    "class MetropolisHastingsSampler:\n",
    "    def __init__(self, trial_wavefunction, rng_key = None, step_size=0.01):\n",
    "        if rng_key==None:\n",
    "            rng_key = jax.random.PRNGKey(np.random.randint(10_000))\n",
    "        self.step_size = step_size\n",
    "        self.key = rng_key\n",
    "        self.trial_wavefunction = trial_wavefunction\n",
    "\n",
    "    @partial(jax.jit, static_argnums=(0,))\n",
    "    def propose_move(self, positions, key):\n",
    "        \"\"\"Propose a new move by adding Gaussian noise to the current positions.\"\"\"\n",
    "        key, new_key = jax.random.split(key)\n",
    "        move = jax.random.normal(new_key, shape=positions.shape) * self.step_size\n",
    "        new_positions = positions + move\n",
    "        return new_positions, key\n",
    "\n",
    "    @partial(jax.jit, static_argnums=(0,))\n",
    "    def acceptance_prob(self, old_positions, new_positions):\n",
    "        \"\"\"Compute the Metropolis-Hastings acceptance probability.\"\"\"\n",
    "        prob_old = self.trial_wavefunction.probability_function(position = old_positions)\n",
    "        prob_new = self.trial_wavefunction.probability_function(position = new_positions)\n",
    "        return jnp.minimum(1.0, prob_new / prob_old)\n",
    "\n",
    "    @partial(jax.jit, static_argnums=(0,))\n",
    "    def metropolis_step(self, positions, key):\n",
    "        \"\"\"Perform a single Metropolis-Hastings step.\"\"\"\n",
    "        key, sub_key = jax.random.split(key)\n",
    "        new_positions, key = self.propose_move(positions, key)\n",
    "        acc_prob = self.acceptance_prob(positions, new_positions)\n",
    "        accept = jax.random.uniform(sub_key) < acc_prob\n",
    "        positions = jnp.where(accept, new_positions, positions)\n",
    "        return positions, key\n",
    "\n",
    "    def sample(self, initial_positions, num_samples, burn_in=1_000):\n",
    "        \"\"\"Generate samples using Metropolis-Hastings with fori_loop.\"\"\"\n",
    "\n",
    "        # Define a burn-in loop function\n",
    "        def sample_step(i, carry):\n",
    "            positions, key = carry\n",
    "            positions, key = self.metropolis_step(positions, key)\n",
    "            return positions, key\n",
    "\n",
    "        # Define a burn-in loop function\n",
    "        def sample_scan(carry, x):\n",
    "            positions, key = carry\n",
    "            positions, key = self.metropolis_step(positions, key)\n",
    "            return (positions, key), positions\n",
    "\n",
    "        # Burn-in phase\n",
    "        positions, key = jax.lax.fori_loop(0, burn_in, sample_step, (initial_positions, self.key))\n",
    "\n",
    "        # Sampling phase\n",
    "        (positions, key), samples = jax.lax.scan(sample_scan, (positions, key), None, num_samples)\n",
    "\n",
    "        self.key = key\n",
    "\n",
    "        return samples"
   ]
  },
  {
   "cell_type": "code",
   "execution_count": null,
   "metadata": {},
   "outputs": [],
   "source": [
    "class GradientDescentOptimizer:\n",
    "    def __init__(self, learning_rate=0.1):\n",
    "        self.lr = learning_rate\n",
    "\n",
    "    def optimizer(self, params, grads):\n",
    "        return [p - self.lr*jnp.mean(grad, axis=0) for p, grad in zip(params, grads)]\n",
    "#        return [p - self.lr*jnp.mean(grad, axis = 0) for p, grad in zip(params, grads)]"
   ]
  },
  {
   "cell_type": "code",
   "execution_count": 13,
   "metadata": {},
   "outputs": [],
   "source": [
    "class optimization_driver:\n",
    "    def __init__(self, hamiltonian, trial_wavefunction, sampler, optimizer, num_samples = 10_000, burn_in = 1_000):\n",
    "        self.hamiltonian = hamiltonian\n",
    "        self.trial_wavefunction = trial_wavefunction\n",
    "        self.sampler = sampler\n",
    "        self.optimizer = optimizer\n",
    "        self.num_samples = num_samples\n",
    "        self.burn_in = burn_in\n",
    "        self.coso = None\n",
    "\n",
    "    def energy_gradient(self, samples):\n",
    "        psi = self.trial_wavefunction.evaluate_wf_vmap(samples)\n",
    "        psi_laplacian = self.trial_wavefunction.laplacian_wf_vmap(samples)\n",
    "        grad_log_psi = self.trial_wavefunction.var_log_grads_vmap(self.trial_wavefunction.params, samples)\n",
    "        local_energies = self.hamiltonian.total_energy_vmap(psi, samples, psi_laplacian)\n",
    "        variational_energy = jnp.mean(local_energies)\n",
    "        return jnp.mean(jnp.array([2*jnp.real((loc_en - variational_energy)*grad) for loc_en, grad in zip(local_energies, grad_log_psi)]), axis=0)\n",
    "\n",
    "    @partial(jax.jit, static_argnums = (0,))\n",
    "    @partial(jax.vmap, in_axes = (None, 0, 0, None), out_axes = 0)\n",
    "    def energy_gradient_vmap(self, grad_log_psi, loc_energy, var_energy):\n",
    "        return [2*jnp.real((loc_energy - var_energy)*grad) for grad in grad_log_psi]\n",
    "\n",
    "    def run(self, n_iters):\n",
    "        key = self.sampler.key\n",
    "\n",
    "        for i in range(n_iters):\n",
    "            key, subkey = jax.random.split(key)\n",
    "            self.sampler.key = key\n",
    "            initial_positions = -0.5 + jax.random.uniform(subkey)\n",
    "            samples = self.sampler.sample(initial_positions, self.num_samples, self.burn_in)\n",
    "            psi = self.trial_wavefunction.evaluate_wf_vmap(samples)\n",
    "            psi_laplacian = self.trial_wavefunction.laplacian_wf_vmap(samples)\n",
    "            grad_log_psi = self.trial_wavefunction.var_log_grads_vmap(self.trial_wavefunction.params, samples)\n",
    "            local_energies = self.hamiltonian.total_energy_vmap(psi, samples, psi_laplacian)\n",
    "            variational_energy = jnp.mean(local_energies)\n",
    "            energy_gradient = self.energy_gradient_vmap(grad_log_psi, local_energies, variational_energy)\n",
    "            self.trial_wavefunction.params = self.optimizer.optimizer(self.trial_wavefunction.params, energy_gradient)\n",
    "            if i%10==0:\n",
    "                print(\"Step \", i)\n",
    "                print(\"params = \", self.trial_wavefunction.params)\n",
    "                print(\"Variational energy: \", variational_energy)\n",
    "                #print(\"Energy gradients: \", energy_gradient)\n",
    "                self.coso = energy_gradient"
   ]
  },
  {
   "cell_type": "code",
   "execution_count": 11,
   "metadata": {},
   "outputs": [
    {
     "name": "stdout",
     "output_type": "stream",
     "text": [
      "0.400 \t 0.50642 ± 0.000149\n",
      "0.402 \t 0.51474 ± 0.000161\n",
      "0.404 \t 0.51116 ± 0.000150\n",
      "0.406 \t 0.50976 ± 0.000145\n",
      "0.408 \t 0.50924 ± 0.000142\n",
      "0.410 \t 0.50870 ± 0.000141\n",
      "0.412 \t 0.50910 ± 0.000135\n",
      "0.414 \t 0.50804 ± 0.000132\n",
      "0.416 \t 0.50717 ± 0.000129\n",
      "0.418 \t 0.50745 ± 0.000125\n",
      "0.420 \t 0.50657 ± 0.000124\n",
      "0.422 \t 0.50707 ± 0.000119\n",
      "0.424 \t 0.50892 ± 0.000120\n",
      "0.426 \t 0.50764 ± 0.000114\n",
      "0.428 \t 0.50680 ± 0.000113\n",
      "0.430 \t 0.50668 ± 0.000107\n",
      "0.432 \t 0.50540 ± 0.000102\n",
      "0.434 \t 0.50428 ± 0.000099\n",
      "0.436 \t 0.50637 ± 0.000098\n",
      "0.438 \t 0.50441 ± 0.000093\n",
      "0.440 \t 0.50254 ± 0.000089\n",
      "0.442 \t 0.50476 ± 0.000089\n",
      "0.444 \t 0.50304 ± 0.000083\n",
      "0.446 \t 0.50241 ± 0.000080\n",
      "0.448 \t 0.50195 ± 0.000076\n",
      "0.451 \t 0.50297 ± 0.000075\n",
      "0.453 \t 0.50136 ± 0.000070\n",
      "0.455 \t 0.50266 ± 0.000068\n",
      "0.457 \t 0.50142 ± 0.000062\n",
      "0.459 \t 0.50242 ± 0.000062\n",
      "0.461 \t 0.50203 ± 0.000059\n",
      "0.463 \t 0.50160 ± 0.000055\n",
      "0.465 \t 0.50207 ± 0.000053\n",
      "0.467 \t 0.50074 ± 0.000049\n",
      "0.469 \t 0.50116 ± 0.000045\n",
      "0.471 \t 0.50092 ± 0.000042\n",
      "0.473 \t 0.50062 ± 0.000039\n",
      "0.475 \t 0.50087 ± 0.000037\n",
      "0.477 \t 0.50036 ± 0.000033\n",
      "0.479 \t 0.50074 ± 0.000031\n",
      "0.481 \t 0.50038 ± 0.000027\n",
      "0.483 \t 0.50060 ± 0.000025\n",
      "0.485 \t 0.49994 ± 0.000021\n",
      "0.487 \t 0.50021 ± 0.000019\n",
      "0.489 \t 0.50031 ± 0.000016\n",
      "0.491 \t 0.50013 ± 0.000013\n",
      "0.493 \t 0.49995 ± 0.000010\n",
      "0.495 \t 0.50008 ± 0.000007\n",
      "0.497 \t 0.49994 ± 0.000004\n",
      "0.499 \t 0.50002 ± 0.000001\n",
      "0.501 \t 0.50001 ± 0.000001\n",
      "0.503 \t 0.50003 ± 0.000004\n",
      "0.505 \t 0.50011 ± 0.000007\n",
      "0.507 \t 0.50000 ± 0.000010\n",
      "0.509 \t 0.50018 ± 0.000012\n",
      "0.511 \t 0.50000 ± 0.000016\n",
      "0.513 \t 0.50027 ± 0.000018\n",
      "0.515 \t 0.50010 ± 0.000021\n",
      "0.517 \t 0.50006 ± 0.000024\n",
      "0.519 \t 0.50042 ± 0.000026\n",
      "0.521 \t 0.50058 ± 0.000029\n",
      "0.523 \t 0.50108 ± 0.000031\n",
      "0.525 \t 0.50014 ± 0.000036\n",
      "0.527 \t 0.50030 ± 0.000038\n",
      "0.529 \t 0.50046 ± 0.000040\n",
      "0.531 \t 0.50064 ± 0.000043\n",
      "0.533 \t 0.50114 ± 0.000045\n",
      "0.535 \t 0.50190 ± 0.000048\n",
      "0.537 \t 0.50070 ± 0.000052\n",
      "0.539 \t 0.50153 ± 0.000054\n",
      "0.541 \t 0.50161 ± 0.000056\n",
      "0.543 \t 0.50165 ± 0.000060\n",
      "0.545 \t 0.50105 ± 0.000063\n",
      "0.547 \t 0.50172 ± 0.000064\n",
      "0.549 \t 0.50223 ± 0.000067\n",
      "0.552 \t 0.50233 ± 0.000071\n",
      "0.554 \t 0.50297 ± 0.000071\n",
      "0.556 \t 0.50196 ± 0.000075\n",
      "0.558 \t 0.50301 ± 0.000077\n",
      "0.560 \t 0.50286 ± 0.000080\n",
      "0.562 \t 0.50372 ± 0.000082\n",
      "0.564 \t 0.50229 ± 0.000088\n",
      "0.566 \t 0.50247 ± 0.000090\n",
      "0.568 \t 0.50451 ± 0.000088\n",
      "0.570 \t 0.50384 ± 0.000093\n",
      "0.572 \t 0.50482 ± 0.000093\n",
      "0.574 \t 0.50367 ± 0.000098\n",
      "0.576 \t 0.50444 ± 0.000100\n",
      "0.578 \t 0.50645 ± 0.000101\n",
      "0.580 \t 0.50403 ± 0.000108\n",
      "0.582 \t 0.50408 ± 0.000110\n",
      "0.584 \t 0.50489 ± 0.000111\n",
      "0.586 \t 0.50666 ± 0.000113\n",
      "0.588 \t 0.50636 ± 0.000113\n",
      "0.590 \t 0.50786 ± 0.000115\n",
      "0.592 \t 0.50787 ± 0.000117\n",
      "0.594 \t 0.50584 ± 0.000124\n",
      "0.596 \t 0.50716 ± 0.000128\n",
      "0.598 \t 0.50865 ± 0.000126\n",
      "0.600 \t 0.50649 ± 0.000129\n"
     ]
    }
   ],
   "source": [
    "from scipy.stats import sem\n",
    "from matplotlib import pyplot as plt\n",
    "\n",
    "energies = []\n",
    "delta_energies = []\n",
    "alpha_values = np.linspace(0.4, 0.6, 100)\n",
    "opt = GradientDescentOptimizer(0.005)\n",
    "hamiltonian = ManyBodyHamiltonian()\n",
    "for alpha in alpha_values:\n",
    "    trial = TrialWavefunction([jnp.array(alpha)])\n",
    "    sampler = MetropolisHastingsSampler(trial, step_size=0.1)\n",
    "    initial_positions = -0.5 + np.random.uniform()\n",
    "    samples = sampler.sample(initial_positions, num_samples=1_000_000, burn_in=25_000)\n",
    "    psi = trial.evaluate_wf_vmap(samples)\n",
    "    laplacians = trial.laplacian_wf_vmap(samples)\n",
    "    variational_energy = hamiltonian.total_energy_vmap(psi, samples, laplacians)\n",
    "    energy, delta_energy = np.average(variational_energy), sem(variational_energy)\n",
    "    energies.append(energy)\n",
    "    delta_energies.append(delta_energy)\n",
    "    print('%5.3f \\t %7.5f ± %f' % (alpha,energy,delta_energy))"
   ]
  },
  {
   "cell_type": "code",
   "execution_count": 197,
   "metadata": {},
   "outputs": [
    {
     "data": {
      "image/png": "[encoded data removed]",
      "text/plain": [
       "<Figure size 640x480 with 1 Axes>"
      ]
     },
     "metadata": {},
     "output_type": "display_data"
    }
   ],
   "source": [
    "import scipy.integrate as integrate\n",
    "\n",
    "x = np.linspace(-10, 10, 10_000)\n",
    "integral = integrate.quad(lambda x: trial.probability_function(x), -10., 10.)[0]\n",
    "y = trial.probability_function_vmap(x)/integral\n",
    "plt.hist(samples, density=True, bins=15)\n",
    "plt.plot(x, y)\n",
    "plt.xlim([-2., 2.])\n",
    "plt.ylim([0.0, 1.3])\n",
    "plt.savefig(\"MonteCarlo.svg\", dpi=300)"
   ]
  },
  {
   "cell_type": "code",
   "execution_count": 149,
   "metadata": {},
   "outputs": [
    {
     "data": {
      "text/plain": [
       "Array(5.0174654e-05, dtype=float32)"
      ]
     },
     "execution_count": 149,
     "metadata": {},
     "output_type": "execute_result"
    }
   ],
   "source": [
    "trial.probability_function(-3)"
   ]
  },
  {
   "cell_type": "code",
   "execution_count": 12,
   "metadata": {},
   "outputs": [
    {
     "data": {
      "text/plain": [
       "<matplotlib.legend.Legend at 0x2a0b50a10>"
      ]
     },
     "execution_count": 12,
     "metadata": {},
     "output_type": "execute_result"
    },
    {
     "data": {
      "image/png": "[encoded data removed]",
      "text/plain": [
       "<Figure size 640x480 with 1 Axes>"
      ]
     },
     "metadata": {},
     "output_type": "display_data"
    }
   ],
   "source": [
    "alpha = np.linspace(alpha_values[0],alpha_values[-1],1000)\n",
    "plt.plot(alpha,0.5*alpha + 1/(8*alpha), '-', linewidth=1, color='green', zorder=-10,\n",
    "         label=r'$\\frac{\\alpha}{2} + \\frac{1}{8\\alpha}$')\n",
    "plt.errorbar(alpha_values,energies,yerr=delta_energies, linestyle='None', marker='o', elinewidth=1.0,\n",
    "             markersize=6, markerfacecolor='blue', markeredgecolor='blue', ecolor='blue', label='VMC')\n",
    "plt.xlabel(r'$\\alpha$')\n",
    "plt.ylabel('E');\n",
    "plt.xlim(0.44,0.56)\n",
    "plt.legend(loc='upper center')"
   ]
  },
  {
   "cell_type": "code",
   "execution_count": 14,
   "metadata": {},
   "outputs": [
    {
     "name": "stdout",
     "output_type": "stream",
     "text": [
      "Step  0\n",
      "params =  [Array(0.40125102, dtype=float32)]\n",
      "Variational energy:  0.5149789\n",
      "Step  10\n",
      "params =  [Array(0.42035124, dtype=float32)]\n",
      "Variational energy:  0.5098489\n",
      "Step  20\n",
      "params =  [Array(0.4397691, dtype=float32)]\n",
      "Variational energy:  0.5127542\n",
      "Step  30\n",
      "params =  [Array(0.45900342, dtype=float32)]\n",
      "Variational energy:  0.51108575\n",
      "Step  40\n",
      "params =  [Array(0.47865847, dtype=float32)]\n",
      "Variational energy:  0.51328254\n",
      "Step  50\n",
      "params =  [Array(0.49786505, dtype=float32)]\n",
      "Variational energy:  0.5088847\n",
      "Step  60\n",
      "params =  [Array(0.51711315, dtype=float32)]\n",
      "Variational energy:  0.5094706\n",
      "Step  70\n",
      "params =  [Array(0.53651863, dtype=float32)]\n",
      "Variational energy:  0.51228577\n",
      "Step  80\n",
      "params =  [Array(0.5560358, dtype=float32)]\n",
      "Variational energy:  0.5081939\n",
      "Step  90\n",
      "params =  [Array(0.57538736, dtype=float32)]\n",
      "Variational energy:  0.50952625\n",
      "Step  100\n",
      "params =  [Array(0.59499395, dtype=float32)]\n",
      "Variational energy:  0.51022285\n",
      "Step  110\n",
      "params =  [Array(0.6144559, dtype=float32)]\n",
      "Variational energy:  0.5108019\n",
      "Step  120\n",
      "params =  [Array(0.6339232, dtype=float32)]\n",
      "Variational energy:  0.5130034\n",
      "Step  130\n",
      "params =  [Array(0.6536637, dtype=float32)]\n",
      "Variational energy:  0.510943\n",
      "Step  140\n",
      "params =  [Array(0.6732706, dtype=float32)]\n",
      "Variational energy:  0.5146058\n",
      "Step  150\n",
      "params =  [Array(0.69272614, dtype=float32)]\n",
      "Variational energy:  0.5112227\n",
      "Step  160\n",
      "params =  [Array(0.71215314, dtype=float32)]\n",
      "Variational energy:  0.5117575\n",
      "Step  170\n",
      "params =  [Array(0.73198825, dtype=float32)]\n",
      "Variational energy:  0.51255965\n",
      "Step  180\n",
      "params =  [Array(0.7512187, dtype=float32)]\n",
      "Variational energy:  0.5099523\n"
     ]
    },
    {
     "ename": "KeyboardInterrupt",
     "evalue": "",
     "output_type": "error",
     "traceback": [
      "\u001b[0;31m---------------------------------------------------------------------------\u001b[0m",
      "\u001b[0;31mKeyboardInterrupt\u001b[0m                         Traceback (most recent call last)",
      "Cell \u001b[0;32mIn[14], line 10\u001b[0m\n\u001b[1;32m      8\u001b[0m hamiltonian \u001b[38;5;241m=\u001b[39m ManyBodyHamiltonian()\n\u001b[1;32m      9\u001b[0m driver \u001b[38;5;241m=\u001b[39m optimization_driver(hamiltonian, trial, sampler, opt)\n\u001b[0;32m---> 10\u001b[0m \u001b[43mdriver\u001b[49m\u001b[38;5;241;43m.\u001b[39;49m\u001b[43mrun\u001b[49m\u001b[43m(\u001b[49m\u001b[38;5;241;43m500\u001b[39;49m\u001b[43m)\u001b[49m\n",
      "Cell \u001b[0;32mIn[13], line 31\u001b[0m, in \u001b[0;36moptimization_driver.run\u001b[0;34m(self, n_iters)\u001b[0m\n\u001b[1;32m     29\u001b[0m \u001b[38;5;28mself\u001b[39m\u001b[38;5;241m.\u001b[39msampler\u001b[38;5;241m.\u001b[39mkey \u001b[38;5;241m=\u001b[39m key\n\u001b[1;32m     30\u001b[0m initial_positions \u001b[38;5;241m=\u001b[39m \u001b[38;5;241m-\u001b[39m\u001b[38;5;241m0.5\u001b[39m \u001b[38;5;241m+\u001b[39m jax\u001b[38;5;241m.\u001b[39mrandom\u001b[38;5;241m.\u001b[39muniform(subkey)\n\u001b[0;32m---> 31\u001b[0m samples \u001b[38;5;241m=\u001b[39m \u001b[38;5;28;43mself\u001b[39;49m\u001b[38;5;241;43m.\u001b[39;49m\u001b[43msampler\u001b[49m\u001b[38;5;241;43m.\u001b[39;49m\u001b[43msample\u001b[49m\u001b[43m(\u001b[49m\u001b[43minitial_positions\u001b[49m\u001b[43m,\u001b[49m\u001b[43m \u001b[49m\u001b[38;5;28;43mself\u001b[39;49m\u001b[38;5;241;43m.\u001b[39;49m\u001b[43mnum_samples\u001b[49m\u001b[43m,\u001b[49m\u001b[43m \u001b[49m\u001b[38;5;28;43mself\u001b[39;49m\u001b[38;5;241;43m.\u001b[39;49m\u001b[43mburn_in\u001b[49m\u001b[43m)\u001b[49m\n\u001b[1;32m     32\u001b[0m psi \u001b[38;5;241m=\u001b[39m \u001b[38;5;28mself\u001b[39m\u001b[38;5;241m.\u001b[39mtrial_wavefunction\u001b[38;5;241m.\u001b[39mevaluate_wf_vmap(samples)\n\u001b[1;32m     33\u001b[0m psi_laplacian \u001b[38;5;241m=\u001b[39m \u001b[38;5;28mself\u001b[39m\u001b[38;5;241m.\u001b[39mtrial_wavefunction\u001b[38;5;241m.\u001b[39mlaplacian_wf_vmap(samples)\n",
      "Cell \u001b[0;32mIn[4], line 50\u001b[0m, in \u001b[0;36mMetropolisHastingsSampler.sample\u001b[0;34m(self, initial_positions, num_samples, burn_in)\u001b[0m\n\u001b[1;32m     47\u001b[0m     \u001b[38;5;28;01mreturn\u001b[39;00m (positions, key), positions\n\u001b[1;32m     49\u001b[0m \u001b[38;5;66;03m# Burn-in phase\u001b[39;00m\n\u001b[0;32m---> 50\u001b[0m positions, key \u001b[38;5;241m=\u001b[39m \u001b[43mjax\u001b[49m\u001b[38;5;241;43m.\u001b[39;49m\u001b[43mlax\u001b[49m\u001b[38;5;241;43m.\u001b[39;49m\u001b[43mfori_loop\u001b[49m\u001b[43m(\u001b[49m\u001b[38;5;241;43m0\u001b[39;49m\u001b[43m,\u001b[49m\u001b[43m \u001b[49m\u001b[43mburn_in\u001b[49m\u001b[43m,\u001b[49m\u001b[43m \u001b[49m\u001b[43msample_step\u001b[49m\u001b[43m,\u001b[49m\u001b[43m \u001b[49m\u001b[43m(\u001b[49m\u001b[43minitial_positions\u001b[49m\u001b[43m,\u001b[49m\u001b[43m \u001b[49m\u001b[38;5;28;43mself\u001b[39;49m\u001b[38;5;241;43m.\u001b[39;49m\u001b[43mkey\u001b[49m\u001b[43m)\u001b[49m\u001b[43m)\u001b[49m\n\u001b[1;32m     52\u001b[0m \u001b[38;5;66;03m# Sampling phase\u001b[39;00m\n\u001b[1;32m     53\u001b[0m (positions, key), samples \u001b[38;5;241m=\u001b[39m jax\u001b[38;5;241m.\u001b[39mlax\u001b[38;5;241m.\u001b[39mscan(sample_scan, (positions, key), \u001b[38;5;28;01mNone\u001b[39;00m, num_samples)\n",
      "    \u001b[0;31m[... skipping hidden 1 frame]\u001b[0m\n",
      "File \u001b[0;32m/Library/Frameworks/Python.framework/Versions/3.12/lib/python3.12/site-packages/jax/_src/lax/control_flow/loops.py:2119\u001b[0m, in \u001b[0;36mfori_loop\u001b[0;34m(lower, upper, body_fun, init_val, unroll)\u001b[0m\n\u001b[1;32m   2115\u001b[0m   \u001b[38;5;28;01mif\u001b[39;00m config\u001b[38;5;241m.\u001b[39mdisable_jit\u001b[38;5;241m.\u001b[39mvalue \u001b[38;5;129;01mand\u001b[39;00m length \u001b[38;5;241m==\u001b[39m \u001b[38;5;241m0\u001b[39m:\n\u001b[1;32m   2116\u001b[0m     \u001b[38;5;66;03m# non-jit implementation of scan does not support length=0\u001b[39;00m\n\u001b[1;32m   2117\u001b[0m     \u001b[38;5;28;01mreturn\u001b[39;00m init_val\n\u001b[0;32m-> 2119\u001b[0m   (_, result), _ \u001b[38;5;241m=\u001b[39m \u001b[43mscan\u001b[49m\u001b[43m(\u001b[49m\n\u001b[1;32m   2120\u001b[0m \u001b[43m      \u001b[49m\u001b[43m_fori_scan_body_fun\u001b[49m\u001b[43m(\u001b[49m\u001b[43mbody_fun\u001b[49m\u001b[43m)\u001b[49m\u001b[43m,\u001b[49m\n\u001b[1;32m   2121\u001b[0m \u001b[43m      \u001b[49m\u001b[43m(\u001b[49m\u001b[43mlower_\u001b[49m\u001b[43m,\u001b[49m\u001b[43m \u001b[49m\u001b[43minit_val\u001b[49m\u001b[43m)\u001b[49m\u001b[43m,\u001b[49m\n\u001b[1;32m   2122\u001b[0m \u001b[43m      \u001b[49m\u001b[38;5;28;43;01mNone\u001b[39;49;00m\u001b[43m,\u001b[49m\n\u001b[1;32m   2123\u001b[0m \u001b[43m      \u001b[49m\u001b[43mlength\u001b[49m\u001b[38;5;241;43m=\u001b[39;49m\u001b[43mlength\u001b[49m\u001b[43m,\u001b[49m\n\u001b[1;32m   2124\u001b[0m \u001b[43m      \u001b[49m\u001b[43munroll\u001b[49m\u001b[38;5;241;43m=\u001b[39;49m\u001b[43munroll\u001b[49m\u001b[43m,\u001b[49m\n\u001b[1;32m   2125\u001b[0m \u001b[43m  \u001b[49m\u001b[43m)\u001b[49m\n\u001b[1;32m   2126\u001b[0m   \u001b[38;5;28;01mreturn\u001b[39;00m result\n\u001b[1;32m   2127\u001b[0m \u001b[38;5;28;01mif\u001b[39;00m unroll \u001b[38;5;129;01mis\u001b[39;00m \u001b[38;5;129;01mnot\u001b[39;00m \u001b[38;5;28;01mNone\u001b[39;00m:\n",
      "    \u001b[0;31m[... skipping hidden 1 frame]\u001b[0m\n",
      "File \u001b[0;32m/Library/Frameworks/Python.framework/Versions/3.12/lib/python3.12/site-packages/jax/_src/lax/control_flow/loops.py:288\u001b[0m, in \u001b[0;36mscan\u001b[0;34m(f, init, xs, length, reverse, unroll, _split_transpose)\u001b[0m\n\u001b[1;32m    286\u001b[0m   in_flat \u001b[38;5;241m=\u001b[39m [\u001b[38;5;241m*\u001b[39min_state, \u001b[38;5;241m*\u001b[39min_carry, \u001b[38;5;241m*\u001b[39min_ext]\n\u001b[1;32m    287\u001b[0m   num_carry \u001b[38;5;241m+\u001b[39m\u001b[38;5;241m=\u001b[39m \u001b[38;5;28mlen\u001b[39m(attrs_tracked)\n\u001b[0;32m--> 288\u001b[0m out \u001b[38;5;241m=\u001b[39m \u001b[43mscan_p\u001b[49m\u001b[38;5;241;43m.\u001b[39;49m\u001b[43mbind\u001b[49m\u001b[43m(\u001b[49m\u001b[38;5;241;43m*\u001b[39;49m\u001b[43mconsts\u001b[49m\u001b[43m,\u001b[49m\u001b[43m \u001b[49m\u001b[38;5;241;43m*\u001b[39;49m\u001b[43min_flat\u001b[49m\u001b[43m,\u001b[49m\n\u001b[1;32m    289\u001b[0m \u001b[43m                  \u001b[49m\u001b[43mreverse\u001b[49m\u001b[38;5;241;43m=\u001b[39;49m\u001b[43mreverse\u001b[49m\u001b[43m,\u001b[49m\u001b[43m \u001b[49m\u001b[43mlength\u001b[49m\u001b[38;5;241;43m=\u001b[39;49m\u001b[43mlength\u001b[49m\u001b[43m,\u001b[49m\u001b[43m \u001b[49m\u001b[43mjaxpr\u001b[49m\u001b[38;5;241;43m=\u001b[39;49m\u001b[43mjaxpr\u001b[49m\u001b[43m,\u001b[49m\n\u001b[1;32m    290\u001b[0m \u001b[43m                  \u001b[49m\u001b[43mnum_consts\u001b[49m\u001b[38;5;241;43m=\u001b[39;49m\u001b[38;5;28;43mlen\u001b[39;49m\u001b[43m(\u001b[49m\u001b[43mconsts\u001b[49m\u001b[43m)\u001b[49m\u001b[43m,\u001b[49m\u001b[43m \u001b[49m\u001b[43mnum_carry\u001b[49m\u001b[38;5;241;43m=\u001b[39;49m\u001b[43mnum_carry\u001b[49m\u001b[43m,\u001b[49m\n\u001b[1;32m    291\u001b[0m \u001b[43m                  \u001b[49m\u001b[43mlinear\u001b[49m\u001b[38;5;241;43m=\u001b[39;49m\u001b[43m(\u001b[49m\u001b[38;5;28;43;01mFalse\u001b[39;49;00m\u001b[43m,\u001b[49m\u001b[43m)\u001b[49m\u001b[43m \u001b[49m\u001b[38;5;241;43m*\u001b[39;49m\u001b[43m \u001b[49m\u001b[43m(\u001b[49m\u001b[38;5;28;43mlen\u001b[39;49m\u001b[43m(\u001b[49m\u001b[43mconsts\u001b[49m\u001b[43m)\u001b[49m\u001b[43m \u001b[49m\u001b[38;5;241;43m+\u001b[39;49m\u001b[43m \u001b[49m\u001b[38;5;28;43mlen\u001b[39;49m\u001b[43m(\u001b[49m\u001b[43min_flat\u001b[49m\u001b[43m)\u001b[49m\u001b[43m)\u001b[49m\u001b[43m,\u001b[49m\n\u001b[1;32m    292\u001b[0m \u001b[43m                  \u001b[49m\u001b[43munroll\u001b[49m\u001b[38;5;241;43m=\u001b[39;49m\u001b[43munroll\u001b[49m\u001b[43m,\u001b[49m\n\u001b[1;32m    293\u001b[0m \u001b[43m                  \u001b[49m\u001b[43m_split_transpose\u001b[49m\u001b[38;5;241;43m=\u001b[39;49m\u001b[43m_split_transpose\u001b[49m\u001b[43m)\u001b[49m\n\u001b[1;32m    294\u001b[0m \u001b[38;5;28;01mif\u001b[39;00m attrs_tracked:\n\u001b[1;32m    295\u001b[0m   out_state, out \u001b[38;5;241m=\u001b[39m split_list(out, [\u001b[38;5;28mlen\u001b[39m(attrs_tracked)])\n",
      "File \u001b[0;32m/Library/Frameworks/Python.framework/Versions/3.12/lib/python3.12/site-packages/jax/_src/lax/control_flow/loops.py:1280\u001b[0m, in \u001b[0;36mscan_bind\u001b[0;34m(*args, **params)\u001b[0m\n\u001b[1;32m   1278\u001b[0m   _scan_typecheck(\u001b[38;5;28;01mTrue\u001b[39;00m, \u001b[38;5;241m*\u001b[39min_atoms, \u001b[38;5;241m*\u001b[39m\u001b[38;5;241m*\u001b[39mparams)\n\u001b[1;32m   1279\u001b[0m   core\u001b[38;5;241m.\u001b[39mcheck_jaxpr(params[\u001b[38;5;124m'\u001b[39m\u001b[38;5;124mjaxpr\u001b[39m\u001b[38;5;124m'\u001b[39m]\u001b[38;5;241m.\u001b[39mjaxpr)\n\u001b[0;32m-> 1280\u001b[0m \u001b[38;5;28;01mreturn\u001b[39;00m \u001b[43mcore\u001b[49m\u001b[38;5;241;43m.\u001b[39;49m\u001b[43mAxisPrimitive\u001b[49m\u001b[38;5;241;43m.\u001b[39;49m\u001b[43mbind\u001b[49m\u001b[43m(\u001b[49m\u001b[43mscan_p\u001b[49m\u001b[43m,\u001b[49m\u001b[43m \u001b[49m\u001b[38;5;241;43m*\u001b[39;49m\u001b[43margs\u001b[49m\u001b[43m,\u001b[49m\u001b[43m \u001b[49m\u001b[38;5;241;43m*\u001b[39;49m\u001b[38;5;241;43m*\u001b[39;49m\u001b[43mparams\u001b[49m\u001b[43m)\u001b[49m\n",
      "File \u001b[0;32m/Library/Frameworks/Python.framework/Versions/3.12/lib/python3.12/site-packages/jax/_src/core.py:2789\u001b[0m, in \u001b[0;36mAxisPrimitive.bind\u001b[0;34m(self, *args, **params)\u001b[0m\n\u001b[1;32m   2785\u001b[0m axis_main \u001b[38;5;241m=\u001b[39m \u001b[38;5;28mmax\u001b[39m((axis_frame(a)\u001b[38;5;241m.\u001b[39mmain_trace \u001b[38;5;28;01mfor\u001b[39;00m a \u001b[38;5;129;01min\u001b[39;00m used_axis_names(\u001b[38;5;28mself\u001b[39m, params)),\n\u001b[1;32m   2786\u001b[0m                 default\u001b[38;5;241m=\u001b[39m\u001b[38;5;28;01mNone\u001b[39;00m, key\u001b[38;5;241m=\u001b[39m\u001b[38;5;28;01mlambda\u001b[39;00m t: \u001b[38;5;28mgetattr\u001b[39m(t, \u001b[38;5;124m'\u001b[39m\u001b[38;5;124mlevel\u001b[39m\u001b[38;5;124m'\u001b[39m, \u001b[38;5;241m-\u001b[39m\u001b[38;5;241m1\u001b[39m))\n\u001b[1;32m   2787\u001b[0m top_trace \u001b[38;5;241m=\u001b[39m (top_trace \u001b[38;5;28;01mif\u001b[39;00m \u001b[38;5;129;01mnot\u001b[39;00m axis_main \u001b[38;5;129;01mor\u001b[39;00m axis_main\u001b[38;5;241m.\u001b[39mlevel \u001b[38;5;241m<\u001b[39m top_trace\u001b[38;5;241m.\u001b[39mlevel\n\u001b[1;32m   2788\u001b[0m              \u001b[38;5;28;01melse\u001b[39;00m axis_main\u001b[38;5;241m.\u001b[39mwith_cur_sublevel())\n\u001b[0;32m-> 2789\u001b[0m \u001b[38;5;28;01mreturn\u001b[39;00m \u001b[38;5;28;43mself\u001b[39;49m\u001b[38;5;241;43m.\u001b[39;49m\u001b[43mbind_with_trace\u001b[49m\u001b[43m(\u001b[49m\u001b[43mtop_trace\u001b[49m\u001b[43m,\u001b[49m\u001b[43m \u001b[49m\u001b[43margs\u001b[49m\u001b[43m,\u001b[49m\u001b[43m \u001b[49m\u001b[43mparams\u001b[49m\u001b[43m)\u001b[49m\n",
      "File \u001b[0;32m/Library/Frameworks/Python.framework/Versions/3.12/lib/python3.12/site-packages/jax/_src/core.py:391\u001b[0m, in \u001b[0;36mPrimitive.bind_with_trace\u001b[0;34m(self, trace, args, params)\u001b[0m\n\u001b[1;32m    389\u001b[0m \u001b[38;5;28;01mdef\u001b[39;00m \u001b[38;5;21mbind_with_trace\u001b[39m(\u001b[38;5;28mself\u001b[39m, trace, args, params):\n\u001b[1;32m    390\u001b[0m   \u001b[38;5;28;01mwith\u001b[39;00m pop_level(trace\u001b[38;5;241m.\u001b[39mlevel):\n\u001b[0;32m--> 391\u001b[0m     out \u001b[38;5;241m=\u001b[39m \u001b[43mtrace\u001b[49m\u001b[38;5;241;43m.\u001b[39;49m\u001b[43mprocess_primitive\u001b[49m\u001b[43m(\u001b[49m\u001b[38;5;28;43mself\u001b[39;49m\u001b[43m,\u001b[49m\u001b[43m \u001b[49m\u001b[38;5;28;43mmap\u001b[39;49m\u001b[43m(\u001b[49m\u001b[43mtrace\u001b[49m\u001b[38;5;241;43m.\u001b[39;49m\u001b[43mfull_raise\u001b[49m\u001b[43m,\u001b[49m\u001b[43m \u001b[49m\u001b[43margs\u001b[49m\u001b[43m)\u001b[49m\u001b[43m,\u001b[49m\u001b[43m \u001b[49m\u001b[43mparams\u001b[49m\u001b[43m)\u001b[49m\n\u001b[1;32m    392\u001b[0m   \u001b[38;5;28;01mreturn\u001b[39;00m \u001b[38;5;28mmap\u001b[39m(full_lower, out) \u001b[38;5;28;01mif\u001b[39;00m \u001b[38;5;28mself\u001b[39m\u001b[38;5;241m.\u001b[39mmultiple_results \u001b[38;5;28;01melse\u001b[39;00m full_lower(out)\n",
      "File \u001b[0;32m/Library/Frameworks/Python.framework/Versions/3.12/lib/python3.12/site-packages/jax/_src/core.py:879\u001b[0m, in \u001b[0;36mEvalTrace.process_primitive\u001b[0;34m(self, primitive, tracers, params)\u001b[0m\n\u001b[1;32m    877\u001b[0m   \u001b[38;5;28;01mreturn\u001b[39;00m call_impl_with_key_reuse_checks(primitive, primitive\u001b[38;5;241m.\u001b[39mimpl, \u001b[38;5;241m*\u001b[39mtracers, \u001b[38;5;241m*\u001b[39m\u001b[38;5;241m*\u001b[39mparams)\n\u001b[1;32m    878\u001b[0m \u001b[38;5;28;01melse\u001b[39;00m:\n\u001b[0;32m--> 879\u001b[0m   \u001b[38;5;28;01mreturn\u001b[39;00m \u001b[43mprimitive\u001b[49m\u001b[38;5;241;43m.\u001b[39;49m\u001b[43mimpl\u001b[49m\u001b[43m(\u001b[49m\u001b[38;5;241;43m*\u001b[39;49m\u001b[43mtracers\u001b[49m\u001b[43m,\u001b[49m\u001b[43m \u001b[49m\u001b[38;5;241;43m*\u001b[39;49m\u001b[38;5;241;43m*\u001b[39;49m\u001b[43mparams\u001b[49m\u001b[43m)\u001b[49m\n",
      "File \u001b[0;32m/Library/Frameworks/Python.framework/Versions/3.12/lib/python3.12/site-packages/jax/_src/dispatch.py:86\u001b[0m, in \u001b[0;36mapply_primitive\u001b[0;34m(prim, *args, **params)\u001b[0m\n\u001b[1;32m     84\u001b[0m prev \u001b[38;5;241m=\u001b[39m lib\u001b[38;5;241m.\u001b[39mjax_jit\u001b[38;5;241m.\u001b[39mswap_thread_local_state_disable_jit(\u001b[38;5;28;01mFalse\u001b[39;00m)\n\u001b[1;32m     85\u001b[0m \u001b[38;5;28;01mtry\u001b[39;00m:\n\u001b[0;32m---> 86\u001b[0m   outs \u001b[38;5;241m=\u001b[39m \u001b[43mfun\u001b[49m\u001b[43m(\u001b[49m\u001b[38;5;241;43m*\u001b[39;49m\u001b[43margs\u001b[49m\u001b[43m)\u001b[49m\n\u001b[1;32m     87\u001b[0m \u001b[38;5;28;01mfinally\u001b[39;00m:\n\u001b[1;32m     88\u001b[0m   lib\u001b[38;5;241m.\u001b[39mjax_jit\u001b[38;5;241m.\u001b[39mswap_thread_local_state_disable_jit(prev)\n",
      "    \u001b[0;31m[... skipping hidden 1 frame]\u001b[0m\n",
      "File \u001b[0;32m/Library/Frameworks/Python.framework/Versions/3.12/lib/python3.12/site-packages/jax/_src/pjit.py:304\u001b[0m, in \u001b[0;36m_cpp_pjit.<locals>.cache_miss\u001b[0;34m(*args, **kwargs)\u001b[0m\n\u001b[1;32m    302\u001b[0m \u001b[38;5;129m@api_boundary\u001b[39m\n\u001b[1;32m    303\u001b[0m \u001b[38;5;28;01mdef\u001b[39;00m \u001b[38;5;21mcache_miss\u001b[39m(\u001b[38;5;241m*\u001b[39margs, \u001b[38;5;241m*\u001b[39m\u001b[38;5;241m*\u001b[39mkwargs):\n\u001b[0;32m--> 304\u001b[0m   outs, out_flat, out_tree, args_flat, jaxpr, attrs_tracked \u001b[38;5;241m=\u001b[39m \u001b[43m_python_pjit_helper\u001b[49m\u001b[43m(\u001b[49m\n\u001b[1;32m    305\u001b[0m \u001b[43m      \u001b[49m\u001b[43mjit_info\u001b[49m\u001b[43m,\u001b[49m\u001b[43m \u001b[49m\u001b[38;5;241;43m*\u001b[39;49m\u001b[43margs\u001b[49m\u001b[43m,\u001b[49m\u001b[43m \u001b[49m\u001b[38;5;241;43m*\u001b[39;49m\u001b[38;5;241;43m*\u001b[39;49m\u001b[43mkwargs\u001b[49m\u001b[43m)\u001b[49m\n\u001b[1;32m    306\u001b[0m   executable \u001b[38;5;241m=\u001b[39m _read_most_recent_pjit_call_executable(jaxpr)\n\u001b[1;32m    307\u001b[0m   maybe_fastpath_data \u001b[38;5;241m=\u001b[39m _get_fastpath_data(\n\u001b[1;32m    308\u001b[0m       executable, out_tree, args_flat, out_flat, attrs_tracked, jaxpr\u001b[38;5;241m.\u001b[39meffects,\n\u001b[1;32m    309\u001b[0m       jaxpr\u001b[38;5;241m.\u001b[39mconsts, jit_info\u001b[38;5;241m.\u001b[39mabstracted_axes)\n",
      "File \u001b[0;32m/Library/Frameworks/Python.framework/Versions/3.12/lib/python3.12/site-packages/jax/_src/pjit.py:181\u001b[0m, in \u001b[0;36m_python_pjit_helper\u001b[0;34m(jit_info, *args, **kwargs)\u001b[0m\n\u001b[1;32m    178\u001b[0m   args_flat \u001b[38;5;241m=\u001b[39m [\u001b[38;5;241m*\u001b[39minit_states, \u001b[38;5;241m*\u001b[39margs_flat]\n\u001b[1;32m    180\u001b[0m \u001b[38;5;28;01mtry\u001b[39;00m:\n\u001b[0;32m--> 181\u001b[0m   out_flat \u001b[38;5;241m=\u001b[39m \u001b[43mpjit_p\u001b[49m\u001b[38;5;241;43m.\u001b[39;49m\u001b[43mbind\u001b[49m\u001b[43m(\u001b[49m\u001b[38;5;241;43m*\u001b[39;49m\u001b[43margs_flat\u001b[49m\u001b[43m,\u001b[49m\u001b[43m \u001b[49m\u001b[38;5;241;43m*\u001b[39;49m\u001b[38;5;241;43m*\u001b[39;49m\u001b[43mparams\u001b[49m\u001b[43m)\u001b[49m\n\u001b[1;32m    182\u001b[0m \u001b[38;5;28;01mexcept\u001b[39;00m pxla\u001b[38;5;241m.\u001b[39mDeviceAssignmentMismatchError \u001b[38;5;28;01mas\u001b[39;00m e:\n\u001b[1;32m    183\u001b[0m   fails, \u001b[38;5;241m=\u001b[39m e\u001b[38;5;241m.\u001b[39margs\n",
      "File \u001b[0;32m/Library/Frameworks/Python.framework/Versions/3.12/lib/python3.12/site-packages/jax/_src/core.py:2789\u001b[0m, in \u001b[0;36mAxisPrimitive.bind\u001b[0;34m(self, *args, **params)\u001b[0m\n\u001b[1;32m   2785\u001b[0m axis_main \u001b[38;5;241m=\u001b[39m \u001b[38;5;28mmax\u001b[39m((axis_frame(a)\u001b[38;5;241m.\u001b[39mmain_trace \u001b[38;5;28;01mfor\u001b[39;00m a \u001b[38;5;129;01min\u001b[39;00m used_axis_names(\u001b[38;5;28mself\u001b[39m, params)),\n\u001b[1;32m   2786\u001b[0m                 default\u001b[38;5;241m=\u001b[39m\u001b[38;5;28;01mNone\u001b[39;00m, key\u001b[38;5;241m=\u001b[39m\u001b[38;5;28;01mlambda\u001b[39;00m t: \u001b[38;5;28mgetattr\u001b[39m(t, \u001b[38;5;124m'\u001b[39m\u001b[38;5;124mlevel\u001b[39m\u001b[38;5;124m'\u001b[39m, \u001b[38;5;241m-\u001b[39m\u001b[38;5;241m1\u001b[39m))\n\u001b[1;32m   2787\u001b[0m top_trace \u001b[38;5;241m=\u001b[39m (top_trace \u001b[38;5;28;01mif\u001b[39;00m \u001b[38;5;129;01mnot\u001b[39;00m axis_main \u001b[38;5;129;01mor\u001b[39;00m axis_main\u001b[38;5;241m.\u001b[39mlevel \u001b[38;5;241m<\u001b[39m top_trace\u001b[38;5;241m.\u001b[39mlevel\n\u001b[1;32m   2788\u001b[0m              \u001b[38;5;28;01melse\u001b[39;00m axis_main\u001b[38;5;241m.\u001b[39mwith_cur_sublevel())\n\u001b[0;32m-> 2789\u001b[0m \u001b[38;5;28;01mreturn\u001b[39;00m \u001b[38;5;28;43mself\u001b[39;49m\u001b[38;5;241;43m.\u001b[39;49m\u001b[43mbind_with_trace\u001b[49m\u001b[43m(\u001b[49m\u001b[43mtop_trace\u001b[49m\u001b[43m,\u001b[49m\u001b[43m \u001b[49m\u001b[43margs\u001b[49m\u001b[43m,\u001b[49m\u001b[43m \u001b[49m\u001b[43mparams\u001b[49m\u001b[43m)\u001b[49m\n",
      "File \u001b[0;32m/Library/Frameworks/Python.framework/Versions/3.12/lib/python3.12/site-packages/jax/_src/core.py:391\u001b[0m, in \u001b[0;36mPrimitive.bind_with_trace\u001b[0;34m(self, trace, args, params)\u001b[0m\n\u001b[1;32m    389\u001b[0m \u001b[38;5;28;01mdef\u001b[39;00m \u001b[38;5;21mbind_with_trace\u001b[39m(\u001b[38;5;28mself\u001b[39m, trace, args, params):\n\u001b[1;32m    390\u001b[0m   \u001b[38;5;28;01mwith\u001b[39;00m pop_level(trace\u001b[38;5;241m.\u001b[39mlevel):\n\u001b[0;32m--> 391\u001b[0m     out \u001b[38;5;241m=\u001b[39m \u001b[43mtrace\u001b[49m\u001b[38;5;241;43m.\u001b[39;49m\u001b[43mprocess_primitive\u001b[49m\u001b[43m(\u001b[49m\u001b[38;5;28;43mself\u001b[39;49m\u001b[43m,\u001b[49m\u001b[43m \u001b[49m\u001b[38;5;28;43mmap\u001b[39;49m\u001b[43m(\u001b[49m\u001b[43mtrace\u001b[49m\u001b[38;5;241;43m.\u001b[39;49m\u001b[43mfull_raise\u001b[49m\u001b[43m,\u001b[49m\u001b[43m \u001b[49m\u001b[43margs\u001b[49m\u001b[43m)\u001b[49m\u001b[43m,\u001b[49m\u001b[43m \u001b[49m\u001b[43mparams\u001b[49m\u001b[43m)\u001b[49m\n\u001b[1;32m    392\u001b[0m   \u001b[38;5;28;01mreturn\u001b[39;00m \u001b[38;5;28mmap\u001b[39m(full_lower, out) \u001b[38;5;28;01mif\u001b[39;00m \u001b[38;5;28mself\u001b[39m\u001b[38;5;241m.\u001b[39mmultiple_results \u001b[38;5;28;01melse\u001b[39;00m full_lower(out)\n",
      "File \u001b[0;32m/Library/Frameworks/Python.framework/Versions/3.12/lib/python3.12/site-packages/jax/_src/core.py:879\u001b[0m, in \u001b[0;36mEvalTrace.process_primitive\u001b[0;34m(self, primitive, tracers, params)\u001b[0m\n\u001b[1;32m    877\u001b[0m   \u001b[38;5;28;01mreturn\u001b[39;00m call_impl_with_key_reuse_checks(primitive, primitive\u001b[38;5;241m.\u001b[39mimpl, \u001b[38;5;241m*\u001b[39mtracers, \u001b[38;5;241m*\u001b[39m\u001b[38;5;241m*\u001b[39mparams)\n\u001b[1;32m    878\u001b[0m \u001b[38;5;28;01melse\u001b[39;00m:\n\u001b[0;32m--> 879\u001b[0m   \u001b[38;5;28;01mreturn\u001b[39;00m \u001b[43mprimitive\u001b[49m\u001b[38;5;241;43m.\u001b[39;49m\u001b[43mimpl\u001b[49m\u001b[43m(\u001b[49m\u001b[38;5;241;43m*\u001b[39;49m\u001b[43mtracers\u001b[49m\u001b[43m,\u001b[49m\u001b[43m \u001b[49m\u001b[38;5;241;43m*\u001b[39;49m\u001b[38;5;241;43m*\u001b[39;49m\u001b[43mparams\u001b[49m\u001b[43m)\u001b[49m\n",
      "File \u001b[0;32m/Library/Frameworks/Python.framework/Versions/3.12/lib/python3.12/site-packages/jax/_src/pjit.py:1525\u001b[0m, in \u001b[0;36m_pjit_call_impl\u001b[0;34m(jaxpr, in_shardings, out_shardings, in_layouts, out_layouts, resource_env, donated_invars, name, keep_unused, inline, *args)\u001b[0m\n\u001b[1;32m   1522\u001b[0m donated_argnums \u001b[38;5;241m=\u001b[39m [i \u001b[38;5;28;01mfor\u001b[39;00m i, d \u001b[38;5;129;01min\u001b[39;00m \u001b[38;5;28menumerate\u001b[39m(donated_invars) \u001b[38;5;28;01mif\u001b[39;00m d]\n\u001b[1;32m   1523\u001b[0m has_explicit_sharding \u001b[38;5;241m=\u001b[39m _pjit_explicit_sharding(\n\u001b[1;32m   1524\u001b[0m     in_shardings, out_shardings, \u001b[38;5;28;01mNone\u001b[39;00m, \u001b[38;5;28;01mNone\u001b[39;00m)\n\u001b[0;32m-> 1525\u001b[0m \u001b[38;5;28;01mreturn\u001b[39;00m \u001b[43mxc\u001b[49m\u001b[38;5;241;43m.\u001b[39;49m\u001b[43m_xla\u001b[49m\u001b[38;5;241;43m.\u001b[39;49m\u001b[43mpjit\u001b[49m\u001b[43m(\u001b[49m\n\u001b[1;32m   1526\u001b[0m \u001b[43m    \u001b[49m\u001b[43mname\u001b[49m\u001b[43m,\u001b[49m\u001b[43m \u001b[49m\u001b[43mf\u001b[49m\u001b[43m,\u001b[49m\u001b[43m \u001b[49m\u001b[43mcall_impl_cache_miss\u001b[49m\u001b[43m,\u001b[49m\u001b[43m \u001b[49m\u001b[43m[\u001b[49m\u001b[43m]\u001b[49m\u001b[43m,\u001b[49m\u001b[43m \u001b[49m\u001b[43m[\u001b[49m\u001b[43m]\u001b[49m\u001b[43m,\u001b[49m\u001b[43m \u001b[49m\u001b[43mdonated_argnums\u001b[49m\u001b[43m,\u001b[49m\n\u001b[1;32m   1527\u001b[0m \u001b[43m    \u001b[49m\u001b[43mtree_util\u001b[49m\u001b[38;5;241;43m.\u001b[39;49m\u001b[43mdispatch_registry\u001b[49m\u001b[43m,\u001b[49m\n\u001b[1;32m   1528\u001b[0m \u001b[43m    \u001b[49m\u001b[43mpxla\u001b[49m\u001b[38;5;241;43m.\u001b[39;49m\u001b[43mshard_arg\u001b[49m\u001b[43m,\u001b[49m\u001b[43m  \u001b[49m\u001b[38;5;66;43;03m# type: ignore\u001b[39;49;00m\n\u001b[1;32m   1529\u001b[0m \u001b[43m    \u001b[49m\u001b[43m_get_cpp_global_cache\u001b[49m\u001b[43m(\u001b[49m\u001b[43mhas_explicit_sharding\u001b[49m\u001b[43m)\u001b[49m\u001b[43m)\u001b[49m\u001b[43m(\u001b[49m\u001b[38;5;241;43m*\u001b[39;49m\u001b[43margs\u001b[49m\u001b[43m)\u001b[49m\n",
      "File \u001b[0;32m/Library/Frameworks/Python.framework/Versions/3.12/lib/python3.12/site-packages/jax/_src/pjit.py:1508\u001b[0m, in \u001b[0;36m_pjit_call_impl.<locals>.call_impl_cache_miss\u001b[0;34m(*args_, **kwargs_)\u001b[0m\n\u001b[1;32m   1507\u001b[0m \u001b[38;5;28;01mdef\u001b[39;00m \u001b[38;5;21mcall_impl_cache_miss\u001b[39m(\u001b[38;5;241m*\u001b[39margs_, \u001b[38;5;241m*\u001b[39m\u001b[38;5;241m*\u001b[39mkwargs_):\n\u001b[0;32m-> 1508\u001b[0m   out_flat, compiled \u001b[38;5;241m=\u001b[39m \u001b[43m_pjit_call_impl_python\u001b[49m\u001b[43m(\u001b[49m\n\u001b[1;32m   1509\u001b[0m \u001b[43m      \u001b[49m\u001b[38;5;241;43m*\u001b[39;49m\u001b[43margs\u001b[49m\u001b[43m,\u001b[49m\u001b[43m \u001b[49m\u001b[43mjaxpr\u001b[49m\u001b[38;5;241;43m=\u001b[39;49m\u001b[43mjaxpr\u001b[49m\u001b[43m,\u001b[49m\u001b[43m \u001b[49m\u001b[43min_shardings\u001b[49m\u001b[38;5;241;43m=\u001b[39;49m\u001b[43min_shardings\u001b[49m\u001b[43m,\u001b[49m\n\u001b[1;32m   1510\u001b[0m \u001b[43m      \u001b[49m\u001b[43mout_shardings\u001b[49m\u001b[38;5;241;43m=\u001b[39;49m\u001b[43mout_shardings\u001b[49m\u001b[43m,\u001b[49m\u001b[43m \u001b[49m\u001b[43min_layouts\u001b[49m\u001b[38;5;241;43m=\u001b[39;49m\u001b[43min_layouts\u001b[49m\u001b[43m,\u001b[49m\n\u001b[1;32m   1511\u001b[0m \u001b[43m      \u001b[49m\u001b[43mout_layouts\u001b[49m\u001b[38;5;241;43m=\u001b[39;49m\u001b[43mout_layouts\u001b[49m\u001b[43m,\u001b[49m\u001b[43m \u001b[49m\u001b[43mresource_env\u001b[49m\u001b[38;5;241;43m=\u001b[39;49m\u001b[43mresource_env\u001b[49m\u001b[43m,\u001b[49m\n\u001b[1;32m   1512\u001b[0m \u001b[43m      \u001b[49m\u001b[43mdonated_invars\u001b[49m\u001b[38;5;241;43m=\u001b[39;49m\u001b[43mdonated_invars\u001b[49m\u001b[43m,\u001b[49m\u001b[43m \u001b[49m\u001b[43mname\u001b[49m\u001b[38;5;241;43m=\u001b[39;49m\u001b[43mname\u001b[49m\u001b[43m,\u001b[49m\u001b[43m \u001b[49m\u001b[43mkeep_unused\u001b[49m\u001b[38;5;241;43m=\u001b[39;49m\u001b[43mkeep_unused\u001b[49m\u001b[43m,\u001b[49m\n\u001b[1;32m   1513\u001b[0m \u001b[43m      \u001b[49m\u001b[43minline\u001b[49m\u001b[38;5;241;43m=\u001b[39;49m\u001b[43minline\u001b[49m\u001b[43m)\u001b[49m\n\u001b[1;32m   1514\u001b[0m   fastpath_data \u001b[38;5;241m=\u001b[39m _get_fastpath_data(\n\u001b[1;32m   1515\u001b[0m       compiled, tree_structure(out_flat), args, out_flat, [], jaxpr\u001b[38;5;241m.\u001b[39meffects,\n\u001b[1;32m   1516\u001b[0m       jaxpr\u001b[38;5;241m.\u001b[39mconsts, \u001b[38;5;28;01mNone\u001b[39;00m)\n\u001b[1;32m   1517\u001b[0m   \u001b[38;5;28;01mreturn\u001b[39;00m out_flat, fastpath_data\n",
      "File \u001b[0;32m/Library/Frameworks/Python.framework/Versions/3.12/lib/python3.12/site-packages/jax/_src/pjit.py:1434\u001b[0m, in \u001b[0;36m_pjit_call_impl_python\u001b[0;34m(jaxpr, in_shardings, out_shardings, in_layouts, out_layouts, resource_env, donated_invars, name, keep_unused, inline, *args)\u001b[0m\n\u001b[1;32m   1429\u001b[0m \u001b[38;5;28;01mdef\u001b[39;00m \u001b[38;5;21m_pjit_call_impl_python\u001b[39m(\n\u001b[1;32m   1430\u001b[0m     \u001b[38;5;241m*\u001b[39margs, jaxpr, in_shardings, out_shardings, in_layouts, out_layouts,\n\u001b[1;32m   1431\u001b[0m     resource_env, donated_invars, name, keep_unused, inline):\n\u001b[1;32m   1432\u001b[0m   \u001b[38;5;28;01mglobal\u001b[39;00m _most_recent_pjit_call_executable\n\u001b[0;32m-> 1434\u001b[0m   compiled \u001b[38;5;241m=\u001b[39m \u001b[43m_resolve_and_lower\u001b[49m\u001b[43m(\u001b[49m\n\u001b[1;32m   1435\u001b[0m \u001b[43m      \u001b[49m\u001b[43margs\u001b[49m\u001b[43m,\u001b[49m\u001b[43m \u001b[49m\u001b[43mjaxpr\u001b[49m\u001b[38;5;241;43m=\u001b[39;49m\u001b[43mjaxpr\u001b[49m\u001b[43m,\u001b[49m\u001b[43m \u001b[49m\u001b[43min_shardings\u001b[49m\u001b[38;5;241;43m=\u001b[39;49m\u001b[43min_shardings\u001b[49m\u001b[43m,\u001b[49m\u001b[43m \u001b[49m\u001b[43mout_shardings\u001b[49m\u001b[38;5;241;43m=\u001b[39;49m\u001b[43mout_shardings\u001b[49m\u001b[43m,\u001b[49m\n\u001b[1;32m   1436\u001b[0m \u001b[43m      \u001b[49m\u001b[43min_layouts\u001b[49m\u001b[38;5;241;43m=\u001b[39;49m\u001b[43min_layouts\u001b[49m\u001b[43m,\u001b[49m\u001b[43m \u001b[49m\u001b[43mout_layouts\u001b[49m\u001b[38;5;241;43m=\u001b[39;49m\u001b[43mout_layouts\u001b[49m\u001b[43m,\u001b[49m\u001b[43m \u001b[49m\u001b[43mresource_env\u001b[49m\u001b[38;5;241;43m=\u001b[39;49m\u001b[43mresource_env\u001b[49m\u001b[43m,\u001b[49m\n\u001b[1;32m   1437\u001b[0m \u001b[43m      \u001b[49m\u001b[43mdonated_invars\u001b[49m\u001b[38;5;241;43m=\u001b[39;49m\u001b[43mdonated_invars\u001b[49m\u001b[43m,\u001b[49m\u001b[43m \u001b[49m\u001b[43mname\u001b[49m\u001b[38;5;241;43m=\u001b[39;49m\u001b[43mname\u001b[49m\u001b[43m,\u001b[49m\u001b[43m \u001b[49m\u001b[43mkeep_unused\u001b[49m\u001b[38;5;241;43m=\u001b[39;49m\u001b[43mkeep_unused\u001b[49m\u001b[43m,\u001b[49m\n\u001b[1;32m   1438\u001b[0m \u001b[43m      \u001b[49m\u001b[43minline\u001b[49m\u001b[38;5;241;43m=\u001b[39;49m\u001b[43minline\u001b[49m\u001b[43m,\u001b[49m\u001b[43m \u001b[49m\u001b[43mlowering_parameters\u001b[49m\u001b[38;5;241;43m=\u001b[39;49m\u001b[43mmlir\u001b[49m\u001b[38;5;241;43m.\u001b[39;49m\u001b[43mLoweringParameters\u001b[49m\u001b[43m(\u001b[49m\u001b[43m)\u001b[49m\u001b[43m)\u001b[49m\u001b[38;5;241m.\u001b[39mcompile()\n\u001b[1;32m   1440\u001b[0m   _most_recent_pjit_call_executable\u001b[38;5;241m.\u001b[39mweak_key_dict[jaxpr] \u001b[38;5;241m=\u001b[39m compiled\n\u001b[1;32m   1441\u001b[0m   \u001b[38;5;66;03m# This check is expensive so only do it if enable_checks is on.\u001b[39;00m\n",
      "File \u001b[0;32m/Library/Frameworks/Python.framework/Versions/3.12/lib/python3.12/site-packages/jax/_src/pjit.py:1422\u001b[0m, in \u001b[0;36m_resolve_and_lower\u001b[0;34m(args, jaxpr, in_shardings, out_shardings, in_layouts, out_layouts, resource_env, donated_invars, name, keep_unused, inline, lowering_parameters)\u001b[0m\n\u001b[1;32m   1417\u001b[0m in_shardings \u001b[38;5;241m=\u001b[39m _resolve_in_shardings(\n\u001b[1;32m   1418\u001b[0m     args, in_shardings, out_shardings,\n\u001b[1;32m   1419\u001b[0m     resource_env\u001b[38;5;241m.\u001b[39mphysical_mesh \u001b[38;5;28;01mif\u001b[39;00m resource_env \u001b[38;5;129;01mis\u001b[39;00m \u001b[38;5;129;01mnot\u001b[39;00m \u001b[38;5;28;01mNone\u001b[39;00m \u001b[38;5;28;01melse\u001b[39;00m \u001b[38;5;28;01mNone\u001b[39;00m)\n\u001b[1;32m   1420\u001b[0m in_layouts \u001b[38;5;241m=\u001b[39m _resolve_in_layouts(args, in_layouts, in_shardings,\n\u001b[1;32m   1421\u001b[0m                                  jaxpr\u001b[38;5;241m.\u001b[39min_avals)\n\u001b[0;32m-> 1422\u001b[0m lowered \u001b[38;5;241m=\u001b[39m \u001b[43m_pjit_lower\u001b[49m\u001b[43m(\u001b[49m\n\u001b[1;32m   1423\u001b[0m \u001b[43m    \u001b[49m\u001b[43mjaxpr\u001b[49m\u001b[43m,\u001b[49m\u001b[43m \u001b[49m\u001b[43min_shardings\u001b[49m\u001b[43m,\u001b[49m\u001b[43m \u001b[49m\u001b[43mout_shardings\u001b[49m\u001b[43m,\u001b[49m\u001b[43m \u001b[49m\u001b[43min_layouts\u001b[49m\u001b[43m,\u001b[49m\u001b[43m \u001b[49m\u001b[43mout_layouts\u001b[49m\u001b[43m,\u001b[49m\u001b[43m \u001b[49m\u001b[43mresource_env\u001b[49m\u001b[43m,\u001b[49m\n\u001b[1;32m   1424\u001b[0m \u001b[43m    \u001b[49m\u001b[43mdonated_invars\u001b[49m\u001b[43m,\u001b[49m\u001b[43m \u001b[49m\u001b[43mname\u001b[49m\u001b[43m,\u001b[49m\u001b[43m \u001b[49m\u001b[43mkeep_unused\u001b[49m\u001b[43m,\u001b[49m\u001b[43m \u001b[49m\u001b[43minline\u001b[49m\u001b[43m,\u001b[49m\n\u001b[1;32m   1425\u001b[0m \u001b[43m    \u001b[49m\u001b[43mlowering_parameters\u001b[49m\u001b[38;5;241;43m=\u001b[39;49m\u001b[43mlowering_parameters\u001b[49m\u001b[43m)\u001b[49m\n\u001b[1;32m   1426\u001b[0m \u001b[38;5;28;01mreturn\u001b[39;00m lowered\n",
      "File \u001b[0;32m/Library/Frameworks/Python.framework/Versions/3.12/lib/python3.12/site-packages/jax/_src/pjit.py:1535\u001b[0m, in \u001b[0;36m_pjit_lower\u001b[0;34m(*args, **kwargs)\u001b[0m\n\u001b[1;32m   1534\u001b[0m \u001b[38;5;28;01mdef\u001b[39;00m \u001b[38;5;21m_pjit_lower\u001b[39m(\u001b[38;5;241m*\u001b[39margs, \u001b[38;5;241m*\u001b[39m\u001b[38;5;241m*\u001b[39mkwargs):\n\u001b[0;32m-> 1535\u001b[0m   \u001b[38;5;28;01mreturn\u001b[39;00m \u001b[43m_pjit_lower_cached\u001b[49m\u001b[43m(\u001b[49m\u001b[38;5;241;43m*\u001b[39;49m\u001b[43margs\u001b[49m\u001b[43m,\u001b[49m\u001b[43m \u001b[49m\u001b[38;5;241;43m*\u001b[39;49m\u001b[38;5;241;43m*\u001b[39;49m\u001b[43mkwargs\u001b[49m\u001b[43m)\u001b[49m\n",
      "File \u001b[0;32m/Library/Frameworks/Python.framework/Versions/3.12/lib/python3.12/site-packages/jax/_src/pjit.py:1572\u001b[0m, in \u001b[0;36m_pjit_lower_cached\u001b[0;34m(jaxpr, in_shardings, out_shardings, in_layouts, out_layouts, resource_env, donated_invars, name, keep_unused, inline, lowering_parameters)\u001b[0m\n\u001b[1;32m   1566\u001b[0m   \u001b[38;5;28;01mreturn\u001b[39;00m pxla\u001b[38;5;241m.\u001b[39mlower_mesh_computation(\n\u001b[1;32m   1567\u001b[0m     jaxpr, api_name, name, mesh,\n\u001b[1;32m   1568\u001b[0m     in_shardings, out_shardings, donated_invars,\n\u001b[1;32m   1569\u001b[0m     \u001b[38;5;28;01mTrue\u001b[39;00m, jaxpr\u001b[38;5;241m.\u001b[39min_avals, tiling_method\u001b[38;5;241m=\u001b[39m\u001b[38;5;28;01mNone\u001b[39;00m,\n\u001b[1;32m   1570\u001b[0m     lowering_parameters\u001b[38;5;241m=\u001b[39mlowering_parameters)\n\u001b[1;32m   1571\u001b[0m \u001b[38;5;28;01melse\u001b[39;00m:\n\u001b[0;32m-> 1572\u001b[0m   \u001b[38;5;28;01mreturn\u001b[39;00m \u001b[43mpxla\u001b[49m\u001b[38;5;241;43m.\u001b[39;49m\u001b[43mlower_sharding_computation\u001b[49m\u001b[43m(\u001b[49m\n\u001b[1;32m   1573\u001b[0m \u001b[43m      \u001b[49m\u001b[43mjaxpr\u001b[49m\u001b[43m,\u001b[49m\u001b[43m \u001b[49m\u001b[43mapi_name\u001b[49m\u001b[43m,\u001b[49m\u001b[43m \u001b[49m\u001b[43mname\u001b[49m\u001b[43m,\u001b[49m\u001b[43m \u001b[49m\u001b[43min_shardings\u001b[49m\u001b[43m,\u001b[49m\u001b[43m \u001b[49m\u001b[43mout_shardings\u001b[49m\u001b[43m,\u001b[49m\n\u001b[1;32m   1574\u001b[0m \u001b[43m      \u001b[49m\u001b[43min_layouts\u001b[49m\u001b[43m,\u001b[49m\u001b[43m \u001b[49m\u001b[43mout_layouts\u001b[49m\u001b[43m,\u001b[49m\u001b[43m \u001b[49m\u001b[38;5;28;43mtuple\u001b[39;49m\u001b[43m(\u001b[49m\u001b[43mdonated_invars\u001b[49m\u001b[43m)\u001b[49m\u001b[43m,\u001b[49m\n\u001b[1;32m   1575\u001b[0m \u001b[43m      \u001b[49m\u001b[43mkeep_unused\u001b[49m\u001b[38;5;241;43m=\u001b[39;49m\u001b[43mkeep_unused\u001b[49m\u001b[43m,\u001b[49m\u001b[43m \u001b[49m\u001b[43minline\u001b[49m\u001b[38;5;241;43m=\u001b[39;49m\u001b[43minline\u001b[49m\u001b[43m,\u001b[49m\n\u001b[1;32m   1576\u001b[0m \u001b[43m      \u001b[49m\u001b[43mdevices_from_context\u001b[49m\u001b[38;5;241;43m=\u001b[39;49m\u001b[43m(\u001b[49m\n\u001b[1;32m   1577\u001b[0m \u001b[43m          \u001b[49m\u001b[38;5;28;43;01mNone\u001b[39;49;00m\u001b[43m \u001b[49m\u001b[38;5;28;43;01mif\u001b[39;49;00m\u001b[43m \u001b[49m\u001b[43mmesh\u001b[49m\u001b[43m \u001b[49m\u001b[38;5;129;43;01mis\u001b[39;49;00m\u001b[43m \u001b[49m\u001b[38;5;28;43;01mNone\u001b[39;49;00m\u001b[43m \u001b[49m\u001b[38;5;129;43;01mor\u001b[39;49;00m\u001b[43m \u001b[49m\u001b[43mmesh\u001b[49m\u001b[38;5;241;43m.\u001b[39;49m\u001b[43mempty\u001b[49m\u001b[43m \u001b[49m\u001b[38;5;28;43;01melse\u001b[39;49;00m\u001b[43m \u001b[49m\u001b[38;5;28;43mlist\u001b[39;49m\u001b[43m(\u001b[49m\u001b[43mmesh\u001b[49m\u001b[38;5;241;43m.\u001b[39;49m\u001b[43mdevices\u001b[49m\u001b[38;5;241;43m.\u001b[39;49m\u001b[43mflat\u001b[49m\u001b[43m)\u001b[49m\u001b[43m)\u001b[49m\u001b[43m,\u001b[49m\n\u001b[1;32m   1578\u001b[0m \u001b[43m      \u001b[49m\u001b[43mlowering_parameters\u001b[49m\u001b[38;5;241;43m=\u001b[39;49m\u001b[43mlowering_parameters\u001b[49m\u001b[43m)\u001b[49m\n",
      "File \u001b[0;32m/Library/Frameworks/Python.framework/Versions/3.12/lib/python3.12/site-packages/jax/_src/profiler.py:335\u001b[0m, in \u001b[0;36mannotate_function.<locals>.wrapper\u001b[0;34m(*args, **kwargs)\u001b[0m\n\u001b[1;32m    332\u001b[0m \u001b[38;5;129m@wraps\u001b[39m(func)\n\u001b[1;32m    333\u001b[0m \u001b[38;5;28;01mdef\u001b[39;00m \u001b[38;5;21mwrapper\u001b[39m(\u001b[38;5;241m*\u001b[39margs, \u001b[38;5;241m*\u001b[39m\u001b[38;5;241m*\u001b[39mkwargs):\n\u001b[1;32m    334\u001b[0m   \u001b[38;5;28;01mwith\u001b[39;00m TraceAnnotation(name, \u001b[38;5;241m*\u001b[39m\u001b[38;5;241m*\u001b[39mdecorator_kwargs):\n\u001b[0;32m--> 335\u001b[0m     \u001b[38;5;28;01mreturn\u001b[39;00m \u001b[43mfunc\u001b[49m\u001b[43m(\u001b[49m\u001b[38;5;241;43m*\u001b[39;49m\u001b[43margs\u001b[49m\u001b[43m,\u001b[49m\u001b[43m \u001b[49m\u001b[38;5;241;43m*\u001b[39;49m\u001b[38;5;241;43m*\u001b[39;49m\u001b[43mkwargs\u001b[49m\u001b[43m)\u001b[49m\n\u001b[1;32m    336\u001b[0m   \u001b[38;5;28;01mreturn\u001b[39;00m wrapper\n",
      "File \u001b[0;32m/Library/Frameworks/Python.framework/Versions/3.12/lib/python3.12/site-packages/jax/_src/interpreters/pxla.py:2129\u001b[0m, in \u001b[0;36mlower_sharding_computation\u001b[0;34m(closed_jaxpr, api_name, fun_name, in_shardings, out_shardings, in_layouts, out_layouts, donated_invars, keep_unused, inline, devices_from_context, lowering_parameters)\u001b[0m\n\u001b[1;32m   2124\u001b[0m semantic_out_shardings \u001b[38;5;241m=\u001b[39m SemanticallyEqualShardings(\n\u001b[1;32m   2125\u001b[0m     out_shardings, global_out_avals)  \u001b[38;5;66;03m# type: ignore\u001b[39;00m\n\u001b[1;32m   2126\u001b[0m prim_requires_devices \u001b[38;5;241m=\u001b[39m dispatch\u001b[38;5;241m.\u001b[39mjaxpr_has_prim_requiring_devices(jaxpr)\n\u001b[1;32m   2128\u001b[0m (module, keepalive, host_callbacks, unordered_effects, ordered_effects,\n\u001b[0;32m-> 2129\u001b[0m  nreps, tuple_args, shape_poly_state) \u001b[38;5;241m=\u001b[39m \u001b[43m_cached_lowering_to_hlo\u001b[49m\u001b[43m(\u001b[49m\n\u001b[1;32m   2130\u001b[0m \u001b[43m     \u001b[49m\u001b[43mclosed_jaxpr\u001b[49m\u001b[43m,\u001b[49m\u001b[43m \u001b[49m\u001b[43mapi_name\u001b[49m\u001b[43m,\u001b[49m\u001b[43m \u001b[49m\u001b[43mfun_name\u001b[49m\u001b[43m,\u001b[49m\u001b[43m \u001b[49m\u001b[43mbackend\u001b[49m\u001b[43m,\u001b[49m\u001b[43m \u001b[49m\u001b[43msemantic_in_shardings\u001b[49m\u001b[43m,\u001b[49m\n\u001b[1;32m   2131\u001b[0m \u001b[43m     \u001b[49m\u001b[43msemantic_out_shardings\u001b[49m\u001b[43m,\u001b[49m\u001b[43m \u001b[49m\u001b[43min_layouts\u001b[49m\u001b[43m,\u001b[49m\u001b[43m \u001b[49m\u001b[43mout_layouts\u001b[49m\u001b[43m,\u001b[49m\u001b[43m \u001b[49m\u001b[38;5;28;43mlen\u001b[39;49m\u001b[43m(\u001b[49m\u001b[43mda_object\u001b[49m\u001b[43m)\u001b[49m\u001b[43m,\u001b[49m\n\u001b[1;32m   2132\u001b[0m \u001b[43m     \u001b[49m\u001b[38;5;28;43mtuple\u001b[39;49m\u001b[43m(\u001b[49m\u001b[43mda_object\u001b[49m\u001b[43m)\u001b[49m\u001b[43m \u001b[49m\u001b[38;5;28;43;01mif\u001b[39;49;00m\u001b[43m \u001b[49m\u001b[43mprim_requires_devices\u001b[49m\u001b[43m \u001b[49m\u001b[38;5;28;43;01melse\u001b[39;49;00m\u001b[43m \u001b[49m\u001b[38;5;28;43;01mNone\u001b[39;49;00m\u001b[43m,\u001b[49m\u001b[43m \u001b[49m\u001b[43mdonated_invars\u001b[49m\u001b[43m,\u001b[49m\n\u001b[1;32m   2133\u001b[0m \u001b[43m     \u001b[49m\u001b[43mname_stack\u001b[49m\u001b[43m,\u001b[49m\u001b[43m \u001b[49m\u001b[43mall_default_mem_kind\u001b[49m\u001b[43m,\u001b[49m\u001b[43m \u001b[49m\u001b[43minout_aliases\u001b[49m\u001b[43m,\u001b[49m\n\u001b[1;32m   2134\u001b[0m \u001b[43m     \u001b[49m\u001b[43mlowering_parameters\u001b[49m\u001b[38;5;241;43m=\u001b[39;49m\u001b[43mlowering_parameters\u001b[49m\u001b[43m)\u001b[49m\n\u001b[1;32m   2136\u001b[0m \u001b[38;5;66;03m# backend and device_assignment is passed through to MeshExecutable because\u001b[39;00m\n\u001b[1;32m   2137\u001b[0m \u001b[38;5;66;03m# if keep_unused=False and all in_shardings are pruned, then there is no way\u001b[39;00m\n\u001b[1;32m   2138\u001b[0m \u001b[38;5;66;03m# to get the device_assignment and backend. So pass it to MeshExecutable\u001b[39;00m\n\u001b[1;32m   2139\u001b[0m \u001b[38;5;66;03m# because we calculate the device_assignment and backend before in_shardings,\u001b[39;00m\n\u001b[1;32m   2140\u001b[0m \u001b[38;5;66;03m# etc are pruned.\u001b[39;00m\n\u001b[1;32m   2141\u001b[0m \u001b[38;5;28;01mreturn\u001b[39;00m MeshComputation(\n\u001b[1;32m   2142\u001b[0m     \u001b[38;5;28mstr\u001b[39m(name_stack),\n\u001b[1;32m   2143\u001b[0m     module,\n\u001b[0;32m   (...)\u001b[0m\n\u001b[1;32m   2165\u001b[0m     all_default_mem_kind\u001b[38;5;241m=\u001b[39mall_default_mem_kind,\n\u001b[1;32m   2166\u001b[0m     all_args_info\u001b[38;5;241m=\u001b[39mall_args_info)\n",
      "File \u001b[0;32m/Library/Frameworks/Python.framework/Versions/3.12/lib/python3.12/site-packages/jax/_src/interpreters/pxla.py:1941\u001b[0m, in \u001b[0;36m_cached_lowering_to_hlo\u001b[0;34m(closed_jaxpr, api_name, fun_name, backend, semantic_in_shardings, semantic_out_shardings, in_layouts, out_layouts, num_devices, device_assignment, donated_invars, name_stack, all_default_mem_kind, inout_aliases, lowering_parameters)\u001b[0m\n\u001b[1;32m   1936\u001b[0m ordered_effects \u001b[38;5;241m=\u001b[39m \u001b[38;5;28mlist\u001b[39m(effects\u001b[38;5;241m.\u001b[39mordered_effects\u001b[38;5;241m.\u001b[39mfilter_in(closed_jaxpr\u001b[38;5;241m.\u001b[39meffects))\n\u001b[1;32m   1938\u001b[0m \u001b[38;5;28;01mwith\u001b[39;00m dispatch\u001b[38;5;241m.\u001b[39mlog_elapsed_time(\n\u001b[1;32m   1939\u001b[0m       \u001b[38;5;124m\"\u001b[39m\u001b[38;5;124mFinished jaxpr to MLIR module conversion \u001b[39m\u001b[38;5;132;01m{fun_name}\u001b[39;00m\u001b[38;5;124m in \u001b[39m\u001b[38;5;132;01m{elapsed_time}\u001b[39;00m\u001b[38;5;124m sec\u001b[39m\u001b[38;5;124m\"\u001b[39m,\n\u001b[1;32m   1940\u001b[0m       fun_name\u001b[38;5;241m=\u001b[39m\u001b[38;5;28mstr\u001b[39m(name_stack), event\u001b[38;5;241m=\u001b[39mdispatch\u001b[38;5;241m.\u001b[39mJAXPR_TO_MLIR_MODULE_EVENT):\n\u001b[0;32m-> 1941\u001b[0m   lowering_result \u001b[38;5;241m=\u001b[39m \u001b[43mmlir\u001b[49m\u001b[38;5;241;43m.\u001b[39;49m\u001b[43mlower_jaxpr_to_module\u001b[49m\u001b[43m(\u001b[49m\n\u001b[1;32m   1942\u001b[0m \u001b[43m      \u001b[49m\u001b[43mmodule_name\u001b[49m\u001b[43m,\u001b[49m\n\u001b[1;32m   1943\u001b[0m \u001b[43m      \u001b[49m\u001b[43mclosed_jaxpr\u001b[49m\u001b[43m,\u001b[49m\n\u001b[1;32m   1944\u001b[0m \u001b[43m      \u001b[49m\u001b[43mordered_effects\u001b[49m\u001b[38;5;241;43m=\u001b[39;49m\u001b[43mordered_effects\u001b[49m\u001b[43m,\u001b[49m\n\u001b[1;32m   1945\u001b[0m \u001b[43m      \u001b[49m\u001b[43mbackend_or_name\u001b[49m\u001b[38;5;241;43m=\u001b[39;49m\u001b[43mbackend\u001b[49m\u001b[43m,\u001b[49m\n\u001b[1;32m   1946\u001b[0m \u001b[43m      \u001b[49m\u001b[38;5;66;43;03m# Optionally, override the lowering platform\u001b[39;49;00m\n\u001b[1;32m   1947\u001b[0m \u001b[43m      \u001b[49m\u001b[43mplatforms\u001b[49m\u001b[38;5;241;43m=\u001b[39;49m\u001b[43mlowering_parameters\u001b[49m\u001b[38;5;241;43m.\u001b[39;49m\u001b[43mplatforms\u001b[49m\u001b[43m \u001b[49m\u001b[38;5;129;43;01mor\u001b[39;49;00m\u001b[43m \u001b[49m\u001b[43m(\u001b[49m\u001b[43mbackend\u001b[49m\u001b[38;5;241;43m.\u001b[39;49m\u001b[43mplatform\u001b[49m\u001b[43m,\u001b[49m\u001b[43m)\u001b[49m\u001b[43m,\u001b[49m\n\u001b[1;32m   1948\u001b[0m \u001b[43m      \u001b[49m\u001b[43maxis_context\u001b[49m\u001b[38;5;241;43m=\u001b[39;49m\u001b[43maxis_ctx\u001b[49m\u001b[43m,\u001b[49m\n\u001b[1;32m   1949\u001b[0m \u001b[43m      \u001b[49m\u001b[43mname_stack\u001b[49m\u001b[38;5;241;43m=\u001b[39;49m\u001b[43mname_stack\u001b[49m\u001b[43m,\u001b[49m\n\u001b[1;32m   1950\u001b[0m \u001b[43m      \u001b[49m\u001b[43mdonated_args\u001b[49m\u001b[38;5;241;43m=\u001b[39;49m\u001b[43mdonated_invars\u001b[49m\u001b[43m,\u001b[49m\n\u001b[1;32m   1951\u001b[0m \u001b[43m      \u001b[49m\u001b[43mreplicated_args\u001b[49m\u001b[38;5;241;43m=\u001b[39;49m\u001b[43mreplicated_args\u001b[49m\u001b[43m,\u001b[49m\n\u001b[1;32m   1952\u001b[0m \u001b[43m      \u001b[49m\u001b[43marg_shardings\u001b[49m\u001b[38;5;241;43m=\u001b[39;49m\u001b[43min_mlir_shardings\u001b[49m\u001b[43m,\u001b[49m\n\u001b[1;32m   1953\u001b[0m \u001b[43m      \u001b[49m\u001b[43mresult_shardings\u001b[49m\u001b[38;5;241;43m=\u001b[39;49m\u001b[43mout_mlir_shardings\u001b[49m\u001b[43m,\u001b[49m\n\u001b[1;32m   1954\u001b[0m \u001b[43m      \u001b[49m\u001b[43min_layouts\u001b[49m\u001b[38;5;241;43m=\u001b[39;49m\u001b[43min_layouts\u001b[49m\u001b[43m,\u001b[49m\n\u001b[1;32m   1955\u001b[0m \u001b[43m      \u001b[49m\u001b[43mout_layouts\u001b[49m\u001b[38;5;241;43m=\u001b[39;49m\u001b[43mout_layouts\u001b[49m\u001b[43m,\u001b[49m\n\u001b[1;32m   1956\u001b[0m \u001b[43m      \u001b[49m\u001b[43marg_names\u001b[49m\u001b[38;5;241;43m=\u001b[39;49m\u001b[43mjaxpr\u001b[49m\u001b[38;5;241;43m.\u001b[39;49m\u001b[43mdebug_info\u001b[49m\u001b[43m \u001b[49m\u001b[38;5;129;43;01mand\u001b[39;49;00m\u001b[43m \u001b[49m\u001b[43mjaxpr\u001b[49m\u001b[38;5;241;43m.\u001b[39;49m\u001b[43mdebug_info\u001b[49m\u001b[38;5;241;43m.\u001b[39;49m\u001b[43marg_names\u001b[49m\u001b[43m,\u001b[49m\n\u001b[1;32m   1957\u001b[0m \u001b[43m      \u001b[49m\u001b[43mresult_names\u001b[49m\u001b[38;5;241;43m=\u001b[39;49m\u001b[43mjaxpr\u001b[49m\u001b[38;5;241;43m.\u001b[39;49m\u001b[43mdebug_info\u001b[49m\u001b[43m \u001b[49m\u001b[38;5;129;43;01mand\u001b[39;49;00m\u001b[43m \u001b[49m\u001b[43mjaxpr\u001b[49m\u001b[38;5;241;43m.\u001b[39;49m\u001b[43mdebug_info\u001b[49m\u001b[38;5;241;43m.\u001b[39;49m\u001b[43mresult_paths\u001b[49m\u001b[43m,\u001b[49m\n\u001b[1;32m   1958\u001b[0m \u001b[43m      \u001b[49m\u001b[43mnum_replicas\u001b[49m\u001b[38;5;241;43m=\u001b[39;49m\u001b[43mnreps\u001b[49m\u001b[43m,\u001b[49m\n\u001b[1;32m   1959\u001b[0m \u001b[43m      \u001b[49m\u001b[43mnum_partitions\u001b[49m\u001b[38;5;241;43m=\u001b[39;49m\u001b[43mnum_partitions\u001b[49m\u001b[43m,\u001b[49m\n\u001b[1;32m   1960\u001b[0m \u001b[43m      \u001b[49m\u001b[43mall_default_mem_kind\u001b[49m\u001b[38;5;241;43m=\u001b[39;49m\u001b[43mall_default_mem_kind\u001b[49m\u001b[43m,\u001b[49m\n\u001b[1;32m   1961\u001b[0m \u001b[43m      \u001b[49m\u001b[43minput_output_aliases\u001b[49m\u001b[38;5;241;43m=\u001b[39;49m\u001b[43minout_aliases\u001b[49m\u001b[43m,\u001b[49m\n\u001b[1;32m   1962\u001b[0m \u001b[43m      \u001b[49m\u001b[43mlowering_parameters\u001b[49m\u001b[38;5;241;43m=\u001b[39;49m\u001b[43mlowering_parameters\u001b[49m\u001b[43m)\u001b[49m\n\u001b[1;32m   1963\u001b[0m tuple_args \u001b[38;5;241m=\u001b[39m dispatch\u001b[38;5;241m.\u001b[39mshould_tuple_args(\u001b[38;5;28mlen\u001b[39m(global_in_avals), backend\u001b[38;5;241m.\u001b[39mplatform)\n\u001b[1;32m   1964\u001b[0m unordered_effects \u001b[38;5;241m=\u001b[39m \u001b[38;5;28mlist\u001b[39m(\n\u001b[1;32m   1965\u001b[0m     effects\u001b[38;5;241m.\u001b[39mordered_effects\u001b[38;5;241m.\u001b[39mfilter_not_in(closed_jaxpr\u001b[38;5;241m.\u001b[39meffects))\n",
      "File \u001b[0;32m/Library/Frameworks/Python.framework/Versions/3.12/lib/python3.12/site-packages/jax/_src/interpreters/mlir.py:974\u001b[0m, in \u001b[0;36mlower_jaxpr_to_module\u001b[0;34m(***failed resolving arguments***)\u001b[0m\n\u001b[1;32m    972\u001b[0m   attrs[\u001b[38;5;124m\"\u001b[39m\u001b[38;5;124mmhlo.num_partitions\u001b[39m\u001b[38;5;124m\"\u001b[39m] \u001b[38;5;241m=\u001b[39m i32_attr(num_partitions)\n\u001b[1;32m    973\u001b[0m   replace_tokens_with_dummy \u001b[38;5;241m=\u001b[39m \u001b[38;5;28;01mFalse\u001b[39;00m\n\u001b[0;32m--> 974\u001b[0m   \u001b[43mlower_jaxpr_to_fun\u001b[49m\u001b[43m(\u001b[49m\n\u001b[1;32m    975\u001b[0m \u001b[43m      \u001b[49m\u001b[43mctx\u001b[49m\u001b[43m,\u001b[49m\u001b[43m \u001b[49m\u001b[38;5;124;43m\"\u001b[39;49m\u001b[38;5;124;43mmain\u001b[39;49m\u001b[38;5;124;43m\"\u001b[39;49m\u001b[43m,\u001b[49m\u001b[43m \u001b[49m\u001b[43mjaxpr\u001b[49m\u001b[43m,\u001b[49m\u001b[43m \u001b[49m\u001b[43mordered_effects\u001b[49m\u001b[43m,\u001b[49m\n\u001b[1;32m    976\u001b[0m \u001b[43m      \u001b[49m\u001b[43mname_stack\u001b[49m\u001b[38;5;241;43m=\u001b[39;49m\u001b[43mname_stack\u001b[49m\u001b[43m,\u001b[49m\n\u001b[1;32m    977\u001b[0m \u001b[43m      \u001b[49m\u001b[43mpublic\u001b[49m\u001b[38;5;241;43m=\u001b[39;49m\u001b[38;5;28;43;01mTrue\u001b[39;49;00m\u001b[43m,\u001b[49m\n\u001b[1;32m    978\u001b[0m \u001b[43m      \u001b[49m\u001b[43mcreate_tokens\u001b[49m\u001b[38;5;241;43m=\u001b[39;49m\u001b[43mreplace_tokens_with_dummy\u001b[49m\u001b[43m,\u001b[49m\n\u001b[1;32m    979\u001b[0m \u001b[43m      \u001b[49m\u001b[43mreplace_tokens_with_dummy\u001b[49m\u001b[38;5;241;43m=\u001b[39;49m\u001b[43mreplace_tokens_with_dummy\u001b[49m\u001b[43m,\u001b[49m\n\u001b[1;32m    980\u001b[0m \u001b[43m      \u001b[49m\u001b[43mnum_output_tokens\u001b[49m\u001b[38;5;241;43m=\u001b[39;49m\u001b[38;5;241;43m0\u001b[39;49m\u001b[43m,\u001b[49m\n\u001b[1;32m    981\u001b[0m \u001b[43m      \u001b[49m\u001b[43mreplicated_args\u001b[49m\u001b[38;5;241;43m=\u001b[39;49m\u001b[43mreplicated_args\u001b[49m\u001b[43m,\u001b[49m\n\u001b[1;32m    982\u001b[0m \u001b[43m      \u001b[49m\u001b[43marg_shardings\u001b[49m\u001b[38;5;241;43m=\u001b[39;49m\u001b[43marg_shardings\u001b[49m\u001b[43m,\u001b[49m\n\u001b[1;32m    983\u001b[0m \u001b[43m      \u001b[49m\u001b[43mresult_shardings\u001b[49m\u001b[38;5;241;43m=\u001b[39;49m\u001b[43mresult_shardings\u001b[49m\u001b[43m,\u001b[49m\n\u001b[1;32m    984\u001b[0m \u001b[43m      \u001b[49m\u001b[43minput_output_aliases\u001b[49m\u001b[38;5;241;43m=\u001b[39;49m\u001b[43minput_output_aliases\u001b[49m\u001b[43m,\u001b[49m\n\u001b[1;32m    985\u001b[0m \u001b[43m      \u001b[49m\u001b[43mxla_donated_args\u001b[49m\u001b[38;5;241;43m=\u001b[39;49m\u001b[43mxla_donated_args\u001b[49m\u001b[43m,\u001b[49m\n\u001b[1;32m    986\u001b[0m \u001b[43m      \u001b[49m\u001b[43marg_names\u001b[49m\u001b[38;5;241;43m=\u001b[39;49m\u001b[43marg_names\u001b[49m\u001b[43m,\u001b[49m\n\u001b[1;32m    987\u001b[0m \u001b[43m      \u001b[49m\u001b[43mresult_names\u001b[49m\u001b[38;5;241;43m=\u001b[39;49m\u001b[43mresult_names\u001b[49m\u001b[43m,\u001b[49m\n\u001b[1;32m    988\u001b[0m \u001b[43m      \u001b[49m\u001b[43marg_memory_kinds\u001b[49m\u001b[38;5;241;43m=\u001b[39;49m\u001b[43marg_memory_kinds\u001b[49m\u001b[43m,\u001b[49m\n\u001b[1;32m    989\u001b[0m \u001b[43m      \u001b[49m\u001b[43mresult_memory_kinds\u001b[49m\u001b[38;5;241;43m=\u001b[39;49m\u001b[43mresult_memory_kinds\u001b[49m\u001b[43m,\u001b[49m\n\u001b[1;32m    990\u001b[0m \u001b[43m      \u001b[49m\u001b[43marg_layouts\u001b[49m\u001b[38;5;241;43m=\u001b[39;49m\u001b[43min_layouts\u001b[49m\u001b[43m,\u001b[49m\n\u001b[1;32m    991\u001b[0m \u001b[43m      \u001b[49m\u001b[43mresult_layouts\u001b[49m\u001b[38;5;241;43m=\u001b[39;49m\u001b[43mout_layouts\u001b[49m\u001b[43m)\u001b[49m\n\u001b[1;32m    993\u001b[0m \u001b[38;5;28;01mtry\u001b[39;00m:\n\u001b[1;32m    994\u001b[0m   \u001b[38;5;28;01mif\u001b[39;00m \u001b[38;5;129;01mnot\u001b[39;00m ctx\u001b[38;5;241m.\u001b[39mmodule\u001b[38;5;241m.\u001b[39moperation\u001b[38;5;241m.\u001b[39mverify():\n",
      "File \u001b[0;32m/Library/Frameworks/Python.framework/Versions/3.12/lib/python3.12/site-packages/jax/_src/interpreters/mlir.py:1438\u001b[0m, in \u001b[0;36mlower_jaxpr_to_fun\u001b[0;34m(ctx, name, jaxpr, effects, name_stack, create_tokens, public, replace_tokens_with_dummy, replicated_args, arg_shardings, result_shardings, use_sharding_annotations, input_output_aliases, xla_donated_args, num_output_tokens, api_name, arg_names, result_names, arg_memory_kinds, result_memory_kinds, arg_layouts, result_layouts)\u001b[0m\n\u001b[1;32m   1436\u001b[0m callee_name_stack \u001b[38;5;241m=\u001b[39m name_stack\u001b[38;5;241m.\u001b[39mextend(util\u001b[38;5;241m.\u001b[39mwrap_name(name, api_name))\n\u001b[1;32m   1437\u001b[0m consts \u001b[38;5;241m=\u001b[39m [ir_constants(xla\u001b[38;5;241m.\u001b[39mcanonicalize_dtype(x)) \u001b[38;5;28;01mfor\u001b[39;00m x \u001b[38;5;129;01min\u001b[39;00m jaxpr\u001b[38;5;241m.\u001b[39mconsts]\n\u001b[0;32m-> 1438\u001b[0m out_vals, tokens_out \u001b[38;5;241m=\u001b[39m \u001b[43mjaxpr_subcomp\u001b[49m\u001b[43m(\u001b[49m\n\u001b[1;32m   1439\u001b[0m \u001b[43m    \u001b[49m\u001b[43mctx\u001b[49m\u001b[43m,\u001b[49m\u001b[43m \u001b[49m\u001b[43mjaxpr\u001b[49m\u001b[38;5;241;43m.\u001b[39;49m\u001b[43mjaxpr\u001b[49m\u001b[43m,\u001b[49m\u001b[43m \u001b[49m\u001b[43mcallee_name_stack\u001b[49m\u001b[43m,\u001b[49m\u001b[43m \u001b[49m\u001b[43mtokens_in\u001b[49m\u001b[43m,\u001b[49m\n\u001b[1;32m   1440\u001b[0m \u001b[43m    \u001b[49m\u001b[43mconsts\u001b[49m\u001b[43m,\u001b[49m\u001b[43m \u001b[49m\u001b[38;5;241;43m*\u001b[39;49m\u001b[43margs\u001b[49m\u001b[43m,\u001b[49m\u001b[43m \u001b[49m\u001b[43mdim_var_values\u001b[49m\u001b[38;5;241;43m=\u001b[39;49m\u001b[43mdim_var_values\u001b[49m\u001b[43m)\u001b[49m\n\u001b[1;32m   1441\u001b[0m outs \u001b[38;5;241m=\u001b[39m []\n\u001b[1;32m   1442\u001b[0m \u001b[38;5;28;01mif\u001b[39;00m create_tokens:\n",
      "File \u001b[0;32m/Library/Frameworks/Python.framework/Versions/3.12/lib/python3.12/site-packages/jax/_src/interpreters/mlir.py:1622\u001b[0m, in \u001b[0;36mjaxpr_subcomp\u001b[0;34m(ctx, jaxpr, name_stack, tokens, consts, dim_var_values, *args)\u001b[0m\n\u001b[1;32m   1619\u001b[0m   rule_ctx \u001b[38;5;241m=\u001b[39m rule_ctx\u001b[38;5;241m.\u001b[39mreplace(axis_size_env\u001b[38;5;241m=\u001b[39maxis_size_env)\n\u001b[1;32m   1621\u001b[0m rule_inputs \u001b[38;5;241m=\u001b[39m \u001b[38;5;28mmap\u001b[39m(_unwrap_singleton_ir_values, in_nodes)\n\u001b[0;32m-> 1622\u001b[0m ans \u001b[38;5;241m=\u001b[39m \u001b[43mlower_per_platform\u001b[49m\u001b[43m(\u001b[49m\u001b[43mrule_ctx\u001b[49m\u001b[43m,\u001b[49m\u001b[43m \u001b[49m\u001b[38;5;28;43mstr\u001b[39;49m\u001b[43m(\u001b[49m\u001b[43meqn\u001b[49m\u001b[38;5;241;43m.\u001b[39;49m\u001b[43mprimitive\u001b[49m\u001b[43m)\u001b[49m\u001b[43m,\u001b[49m\n\u001b[1;32m   1623\u001b[0m \u001b[43m                         \u001b[49m\u001b[43mplatform_rules\u001b[49m\u001b[43m,\u001b[49m\u001b[43m \u001b[49m\u001b[43mdefault_rule\u001b[49m\u001b[43m,\u001b[49m\n\u001b[1;32m   1624\u001b[0m \u001b[43m                         \u001b[49m\u001b[43meqn\u001b[49m\u001b[38;5;241;43m.\u001b[39;49m\u001b[43meffects\u001b[49m\u001b[43m,\u001b[49m\n\u001b[1;32m   1625\u001b[0m \u001b[43m                         \u001b[49m\u001b[38;5;241;43m*\u001b[39;49m\u001b[43mrule_inputs\u001b[49m\u001b[43m,\u001b[49m\u001b[43m \u001b[49m\u001b[38;5;241;43m*\u001b[39;49m\u001b[38;5;241;43m*\u001b[39;49m\u001b[43meqn\u001b[49m\u001b[38;5;241;43m.\u001b[39;49m\u001b[43mparams\u001b[49m\u001b[43m)\u001b[49m\n\u001b[1;32m   1627\u001b[0m \u001b[38;5;28;01mif\u001b[39;00m effects:\n\u001b[1;32m   1628\u001b[0m   \u001b[38;5;66;03m# If there were ordered effects in the primitive, there should be output\u001b[39;00m\n\u001b[1;32m   1629\u001b[0m   \u001b[38;5;66;03m# tokens we need for subsequent ordered effects.\u001b[39;00m\n\u001b[1;32m   1630\u001b[0m   tokens_out \u001b[38;5;241m=\u001b[39m rule_ctx\u001b[38;5;241m.\u001b[39mtokens_out\n",
      "File \u001b[0;32m/Library/Frameworks/Python.framework/Versions/3.12/lib/python3.12/site-packages/jax/_src/interpreters/mlir.py:1730\u001b[0m, in \u001b[0;36mlower_per_platform\u001b[0;34m(ctx, description, platform_rules, default_rule, effects, *rule_args, **rule_kwargs)\u001b[0m\n\u001b[1;32m   1728\u001b[0m \u001b[38;5;66;03m# If there is a single rule left just apply the rule, without conditionals.\u001b[39;00m\n\u001b[1;32m   1729\u001b[0m \u001b[38;5;28;01mif\u001b[39;00m \u001b[38;5;28mlen\u001b[39m(kept_rules) \u001b[38;5;241m==\u001b[39m \u001b[38;5;241m1\u001b[39m:\n\u001b[0;32m-> 1730\u001b[0m  \u001b[38;5;28;01mreturn\u001b[39;00m \u001b[43mkept_rules\u001b[49m\u001b[43m[\u001b[49m\u001b[38;5;241;43m0\u001b[39;49m\u001b[43m]\u001b[49m\u001b[43m(\u001b[49m\u001b[43mctx\u001b[49m\u001b[43m,\u001b[49m\u001b[43m \u001b[49m\u001b[38;5;241;43m*\u001b[39;49m\u001b[43mrule_args\u001b[49m\u001b[43m,\u001b[49m\u001b[43m \u001b[49m\u001b[38;5;241;43m*\u001b[39;49m\u001b[38;5;241;43m*\u001b[39;49m\u001b[43mrule_kwargs\u001b[49m\u001b[43m)\u001b[49m\n\u001b[1;32m   1732\u001b[0m \u001b[38;5;28;01massert\u001b[39;00m \u001b[38;5;28mlen\u001b[39m(platforms) \u001b[38;5;241m>\u001b[39m \u001b[38;5;241m1\u001b[39m \u001b[38;5;129;01mand\u001b[39;00m \u001b[38;5;28mlen\u001b[39m(kept_rules) \u001b[38;5;241m>\u001b[39m\u001b[38;5;241m=\u001b[39m \u001b[38;5;241m2\u001b[39m, (platforms, kept_rules)\n\u001b[1;32m   1733\u001b[0m \u001b[38;5;28;01massert\u001b[39;00m \u001b[38;5;28mlen\u001b[39m(ctx\u001b[38;5;241m.\u001b[39mdim_var_values) \u001b[38;5;241m>\u001b[39m\u001b[38;5;241m=\u001b[39m \u001b[38;5;241m1\u001b[39m, \u001b[38;5;124m\"\u001b[39m\u001b[38;5;124mMust have a platform_index variable\u001b[39m\u001b[38;5;124m\"\u001b[39m\n",
      "File \u001b[0;32m/Library/Frameworks/Python.framework/Versions/3.12/lib/python3.12/site-packages/jax/_src/interpreters/mlir.py:1817\u001b[0m, in \u001b[0;36mlower_fun.<locals>.f_lowered\u001b[0;34m(ctx, *args, **params)\u001b[0m\n\u001b[1;32m   1814\u001b[0m   jaxpr, _, consts, () \u001b[38;5;241m=\u001b[39m pe\u001b[38;5;241m.\u001b[39mtrace_to_jaxpr_dynamic(wrapped_fun, ctx\u001b[38;5;241m.\u001b[39mavals_in)\n\u001b[1;32m   1815\u001b[0m   \u001b[38;5;66;03m# TODO(frostig,mattjj): check ctx.avals_out against jaxpr avals out?\u001b[39;00m\n\u001b[0;32m-> 1817\u001b[0m out, tokens \u001b[38;5;241m=\u001b[39m \u001b[43mjaxpr_subcomp\u001b[49m\u001b[43m(\u001b[49m\n\u001b[1;32m   1818\u001b[0m \u001b[43m    \u001b[49m\u001b[43mctx\u001b[49m\u001b[38;5;241;43m.\u001b[39;49m\u001b[43mmodule_context\u001b[49m\u001b[43m,\u001b[49m\u001b[43m \u001b[49m\u001b[43mjaxpr\u001b[49m\u001b[43m,\u001b[49m\u001b[43m \u001b[49m\u001b[43mctx\u001b[49m\u001b[38;5;241;43m.\u001b[39;49m\u001b[43mname_stack\u001b[49m\u001b[43m,\u001b[49m\u001b[43m \u001b[49m\u001b[43mctx\u001b[49m\u001b[38;5;241;43m.\u001b[39;49m\u001b[43mtokens_in\u001b[49m\u001b[43m,\u001b[49m\n\u001b[1;32m   1819\u001b[0m \u001b[43m    \u001b[49m\u001b[43m_ir_consts\u001b[49m\u001b[43m(\u001b[49m\u001b[43mconsts\u001b[49m\u001b[43m)\u001b[49m\u001b[43m,\u001b[49m\u001b[43m \u001b[49m\u001b[38;5;241;43m*\u001b[39;49m\u001b[38;5;28;43mmap\u001b[39;49m\u001b[43m(\u001b[49m\u001b[43mwrap_singleton_ir_values\u001b[49m\u001b[43m,\u001b[49m\u001b[43m \u001b[49m\u001b[43margs\u001b[49m\u001b[43m)\u001b[49m\u001b[43m,\u001b[49m\n\u001b[1;32m   1820\u001b[0m \u001b[43m    \u001b[49m\u001b[43mdim_var_values\u001b[49m\u001b[38;5;241;43m=\u001b[39;49m\u001b[43mctx\u001b[49m\u001b[38;5;241;43m.\u001b[39;49m\u001b[43mdim_var_values\u001b[49m\u001b[43m)\u001b[49m\n\u001b[1;32m   1821\u001b[0m ctx\u001b[38;5;241m.\u001b[39mset_tokens_out(tokens)\n\u001b[1;32m   1822\u001b[0m \u001b[38;5;28;01mreturn\u001b[39;00m out\n",
      "File \u001b[0;32m/Library/Frameworks/Python.framework/Versions/3.12/lib/python3.12/site-packages/jax/_src/interpreters/mlir.py:1622\u001b[0m, in \u001b[0;36mjaxpr_subcomp\u001b[0;34m(ctx, jaxpr, name_stack, tokens, consts, dim_var_values, *args)\u001b[0m\n\u001b[1;32m   1619\u001b[0m   rule_ctx \u001b[38;5;241m=\u001b[39m rule_ctx\u001b[38;5;241m.\u001b[39mreplace(axis_size_env\u001b[38;5;241m=\u001b[39maxis_size_env)\n\u001b[1;32m   1621\u001b[0m rule_inputs \u001b[38;5;241m=\u001b[39m \u001b[38;5;28mmap\u001b[39m(_unwrap_singleton_ir_values, in_nodes)\n\u001b[0;32m-> 1622\u001b[0m ans \u001b[38;5;241m=\u001b[39m \u001b[43mlower_per_platform\u001b[49m\u001b[43m(\u001b[49m\u001b[43mrule_ctx\u001b[49m\u001b[43m,\u001b[49m\u001b[43m \u001b[49m\u001b[38;5;28;43mstr\u001b[39;49m\u001b[43m(\u001b[49m\u001b[43meqn\u001b[49m\u001b[38;5;241;43m.\u001b[39;49m\u001b[43mprimitive\u001b[49m\u001b[43m)\u001b[49m\u001b[43m,\u001b[49m\n\u001b[1;32m   1623\u001b[0m \u001b[43m                         \u001b[49m\u001b[43mplatform_rules\u001b[49m\u001b[43m,\u001b[49m\u001b[43m \u001b[49m\u001b[43mdefault_rule\u001b[49m\u001b[43m,\u001b[49m\n\u001b[1;32m   1624\u001b[0m \u001b[43m                         \u001b[49m\u001b[43meqn\u001b[49m\u001b[38;5;241;43m.\u001b[39;49m\u001b[43meffects\u001b[49m\u001b[43m,\u001b[49m\n\u001b[1;32m   1625\u001b[0m \u001b[43m                         \u001b[49m\u001b[38;5;241;43m*\u001b[39;49m\u001b[43mrule_inputs\u001b[49m\u001b[43m,\u001b[49m\u001b[43m \u001b[49m\u001b[38;5;241;43m*\u001b[39;49m\u001b[38;5;241;43m*\u001b[39;49m\u001b[43meqn\u001b[49m\u001b[38;5;241;43m.\u001b[39;49m\u001b[43mparams\u001b[49m\u001b[43m)\u001b[49m\n\u001b[1;32m   1627\u001b[0m \u001b[38;5;28;01mif\u001b[39;00m effects:\n\u001b[1;32m   1628\u001b[0m   \u001b[38;5;66;03m# If there were ordered effects in the primitive, there should be output\u001b[39;00m\n\u001b[1;32m   1629\u001b[0m   \u001b[38;5;66;03m# tokens we need for subsequent ordered effects.\u001b[39;00m\n\u001b[1;32m   1630\u001b[0m   tokens_out \u001b[38;5;241m=\u001b[39m rule_ctx\u001b[38;5;241m.\u001b[39mtokens_out\n",
      "File \u001b[0;32m/Library/Frameworks/Python.framework/Versions/3.12/lib/python3.12/site-packages/jax/_src/interpreters/mlir.py:1730\u001b[0m, in \u001b[0;36mlower_per_platform\u001b[0;34m(ctx, description, platform_rules, default_rule, effects, *rule_args, **rule_kwargs)\u001b[0m\n\u001b[1;32m   1728\u001b[0m \u001b[38;5;66;03m# If there is a single rule left just apply the rule, without conditionals.\u001b[39;00m\n\u001b[1;32m   1729\u001b[0m \u001b[38;5;28;01mif\u001b[39;00m \u001b[38;5;28mlen\u001b[39m(kept_rules) \u001b[38;5;241m==\u001b[39m \u001b[38;5;241m1\u001b[39m:\n\u001b[0;32m-> 1730\u001b[0m  \u001b[38;5;28;01mreturn\u001b[39;00m \u001b[43mkept_rules\u001b[49m\u001b[43m[\u001b[49m\u001b[38;5;241;43m0\u001b[39;49m\u001b[43m]\u001b[49m\u001b[43m(\u001b[49m\u001b[43mctx\u001b[49m\u001b[43m,\u001b[49m\u001b[43m \u001b[49m\u001b[38;5;241;43m*\u001b[39;49m\u001b[43mrule_args\u001b[49m\u001b[43m,\u001b[49m\u001b[43m \u001b[49m\u001b[38;5;241;43m*\u001b[39;49m\u001b[38;5;241;43m*\u001b[39;49m\u001b[43mrule_kwargs\u001b[49m\u001b[43m)\u001b[49m\n\u001b[1;32m   1732\u001b[0m \u001b[38;5;28;01massert\u001b[39;00m \u001b[38;5;28mlen\u001b[39m(platforms) \u001b[38;5;241m>\u001b[39m \u001b[38;5;241m1\u001b[39m \u001b[38;5;129;01mand\u001b[39;00m \u001b[38;5;28mlen\u001b[39m(kept_rules) \u001b[38;5;241m>\u001b[39m\u001b[38;5;241m=\u001b[39m \u001b[38;5;241m2\u001b[39m, (platforms, kept_rules)\n\u001b[1;32m   1733\u001b[0m \u001b[38;5;28;01massert\u001b[39;00m \u001b[38;5;28mlen\u001b[39m(ctx\u001b[38;5;241m.\u001b[39mdim_var_values) \u001b[38;5;241m>\u001b[39m\u001b[38;5;241m=\u001b[39m \u001b[38;5;241m1\u001b[39m, \u001b[38;5;124m\"\u001b[39m\u001b[38;5;124mMust have a platform_index variable\u001b[39m\u001b[38;5;124m\"\u001b[39m\n",
      "File \u001b[0;32m/Library/Frameworks/Python.framework/Versions/3.12/lib/python3.12/site-packages/jax/_src/lax/control_flow/loops.py:1842\u001b[0m, in \u001b[0;36m_while_lowering\u001b[0;34m(ctx, cond_jaxpr, body_jaxpr, cond_nconsts, body_nconsts, *args)\u001b[0m\n\u001b[1;32m   1839\u001b[0m body_name_stack \u001b[38;5;241m=\u001b[39m name_stack\u001b[38;5;241m.\u001b[39mextend(\u001b[38;5;124m'\u001b[39m\u001b[38;5;124mbody\u001b[39m\u001b[38;5;124m'\u001b[39m)\n\u001b[1;32m   1840\u001b[0m body_consts \u001b[38;5;241m=\u001b[39m [mlir\u001b[38;5;241m.\u001b[39mir_constants(xla\u001b[38;5;241m.\u001b[39mcanonicalize_dtype(x))\n\u001b[1;32m   1841\u001b[0m                \u001b[38;5;28;01mfor\u001b[39;00m x \u001b[38;5;129;01min\u001b[39;00m body_jaxpr\u001b[38;5;241m.\u001b[39mconsts]\n\u001b[0;32m-> 1842\u001b[0m new_z, tokens_out \u001b[38;5;241m=\u001b[39m \u001b[43mmlir\u001b[49m\u001b[38;5;241;43m.\u001b[39;49m\u001b[43mjaxpr_subcomp\u001b[49m\u001b[43m(\u001b[49m\n\u001b[1;32m   1843\u001b[0m \u001b[43m    \u001b[49m\u001b[43mctx\u001b[49m\u001b[38;5;241;43m.\u001b[39;49m\u001b[43mmodule_context\u001b[49m\u001b[43m,\u001b[49m\u001b[43m \u001b[49m\u001b[43mbody_jaxpr\u001b[49m\u001b[38;5;241;43m.\u001b[39;49m\u001b[43mjaxpr\u001b[49m\u001b[43m,\u001b[49m\u001b[43m \u001b[49m\u001b[43mbody_name_stack\u001b[49m\u001b[43m,\u001b[49m\n\u001b[1;32m   1844\u001b[0m \u001b[43m    \u001b[49m\u001b[43mtokens_in\u001b[49m\u001b[43m,\u001b[49m\u001b[43m \u001b[49m\u001b[43mbody_consts\u001b[49m\u001b[43m,\u001b[49m\u001b[43m \u001b[49m\u001b[38;5;241;43m*\u001b[39;49m\u001b[43m(\u001b[49m\u001b[43my\u001b[49m\u001b[43m \u001b[49m\u001b[38;5;241;43m+\u001b[39;49m\u001b[43m \u001b[49m\u001b[43mz\u001b[49m\u001b[43m)\u001b[49m\u001b[43m,\u001b[49m\u001b[43m \u001b[49m\u001b[43mdim_var_values\u001b[49m\u001b[38;5;241;43m=\u001b[39;49m\u001b[43mctx\u001b[49m\u001b[38;5;241;43m.\u001b[39;49m\u001b[43mdim_var_values\u001b[49m\u001b[43m)\u001b[49m\n\u001b[1;32m   1845\u001b[0m out_tokens \u001b[38;5;241m=\u001b[39m [tokens_out\u001b[38;5;241m.\u001b[39mget(eff) \u001b[38;5;28;01mfor\u001b[39;00m eff \u001b[38;5;129;01min\u001b[39;00m body_effects]\n\u001b[1;32m   1846\u001b[0m \u001b[38;5;28;01mif\u001b[39;00m batched:\n",
      "File \u001b[0;32m/Library/Frameworks/Python.framework/Versions/3.12/lib/python3.12/site-packages/jax/_src/interpreters/mlir.py:1622\u001b[0m, in \u001b[0;36mjaxpr_subcomp\u001b[0;34m(ctx, jaxpr, name_stack, tokens, consts, dim_var_values, *args)\u001b[0m\n\u001b[1;32m   1619\u001b[0m   rule_ctx \u001b[38;5;241m=\u001b[39m rule_ctx\u001b[38;5;241m.\u001b[39mreplace(axis_size_env\u001b[38;5;241m=\u001b[39maxis_size_env)\n\u001b[1;32m   1621\u001b[0m rule_inputs \u001b[38;5;241m=\u001b[39m \u001b[38;5;28mmap\u001b[39m(_unwrap_singleton_ir_values, in_nodes)\n\u001b[0;32m-> 1622\u001b[0m ans \u001b[38;5;241m=\u001b[39m \u001b[43mlower_per_platform\u001b[49m\u001b[43m(\u001b[49m\u001b[43mrule_ctx\u001b[49m\u001b[43m,\u001b[49m\u001b[43m \u001b[49m\u001b[38;5;28;43mstr\u001b[39;49m\u001b[43m(\u001b[49m\u001b[43meqn\u001b[49m\u001b[38;5;241;43m.\u001b[39;49m\u001b[43mprimitive\u001b[49m\u001b[43m)\u001b[49m\u001b[43m,\u001b[49m\n\u001b[1;32m   1623\u001b[0m \u001b[43m                         \u001b[49m\u001b[43mplatform_rules\u001b[49m\u001b[43m,\u001b[49m\u001b[43m \u001b[49m\u001b[43mdefault_rule\u001b[49m\u001b[43m,\u001b[49m\n\u001b[1;32m   1624\u001b[0m \u001b[43m                         \u001b[49m\u001b[43meqn\u001b[49m\u001b[38;5;241;43m.\u001b[39;49m\u001b[43meffects\u001b[49m\u001b[43m,\u001b[49m\n\u001b[1;32m   1625\u001b[0m \u001b[43m                         \u001b[49m\u001b[38;5;241;43m*\u001b[39;49m\u001b[43mrule_inputs\u001b[49m\u001b[43m,\u001b[49m\u001b[43m \u001b[49m\u001b[38;5;241;43m*\u001b[39;49m\u001b[38;5;241;43m*\u001b[39;49m\u001b[43meqn\u001b[49m\u001b[38;5;241;43m.\u001b[39;49m\u001b[43mparams\u001b[49m\u001b[43m)\u001b[49m\n\u001b[1;32m   1627\u001b[0m \u001b[38;5;28;01mif\u001b[39;00m effects:\n\u001b[1;32m   1628\u001b[0m   \u001b[38;5;66;03m# If there were ordered effects in the primitive, there should be output\u001b[39;00m\n\u001b[1;32m   1629\u001b[0m   \u001b[38;5;66;03m# tokens we need for subsequent ordered effects.\u001b[39;00m\n\u001b[1;32m   1630\u001b[0m   tokens_out \u001b[38;5;241m=\u001b[39m rule_ctx\u001b[38;5;241m.\u001b[39mtokens_out\n",
      "File \u001b[0;32m/Library/Frameworks/Python.framework/Versions/3.12/lib/python3.12/site-packages/jax/_src/interpreters/mlir.py:1730\u001b[0m, in \u001b[0;36mlower_per_platform\u001b[0;34m(ctx, description, platform_rules, default_rule, effects, *rule_args, **rule_kwargs)\u001b[0m\n\u001b[1;32m   1728\u001b[0m \u001b[38;5;66;03m# If there is a single rule left just apply the rule, without conditionals.\u001b[39;00m\n\u001b[1;32m   1729\u001b[0m \u001b[38;5;28;01mif\u001b[39;00m \u001b[38;5;28mlen\u001b[39m(kept_rules) \u001b[38;5;241m==\u001b[39m \u001b[38;5;241m1\u001b[39m:\n\u001b[0;32m-> 1730\u001b[0m  \u001b[38;5;28;01mreturn\u001b[39;00m \u001b[43mkept_rules\u001b[49m\u001b[43m[\u001b[49m\u001b[38;5;241;43m0\u001b[39;49m\u001b[43m]\u001b[49m\u001b[43m(\u001b[49m\u001b[43mctx\u001b[49m\u001b[43m,\u001b[49m\u001b[43m \u001b[49m\u001b[38;5;241;43m*\u001b[39;49m\u001b[43mrule_args\u001b[49m\u001b[43m,\u001b[49m\u001b[43m \u001b[49m\u001b[38;5;241;43m*\u001b[39;49m\u001b[38;5;241;43m*\u001b[39;49m\u001b[43mrule_kwargs\u001b[49m\u001b[43m)\u001b[49m\n\u001b[1;32m   1732\u001b[0m \u001b[38;5;28;01massert\u001b[39;00m \u001b[38;5;28mlen\u001b[39m(platforms) \u001b[38;5;241m>\u001b[39m \u001b[38;5;241m1\u001b[39m \u001b[38;5;129;01mand\u001b[39;00m \u001b[38;5;28mlen\u001b[39m(kept_rules) \u001b[38;5;241m>\u001b[39m\u001b[38;5;241m=\u001b[39m \u001b[38;5;241m2\u001b[39m, (platforms, kept_rules)\n\u001b[1;32m   1733\u001b[0m \u001b[38;5;28;01massert\u001b[39;00m \u001b[38;5;28mlen\u001b[39m(ctx\u001b[38;5;241m.\u001b[39mdim_var_values) \u001b[38;5;241m>\u001b[39m\u001b[38;5;241m=\u001b[39m \u001b[38;5;241m1\u001b[39m, \u001b[38;5;124m\"\u001b[39m\u001b[38;5;124mMust have a platform_index variable\u001b[39m\u001b[38;5;124m\"\u001b[39m\n",
      "File \u001b[0;32m/Library/Frameworks/Python.framework/Versions/3.12/lib/python3.12/site-packages/jax/_src/pjit.py:1693\u001b[0m, in \u001b[0;36m_pjit_lowering\u001b[0;34m(ctx, name, jaxpr, in_shardings, out_shardings, in_layouts, out_layouts, resource_env, donated_invars, keep_unused, inline, *args)\u001b[0m\n\u001b[1;32m   1690\u001b[0m output_types \u001b[38;5;241m=\u001b[39m [mlir\u001b[38;5;241m.\u001b[39mtoken_type()] \u001b[38;5;241m*\u001b[39m \u001b[38;5;28mlen\u001b[39m(effects) \u001b[38;5;241m+\u001b[39m output_types\n\u001b[1;32m   1691\u001b[0m flat_output_types \u001b[38;5;241m=\u001b[39m flatten(output_types)\n\u001b[0;32m-> 1693\u001b[0m func \u001b[38;5;241m=\u001b[39m \u001b[43m_pjit_cached_lower_jaxpr_to_fun\u001b[49m\u001b[43m(\u001b[49m\n\u001b[1;32m   1694\u001b[0m \u001b[43m    \u001b[49m\u001b[43mctx\u001b[49m\u001b[43m,\u001b[49m\u001b[43m \u001b[49m\u001b[43mname\u001b[49m\u001b[43m,\u001b[49m\u001b[43m \u001b[49m\u001b[43mjaxpr\u001b[49m\u001b[43m,\u001b[49m\u001b[43m \u001b[49m\u001b[38;5;28;43mtuple\u001b[39;49m\u001b[43m(\u001b[49m\u001b[43meffects\u001b[49m\u001b[43m)\u001b[49m\u001b[43m,\u001b[49m\u001b[43m \u001b[49m\u001b[43min_shardings\u001b[49m\u001b[43m,\u001b[49m\n\u001b[1;32m   1695\u001b[0m \u001b[43m    \u001b[49m\u001b[43mout_shardings\u001b[49m\u001b[43m,\u001b[49m\u001b[43m \u001b[49m\u001b[43min_layouts\u001b[49m\u001b[43m,\u001b[49m\u001b[43m \u001b[49m\u001b[43mout_layouts\u001b[49m\u001b[43m,\u001b[49m\n\u001b[1;32m   1696\u001b[0m \u001b[43m    \u001b[49m\u001b[43mapi_name\u001b[49m\u001b[38;5;241;43m=\u001b[39;49m\u001b[43m(\u001b[49m\u001b[38;5;124;43m'\u001b[39;49m\u001b[38;5;124;43mjit\u001b[39;49m\u001b[38;5;124;43m'\u001b[39;49m\u001b[43m \u001b[49m\u001b[38;5;28;43;01mif\u001b[39;49;00m\u001b[43m \u001b[49m\u001b[43mresource_env\u001b[49m\u001b[43m \u001b[49m\u001b[38;5;129;43;01mis\u001b[39;49;00m\u001b[43m \u001b[49m\u001b[38;5;28;43;01mNone\u001b[39;49;00m\u001b[43m \u001b[49m\u001b[38;5;28;43;01melse\u001b[39;49;00m\u001b[43m \u001b[49m\u001b[38;5;124;43m'\u001b[39;49m\u001b[38;5;124;43mpjit\u001b[39;49m\u001b[38;5;124;43m'\u001b[39;49m\u001b[43m)\u001b[49m\u001b[43m)\u001b[49m\n\u001b[1;32m   1698\u001b[0m tokens_in \u001b[38;5;241m=\u001b[39m [ctx\u001b[38;5;241m.\u001b[39mtokens_in\u001b[38;5;241m.\u001b[39mget(eff) \u001b[38;5;28;01mfor\u001b[39;00m eff \u001b[38;5;129;01min\u001b[39;00m effects]\n\u001b[1;32m   1699\u001b[0m args \u001b[38;5;241m=\u001b[39m (\u001b[38;5;241m*\u001b[39mctx\u001b[38;5;241m.\u001b[39mdim_var_values, \u001b[38;5;241m*\u001b[39mtokens_in, \u001b[38;5;241m*\u001b[39margs)\n",
      "File \u001b[0;32m/Library/Frameworks/Python.framework/Versions/3.12/lib/python3.12/site-packages/jax/_src/pjit.py:1676\u001b[0m, in \u001b[0;36m_pjit_cached_lower_jaxpr_to_fun\u001b[0;34m(ctx, name, jaxpr, effects, in_shardings, out_shardings, in_layouts, out_layouts, api_name)\u001b[0m\n\u001b[1;32m   1672\u001b[0m   result_shardings \u001b[38;5;241m=\u001b[39m [\u001b[38;5;28;01mNone\u001b[39;00m \u001b[38;5;28;01mif\u001b[39;00m is_unspecified(o) \u001b[38;5;28;01melse\u001b[39;00m o \u001b[38;5;28;01mfor\u001b[39;00m o \u001b[38;5;129;01min\u001b[39;00m out_shardings]\n\u001b[1;32m   1673\u001b[0m   \u001b[38;5;66;03m# TODO(b/228598865): inlined calls cannot have shardings set directly on the\u001b[39;00m\n\u001b[1;32m   1674\u001b[0m   \u001b[38;5;66;03m# inputs or outputs because they are lost during MLIR->HLO conversion.\u001b[39;00m\n\u001b[1;32m   1675\u001b[0m   \u001b[38;5;66;03m# using_sharding_annotation=False means we add an identity operation instead.\u001b[39;00m\n\u001b[0;32m-> 1676\u001b[0m   func \u001b[38;5;241m=\u001b[39m \u001b[43mmlir\u001b[49m\u001b[38;5;241;43m.\u001b[39;49m\u001b[43mlower_jaxpr_to_fun\u001b[49m\u001b[43m(\u001b[49m\n\u001b[1;32m   1677\u001b[0m \u001b[43m      \u001b[49m\u001b[43mmod_ctx\u001b[49m\u001b[43m,\u001b[49m\u001b[43m \u001b[49m\u001b[43mname\u001b[49m\u001b[43m,\u001b[49m\u001b[43m \u001b[49m\u001b[43mjaxpr\u001b[49m\u001b[43m,\u001b[49m\u001b[43m \u001b[49m\u001b[43meffects\u001b[49m\u001b[43m,\u001b[49m\u001b[43m \u001b[49m\u001b[43mctx\u001b[49m\u001b[38;5;241;43m.\u001b[39;49m\u001b[43mname_stack\u001b[49m\u001b[43m,\u001b[49m\n\u001b[1;32m   1678\u001b[0m \u001b[43m      \u001b[49m\u001b[43marg_shardings\u001b[49m\u001b[38;5;241;43m=\u001b[39;49m\u001b[43marg_shardings\u001b[49m\u001b[43m,\u001b[49m\u001b[43m \u001b[49m\u001b[43mresult_shardings\u001b[49m\u001b[38;5;241;43m=\u001b[39;49m\u001b[43mresult_shardings\u001b[49m\u001b[43m,\u001b[49m\n\u001b[1;32m   1679\u001b[0m \u001b[43m      \u001b[49m\u001b[43muse_sharding_annotations\u001b[49m\u001b[38;5;241;43m=\u001b[39;49m\u001b[38;5;28;43;01mFalse\u001b[39;49;00m\u001b[43m,\u001b[49m\u001b[43m \u001b[49m\u001b[43mapi_name\u001b[49m\u001b[38;5;241;43m=\u001b[39;49m\u001b[43mapi_name\u001b[49m\u001b[43m,\u001b[49m\n\u001b[1;32m   1680\u001b[0m \u001b[43m      \u001b[49m\u001b[43marg_layouts\u001b[49m\u001b[38;5;241;43m=\u001b[39;49m\u001b[43min_layouts\u001b[49m\u001b[43m,\u001b[49m\u001b[43m \u001b[49m\u001b[43mresult_layouts\u001b[49m\u001b[38;5;241;43m=\u001b[39;49m\u001b[43mout_layouts\u001b[49m\u001b[43m)\u001b[49m\n\u001b[1;32m   1681\u001b[0m   mod_ctx\u001b[38;5;241m.\u001b[39mcached_primitive_lowerings[key] \u001b[38;5;241m=\u001b[39m func\n\u001b[1;32m   1682\u001b[0m \u001b[38;5;28;01mreturn\u001b[39;00m func\n",
      "File \u001b[0;32m/Library/Frameworks/Python.framework/Versions/3.12/lib/python3.12/site-packages/jax/_src/interpreters/mlir.py:1438\u001b[0m, in \u001b[0;36mlower_jaxpr_to_fun\u001b[0;34m(ctx, name, jaxpr, effects, name_stack, create_tokens, public, replace_tokens_with_dummy, replicated_args, arg_shardings, result_shardings, use_sharding_annotations, input_output_aliases, xla_donated_args, num_output_tokens, api_name, arg_names, result_names, arg_memory_kinds, result_memory_kinds, arg_layouts, result_layouts)\u001b[0m\n\u001b[1;32m   1436\u001b[0m callee_name_stack \u001b[38;5;241m=\u001b[39m name_stack\u001b[38;5;241m.\u001b[39mextend(util\u001b[38;5;241m.\u001b[39mwrap_name(name, api_name))\n\u001b[1;32m   1437\u001b[0m consts \u001b[38;5;241m=\u001b[39m [ir_constants(xla\u001b[38;5;241m.\u001b[39mcanonicalize_dtype(x)) \u001b[38;5;28;01mfor\u001b[39;00m x \u001b[38;5;129;01min\u001b[39;00m jaxpr\u001b[38;5;241m.\u001b[39mconsts]\n\u001b[0;32m-> 1438\u001b[0m out_vals, tokens_out \u001b[38;5;241m=\u001b[39m \u001b[43mjaxpr_subcomp\u001b[49m\u001b[43m(\u001b[49m\n\u001b[1;32m   1439\u001b[0m \u001b[43m    \u001b[49m\u001b[43mctx\u001b[49m\u001b[43m,\u001b[49m\u001b[43m \u001b[49m\u001b[43mjaxpr\u001b[49m\u001b[38;5;241;43m.\u001b[39;49m\u001b[43mjaxpr\u001b[49m\u001b[43m,\u001b[49m\u001b[43m \u001b[49m\u001b[43mcallee_name_stack\u001b[49m\u001b[43m,\u001b[49m\u001b[43m \u001b[49m\u001b[43mtokens_in\u001b[49m\u001b[43m,\u001b[49m\n\u001b[1;32m   1440\u001b[0m \u001b[43m    \u001b[49m\u001b[43mconsts\u001b[49m\u001b[43m,\u001b[49m\u001b[43m \u001b[49m\u001b[38;5;241;43m*\u001b[39;49m\u001b[43margs\u001b[49m\u001b[43m,\u001b[49m\u001b[43m \u001b[49m\u001b[43mdim_var_values\u001b[49m\u001b[38;5;241;43m=\u001b[39;49m\u001b[43mdim_var_values\u001b[49m\u001b[43m)\u001b[49m\n\u001b[1;32m   1441\u001b[0m outs \u001b[38;5;241m=\u001b[39m []\n\u001b[1;32m   1442\u001b[0m \u001b[38;5;28;01mif\u001b[39;00m create_tokens:\n",
      "File \u001b[0;32m/Library/Frameworks/Python.framework/Versions/3.12/lib/python3.12/site-packages/jax/_src/interpreters/mlir.py:1622\u001b[0m, in \u001b[0;36mjaxpr_subcomp\u001b[0;34m(ctx, jaxpr, name_stack, tokens, consts, dim_var_values, *args)\u001b[0m\n\u001b[1;32m   1619\u001b[0m   rule_ctx \u001b[38;5;241m=\u001b[39m rule_ctx\u001b[38;5;241m.\u001b[39mreplace(axis_size_env\u001b[38;5;241m=\u001b[39maxis_size_env)\n\u001b[1;32m   1621\u001b[0m rule_inputs \u001b[38;5;241m=\u001b[39m \u001b[38;5;28mmap\u001b[39m(_unwrap_singleton_ir_values, in_nodes)\n\u001b[0;32m-> 1622\u001b[0m ans \u001b[38;5;241m=\u001b[39m \u001b[43mlower_per_platform\u001b[49m\u001b[43m(\u001b[49m\u001b[43mrule_ctx\u001b[49m\u001b[43m,\u001b[49m\u001b[43m \u001b[49m\u001b[38;5;28;43mstr\u001b[39;49m\u001b[43m(\u001b[49m\u001b[43meqn\u001b[49m\u001b[38;5;241;43m.\u001b[39;49m\u001b[43mprimitive\u001b[49m\u001b[43m)\u001b[49m\u001b[43m,\u001b[49m\n\u001b[1;32m   1623\u001b[0m \u001b[43m                         \u001b[49m\u001b[43mplatform_rules\u001b[49m\u001b[43m,\u001b[49m\u001b[43m \u001b[49m\u001b[43mdefault_rule\u001b[49m\u001b[43m,\u001b[49m\n\u001b[1;32m   1624\u001b[0m \u001b[43m                         \u001b[49m\u001b[43meqn\u001b[49m\u001b[38;5;241;43m.\u001b[39;49m\u001b[43meffects\u001b[49m\u001b[43m,\u001b[49m\n\u001b[1;32m   1625\u001b[0m \u001b[43m                         \u001b[49m\u001b[38;5;241;43m*\u001b[39;49m\u001b[43mrule_inputs\u001b[49m\u001b[43m,\u001b[49m\u001b[43m \u001b[49m\u001b[38;5;241;43m*\u001b[39;49m\u001b[38;5;241;43m*\u001b[39;49m\u001b[43meqn\u001b[49m\u001b[38;5;241;43m.\u001b[39;49m\u001b[43mparams\u001b[49m\u001b[43m)\u001b[49m\n\u001b[1;32m   1627\u001b[0m \u001b[38;5;28;01mif\u001b[39;00m effects:\n\u001b[1;32m   1628\u001b[0m   \u001b[38;5;66;03m# If there were ordered effects in the primitive, there should be output\u001b[39;00m\n\u001b[1;32m   1629\u001b[0m   \u001b[38;5;66;03m# tokens we need for subsequent ordered effects.\u001b[39;00m\n\u001b[1;32m   1630\u001b[0m   tokens_out \u001b[38;5;241m=\u001b[39m rule_ctx\u001b[38;5;241m.\u001b[39mtokens_out\n",
      "File \u001b[0;32m/Library/Frameworks/Python.framework/Versions/3.12/lib/python3.12/site-packages/jax/_src/interpreters/mlir.py:1730\u001b[0m, in \u001b[0;36mlower_per_platform\u001b[0;34m(ctx, description, platform_rules, default_rule, effects, *rule_args, **rule_kwargs)\u001b[0m\n\u001b[1;32m   1728\u001b[0m \u001b[38;5;66;03m# If there is a single rule left just apply the rule, without conditionals.\u001b[39;00m\n\u001b[1;32m   1729\u001b[0m \u001b[38;5;28;01mif\u001b[39;00m \u001b[38;5;28mlen\u001b[39m(kept_rules) \u001b[38;5;241m==\u001b[39m \u001b[38;5;241m1\u001b[39m:\n\u001b[0;32m-> 1730\u001b[0m  \u001b[38;5;28;01mreturn\u001b[39;00m \u001b[43mkept_rules\u001b[49m\u001b[43m[\u001b[49m\u001b[38;5;241;43m0\u001b[39;49m\u001b[43m]\u001b[49m\u001b[43m(\u001b[49m\u001b[43mctx\u001b[49m\u001b[43m,\u001b[49m\u001b[43m \u001b[49m\u001b[38;5;241;43m*\u001b[39;49m\u001b[43mrule_args\u001b[49m\u001b[43m,\u001b[49m\u001b[43m \u001b[49m\u001b[38;5;241;43m*\u001b[39;49m\u001b[38;5;241;43m*\u001b[39;49m\u001b[43mrule_kwargs\u001b[49m\u001b[43m)\u001b[49m\n\u001b[1;32m   1732\u001b[0m \u001b[38;5;28;01massert\u001b[39;00m \u001b[38;5;28mlen\u001b[39m(platforms) \u001b[38;5;241m>\u001b[39m \u001b[38;5;241m1\u001b[39m \u001b[38;5;129;01mand\u001b[39;00m \u001b[38;5;28mlen\u001b[39m(kept_rules) \u001b[38;5;241m>\u001b[39m\u001b[38;5;241m=\u001b[39m \u001b[38;5;241m2\u001b[39m, (platforms, kept_rules)\n\u001b[1;32m   1733\u001b[0m \u001b[38;5;28;01massert\u001b[39;00m \u001b[38;5;28mlen\u001b[39m(ctx\u001b[38;5;241m.\u001b[39mdim_var_values) \u001b[38;5;241m>\u001b[39m\u001b[38;5;241m=\u001b[39m \u001b[38;5;241m1\u001b[39m, \u001b[38;5;124m\"\u001b[39m\u001b[38;5;124mMust have a platform_index variable\u001b[39m\u001b[38;5;124m\"\u001b[39m\n",
      "File \u001b[0;32m/Library/Frameworks/Python.framework/Versions/3.12/lib/python3.12/site-packages/jax/_src/pjit.py:1693\u001b[0m, in \u001b[0;36m_pjit_lowering\u001b[0;34m(ctx, name, jaxpr, in_shardings, out_shardings, in_layouts, out_layouts, resource_env, donated_invars, keep_unused, inline, *args)\u001b[0m\n\u001b[1;32m   1690\u001b[0m output_types \u001b[38;5;241m=\u001b[39m [mlir\u001b[38;5;241m.\u001b[39mtoken_type()] \u001b[38;5;241m*\u001b[39m \u001b[38;5;28mlen\u001b[39m(effects) \u001b[38;5;241m+\u001b[39m output_types\n\u001b[1;32m   1691\u001b[0m flat_output_types \u001b[38;5;241m=\u001b[39m flatten(output_types)\n\u001b[0;32m-> 1693\u001b[0m func \u001b[38;5;241m=\u001b[39m \u001b[43m_pjit_cached_lower_jaxpr_to_fun\u001b[49m\u001b[43m(\u001b[49m\n\u001b[1;32m   1694\u001b[0m \u001b[43m    \u001b[49m\u001b[43mctx\u001b[49m\u001b[43m,\u001b[49m\u001b[43m \u001b[49m\u001b[43mname\u001b[49m\u001b[43m,\u001b[49m\u001b[43m \u001b[49m\u001b[43mjaxpr\u001b[49m\u001b[43m,\u001b[49m\u001b[43m \u001b[49m\u001b[38;5;28;43mtuple\u001b[39;49m\u001b[43m(\u001b[49m\u001b[43meffects\u001b[49m\u001b[43m)\u001b[49m\u001b[43m,\u001b[49m\u001b[43m \u001b[49m\u001b[43min_shardings\u001b[49m\u001b[43m,\u001b[49m\n\u001b[1;32m   1695\u001b[0m \u001b[43m    \u001b[49m\u001b[43mout_shardings\u001b[49m\u001b[43m,\u001b[49m\u001b[43m \u001b[49m\u001b[43min_layouts\u001b[49m\u001b[43m,\u001b[49m\u001b[43m \u001b[49m\u001b[43mout_layouts\u001b[49m\u001b[43m,\u001b[49m\n\u001b[1;32m   1696\u001b[0m \u001b[43m    \u001b[49m\u001b[43mapi_name\u001b[49m\u001b[38;5;241;43m=\u001b[39;49m\u001b[43m(\u001b[49m\u001b[38;5;124;43m'\u001b[39;49m\u001b[38;5;124;43mjit\u001b[39;49m\u001b[38;5;124;43m'\u001b[39;49m\u001b[43m \u001b[49m\u001b[38;5;28;43;01mif\u001b[39;49;00m\u001b[43m \u001b[49m\u001b[43mresource_env\u001b[49m\u001b[43m \u001b[49m\u001b[38;5;129;43;01mis\u001b[39;49;00m\u001b[43m \u001b[49m\u001b[38;5;28;43;01mNone\u001b[39;49;00m\u001b[43m \u001b[49m\u001b[38;5;28;43;01melse\u001b[39;49;00m\u001b[43m \u001b[49m\u001b[38;5;124;43m'\u001b[39;49m\u001b[38;5;124;43mpjit\u001b[39;49m\u001b[38;5;124;43m'\u001b[39;49m\u001b[43m)\u001b[49m\u001b[43m)\u001b[49m\n\u001b[1;32m   1698\u001b[0m tokens_in \u001b[38;5;241m=\u001b[39m [ctx\u001b[38;5;241m.\u001b[39mtokens_in\u001b[38;5;241m.\u001b[39mget(eff) \u001b[38;5;28;01mfor\u001b[39;00m eff \u001b[38;5;129;01min\u001b[39;00m effects]\n\u001b[1;32m   1699\u001b[0m args \u001b[38;5;241m=\u001b[39m (\u001b[38;5;241m*\u001b[39mctx\u001b[38;5;241m.\u001b[39mdim_var_values, \u001b[38;5;241m*\u001b[39mtokens_in, \u001b[38;5;241m*\u001b[39margs)\n",
      "File \u001b[0;32m/Library/Frameworks/Python.framework/Versions/3.12/lib/python3.12/site-packages/jax/_src/pjit.py:1676\u001b[0m, in \u001b[0;36m_pjit_cached_lower_jaxpr_to_fun\u001b[0;34m(ctx, name, jaxpr, effects, in_shardings, out_shardings, in_layouts, out_layouts, api_name)\u001b[0m\n\u001b[1;32m   1672\u001b[0m   result_shardings \u001b[38;5;241m=\u001b[39m [\u001b[38;5;28;01mNone\u001b[39;00m \u001b[38;5;28;01mif\u001b[39;00m is_unspecified(o) \u001b[38;5;28;01melse\u001b[39;00m o \u001b[38;5;28;01mfor\u001b[39;00m o \u001b[38;5;129;01min\u001b[39;00m out_shardings]\n\u001b[1;32m   1673\u001b[0m   \u001b[38;5;66;03m# TODO(b/228598865): inlined calls cannot have shardings set directly on the\u001b[39;00m\n\u001b[1;32m   1674\u001b[0m   \u001b[38;5;66;03m# inputs or outputs because they are lost during MLIR->HLO conversion.\u001b[39;00m\n\u001b[1;32m   1675\u001b[0m   \u001b[38;5;66;03m# using_sharding_annotation=False means we add an identity operation instead.\u001b[39;00m\n\u001b[0;32m-> 1676\u001b[0m   func \u001b[38;5;241m=\u001b[39m \u001b[43mmlir\u001b[49m\u001b[38;5;241;43m.\u001b[39;49m\u001b[43mlower_jaxpr_to_fun\u001b[49m\u001b[43m(\u001b[49m\n\u001b[1;32m   1677\u001b[0m \u001b[43m      \u001b[49m\u001b[43mmod_ctx\u001b[49m\u001b[43m,\u001b[49m\u001b[43m \u001b[49m\u001b[43mname\u001b[49m\u001b[43m,\u001b[49m\u001b[43m \u001b[49m\u001b[43mjaxpr\u001b[49m\u001b[43m,\u001b[49m\u001b[43m \u001b[49m\u001b[43meffects\u001b[49m\u001b[43m,\u001b[49m\u001b[43m \u001b[49m\u001b[43mctx\u001b[49m\u001b[38;5;241;43m.\u001b[39;49m\u001b[43mname_stack\u001b[49m\u001b[43m,\u001b[49m\n\u001b[1;32m   1678\u001b[0m \u001b[43m      \u001b[49m\u001b[43marg_shardings\u001b[49m\u001b[38;5;241;43m=\u001b[39;49m\u001b[43marg_shardings\u001b[49m\u001b[43m,\u001b[49m\u001b[43m \u001b[49m\u001b[43mresult_shardings\u001b[49m\u001b[38;5;241;43m=\u001b[39;49m\u001b[43mresult_shardings\u001b[49m\u001b[43m,\u001b[49m\n\u001b[1;32m   1679\u001b[0m \u001b[43m      \u001b[49m\u001b[43muse_sharding_annotations\u001b[49m\u001b[38;5;241;43m=\u001b[39;49m\u001b[38;5;28;43;01mFalse\u001b[39;49;00m\u001b[43m,\u001b[49m\u001b[43m \u001b[49m\u001b[43mapi_name\u001b[49m\u001b[38;5;241;43m=\u001b[39;49m\u001b[43mapi_name\u001b[49m\u001b[43m,\u001b[49m\n\u001b[1;32m   1680\u001b[0m \u001b[43m      \u001b[49m\u001b[43marg_layouts\u001b[49m\u001b[38;5;241;43m=\u001b[39;49m\u001b[43min_layouts\u001b[49m\u001b[43m,\u001b[49m\u001b[43m \u001b[49m\u001b[43mresult_layouts\u001b[49m\u001b[38;5;241;43m=\u001b[39;49m\u001b[43mout_layouts\u001b[49m\u001b[43m)\u001b[49m\n\u001b[1;32m   1681\u001b[0m   mod_ctx\u001b[38;5;241m.\u001b[39mcached_primitive_lowerings[key] \u001b[38;5;241m=\u001b[39m func\n\u001b[1;32m   1682\u001b[0m \u001b[38;5;28;01mreturn\u001b[39;00m func\n",
      "File \u001b[0;32m/Library/Frameworks/Python.framework/Versions/3.12/lib/python3.12/site-packages/jax/_src/interpreters/mlir.py:1438\u001b[0m, in \u001b[0;36mlower_jaxpr_to_fun\u001b[0;34m(ctx, name, jaxpr, effects, name_stack, create_tokens, public, replace_tokens_with_dummy, replicated_args, arg_shardings, result_shardings, use_sharding_annotations, input_output_aliases, xla_donated_args, num_output_tokens, api_name, arg_names, result_names, arg_memory_kinds, result_memory_kinds, arg_layouts, result_layouts)\u001b[0m\n\u001b[1;32m   1436\u001b[0m callee_name_stack \u001b[38;5;241m=\u001b[39m name_stack\u001b[38;5;241m.\u001b[39mextend(util\u001b[38;5;241m.\u001b[39mwrap_name(name, api_name))\n\u001b[1;32m   1437\u001b[0m consts \u001b[38;5;241m=\u001b[39m [ir_constants(xla\u001b[38;5;241m.\u001b[39mcanonicalize_dtype(x)) \u001b[38;5;28;01mfor\u001b[39;00m x \u001b[38;5;129;01min\u001b[39;00m jaxpr\u001b[38;5;241m.\u001b[39mconsts]\n\u001b[0;32m-> 1438\u001b[0m out_vals, tokens_out \u001b[38;5;241m=\u001b[39m \u001b[43mjaxpr_subcomp\u001b[49m\u001b[43m(\u001b[49m\n\u001b[1;32m   1439\u001b[0m \u001b[43m    \u001b[49m\u001b[43mctx\u001b[49m\u001b[43m,\u001b[49m\u001b[43m \u001b[49m\u001b[43mjaxpr\u001b[49m\u001b[38;5;241;43m.\u001b[39;49m\u001b[43mjaxpr\u001b[49m\u001b[43m,\u001b[49m\u001b[43m \u001b[49m\u001b[43mcallee_name_stack\u001b[49m\u001b[43m,\u001b[49m\u001b[43m \u001b[49m\u001b[43mtokens_in\u001b[49m\u001b[43m,\u001b[49m\n\u001b[1;32m   1440\u001b[0m \u001b[43m    \u001b[49m\u001b[43mconsts\u001b[49m\u001b[43m,\u001b[49m\u001b[43m \u001b[49m\u001b[38;5;241;43m*\u001b[39;49m\u001b[43margs\u001b[49m\u001b[43m,\u001b[49m\u001b[43m \u001b[49m\u001b[43mdim_var_values\u001b[49m\u001b[38;5;241;43m=\u001b[39;49m\u001b[43mdim_var_values\u001b[49m\u001b[43m)\u001b[49m\n\u001b[1;32m   1441\u001b[0m outs \u001b[38;5;241m=\u001b[39m []\n\u001b[1;32m   1442\u001b[0m \u001b[38;5;28;01mif\u001b[39;00m create_tokens:\n",
      "    \u001b[0;31m[... skipping similar frames: jaxpr_subcomp at line 1622 (3 times), lower_per_platform at line 1730 (3 times), _pjit_cached_lower_jaxpr_to_fun at line 1676 (2 times), _pjit_lowering at line 1693 (2 times), lower_jaxpr_to_fun at line 1438 (2 times)]\u001b[0m\n",
      "File \u001b[0;32m/Library/Frameworks/Python.framework/Versions/3.12/lib/python3.12/site-packages/jax/_src/pjit.py:1693\u001b[0m, in \u001b[0;36m_pjit_lowering\u001b[0;34m(ctx, name, jaxpr, in_shardings, out_shardings, in_layouts, out_layouts, resource_env, donated_invars, keep_unused, inline, *args)\u001b[0m\n\u001b[1;32m   1690\u001b[0m output_types \u001b[38;5;241m=\u001b[39m [mlir\u001b[38;5;241m.\u001b[39mtoken_type()] \u001b[38;5;241m*\u001b[39m \u001b[38;5;28mlen\u001b[39m(effects) \u001b[38;5;241m+\u001b[39m output_types\n\u001b[1;32m   1691\u001b[0m flat_output_types \u001b[38;5;241m=\u001b[39m flatten(output_types)\n\u001b[0;32m-> 1693\u001b[0m func \u001b[38;5;241m=\u001b[39m \u001b[43m_pjit_cached_lower_jaxpr_to_fun\u001b[49m\u001b[43m(\u001b[49m\n\u001b[1;32m   1694\u001b[0m \u001b[43m    \u001b[49m\u001b[43mctx\u001b[49m\u001b[43m,\u001b[49m\u001b[43m \u001b[49m\u001b[43mname\u001b[49m\u001b[43m,\u001b[49m\u001b[43m \u001b[49m\u001b[43mjaxpr\u001b[49m\u001b[43m,\u001b[49m\u001b[43m \u001b[49m\u001b[38;5;28;43mtuple\u001b[39;49m\u001b[43m(\u001b[49m\u001b[43meffects\u001b[49m\u001b[43m)\u001b[49m\u001b[43m,\u001b[49m\u001b[43m \u001b[49m\u001b[43min_shardings\u001b[49m\u001b[43m,\u001b[49m\n\u001b[1;32m   1695\u001b[0m \u001b[43m    \u001b[49m\u001b[43mout_shardings\u001b[49m\u001b[43m,\u001b[49m\u001b[43m \u001b[49m\u001b[43min_layouts\u001b[49m\u001b[43m,\u001b[49m\u001b[43m \u001b[49m\u001b[43mout_layouts\u001b[49m\u001b[43m,\u001b[49m\n\u001b[1;32m   1696\u001b[0m \u001b[43m    \u001b[49m\u001b[43mapi_name\u001b[49m\u001b[38;5;241;43m=\u001b[39;49m\u001b[43m(\u001b[49m\u001b[38;5;124;43m'\u001b[39;49m\u001b[38;5;124;43mjit\u001b[39;49m\u001b[38;5;124;43m'\u001b[39;49m\u001b[43m \u001b[49m\u001b[38;5;28;43;01mif\u001b[39;49;00m\u001b[43m \u001b[49m\u001b[43mresource_env\u001b[49m\u001b[43m \u001b[49m\u001b[38;5;129;43;01mis\u001b[39;49;00m\u001b[43m \u001b[49m\u001b[38;5;28;43;01mNone\u001b[39;49;00m\u001b[43m \u001b[49m\u001b[38;5;28;43;01melse\u001b[39;49;00m\u001b[43m \u001b[49m\u001b[38;5;124;43m'\u001b[39;49m\u001b[38;5;124;43mpjit\u001b[39;49m\u001b[38;5;124;43m'\u001b[39;49m\u001b[43m)\u001b[49m\u001b[43m)\u001b[49m\n\u001b[1;32m   1698\u001b[0m tokens_in \u001b[38;5;241m=\u001b[39m [ctx\u001b[38;5;241m.\u001b[39mtokens_in\u001b[38;5;241m.\u001b[39mget(eff) \u001b[38;5;28;01mfor\u001b[39;00m eff \u001b[38;5;129;01min\u001b[39;00m effects]\n\u001b[1;32m   1699\u001b[0m args \u001b[38;5;241m=\u001b[39m (\u001b[38;5;241m*\u001b[39mctx\u001b[38;5;241m.\u001b[39mdim_var_values, \u001b[38;5;241m*\u001b[39mtokens_in, \u001b[38;5;241m*\u001b[39margs)\n",
      "File \u001b[0;32m/Library/Frameworks/Python.framework/Versions/3.12/lib/python3.12/site-packages/jax/_src/pjit.py:1676\u001b[0m, in \u001b[0;36m_pjit_cached_lower_jaxpr_to_fun\u001b[0;34m(ctx, name, jaxpr, effects, in_shardings, out_shardings, in_layouts, out_layouts, api_name)\u001b[0m\n\u001b[1;32m   1672\u001b[0m   result_shardings \u001b[38;5;241m=\u001b[39m [\u001b[38;5;28;01mNone\u001b[39;00m \u001b[38;5;28;01mif\u001b[39;00m is_unspecified(o) \u001b[38;5;28;01melse\u001b[39;00m o \u001b[38;5;28;01mfor\u001b[39;00m o \u001b[38;5;129;01min\u001b[39;00m out_shardings]\n\u001b[1;32m   1673\u001b[0m   \u001b[38;5;66;03m# TODO(b/228598865): inlined calls cannot have shardings set directly on the\u001b[39;00m\n\u001b[1;32m   1674\u001b[0m   \u001b[38;5;66;03m# inputs or outputs because they are lost during MLIR->HLO conversion.\u001b[39;00m\n\u001b[1;32m   1675\u001b[0m   \u001b[38;5;66;03m# using_sharding_annotation=False means we add an identity operation instead.\u001b[39;00m\n\u001b[0;32m-> 1676\u001b[0m   func \u001b[38;5;241m=\u001b[39m \u001b[43mmlir\u001b[49m\u001b[38;5;241;43m.\u001b[39;49m\u001b[43mlower_jaxpr_to_fun\u001b[49m\u001b[43m(\u001b[49m\n\u001b[1;32m   1677\u001b[0m \u001b[43m      \u001b[49m\u001b[43mmod_ctx\u001b[49m\u001b[43m,\u001b[49m\u001b[43m \u001b[49m\u001b[43mname\u001b[49m\u001b[43m,\u001b[49m\u001b[43m \u001b[49m\u001b[43mjaxpr\u001b[49m\u001b[43m,\u001b[49m\u001b[43m \u001b[49m\u001b[43meffects\u001b[49m\u001b[43m,\u001b[49m\u001b[43m \u001b[49m\u001b[43mctx\u001b[49m\u001b[38;5;241;43m.\u001b[39;49m\u001b[43mname_stack\u001b[49m\u001b[43m,\u001b[49m\n\u001b[1;32m   1678\u001b[0m \u001b[43m      \u001b[49m\u001b[43marg_shardings\u001b[49m\u001b[38;5;241;43m=\u001b[39;49m\u001b[43marg_shardings\u001b[49m\u001b[43m,\u001b[49m\u001b[43m \u001b[49m\u001b[43mresult_shardings\u001b[49m\u001b[38;5;241;43m=\u001b[39;49m\u001b[43mresult_shardings\u001b[49m\u001b[43m,\u001b[49m\n\u001b[1;32m   1679\u001b[0m \u001b[43m      \u001b[49m\u001b[43muse_sharding_annotations\u001b[49m\u001b[38;5;241;43m=\u001b[39;49m\u001b[38;5;28;43;01mFalse\u001b[39;49;00m\u001b[43m,\u001b[49m\u001b[43m \u001b[49m\u001b[43mapi_name\u001b[49m\u001b[38;5;241;43m=\u001b[39;49m\u001b[43mapi_name\u001b[49m\u001b[43m,\u001b[49m\n\u001b[1;32m   1680\u001b[0m \u001b[43m      \u001b[49m\u001b[43marg_layouts\u001b[49m\u001b[38;5;241;43m=\u001b[39;49m\u001b[43min_layouts\u001b[49m\u001b[43m,\u001b[49m\u001b[43m \u001b[49m\u001b[43mresult_layouts\u001b[49m\u001b[38;5;241;43m=\u001b[39;49m\u001b[43mout_layouts\u001b[49m\u001b[43m)\u001b[49m\n\u001b[1;32m   1681\u001b[0m   mod_ctx\u001b[38;5;241m.\u001b[39mcached_primitive_lowerings[key] \u001b[38;5;241m=\u001b[39m func\n\u001b[1;32m   1682\u001b[0m \u001b[38;5;28;01mreturn\u001b[39;00m func\n",
      "File \u001b[0;32m/Library/Frameworks/Python.framework/Versions/3.12/lib/python3.12/site-packages/jax/_src/interpreters/mlir.py:1438\u001b[0m, in \u001b[0;36mlower_jaxpr_to_fun\u001b[0;34m(ctx, name, jaxpr, effects, name_stack, create_tokens, public, replace_tokens_with_dummy, replicated_args, arg_shardings, result_shardings, use_sharding_annotations, input_output_aliases, xla_donated_args, num_output_tokens, api_name, arg_names, result_names, arg_memory_kinds, result_memory_kinds, arg_layouts, result_layouts)\u001b[0m\n\u001b[1;32m   1436\u001b[0m callee_name_stack \u001b[38;5;241m=\u001b[39m name_stack\u001b[38;5;241m.\u001b[39mextend(util\u001b[38;5;241m.\u001b[39mwrap_name(name, api_name))\n\u001b[1;32m   1437\u001b[0m consts \u001b[38;5;241m=\u001b[39m [ir_constants(xla\u001b[38;5;241m.\u001b[39mcanonicalize_dtype(x)) \u001b[38;5;28;01mfor\u001b[39;00m x \u001b[38;5;129;01min\u001b[39;00m jaxpr\u001b[38;5;241m.\u001b[39mconsts]\n\u001b[0;32m-> 1438\u001b[0m out_vals, tokens_out \u001b[38;5;241m=\u001b[39m \u001b[43mjaxpr_subcomp\u001b[49m\u001b[43m(\u001b[49m\n\u001b[1;32m   1439\u001b[0m \u001b[43m    \u001b[49m\u001b[43mctx\u001b[49m\u001b[43m,\u001b[49m\u001b[43m \u001b[49m\u001b[43mjaxpr\u001b[49m\u001b[38;5;241;43m.\u001b[39;49m\u001b[43mjaxpr\u001b[49m\u001b[43m,\u001b[49m\u001b[43m \u001b[49m\u001b[43mcallee_name_stack\u001b[49m\u001b[43m,\u001b[49m\u001b[43m \u001b[49m\u001b[43mtokens_in\u001b[49m\u001b[43m,\u001b[49m\n\u001b[1;32m   1440\u001b[0m \u001b[43m    \u001b[49m\u001b[43mconsts\u001b[49m\u001b[43m,\u001b[49m\u001b[43m \u001b[49m\u001b[38;5;241;43m*\u001b[39;49m\u001b[43margs\u001b[49m\u001b[43m,\u001b[49m\u001b[43m \u001b[49m\u001b[43mdim_var_values\u001b[49m\u001b[38;5;241;43m=\u001b[39;49m\u001b[43mdim_var_values\u001b[49m\u001b[43m)\u001b[49m\n\u001b[1;32m   1441\u001b[0m outs \u001b[38;5;241m=\u001b[39m []\n\u001b[1;32m   1442\u001b[0m \u001b[38;5;28;01mif\u001b[39;00m create_tokens:\n",
      "File \u001b[0;32m/Library/Frameworks/Python.framework/Versions/3.12/lib/python3.12/site-packages/jax/_src/interpreters/mlir.py:1622\u001b[0m, in \u001b[0;36mjaxpr_subcomp\u001b[0;34m(ctx, jaxpr, name_stack, tokens, consts, dim_var_values, *args)\u001b[0m\n\u001b[1;32m   1619\u001b[0m   rule_ctx \u001b[38;5;241m=\u001b[39m rule_ctx\u001b[38;5;241m.\u001b[39mreplace(axis_size_env\u001b[38;5;241m=\u001b[39maxis_size_env)\n\u001b[1;32m   1621\u001b[0m rule_inputs \u001b[38;5;241m=\u001b[39m \u001b[38;5;28mmap\u001b[39m(_unwrap_singleton_ir_values, in_nodes)\n\u001b[0;32m-> 1622\u001b[0m ans \u001b[38;5;241m=\u001b[39m \u001b[43mlower_per_platform\u001b[49m\u001b[43m(\u001b[49m\u001b[43mrule_ctx\u001b[49m\u001b[43m,\u001b[49m\u001b[43m \u001b[49m\u001b[38;5;28;43mstr\u001b[39;49m\u001b[43m(\u001b[49m\u001b[43meqn\u001b[49m\u001b[38;5;241;43m.\u001b[39;49m\u001b[43mprimitive\u001b[49m\u001b[43m)\u001b[49m\u001b[43m,\u001b[49m\n\u001b[1;32m   1623\u001b[0m \u001b[43m                         \u001b[49m\u001b[43mplatform_rules\u001b[49m\u001b[43m,\u001b[49m\u001b[43m \u001b[49m\u001b[43mdefault_rule\u001b[49m\u001b[43m,\u001b[49m\n\u001b[1;32m   1624\u001b[0m \u001b[43m                         \u001b[49m\u001b[43meqn\u001b[49m\u001b[38;5;241;43m.\u001b[39;49m\u001b[43meffects\u001b[49m\u001b[43m,\u001b[49m\n\u001b[1;32m   1625\u001b[0m \u001b[43m                         \u001b[49m\u001b[38;5;241;43m*\u001b[39;49m\u001b[43mrule_inputs\u001b[49m\u001b[43m,\u001b[49m\u001b[43m \u001b[49m\u001b[38;5;241;43m*\u001b[39;49m\u001b[38;5;241;43m*\u001b[39;49m\u001b[43meqn\u001b[49m\u001b[38;5;241;43m.\u001b[39;49m\u001b[43mparams\u001b[49m\u001b[43m)\u001b[49m\n\u001b[1;32m   1627\u001b[0m \u001b[38;5;28;01mif\u001b[39;00m effects:\n\u001b[1;32m   1628\u001b[0m   \u001b[38;5;66;03m# If there were ordered effects in the primitive, there should be output\u001b[39;00m\n\u001b[1;32m   1629\u001b[0m   \u001b[38;5;66;03m# tokens we need for subsequent ordered effects.\u001b[39;00m\n\u001b[1;32m   1630\u001b[0m   tokens_out \u001b[38;5;241m=\u001b[39m rule_ctx\u001b[38;5;241m.\u001b[39mtokens_out\n",
      "File \u001b[0;32m/Library/Frameworks/Python.framework/Versions/3.12/lib/python3.12/site-packages/jax/_src/interpreters/mlir.py:1730\u001b[0m, in \u001b[0;36mlower_per_platform\u001b[0;34m(ctx, description, platform_rules, default_rule, effects, *rule_args, **rule_kwargs)\u001b[0m\n\u001b[1;32m   1728\u001b[0m \u001b[38;5;66;03m# If there is a single rule left just apply the rule, without conditionals.\u001b[39;00m\n\u001b[1;32m   1729\u001b[0m \u001b[38;5;28;01mif\u001b[39;00m \u001b[38;5;28mlen\u001b[39m(kept_rules) \u001b[38;5;241m==\u001b[39m \u001b[38;5;241m1\u001b[39m:\n\u001b[0;32m-> 1730\u001b[0m  \u001b[38;5;28;01mreturn\u001b[39;00m \u001b[43mkept_rules\u001b[49m\u001b[43m[\u001b[49m\u001b[38;5;241;43m0\u001b[39;49m\u001b[43m]\u001b[49m\u001b[43m(\u001b[49m\u001b[43mctx\u001b[49m\u001b[43m,\u001b[49m\u001b[43m \u001b[49m\u001b[38;5;241;43m*\u001b[39;49m\u001b[43mrule_args\u001b[49m\u001b[43m,\u001b[49m\u001b[43m \u001b[49m\u001b[38;5;241;43m*\u001b[39;49m\u001b[38;5;241;43m*\u001b[39;49m\u001b[43mrule_kwargs\u001b[49m\u001b[43m)\u001b[49m\n\u001b[1;32m   1732\u001b[0m \u001b[38;5;28;01massert\u001b[39;00m \u001b[38;5;28mlen\u001b[39m(platforms) \u001b[38;5;241m>\u001b[39m \u001b[38;5;241m1\u001b[39m \u001b[38;5;129;01mand\u001b[39;00m \u001b[38;5;28mlen\u001b[39m(kept_rules) \u001b[38;5;241m>\u001b[39m\u001b[38;5;241m=\u001b[39m \u001b[38;5;241m2\u001b[39m, (platforms, kept_rules)\n\u001b[1;32m   1733\u001b[0m \u001b[38;5;28;01massert\u001b[39;00m \u001b[38;5;28mlen\u001b[39m(ctx\u001b[38;5;241m.\u001b[39mdim_var_values) \u001b[38;5;241m>\u001b[39m\u001b[38;5;241m=\u001b[39m \u001b[38;5;241m1\u001b[39m, \u001b[38;5;124m\"\u001b[39m\u001b[38;5;124mMust have a platform_index variable\u001b[39m\u001b[38;5;124m\"\u001b[39m\n",
      "File \u001b[0;32m/Library/Frameworks/Python.framework/Versions/3.12/lib/python3.12/site-packages/jax/_src/prng.py:784\u001b[0m, in \u001b[0;36mrandom_bits_lowering\u001b[0;34m(ctx, keys, bit_width, shape)\u001b[0m\n\u001b[1;32m    782\u001b[0m bits_lowering \u001b[38;5;241m=\u001b[39m mlir\u001b[38;5;241m.\u001b[39mlower_fun(bits, multiple_results\u001b[38;5;241m=\u001b[39m\u001b[38;5;28;01mFalse\u001b[39;00m)\n\u001b[1;32m    783\u001b[0m ctx_new \u001b[38;5;241m=\u001b[39m ctx\u001b[38;5;241m.\u001b[39mreplace(avals_in\u001b[38;5;241m=\u001b[39m[core\u001b[38;5;241m.\u001b[39mphysical_aval(aval)])\n\u001b[0;32m--> 784\u001b[0m out \u001b[38;5;241m=\u001b[39m \u001b[43mbits_lowering\u001b[49m\u001b[43m(\u001b[49m\u001b[43mctx_new\u001b[49m\u001b[43m,\u001b[49m\u001b[43m \u001b[49m\u001b[43mkeys\u001b[49m\u001b[43m)\u001b[49m\n\u001b[1;32m    785\u001b[0m ctx\u001b[38;5;241m.\u001b[39mset_tokens_out(ctx_new\u001b[38;5;241m.\u001b[39mtokens_out)\n\u001b[1;32m    786\u001b[0m \u001b[38;5;28;01mreturn\u001b[39;00m out\n",
      "File \u001b[0;32m/Library/Frameworks/Python.framework/Versions/3.12/lib/python3.12/site-packages/jax/_src/interpreters/mlir.py:1817\u001b[0m, in \u001b[0;36mlower_fun.<locals>.f_lowered\u001b[0;34m(ctx, *args, **params)\u001b[0m\n\u001b[1;32m   1814\u001b[0m   jaxpr, _, consts, () \u001b[38;5;241m=\u001b[39m pe\u001b[38;5;241m.\u001b[39mtrace_to_jaxpr_dynamic(wrapped_fun, ctx\u001b[38;5;241m.\u001b[39mavals_in)\n\u001b[1;32m   1815\u001b[0m   \u001b[38;5;66;03m# TODO(frostig,mattjj): check ctx.avals_out against jaxpr avals out?\u001b[39;00m\n\u001b[0;32m-> 1817\u001b[0m out, tokens \u001b[38;5;241m=\u001b[39m \u001b[43mjaxpr_subcomp\u001b[49m\u001b[43m(\u001b[49m\n\u001b[1;32m   1818\u001b[0m \u001b[43m    \u001b[49m\u001b[43mctx\u001b[49m\u001b[38;5;241;43m.\u001b[39;49m\u001b[43mmodule_context\u001b[49m\u001b[43m,\u001b[49m\u001b[43m \u001b[49m\u001b[43mjaxpr\u001b[49m\u001b[43m,\u001b[49m\u001b[43m \u001b[49m\u001b[43mctx\u001b[49m\u001b[38;5;241;43m.\u001b[39;49m\u001b[43mname_stack\u001b[49m\u001b[43m,\u001b[49m\u001b[43m \u001b[49m\u001b[43mctx\u001b[49m\u001b[38;5;241;43m.\u001b[39;49m\u001b[43mtokens_in\u001b[49m\u001b[43m,\u001b[49m\n\u001b[1;32m   1819\u001b[0m \u001b[43m    \u001b[49m\u001b[43m_ir_consts\u001b[49m\u001b[43m(\u001b[49m\u001b[43mconsts\u001b[49m\u001b[43m)\u001b[49m\u001b[43m,\u001b[49m\u001b[43m \u001b[49m\u001b[38;5;241;43m*\u001b[39;49m\u001b[38;5;28;43mmap\u001b[39;49m\u001b[43m(\u001b[49m\u001b[43mwrap_singleton_ir_values\u001b[49m\u001b[43m,\u001b[49m\u001b[43m \u001b[49m\u001b[43margs\u001b[49m\u001b[43m)\u001b[49m\u001b[43m,\u001b[49m\n\u001b[1;32m   1820\u001b[0m \u001b[43m    \u001b[49m\u001b[43mdim_var_values\u001b[49m\u001b[38;5;241;43m=\u001b[39;49m\u001b[43mctx\u001b[49m\u001b[38;5;241;43m.\u001b[39;49m\u001b[43mdim_var_values\u001b[49m\u001b[43m)\u001b[49m\n\u001b[1;32m   1821\u001b[0m ctx\u001b[38;5;241m.\u001b[39mset_tokens_out(tokens)\n\u001b[1;32m   1822\u001b[0m \u001b[38;5;28;01mreturn\u001b[39;00m out\n",
      "File \u001b[0;32m/Library/Frameworks/Python.framework/Versions/3.12/lib/python3.12/site-packages/jax/_src/interpreters/mlir.py:1622\u001b[0m, in \u001b[0;36mjaxpr_subcomp\u001b[0;34m(ctx, jaxpr, name_stack, tokens, consts, dim_var_values, *args)\u001b[0m\n\u001b[1;32m   1619\u001b[0m   rule_ctx \u001b[38;5;241m=\u001b[39m rule_ctx\u001b[38;5;241m.\u001b[39mreplace(axis_size_env\u001b[38;5;241m=\u001b[39maxis_size_env)\n\u001b[1;32m   1621\u001b[0m rule_inputs \u001b[38;5;241m=\u001b[39m \u001b[38;5;28mmap\u001b[39m(_unwrap_singleton_ir_values, in_nodes)\n\u001b[0;32m-> 1622\u001b[0m ans \u001b[38;5;241m=\u001b[39m \u001b[43mlower_per_platform\u001b[49m\u001b[43m(\u001b[49m\u001b[43mrule_ctx\u001b[49m\u001b[43m,\u001b[49m\u001b[43m \u001b[49m\u001b[38;5;28;43mstr\u001b[39;49m\u001b[43m(\u001b[49m\u001b[43meqn\u001b[49m\u001b[38;5;241;43m.\u001b[39;49m\u001b[43mprimitive\u001b[49m\u001b[43m)\u001b[49m\u001b[43m,\u001b[49m\n\u001b[1;32m   1623\u001b[0m \u001b[43m                         \u001b[49m\u001b[43mplatform_rules\u001b[49m\u001b[43m,\u001b[49m\u001b[43m \u001b[49m\u001b[43mdefault_rule\u001b[49m\u001b[43m,\u001b[49m\n\u001b[1;32m   1624\u001b[0m \u001b[43m                         \u001b[49m\u001b[43meqn\u001b[49m\u001b[38;5;241;43m.\u001b[39;49m\u001b[43meffects\u001b[49m\u001b[43m,\u001b[49m\n\u001b[1;32m   1625\u001b[0m \u001b[43m                         \u001b[49m\u001b[38;5;241;43m*\u001b[39;49m\u001b[43mrule_inputs\u001b[49m\u001b[43m,\u001b[49m\u001b[43m \u001b[49m\u001b[38;5;241;43m*\u001b[39;49m\u001b[38;5;241;43m*\u001b[39;49m\u001b[43meqn\u001b[49m\u001b[38;5;241;43m.\u001b[39;49m\u001b[43mparams\u001b[49m\u001b[43m)\u001b[49m\n\u001b[1;32m   1627\u001b[0m \u001b[38;5;28;01mif\u001b[39;00m effects:\n\u001b[1;32m   1628\u001b[0m   \u001b[38;5;66;03m# If there were ordered effects in the primitive, there should be output\u001b[39;00m\n\u001b[1;32m   1629\u001b[0m   \u001b[38;5;66;03m# tokens we need for subsequent ordered effects.\u001b[39;00m\n\u001b[1;32m   1630\u001b[0m   tokens_out \u001b[38;5;241m=\u001b[39m rule_ctx\u001b[38;5;241m.\u001b[39mtokens_out\n",
      "File \u001b[0;32m/Library/Frameworks/Python.framework/Versions/3.12/lib/python3.12/site-packages/jax/_src/interpreters/mlir.py:1730\u001b[0m, in \u001b[0;36mlower_per_platform\u001b[0;34m(ctx, description, platform_rules, default_rule, effects, *rule_args, **rule_kwargs)\u001b[0m\n\u001b[1;32m   1728\u001b[0m \u001b[38;5;66;03m# If there is a single rule left just apply the rule, without conditionals.\u001b[39;00m\n\u001b[1;32m   1729\u001b[0m \u001b[38;5;28;01mif\u001b[39;00m \u001b[38;5;28mlen\u001b[39m(kept_rules) \u001b[38;5;241m==\u001b[39m \u001b[38;5;241m1\u001b[39m:\n\u001b[0;32m-> 1730\u001b[0m  \u001b[38;5;28;01mreturn\u001b[39;00m \u001b[43mkept_rules\u001b[49m\u001b[43m[\u001b[49m\u001b[38;5;241;43m0\u001b[39;49m\u001b[43m]\u001b[49m\u001b[43m(\u001b[49m\u001b[43mctx\u001b[49m\u001b[43m,\u001b[49m\u001b[43m \u001b[49m\u001b[38;5;241;43m*\u001b[39;49m\u001b[43mrule_args\u001b[49m\u001b[43m,\u001b[49m\u001b[43m \u001b[49m\u001b[38;5;241;43m*\u001b[39;49m\u001b[38;5;241;43m*\u001b[39;49m\u001b[43mrule_kwargs\u001b[49m\u001b[43m)\u001b[49m\n\u001b[1;32m   1732\u001b[0m \u001b[38;5;28;01massert\u001b[39;00m \u001b[38;5;28mlen\u001b[39m(platforms) \u001b[38;5;241m>\u001b[39m \u001b[38;5;241m1\u001b[39m \u001b[38;5;129;01mand\u001b[39;00m \u001b[38;5;28mlen\u001b[39m(kept_rules) \u001b[38;5;241m>\u001b[39m\u001b[38;5;241m=\u001b[39m \u001b[38;5;241m2\u001b[39m, (platforms, kept_rules)\n\u001b[1;32m   1733\u001b[0m \u001b[38;5;28;01massert\u001b[39;00m \u001b[38;5;28mlen\u001b[39m(ctx\u001b[38;5;241m.\u001b[39mdim_var_values) \u001b[38;5;241m>\u001b[39m\u001b[38;5;241m=\u001b[39m \u001b[38;5;241m1\u001b[39m, \u001b[38;5;124m\"\u001b[39m\u001b[38;5;124mMust have a platform_index variable\u001b[39m\u001b[38;5;124m\"\u001b[39m\n",
      "File \u001b[0;32m/Library/Frameworks/Python.framework/Versions/3.12/lib/python3.12/site-packages/jax/_src/interpreters/mlir.py:1817\u001b[0m, in \u001b[0;36mlower_fun.<locals>.f_lowered\u001b[0;34m(ctx, *args, **params)\u001b[0m\n\u001b[1;32m   1814\u001b[0m   jaxpr, _, consts, () \u001b[38;5;241m=\u001b[39m pe\u001b[38;5;241m.\u001b[39mtrace_to_jaxpr_dynamic(wrapped_fun, ctx\u001b[38;5;241m.\u001b[39mavals_in)\n\u001b[1;32m   1815\u001b[0m   \u001b[38;5;66;03m# TODO(frostig,mattjj): check ctx.avals_out against jaxpr avals out?\u001b[39;00m\n\u001b[0;32m-> 1817\u001b[0m out, tokens \u001b[38;5;241m=\u001b[39m \u001b[43mjaxpr_subcomp\u001b[49m\u001b[43m(\u001b[49m\n\u001b[1;32m   1818\u001b[0m \u001b[43m    \u001b[49m\u001b[43mctx\u001b[49m\u001b[38;5;241;43m.\u001b[39;49m\u001b[43mmodule_context\u001b[49m\u001b[43m,\u001b[49m\u001b[43m \u001b[49m\u001b[43mjaxpr\u001b[49m\u001b[43m,\u001b[49m\u001b[43m \u001b[49m\u001b[43mctx\u001b[49m\u001b[38;5;241;43m.\u001b[39;49m\u001b[43mname_stack\u001b[49m\u001b[43m,\u001b[49m\u001b[43m \u001b[49m\u001b[43mctx\u001b[49m\u001b[38;5;241;43m.\u001b[39;49m\u001b[43mtokens_in\u001b[49m\u001b[43m,\u001b[49m\n\u001b[1;32m   1819\u001b[0m \u001b[43m    \u001b[49m\u001b[43m_ir_consts\u001b[49m\u001b[43m(\u001b[49m\u001b[43mconsts\u001b[49m\u001b[43m)\u001b[49m\u001b[43m,\u001b[49m\u001b[43m \u001b[49m\u001b[38;5;241;43m*\u001b[39;49m\u001b[38;5;28;43mmap\u001b[39;49m\u001b[43m(\u001b[49m\u001b[43mwrap_singleton_ir_values\u001b[49m\u001b[43m,\u001b[49m\u001b[43m \u001b[49m\u001b[43margs\u001b[49m\u001b[43m)\u001b[49m\u001b[43m,\u001b[49m\n\u001b[1;32m   1820\u001b[0m \u001b[43m    \u001b[49m\u001b[43mdim_var_values\u001b[49m\u001b[38;5;241;43m=\u001b[39;49m\u001b[43mctx\u001b[49m\u001b[38;5;241;43m.\u001b[39;49m\u001b[43mdim_var_values\u001b[49m\u001b[43m)\u001b[49m\n\u001b[1;32m   1821\u001b[0m ctx\u001b[38;5;241m.\u001b[39mset_tokens_out(tokens)\n\u001b[1;32m   1822\u001b[0m \u001b[38;5;28;01mreturn\u001b[39;00m out\n",
      "File \u001b[0;32m/Library/Frameworks/Python.framework/Versions/3.12/lib/python3.12/site-packages/jax/_src/interpreters/mlir.py:1622\u001b[0m, in \u001b[0;36mjaxpr_subcomp\u001b[0;34m(ctx, jaxpr, name_stack, tokens, consts, dim_var_values, *args)\u001b[0m\n\u001b[1;32m   1619\u001b[0m   rule_ctx \u001b[38;5;241m=\u001b[39m rule_ctx\u001b[38;5;241m.\u001b[39mreplace(axis_size_env\u001b[38;5;241m=\u001b[39maxis_size_env)\n\u001b[1;32m   1621\u001b[0m rule_inputs \u001b[38;5;241m=\u001b[39m \u001b[38;5;28mmap\u001b[39m(_unwrap_singleton_ir_values, in_nodes)\n\u001b[0;32m-> 1622\u001b[0m ans \u001b[38;5;241m=\u001b[39m \u001b[43mlower_per_platform\u001b[49m\u001b[43m(\u001b[49m\u001b[43mrule_ctx\u001b[49m\u001b[43m,\u001b[49m\u001b[43m \u001b[49m\u001b[38;5;28;43mstr\u001b[39;49m\u001b[43m(\u001b[49m\u001b[43meqn\u001b[49m\u001b[38;5;241;43m.\u001b[39;49m\u001b[43mprimitive\u001b[49m\u001b[43m)\u001b[49m\u001b[43m,\u001b[49m\n\u001b[1;32m   1623\u001b[0m \u001b[43m                         \u001b[49m\u001b[43mplatform_rules\u001b[49m\u001b[43m,\u001b[49m\u001b[43m \u001b[49m\u001b[43mdefault_rule\u001b[49m\u001b[43m,\u001b[49m\n\u001b[1;32m   1624\u001b[0m \u001b[43m                         \u001b[49m\u001b[43meqn\u001b[49m\u001b[38;5;241;43m.\u001b[39;49m\u001b[43meffects\u001b[49m\u001b[43m,\u001b[49m\n\u001b[1;32m   1625\u001b[0m \u001b[43m                         \u001b[49m\u001b[38;5;241;43m*\u001b[39;49m\u001b[43mrule_inputs\u001b[49m\u001b[43m,\u001b[49m\u001b[43m \u001b[49m\u001b[38;5;241;43m*\u001b[39;49m\u001b[38;5;241;43m*\u001b[39;49m\u001b[43meqn\u001b[49m\u001b[38;5;241;43m.\u001b[39;49m\u001b[43mparams\u001b[49m\u001b[43m)\u001b[49m\n\u001b[1;32m   1627\u001b[0m \u001b[38;5;28;01mif\u001b[39;00m effects:\n\u001b[1;32m   1628\u001b[0m   \u001b[38;5;66;03m# If there were ordered effects in the primitive, there should be output\u001b[39;00m\n\u001b[1;32m   1629\u001b[0m   \u001b[38;5;66;03m# tokens we need for subsequent ordered effects.\u001b[39;00m\n\u001b[1;32m   1630\u001b[0m   tokens_out \u001b[38;5;241m=\u001b[39m rule_ctx\u001b[38;5;241m.\u001b[39mtokens_out\n",
      "File \u001b[0;32m/Library/Frameworks/Python.framework/Versions/3.12/lib/python3.12/site-packages/jax/_src/interpreters/mlir.py:1730\u001b[0m, in \u001b[0;36mlower_per_platform\u001b[0;34m(ctx, description, platform_rules, default_rule, effects, *rule_args, **rule_kwargs)\u001b[0m\n\u001b[1;32m   1728\u001b[0m \u001b[38;5;66;03m# If there is a single rule left just apply the rule, without conditionals.\u001b[39;00m\n\u001b[1;32m   1729\u001b[0m \u001b[38;5;28;01mif\u001b[39;00m \u001b[38;5;28mlen\u001b[39m(kept_rules) \u001b[38;5;241m==\u001b[39m \u001b[38;5;241m1\u001b[39m:\n\u001b[0;32m-> 1730\u001b[0m  \u001b[38;5;28;01mreturn\u001b[39;00m \u001b[43mkept_rules\u001b[49m\u001b[43m[\u001b[49m\u001b[38;5;241;43m0\u001b[39;49m\u001b[43m]\u001b[49m\u001b[43m(\u001b[49m\u001b[43mctx\u001b[49m\u001b[43m,\u001b[49m\u001b[43m \u001b[49m\u001b[38;5;241;43m*\u001b[39;49m\u001b[43mrule_args\u001b[49m\u001b[43m,\u001b[49m\u001b[43m \u001b[49m\u001b[38;5;241;43m*\u001b[39;49m\u001b[38;5;241;43m*\u001b[39;49m\u001b[43mrule_kwargs\u001b[49m\u001b[43m)\u001b[49m\n\u001b[1;32m   1732\u001b[0m \u001b[38;5;28;01massert\u001b[39;00m \u001b[38;5;28mlen\u001b[39m(platforms) \u001b[38;5;241m>\u001b[39m \u001b[38;5;241m1\u001b[39m \u001b[38;5;129;01mand\u001b[39;00m \u001b[38;5;28mlen\u001b[39m(kept_rules) \u001b[38;5;241m>\u001b[39m\u001b[38;5;241m=\u001b[39m \u001b[38;5;241m2\u001b[39m, (platforms, kept_rules)\n\u001b[1;32m   1733\u001b[0m \u001b[38;5;28;01massert\u001b[39;00m \u001b[38;5;28mlen\u001b[39m(ctx\u001b[38;5;241m.\u001b[39mdim_var_values) \u001b[38;5;241m>\u001b[39m\u001b[38;5;241m=\u001b[39m \u001b[38;5;241m1\u001b[39m, \u001b[38;5;124m\"\u001b[39m\u001b[38;5;124mMust have a platform_index variable\u001b[39m\u001b[38;5;124m\"\u001b[39m\n",
      "File \u001b[0;32m/Library/Frameworks/Python.framework/Versions/3.12/lib/python3.12/site-packages/jax/_src/interpreters/mlir.py:1817\u001b[0m, in \u001b[0;36mlower_fun.<locals>.f_lowered\u001b[0;34m(ctx, *args, **params)\u001b[0m\n\u001b[1;32m   1814\u001b[0m   jaxpr, _, consts, () \u001b[38;5;241m=\u001b[39m pe\u001b[38;5;241m.\u001b[39mtrace_to_jaxpr_dynamic(wrapped_fun, ctx\u001b[38;5;241m.\u001b[39mavals_in)\n\u001b[1;32m   1815\u001b[0m   \u001b[38;5;66;03m# TODO(frostig,mattjj): check ctx.avals_out against jaxpr avals out?\u001b[39;00m\n\u001b[0;32m-> 1817\u001b[0m out, tokens \u001b[38;5;241m=\u001b[39m \u001b[43mjaxpr_subcomp\u001b[49m\u001b[43m(\u001b[49m\n\u001b[1;32m   1818\u001b[0m \u001b[43m    \u001b[49m\u001b[43mctx\u001b[49m\u001b[38;5;241;43m.\u001b[39;49m\u001b[43mmodule_context\u001b[49m\u001b[43m,\u001b[49m\u001b[43m \u001b[49m\u001b[43mjaxpr\u001b[49m\u001b[43m,\u001b[49m\u001b[43m \u001b[49m\u001b[43mctx\u001b[49m\u001b[38;5;241;43m.\u001b[39;49m\u001b[43mname_stack\u001b[49m\u001b[43m,\u001b[49m\u001b[43m \u001b[49m\u001b[43mctx\u001b[49m\u001b[38;5;241;43m.\u001b[39;49m\u001b[43mtokens_in\u001b[49m\u001b[43m,\u001b[49m\n\u001b[1;32m   1819\u001b[0m \u001b[43m    \u001b[49m\u001b[43m_ir_consts\u001b[49m\u001b[43m(\u001b[49m\u001b[43mconsts\u001b[49m\u001b[43m)\u001b[49m\u001b[43m,\u001b[49m\u001b[43m \u001b[49m\u001b[38;5;241;43m*\u001b[39;49m\u001b[38;5;28;43mmap\u001b[39;49m\u001b[43m(\u001b[49m\u001b[43mwrap_singleton_ir_values\u001b[49m\u001b[43m,\u001b[49m\u001b[43m \u001b[49m\u001b[43margs\u001b[49m\u001b[43m)\u001b[49m\u001b[43m,\u001b[49m\n\u001b[1;32m   1820\u001b[0m \u001b[43m    \u001b[49m\u001b[43mdim_var_values\u001b[49m\u001b[38;5;241;43m=\u001b[39;49m\u001b[43mctx\u001b[49m\u001b[38;5;241;43m.\u001b[39;49m\u001b[43mdim_var_values\u001b[49m\u001b[43m)\u001b[49m\n\u001b[1;32m   1821\u001b[0m ctx\u001b[38;5;241m.\u001b[39mset_tokens_out(tokens)\n\u001b[1;32m   1822\u001b[0m \u001b[38;5;28;01mreturn\u001b[39;00m out\n",
      "File \u001b[0;32m/Library/Frameworks/Python.framework/Versions/3.12/lib/python3.12/site-packages/jax/_src/interpreters/mlir.py:1622\u001b[0m, in \u001b[0;36mjaxpr_subcomp\u001b[0;34m(ctx, jaxpr, name_stack, tokens, consts, dim_var_values, *args)\u001b[0m\n\u001b[1;32m   1619\u001b[0m   rule_ctx \u001b[38;5;241m=\u001b[39m rule_ctx\u001b[38;5;241m.\u001b[39mreplace(axis_size_env\u001b[38;5;241m=\u001b[39maxis_size_env)\n\u001b[1;32m   1621\u001b[0m rule_inputs \u001b[38;5;241m=\u001b[39m \u001b[38;5;28mmap\u001b[39m(_unwrap_singleton_ir_values, in_nodes)\n\u001b[0;32m-> 1622\u001b[0m ans \u001b[38;5;241m=\u001b[39m \u001b[43mlower_per_platform\u001b[49m\u001b[43m(\u001b[49m\u001b[43mrule_ctx\u001b[49m\u001b[43m,\u001b[49m\u001b[43m \u001b[49m\u001b[38;5;28;43mstr\u001b[39;49m\u001b[43m(\u001b[49m\u001b[43meqn\u001b[49m\u001b[38;5;241;43m.\u001b[39;49m\u001b[43mprimitive\u001b[49m\u001b[43m)\u001b[49m\u001b[43m,\u001b[49m\n\u001b[1;32m   1623\u001b[0m \u001b[43m                         \u001b[49m\u001b[43mplatform_rules\u001b[49m\u001b[43m,\u001b[49m\u001b[43m \u001b[49m\u001b[43mdefault_rule\u001b[49m\u001b[43m,\u001b[49m\n\u001b[1;32m   1624\u001b[0m \u001b[43m                         \u001b[49m\u001b[43meqn\u001b[49m\u001b[38;5;241;43m.\u001b[39;49m\u001b[43meffects\u001b[49m\u001b[43m,\u001b[49m\n\u001b[1;32m   1625\u001b[0m \u001b[43m                         \u001b[49m\u001b[38;5;241;43m*\u001b[39;49m\u001b[43mrule_inputs\u001b[49m\u001b[43m,\u001b[49m\u001b[43m \u001b[49m\u001b[38;5;241;43m*\u001b[39;49m\u001b[38;5;241;43m*\u001b[39;49m\u001b[43meqn\u001b[49m\u001b[38;5;241;43m.\u001b[39;49m\u001b[43mparams\u001b[49m\u001b[43m)\u001b[49m\n\u001b[1;32m   1627\u001b[0m \u001b[38;5;28;01mif\u001b[39;00m effects:\n\u001b[1;32m   1628\u001b[0m   \u001b[38;5;66;03m# If there were ordered effects in the primitive, there should be output\u001b[39;00m\n\u001b[1;32m   1629\u001b[0m   \u001b[38;5;66;03m# tokens we need for subsequent ordered effects.\u001b[39;00m\n\u001b[1;32m   1630\u001b[0m   tokens_out \u001b[38;5;241m=\u001b[39m rule_ctx\u001b[38;5;241m.\u001b[39mtokens_out\n",
      "File \u001b[0;32m/Library/Frameworks/Python.framework/Versions/3.12/lib/python3.12/site-packages/jax/_src/interpreters/mlir.py:1730\u001b[0m, in \u001b[0;36mlower_per_platform\u001b[0;34m(ctx, description, platform_rules, default_rule, effects, *rule_args, **rule_kwargs)\u001b[0m\n\u001b[1;32m   1728\u001b[0m \u001b[38;5;66;03m# If there is a single rule left just apply the rule, without conditionals.\u001b[39;00m\n\u001b[1;32m   1729\u001b[0m \u001b[38;5;28;01mif\u001b[39;00m \u001b[38;5;28mlen\u001b[39m(kept_rules) \u001b[38;5;241m==\u001b[39m \u001b[38;5;241m1\u001b[39m:\n\u001b[0;32m-> 1730\u001b[0m  \u001b[38;5;28;01mreturn\u001b[39;00m \u001b[43mkept_rules\u001b[49m\u001b[43m[\u001b[49m\u001b[38;5;241;43m0\u001b[39;49m\u001b[43m]\u001b[49m\u001b[43m(\u001b[49m\u001b[43mctx\u001b[49m\u001b[43m,\u001b[49m\u001b[43m \u001b[49m\u001b[38;5;241;43m*\u001b[39;49m\u001b[43mrule_args\u001b[49m\u001b[43m,\u001b[49m\u001b[43m \u001b[49m\u001b[38;5;241;43m*\u001b[39;49m\u001b[38;5;241;43m*\u001b[39;49m\u001b[43mrule_kwargs\u001b[49m\u001b[43m)\u001b[49m\n\u001b[1;32m   1732\u001b[0m \u001b[38;5;28;01massert\u001b[39;00m \u001b[38;5;28mlen\u001b[39m(platforms) \u001b[38;5;241m>\u001b[39m \u001b[38;5;241m1\u001b[39m \u001b[38;5;129;01mand\u001b[39;00m \u001b[38;5;28mlen\u001b[39m(kept_rules) \u001b[38;5;241m>\u001b[39m\u001b[38;5;241m=\u001b[39m \u001b[38;5;241m2\u001b[39m, (platforms, kept_rules)\n\u001b[1;32m   1733\u001b[0m \u001b[38;5;28;01massert\u001b[39;00m \u001b[38;5;28mlen\u001b[39m(ctx\u001b[38;5;241m.\u001b[39mdim_var_values) \u001b[38;5;241m>\u001b[39m\u001b[38;5;241m=\u001b[39m \u001b[38;5;241m1\u001b[39m, \u001b[38;5;124m\"\u001b[39m\u001b[38;5;124mMust have a platform_index variable\u001b[39m\u001b[38;5;124m\"\u001b[39m\n",
      "File \u001b[0;32m/Library/Frameworks/Python.framework/Versions/3.12/lib/python3.12/site-packages/jax/_src/lax/control_flow/loops.py:1802\u001b[0m, in \u001b[0;36m_while_lowering\u001b[0;34m(ctx, cond_jaxpr, body_jaxpr, cond_nconsts, body_nconsts, *args)\u001b[0m\n\u001b[1;32m   1798\u001b[0m cond_consts \u001b[38;5;241m=\u001b[39m [\n\u001b[1;32m   1799\u001b[0m     mlir\u001b[38;5;241m.\u001b[39mir_constants(xla\u001b[38;5;241m.\u001b[39mcanonicalize_dtype(x)) \u001b[38;5;28;01mfor\u001b[39;00m x \u001b[38;5;129;01min\u001b[39;00m cond_jaxpr\u001b[38;5;241m.\u001b[39mconsts\n\u001b[1;32m   1800\u001b[0m ]\n\u001b[1;32m   1801\u001b[0m cond_name_stack \u001b[38;5;241m=\u001b[39m name_stack\u001b[38;5;241m.\u001b[39mextend(\u001b[38;5;124m'\u001b[39m\u001b[38;5;124mcond\u001b[39m\u001b[38;5;124m'\u001b[39m)\n\u001b[0;32m-> 1802\u001b[0m ((pred,),), _ \u001b[38;5;241m=\u001b[39m \u001b[43mmlir\u001b[49m\u001b[38;5;241;43m.\u001b[39;49m\u001b[43mjaxpr_subcomp\u001b[49m\u001b[43m(\u001b[49m\n\u001b[1;32m   1803\u001b[0m \u001b[43m    \u001b[49m\u001b[43mctx\u001b[49m\u001b[38;5;241;43m.\u001b[39;49m\u001b[43mmodule_context\u001b[49m\u001b[43m,\u001b[49m\n\u001b[1;32m   1804\u001b[0m \u001b[43m    \u001b[49m\u001b[43mcond_jaxpr\u001b[49m\u001b[38;5;241;43m.\u001b[39;49m\u001b[43mjaxpr\u001b[49m\u001b[43m,\u001b[49m\n\u001b[1;32m   1805\u001b[0m \u001b[43m    \u001b[49m\u001b[43mcond_name_stack\u001b[49m\u001b[43m,\u001b[49m\n\u001b[1;32m   1806\u001b[0m \u001b[43m    \u001b[49m\u001b[43mmlir\u001b[49m\u001b[38;5;241;43m.\u001b[39;49m\u001b[43mTokenSet\u001b[49m\u001b[43m(\u001b[49m\u001b[43m)\u001b[49m\u001b[43m,\u001b[49m\n\u001b[1;32m   1807\u001b[0m \u001b[43m    \u001b[49m\u001b[43mcond_consts\u001b[49m\u001b[43m,\u001b[49m\n\u001b[1;32m   1808\u001b[0m \u001b[43m    \u001b[49m\u001b[38;5;241;43m*\u001b[39;49m\u001b[43m(\u001b[49m\u001b[43mx\u001b[49m\u001b[43m \u001b[49m\u001b[38;5;241;43m+\u001b[39;49m\u001b[43m \u001b[49m\u001b[43mz\u001b[49m\u001b[43m)\u001b[49m\u001b[43m,\u001b[49m\n\u001b[1;32m   1809\u001b[0m \u001b[43m    \u001b[49m\u001b[43mdim_var_values\u001b[49m\u001b[38;5;241;43m=\u001b[39;49m\u001b[43mctx\u001b[49m\u001b[38;5;241;43m.\u001b[39;49m\u001b[43mdim_var_values\u001b[49m\u001b[43m,\u001b[49m\n\u001b[1;32m   1810\u001b[0m \u001b[43m\u001b[49m\u001b[43m)\u001b[49m\n\u001b[1;32m   1811\u001b[0m \u001b[38;5;28;01mif\u001b[39;00m batched:\n\u001b[1;32m   1812\u001b[0m   pred_ctx \u001b[38;5;241m=\u001b[39m mlir\u001b[38;5;241m.\u001b[39mLoweringRuleContext(\n\u001b[1;32m   1813\u001b[0m       module_context\u001b[38;5;241m=\u001b[39mctx\u001b[38;5;241m.\u001b[39mmodule_context,\n\u001b[1;32m   1814\u001b[0m       name_stack\u001b[38;5;241m=\u001b[39mcond_name_stack,\n\u001b[0;32m   (...)\u001b[0m\n\u001b[1;32m   1818\u001b[0m       tokens_in\u001b[38;5;241m=\u001b[39mmlir\u001b[38;5;241m.\u001b[39mTokenSet(),\n\u001b[1;32m   1819\u001b[0m       tokens_out\u001b[38;5;241m=\u001b[39m\u001b[38;5;28;01mNone\u001b[39;00m)\n",
      "File \u001b[0;32m/Library/Frameworks/Python.framework/Versions/3.12/lib/python3.12/site-packages/jax/_src/interpreters/mlir.py:1622\u001b[0m, in \u001b[0;36mjaxpr_subcomp\u001b[0;34m(ctx, jaxpr, name_stack, tokens, consts, dim_var_values, *args)\u001b[0m\n\u001b[1;32m   1619\u001b[0m   rule_ctx \u001b[38;5;241m=\u001b[39m rule_ctx\u001b[38;5;241m.\u001b[39mreplace(axis_size_env\u001b[38;5;241m=\u001b[39maxis_size_env)\n\u001b[1;32m   1621\u001b[0m rule_inputs \u001b[38;5;241m=\u001b[39m \u001b[38;5;28mmap\u001b[39m(_unwrap_singleton_ir_values, in_nodes)\n\u001b[0;32m-> 1622\u001b[0m ans \u001b[38;5;241m=\u001b[39m \u001b[43mlower_per_platform\u001b[49m\u001b[43m(\u001b[49m\u001b[43mrule_ctx\u001b[49m\u001b[43m,\u001b[49m\u001b[43m \u001b[49m\u001b[38;5;28;43mstr\u001b[39;49m\u001b[43m(\u001b[49m\u001b[43meqn\u001b[49m\u001b[38;5;241;43m.\u001b[39;49m\u001b[43mprimitive\u001b[49m\u001b[43m)\u001b[49m\u001b[43m,\u001b[49m\n\u001b[1;32m   1623\u001b[0m \u001b[43m                         \u001b[49m\u001b[43mplatform_rules\u001b[49m\u001b[43m,\u001b[49m\u001b[43m \u001b[49m\u001b[43mdefault_rule\u001b[49m\u001b[43m,\u001b[49m\n\u001b[1;32m   1624\u001b[0m \u001b[43m                         \u001b[49m\u001b[43meqn\u001b[49m\u001b[38;5;241;43m.\u001b[39;49m\u001b[43meffects\u001b[49m\u001b[43m,\u001b[49m\n\u001b[1;32m   1625\u001b[0m \u001b[43m                         \u001b[49m\u001b[38;5;241;43m*\u001b[39;49m\u001b[43mrule_inputs\u001b[49m\u001b[43m,\u001b[49m\u001b[43m \u001b[49m\u001b[38;5;241;43m*\u001b[39;49m\u001b[38;5;241;43m*\u001b[39;49m\u001b[43meqn\u001b[49m\u001b[38;5;241;43m.\u001b[39;49m\u001b[43mparams\u001b[49m\u001b[43m)\u001b[49m\n\u001b[1;32m   1627\u001b[0m \u001b[38;5;28;01mif\u001b[39;00m effects:\n\u001b[1;32m   1628\u001b[0m   \u001b[38;5;66;03m# If there were ordered effects in the primitive, there should be output\u001b[39;00m\n\u001b[1;32m   1629\u001b[0m   \u001b[38;5;66;03m# tokens we need for subsequent ordered effects.\u001b[39;00m\n\u001b[1;32m   1630\u001b[0m   tokens_out \u001b[38;5;241m=\u001b[39m rule_ctx\u001b[38;5;241m.\u001b[39mtokens_out\n",
      "File \u001b[0;32m/Library/Frameworks/Python.framework/Versions/3.12/lib/python3.12/site-packages/jax/_src/interpreters/mlir.py:1730\u001b[0m, in \u001b[0;36mlower_per_platform\u001b[0;34m(ctx, description, platform_rules, default_rule, effects, *rule_args, **rule_kwargs)\u001b[0m\n\u001b[1;32m   1728\u001b[0m \u001b[38;5;66;03m# If there is a single rule left just apply the rule, without conditionals.\u001b[39;00m\n\u001b[1;32m   1729\u001b[0m \u001b[38;5;28;01mif\u001b[39;00m \u001b[38;5;28mlen\u001b[39m(kept_rules) \u001b[38;5;241m==\u001b[39m \u001b[38;5;241m1\u001b[39m:\n\u001b[0;32m-> 1730\u001b[0m  \u001b[38;5;28;01mreturn\u001b[39;00m \u001b[43mkept_rules\u001b[49m\u001b[43m[\u001b[49m\u001b[38;5;241;43m0\u001b[39;49m\u001b[43m]\u001b[49m\u001b[43m(\u001b[49m\u001b[43mctx\u001b[49m\u001b[43m,\u001b[49m\u001b[43m \u001b[49m\u001b[38;5;241;43m*\u001b[39;49m\u001b[43mrule_args\u001b[49m\u001b[43m,\u001b[49m\u001b[43m \u001b[49m\u001b[38;5;241;43m*\u001b[39;49m\u001b[38;5;241;43m*\u001b[39;49m\u001b[43mrule_kwargs\u001b[49m\u001b[43m)\u001b[49m\n\u001b[1;32m   1732\u001b[0m \u001b[38;5;28;01massert\u001b[39;00m \u001b[38;5;28mlen\u001b[39m(platforms) \u001b[38;5;241m>\u001b[39m \u001b[38;5;241m1\u001b[39m \u001b[38;5;129;01mand\u001b[39;00m \u001b[38;5;28mlen\u001b[39m(kept_rules) \u001b[38;5;241m>\u001b[39m\u001b[38;5;241m=\u001b[39m \u001b[38;5;241m2\u001b[39m, (platforms, kept_rules)\n\u001b[1;32m   1733\u001b[0m \u001b[38;5;28;01massert\u001b[39;00m \u001b[38;5;28mlen\u001b[39m(ctx\u001b[38;5;241m.\u001b[39mdim_var_values) \u001b[38;5;241m>\u001b[39m\u001b[38;5;241m=\u001b[39m \u001b[38;5;241m1\u001b[39m, \u001b[38;5;124m\"\u001b[39m\u001b[38;5;124mMust have a platform_index variable\u001b[39m\u001b[38;5;124m\"\u001b[39m\n",
      "File \u001b[0;32m/Library/Frameworks/Python.framework/Versions/3.12/lib/python3.12/site-packages/jax/_src/lax/lax.py:2389\u001b[0m, in \u001b[0;36m_compare_lower_hlo\u001b[0;34m(direction, total_order, ctx, x, y)\u001b[0m\n\u001b[1;32m   2387\u001b[0m \u001b[38;5;28;01melse\u001b[39;00m:\n\u001b[1;32m   2388\u001b[0m   compare_type \u001b[38;5;241m=\u001b[39m \u001b[38;5;124m\"\u001b[39m\u001b[38;5;124mUNSIGNED\u001b[39m\u001b[38;5;124m\"\u001b[39m\n\u001b[0;32m-> 2389\u001b[0m \u001b[38;5;28;01mreturn\u001b[39;00m [\u001b[43mmlir\u001b[49m\u001b[38;5;241;43m.\u001b[39;49m\u001b[43mcompare_hlo\u001b[49m\u001b[43m(\u001b[49m\u001b[43mx\u001b[49m\u001b[43m,\u001b[49m\u001b[43m \u001b[49m\u001b[43my\u001b[49m\u001b[43m,\u001b[49m\u001b[43m \u001b[49m\u001b[43mdirection\u001b[49m\u001b[43m,\u001b[49m\u001b[43m \u001b[49m\u001b[43mcompare_type\u001b[49m\u001b[43m)\u001b[49m]\n",
      "File \u001b[0;32m/Library/Frameworks/Python.framework/Versions/3.12/lib/python3.12/site-packages/jax/_src/interpreters/mlir.py:2093\u001b[0m, in \u001b[0;36mcompare_hlo\u001b[0;34m(x, y, direction, comparison_type)\u001b[0m\n\u001b[1;32m   2087\u001b[0m   \u001b[38;5;28;01melse\u001b[39;00m:\n\u001b[1;32m   2088\u001b[0m     comparison_type \u001b[38;5;241m=\u001b[39m \u001b[38;5;124m\"\u001b[39m\u001b[38;5;124mFLOAT\u001b[39m\u001b[38;5;124m\"\u001b[39m\n\u001b[1;32m   2090\u001b[0m \u001b[38;5;28;01mreturn\u001b[39;00m hlo\u001b[38;5;241m.\u001b[39mcompare(\n\u001b[1;32m   2091\u001b[0m     x,\n\u001b[1;32m   2092\u001b[0m     y,\n\u001b[0;32m-> 2093\u001b[0m     \u001b[43mhlo\u001b[49m\u001b[38;5;241;43m.\u001b[39;49m\u001b[43mComparisonDirectionAttr\u001b[49m\u001b[38;5;241;43m.\u001b[39;49m\u001b[43mget\u001b[49m\u001b[43m(\u001b[49m\u001b[43mdirection\u001b[49m\u001b[43m)\u001b[49m,\n\u001b[1;32m   2094\u001b[0m     compare_type\u001b[38;5;241m=\u001b[39mhlo\u001b[38;5;241m.\u001b[39mComparisonTypeAttr\u001b[38;5;241m.\u001b[39mget(comparison_type))\n",
      "\u001b[0;31mKeyboardInterrupt\u001b[0m: "
     ]
    }
   ],
   "source": [
    "trial = TrialWavefunction([jnp.array(0.4)])\n",
    "sampler = MetropolisHastingsSampler(trial, step_size=0.1)\n",
    "opt = GradientDescentOptimizer(0.005)\n",
    "initial_positions = 0.0\n",
    "samples = sampler.sample(initial_positions, num_samples=1_000_000, burn_in=25_000)\n",
    "psi = trial.evaluate_wf_vmap(samples)\n",
    "laplacians = trial.laplacian_wf_vmap(samples)\n",
    "hamiltonian = ManyBodyHamiltonian()\n",
    "driver = optimization_driver(hamiltonian, trial, sampler, opt)\n",
    "driver.run(500)"
   ]
  },
  {
   "cell_type": "code",
   "execution_count": 159,
   "metadata": {},
   "outputs": [
    {
     "data": {
      "text/plain": [
       "[Array(0.53508806, dtype=float32)]"
      ]
     },
     "execution_count": 159,
     "metadata": {},
     "output_type": "execute_result"
    }
   ],
   "source": [
    "trial.params"
   ]
  },
  {
   "cell_type": "code",
   "execution_count": 161,
   "metadata": {},
   "outputs": [
    {
     "data": {
      "text/plain": [
       "(-4.0, 4.0)"
      ]
     },
     "execution_count": 161,
     "metadata": {},
     "output_type": "execute_result"
    },
    {
     "data": {
      "image/png": "[encoded data removed]",
      "text/plain": [
       "<Figure size 640x480 with 1 Axes>"
      ]
     },
     "metadata": {},
     "output_type": "display_data"
    }
   ],
   "source": [
    "initial_positions = -0.5 + np.random.uniform()\n",
    "samples = sampler.sample(initial_positions, num_samples=1_000_000, burn_in=25_000)\n",
    "\n",
    "x = np.linspace(-10, 10, 10_000)\n",
    "integral = integrate.quad(lambda x: trial.probability_function(x), -10., 10.)[0]\n",
    "y = trial.probability_function_vmap(x)/integral\n",
    "plt.hist(samples, density=True, bins=50)\n",
    "plt.plot(x, y)\n",
    "plt.xlim([-4., 4.])"
   ]
  },
  {
   "cell_type": "code",
   "execution_count": 163,
   "metadata": {},
   "outputs": [
    {
     "name": "stdout",
     "output_type": "stream",
     "text": [
      "0.537 \t 0.51159 ± 0.000155\n"
     ]
    }
   ],
   "source": [
    "psi = trial.evaluate_wf_vmap(samples)\n",
    "laplacians = trial.laplacian_wf_vmap(samples)\n",
    "variational_energy = hamiltonian.total_energy_vmap(psi, samples, laplacians)\n",
    "energy, delta_energy = np.average(variational_energy), sem(variational_energy)\n",
    "energies.append(energy)\n",
    "delta_energies.append(delta_energy)\n",
    "print('%5.3f \\t %7.5f ± %f' % (alpha,energy,delta_energy))"
   ]
  },
  {
   "cell_type": "code",
   "execution_count": null,
   "metadata": {},
   "outputs": [
    {
     "data": {
      "image/png": "[encoded data removed]",
      "text/plain": [
       "<Figure size 800x600 with 1 Axes>"
      ]
     },
     "metadata": {},
     "output_type": "display_data"
    }
   ],
   "source": [
    "# Correct the issue with LaTeX string rendering in matplotlib\n",
    "import matplotlib.pyplot as plt\n",
    "import numpy as np\n",
    "\n",
    "# Define the exact ground state energy (horizontal line) and the trial energy function\n",
    "E0 = -1  # Ground state energy (exact)\n",
    "variational_energies = np.linspace(-1.5, 1.5, 400)  # Range of trial energies\n",
    "trial_wave_function_error = (variational_energies + 1)**2 + 0.1  # Example of energy as a function of error in trial wf\n",
    "\n",
    "# Create the plot\n",
    "plt.figure(figsize=(8, 6))\n",
    "plt.plot(variational_energies, trial_wave_function_error, label=r\"$E[\\Psi_{\\mathrm{trial}}]$\", color='blue', lw=2)\n",
    "plt.axhline(E0, color='red', linestyle='--', label=r\"$E_0$ (Ground state energy)\")\n",
    "\n",
    "# Add labels and annotations\n",
    "plt.xlabel(r'Trial Wave Function ($\\Psi_{\\mathrm{trial}}$)', fontsize=12)\n",
    "plt.ylabel(r'Energy $E[\\Psi_{\\mathrm{trial}}]$', fontsize=12)\n",
    "plt.title('Variational Principle: Upper Bound on Ground State Energy', fontsize=14)\n",
    "\n",
    "# Highlight the variational principle statement\n",
    "plt.text(0.2, 0.6, r\"$E[\\Psi_{\\mathrm{trial}}] \\geq E_0$\", fontsize=12, color='blue')\n",
    "\n",
    "# Add legend\n",
    "plt.legend()\n",
    "\n",
    "# Display the plot\n",
    "plt.grid(False)\n",
    "plt.savefig(\"variational_principle.svg\", dpi=300)\n",
    "plt.show()\n"
   ]
  },
  {
   "cell_type": "code",
   "execution_count": 218,
   "metadata": {},
   "outputs": [
    {
     "ename": "NameError",
     "evalue": "name 'gradientos' is not defined",
     "output_type": "error",
     "traceback": [
      "\u001b[0;31m---------------------------------------------------------------------------\u001b[0m",
      "\u001b[0;31mNameError\u001b[0m                                 Traceback (most recent call last)",
      "Cell \u001b[0;32mIn[218], line 1\u001b[0m\n\u001b[0;32m----> 1\u001b[0m \u001b[43mgradientos\u001b[49m\n",
      "\u001b[0;31mNameError\u001b[0m: name 'gradientos' is not defined"
     ]
    }
   ],
   "source": [
    "gradientos"
   ]
  },
  {
   "cell_type": "code",
   "execution_count": 179,
   "metadata": {},
   "outputs": [],
   "source": [
    "x = np.linspace(-0.5, 0.5, 10_000)\n"
   ]
  },
  {
   "cell_type": "code",
   "execution_count": 178,
   "metadata": {},
   "outputs": [],
   "source": [
    "trial = TrialWavefunction([jnp.array(0.5)])"
   ]
  },
  {
   "cell_type": "code",
   "execution_count": 179,
   "metadata": {},
   "outputs": [
    {
     "data": {
      "text/plain": [
       "[Array(0.5, dtype=float32, weak_type=True)]"
      ]
     },
     "execution_count": 179,
     "metadata": {},
     "output_type": "execute_result"
    }
   ],
   "source": [
    "trial.params"
   ]
  },
  {
   "cell_type": "code",
   "execution_count": 180,
   "metadata": {},
   "outputs": [
    {
     "data": {
      "text/plain": [
       "Array(0.8824969, dtype=float32, weak_type=True)"
      ]
     },
     "execution_count": 180,
     "metadata": {},
     "output_type": "execute_result"
    }
   ],
   "source": [
    "trial.evaluate_wf(0.5)"
   ]
  },
  {
   "cell_type": "code",
   "execution_count": 181,
   "metadata": {},
   "outputs": [
    {
     "data": {
      "text/plain": [
       "Array(-0.6618727, dtype=float32, weak_type=True)"
      ]
     },
     "execution_count": 181,
     "metadata": {},
     "output_type": "execute_result"
    }
   ],
   "source": [
    "trial.laplacian_wf(0.5)"
   ]
  },
  {
   "cell_type": "code",
   "execution_count": 163,
   "metadata": {},
   "outputs": [
    {
     "data": {
      "text/plain": [
       "Array([0.79117715, 0.8532381 , 0.73530054, ..., 0.34709567, 0.34778672,\n",
       "       0.27983755], dtype=float32)"
      ]
     },
     "execution_count": 163,
     "metadata": {},
     "output_type": "execute_result"
    }
   ],
   "source": [
    "initial_positions = 1.0\n",
    "trial = TrialWavefunction(jnp.array(0.2))\n",
    "samples = sampler.sample(initial_positions, num_samples=100_000, burn_in=25_000)\n",
    "psi = trial.evaluate_wf_vmap(samples)\n",
    "laplacians = trial.laplacian_wf_vmap(samples)\n",
    "laplacian = trial.laplacian_wf(initial_positions)\n",
    "hamiltonian.total_energy_vmap(psi, samples, laplacians)"
   ]
  },
  {
   "cell_type": "code",
   "execution_count": 167,
   "metadata": {},
   "outputs": [
    {
     "data": {
      "text/plain": [
       "Array([0.7546412 , 0.73266566, 0.7749901 , ..., 0.93235135, 0.93204457,\n",
       "       0.9626957 ], dtype=float32)"
      ]
     },
     "execution_count": 167,
     "metadata": {},
     "output_type": "execute_result"
    }
   ],
   "source": [
    "psi"
   ]
  },
  {
   "cell_type": "code",
   "execution_count": 170,
   "metadata": {},
   "outputs": [
    {
     "data": {
      "text/plain": [
       "Array([ 1.1864083 ,  1.2471282 ,  1.1289487 , ..., -0.5918005 ,\n",
       "       -0.593189  , -0.43599248], dtype=float32)"
      ]
     },
     "execution_count": 170,
     "metadata": {},
     "output_type": "execute_result"
    }
   ],
   "source": [
    "samples"
   ]
  },
  {
   "cell_type": "code",
   "execution_count": 171,
   "metadata": {},
   "outputs": [
    {
     "name": "stdout",
     "output_type": "stream",
     "text": [
      "0.2798375658989512\n"
     ]
    }
   ],
   "source": [
    "x = -0.43599248\n",
    "alpha = 0.2\n",
    "print(alpha + x**2 * (0.5 - 2 * alpha**2))"
   ]
  },
  {
   "cell_type": "code",
   "execution_count": null,
   "metadata": {},
   "outputs": [
    {
     "data": {
      "text/plain": [
       "0.12"
      ]
     },
     "execution_count": 160,
     "metadata": {},
     "output_type": "execute_result"
    }
   ],
   "source": [
    "0.2 - 2 * 0.2**2"
   ]
  },
  {
   "cell_type": "code",
   "execution_count": 164,
   "metadata": {},
   "outputs": [
    {
     "data": {
      "text/plain": [
       "Array([ 1.1864083 ,  1.2471282 ,  1.1289487 , ..., -0.5918005 ,\n",
       "       -0.593189  , -0.43599248], dtype=float32)"
      ]
     },
     "execution_count": 164,
     "metadata": {},
     "output_type": "execute_result"
    }
   ],
   "source": [
    "samples"
   ]
  },
  {
   "cell_type": "code",
   "execution_count": 148,
   "metadata": {},
   "outputs": [
    {
     "data": {
      "text/plain": [
       "Array(0.50013375, dtype=float32)"
      ]
     },
     "execution_count": 148,
     "metadata": {},
     "output_type": "execute_result"
    }
   ],
   "source": [
    "samples = sampler.sample(initial_positions, 5_000)\n",
    "psi = trial.evaluate_wf_vmap(samples)\n",
    "laplacians = trial.laplacian_wf_vmap(samples)\n",
    "hamiltonian.variational_energy(psi, samples, laplacians)"
   ]
  },
  {
   "cell_type": "code",
   "execution_count": 149,
   "metadata": {},
   "outputs": [
    {
     "data": {
      "text/plain": [
       "Array(-0.31766838, dtype=float32)"
      ]
     },
     "execution_count": 149,
     "metadata": {},
     "output_type": "execute_result"
    }
   ],
   "source": [
    "sampler.trial_wavefunction.params"
   ]
  },
  {
   "cell_type": "code",
   "execution_count": 141,
   "metadata": {},
   "outputs": [],
   "source": [
    "driver.run(100)"
   ]
  },
  {
   "cell_type": "code",
   "execution_count": 142,
   "metadata": {},
   "outputs": [
    {
     "data": {
      "text/plain": [
       "Array(-10.399421, dtype=float32)"
      ]
     },
     "execution_count": 142,
     "metadata": {},
     "output_type": "execute_result"
    }
   ],
   "source": [
    "trial.params"
   ]
  },
  {
   "cell_type": "code",
   "execution_count": 113,
   "metadata": {},
   "outputs": [
    {
     "data": {
      "text/plain": [
       "Array(-0.00670319, dtype=float32)"
      ]
     },
     "execution_count": 113,
     "metadata": {},
     "output_type": "execute_result"
    }
   ],
   "source": [
    "psi = trial.evaluate_wf_vmap(samples)\n",
    "psi_laplacian = trial.laplacian_wf_vmap(samples)\n",
    "grad_log_psi = trial.var_log_grads_vmap(trial.params, samples)\n",
    "local_energies = hamiltonian.total_energy_vmap(psi, samples, psi_laplacian)\n",
    "variational_energy = jnp.mean(local_energies)\n",
    "jnp.mean(jnp.array([2*jnp.real((variational_energy - loc_en)*grad) for loc_en, grad in zip(local_energies, grad_log_psi)]), axis=0)"
   ]
  },
  {
   "cell_type": "code",
   "execution_count": 108,
   "metadata": {},
   "outputs": [
    {
     "data": {
      "text/plain": [
       "Array(-226.3735, dtype=float32)"
      ]
     },
     "execution_count": 108,
     "metadata": {},
     "output_type": "execute_result"
    }
   ],
   "source": [
    "trial.params"
   ]
  },
  {
   "cell_type": "code",
   "execution_count": 106,
   "metadata": {},
   "outputs": [
    {
     "data": {
      "text/plain": [
       "Array(2.1378677, dtype=float32)"
      ]
     },
     "execution_count": 106,
     "metadata": {},
     "output_type": "execute_result"
    }
   ],
   "source": [
    "driver.energy_gradient(samples)"
   ]
  },
  {
   "cell_type": "code",
   "execution_count": 88,
   "metadata": {},
   "outputs": [],
   "source": [
    "a = [trial.params.tolist()]"
   ]
  },
  {
   "cell_type": "code",
   "execution_count": 82,
   "metadata": {},
   "outputs": [],
   "source": [
    "b = [jnp.mean(driver.energy_gradient(samples), axis=0).tolist()]"
   ]
  },
  {
   "cell_type": "code",
   "execution_count": 84,
   "metadata": {},
   "outputs": [
    {
     "name": "stdout",
     "output_type": "stream",
     "text": [
      "1.6547168493270874 -0.00902055948972702\n"
     ]
    }
   ],
   "source": [
    "for a, b in zip(a, b):\n",
    "    print(a,b)"
   ]
  },
  {
   "cell_type": "code",
   "execution_count": 74,
   "metadata": {},
   "outputs": [
    {
     "ename": "TypeError",
     "evalue": "iteration over a 0-d array",
     "output_type": "error",
     "traceback": [
      "\u001b[0;31m---------------------------------------------------------------------------\u001b[0m",
      "\u001b[0;31mTypeError\u001b[0m                                 Traceback (most recent call last)",
      "Cell \u001b[0;32mIn[74], line 1\u001b[0m\n\u001b[0;32m----> 1\u001b[0m \u001b[38;5;28mzip\u001b[39m(\u001b[38;5;28;43mlist\u001b[39;49m\u001b[43m(\u001b[49m\u001b[43mtrial\u001b[49m\u001b[38;5;241;43m.\u001b[39;49m\u001b[43mparams\u001b[49m\u001b[43m)\u001b[49m, \u001b[38;5;28mlist\u001b[39m(jnp\u001b[38;5;241m.\u001b[39mmean(driver\u001b[38;5;241m.\u001b[39menergy_gradient(samples), axis\u001b[38;5;241m=\u001b[39m\u001b[38;5;241m0\u001b[39m)))\n",
      "File \u001b[0;32m/Library/Frameworks/Python.framework/Versions/3.12/lib/python3.12/site-packages/jax/_src/array.py:340\u001b[0m, in \u001b[0;36mArrayImpl.__iter__\u001b[0;34m(self)\u001b[0m\n\u001b[1;32m    338\u001b[0m \u001b[38;5;28;01mdef\u001b[39;00m \u001b[38;5;21m__iter__\u001b[39m(\u001b[38;5;28mself\u001b[39m):\n\u001b[1;32m    339\u001b[0m   \u001b[38;5;28;01mif\u001b[39;00m \u001b[38;5;28mself\u001b[39m\u001b[38;5;241m.\u001b[39mndim \u001b[38;5;241m==\u001b[39m \u001b[38;5;241m0\u001b[39m:\n\u001b[0;32m--> 340\u001b[0m     \u001b[38;5;28;01mraise\u001b[39;00m \u001b[38;5;167;01mTypeError\u001b[39;00m(\u001b[38;5;124m\"\u001b[39m\u001b[38;5;124miteration over a 0-d array\u001b[39m\u001b[38;5;124m\"\u001b[39m)  \u001b[38;5;66;03m# same as numpy error\u001b[39;00m\n\u001b[1;32m    341\u001b[0m   \u001b[38;5;28;01melse\u001b[39;00m:\n\u001b[1;32m    342\u001b[0m     \u001b[38;5;28;01massert\u001b[39;00m \u001b[38;5;28mself\u001b[39m\u001b[38;5;241m.\u001b[39mis_fully_replicated \u001b[38;5;129;01mor\u001b[39;00m \u001b[38;5;28mself\u001b[39m\u001b[38;5;241m.\u001b[39mis_fully_addressable\n",
      "\u001b[0;31mTypeError\u001b[0m: iteration over a 0-d array"
     ]
    }
   ],
   "source": [
    "zip(list(trial.params), list(jnp.mean(driver.energy_gradient(samples), axis=0)))"
   ]
  },
  {
   "cell_type": "code",
   "execution_count": 71,
   "metadata": {},
   "outputs": [
    {
     "ename": "TypeError",
     "evalue": "iteration over a 0-d array",
     "output_type": "error",
     "traceback": [
      "\u001b[0;31m---------------------------------------------------------------------------\u001b[0m",
      "\u001b[0;31mTypeError\u001b[0m                                 Traceback (most recent call last)",
      "Cell \u001b[0;32mIn[71], line 1\u001b[0m\n\u001b[0;32m----> 1\u001b[0m [p \u001b[38;5;241m-\u001b[39m j \u001b[38;5;28;01mfor\u001b[39;00m p, j \u001b[38;5;129;01min\u001b[39;00m \u001b[38;5;28;43mzip\u001b[39;49m\u001b[43m(\u001b[49m\u001b[43mtrial\u001b[49m\u001b[38;5;241;43m.\u001b[39;49m\u001b[43mparams\u001b[49m\u001b[43m,\u001b[49m\u001b[43m \u001b[49m\u001b[43mjnp\u001b[49m\u001b[38;5;241;43m.\u001b[39;49m\u001b[43mmean\u001b[49m\u001b[43m(\u001b[49m\u001b[43mdriver\u001b[49m\u001b[38;5;241;43m.\u001b[39;49m\u001b[43menergy_gradient\u001b[49m\u001b[43m(\u001b[49m\u001b[43msamples\u001b[49m\u001b[43m)\u001b[49m\u001b[43m,\u001b[49m\u001b[43m \u001b[49m\u001b[43maxis\u001b[49m\u001b[38;5;241;43m=\u001b[39;49m\u001b[38;5;241;43m0\u001b[39;49m\u001b[43m)\u001b[49m\u001b[43m)\u001b[49m]\n",
      "File \u001b[0;32m/Library/Frameworks/Python.framework/Versions/3.12/lib/python3.12/site-packages/jax/_src/array.py:340\u001b[0m, in \u001b[0;36mArrayImpl.__iter__\u001b[0;34m(self)\u001b[0m\n\u001b[1;32m    338\u001b[0m \u001b[38;5;28;01mdef\u001b[39;00m \u001b[38;5;21m__iter__\u001b[39m(\u001b[38;5;28mself\u001b[39m):\n\u001b[1;32m    339\u001b[0m   \u001b[38;5;28;01mif\u001b[39;00m \u001b[38;5;28mself\u001b[39m\u001b[38;5;241m.\u001b[39mndim \u001b[38;5;241m==\u001b[39m \u001b[38;5;241m0\u001b[39m:\n\u001b[0;32m--> 340\u001b[0m     \u001b[38;5;28;01mraise\u001b[39;00m \u001b[38;5;167;01mTypeError\u001b[39;00m(\u001b[38;5;124m\"\u001b[39m\u001b[38;5;124miteration over a 0-d array\u001b[39m\u001b[38;5;124m\"\u001b[39m)  \u001b[38;5;66;03m# same as numpy error\u001b[39;00m\n\u001b[1;32m    341\u001b[0m   \u001b[38;5;28;01melse\u001b[39;00m:\n\u001b[1;32m    342\u001b[0m     \u001b[38;5;28;01massert\u001b[39;00m \u001b[38;5;28mself\u001b[39m\u001b[38;5;241m.\u001b[39mis_fully_replicated \u001b[38;5;129;01mor\u001b[39;00m \u001b[38;5;28mself\u001b[39m\u001b[38;5;241m.\u001b[39mis_fully_addressable\n",
      "\u001b[0;31mTypeError\u001b[0m: iteration over a 0-d array"
     ]
    }
   ],
   "source": [
    "[p - j for p, j in zip(trial.params, jnp.mean(driver.energy_gradient(samples), axis=0))]"
   ]
  },
  {
   "cell_type": "code",
   "execution_count": 89,
   "metadata": {},
   "outputs": [
    {
     "data": {
      "text/plain": [
       "[Array(-0., dtype=float32),\n",
       " Array(-0., dtype=float32),\n",
       " Array(-0., dtype=float32),\n",
       " Array(-0., dtype=float32),\n",
       " Array(-0., dtype=float32),\n",
       " Array(-0., dtype=float32),\n",
       " Array(-0., dtype=float32),\n",
       " Array(-0., dtype=float32),\n",
       " Array(-0., dtype=float32),\n",
       " Array(-0., dtype=float32)]"
      ]
     },
     "execution_count": 89,
     "metadata": {},
     "output_type": "execute_result"
    }
   ],
   "source": [
    "driver.energy_gradient(samples)"
   ]
  },
  {
   "cell_type": "code",
   "execution_count": 107,
   "metadata": {},
   "outputs": [],
   "source": [
    "driver.run(10)"
   ]
  },
  {
   "cell_type": "code",
   "execution_count": 70,
   "metadata": {},
   "outputs": [
    {
     "data": {
      "text/plain": [
       "Array([0.98875684, 0.9835988 , 0.9992382 , 0.9512029 , 0.9917239 ,\n",
       "       0.95104337, 0.82462066, 0.91650766, 0.8248569 , 0.8188392 ],      dtype=float32)"
      ]
     },
     "execution_count": 70,
     "metadata": {},
     "output_type": "execute_result"
    }
   ],
   "source": [
    "hamiltonian = ManyBodyHamiltonian()\n",
    "hamiltonian.total_energy_vmap(psi, samples, laplacians)"
   ]
  },
  {
   "cell_type": "code",
   "execution_count": null,
   "metadata": {},
   "outputs": [],
   "source": [
    "# @partial(jax.jit, static_argnums=(1, 2))\n",
    "# def compute_energy(samples, hamiltonian, trial_wavefunction, params):\n",
    "#     def local_energy(positions):\n",
    "#         # Pass the evaluate method of trial_wavefunction, not the object itself\n",
    "#         kinetic = hamiltonian.kinetic_energy(positions, trial_wavefunction.evaluate, params)\n",
    "#         potential = hamiltonian.potential_energy(positions)\n",
    "#         return kinetic + potential\n",
    "\n",
    "#     energies = jax.vmap(local_energy)(samples)\n",
    "#     return jnp.mean(energies)\n",
    "\n",
    "@partial(jax.jit, static_argnums = (0, 1))\n",
    "@partial(jax.vmap, in_axes = (None, None, None, 0), out_axes = 0)\n",
    "def local_energy(hamiltonian, trial_wavefunction, params, positions):\n",
    "    kinetic = hamiltonian.kinetic_energy(positions, trial_wavefunction.evaluate, params)\n",
    "    potential = hamiltonian.potential_energy(positions)\n",
    "    return kinetic + potential"
   ]
  },
  {
   "cell_type": "code",
   "execution_count": 6,
   "metadata": {},
   "outputs": [
    {
     "ename": "TypeError",
     "evalue": "Cannot interpret value of type <class 'method'> as an abstract array; it does not have a dtype attribute",
     "output_type": "error",
     "traceback": [
      "\u001b[0;31m---------------------------------------------------------------------------\u001b[0m",
      "\u001b[0;31mTypeError\u001b[0m                                 Traceback (most recent call last)",
      "Cell \u001b[0;32mIn[6], line 23\u001b[0m\n\u001b[1;32m     20\u001b[0m samples \u001b[38;5;241m=\u001b[39m sampler\u001b[38;5;241m.\u001b[39msample(initial_positions, initial_params, num_samples, burn_in\u001b[38;5;241m=\u001b[39m\u001b[38;5;241m1000\u001b[39m)\n\u001b[1;32m     22\u001b[0m \u001b[38;5;66;03m# Compute the energy\u001b[39;00m\n\u001b[0;32m---> 23\u001b[0m mean_energy \u001b[38;5;241m=\u001b[39m jnp\u001b[38;5;241m.\u001b[39mmean(\u001b[43mlocal_energy\u001b[49m\u001b[43m(\u001b[49m\u001b[43mhamiltonian\u001b[49m\u001b[43m,\u001b[49m\u001b[43m \u001b[49m\u001b[43mtrial_wavefunction\u001b[49m\u001b[43m,\u001b[49m\u001b[43m \u001b[49m\u001b[43minitial_params\u001b[49m\u001b[43m,\u001b[49m\u001b[43m \u001b[49m\u001b[43msamples\u001b[49m\u001b[43m)\u001b[49m)\n\u001b[1;32m     24\u001b[0m \u001b[38;5;28mprint\u001b[39m(\u001b[38;5;124m\"\u001b[39m\u001b[38;5;124mEstimated Ground State Energy:\u001b[39m\u001b[38;5;124m\"\u001b[39m, mean_energy)\n",
      "    \u001b[0;31m[... skipping hidden 14 frame]\u001b[0m\n",
      "Cell \u001b[0;32mIn[5], line 15\u001b[0m, in \u001b[0;36mlocal_energy\u001b[0;34m(hamiltonian, trial_wavefunction, params, positions)\u001b[0m\n\u001b[1;32m     12\u001b[0m \u001b[38;5;129m@partial\u001b[39m(jax\u001b[38;5;241m.\u001b[39mjit, static_argnums \u001b[38;5;241m=\u001b[39m (\u001b[38;5;241m0\u001b[39m, \u001b[38;5;241m1\u001b[39m))\n\u001b[1;32m     13\u001b[0m \u001b[38;5;129m@partial\u001b[39m(jax\u001b[38;5;241m.\u001b[39mvmap, in_axes \u001b[38;5;241m=\u001b[39m (\u001b[38;5;28;01mNone\u001b[39;00m, \u001b[38;5;28;01mNone\u001b[39;00m, \u001b[38;5;28;01mNone\u001b[39;00m, \u001b[38;5;241m0\u001b[39m), out_axes \u001b[38;5;241m=\u001b[39m \u001b[38;5;241m0\u001b[39m)\n\u001b[1;32m     14\u001b[0m \u001b[38;5;28;01mdef\u001b[39;00m \u001b[38;5;21mlocal_energy\u001b[39m(hamiltonian, trial_wavefunction, params, positions):\n\u001b[0;32m---> 15\u001b[0m     kinetic \u001b[38;5;241m=\u001b[39m \u001b[43mhamiltonian\u001b[49m\u001b[38;5;241;43m.\u001b[39;49m\u001b[43mkinetic_energy\u001b[49m\u001b[43m(\u001b[49m\u001b[43mpositions\u001b[49m\u001b[43m,\u001b[49m\u001b[43m \u001b[49m\u001b[43mtrial_wavefunction\u001b[49m\u001b[38;5;241;43m.\u001b[39;49m\u001b[43mevaluate\u001b[49m\u001b[43m,\u001b[49m\u001b[43m \u001b[49m\u001b[43mparams\u001b[49m\u001b[43m)\u001b[49m\n\u001b[1;32m     16\u001b[0m     potential \u001b[38;5;241m=\u001b[39m hamiltonian\u001b[38;5;241m.\u001b[39mpotential_energy(positions)\n\u001b[1;32m     17\u001b[0m     \u001b[38;5;28;01mreturn\u001b[39;00m kinetic \u001b[38;5;241m+\u001b[39m potential\n",
      "    \u001b[0;31m[... skipping hidden 5 frame]\u001b[0m\n",
      "File \u001b[0;32m/Library/Frameworks/Python.framework/Versions/3.12/lib/python3.12/site-packages/jax/_src/api_util.py:577\u001b[0m, in \u001b[0;36m_shaped_abstractify_slow\u001b[0;34m(x)\u001b[0m\n\u001b[1;32m    575\u001b[0m   dtype \u001b[38;5;241m=\u001b[39m dtypes\u001b[38;5;241m.\u001b[39mcanonicalize_dtype(x\u001b[38;5;241m.\u001b[39mdtype, allow_extended_dtype\u001b[38;5;241m=\u001b[39m\u001b[38;5;28;01mTrue\u001b[39;00m)\n\u001b[1;32m    576\u001b[0m \u001b[38;5;28;01melse\u001b[39;00m:\n\u001b[0;32m--> 577\u001b[0m   \u001b[38;5;28;01mraise\u001b[39;00m \u001b[38;5;167;01mTypeError\u001b[39;00m(\n\u001b[1;32m    578\u001b[0m       \u001b[38;5;124mf\u001b[39m\u001b[38;5;124m\"\u001b[39m\u001b[38;5;124mCannot interpret value of type \u001b[39m\u001b[38;5;132;01m{\u001b[39;00m\u001b[38;5;28mtype\u001b[39m(x)\u001b[38;5;132;01m}\u001b[39;00m\u001b[38;5;124m as an abstract array; it \u001b[39m\u001b[38;5;124m\"\u001b[39m\n\u001b[1;32m    579\u001b[0m       \u001b[38;5;124m\"\u001b[39m\u001b[38;5;124mdoes not have a dtype attribute\u001b[39m\u001b[38;5;124m\"\u001b[39m)\n\u001b[1;32m    580\u001b[0m \u001b[38;5;28;01mreturn\u001b[39;00m core\u001b[38;5;241m.\u001b[39mShapedArray(np\u001b[38;5;241m.\u001b[39mshape(x), dtype, weak_type\u001b[38;5;241m=\u001b[39mweak_type,\n\u001b[1;32m    581\u001b[0m                         named_shape\u001b[38;5;241m=\u001b[39mnamed_shape)\n",
      "\u001b[0;31mTypeError\u001b[0m: Cannot interpret value of type <class 'method'> as an abstract array; it does not have a dtype attribute"
     ]
    }
   ],
   "source": [
    "# Set up the system\n",
    "mass = 1.0\n",
    "omega = 1.0\n",
    "hamiltonian = ManyBodyHamiltonian(mass, omega)\n",
    "\n",
    "# Initialize trial wavefunction parameters (e.g., alpha = 1.0 for Gaussian)\n",
    "initial_params = jnp.array([2.0])\n",
    "trial_wavefunction = TrialWavefunction(initial_params)\n",
    "\n",
    "# Initialize particle positions (for a single particle)\n",
    "initial_positions = jnp.array([0.0])\n",
    "\n",
    "# Initialize the Metropolis-Hastings sampler\n",
    "step_size = 0.1\n",
    "rng_key = jax.random.PRNGKey(42)\n",
    "sampler = MetropolisHastingsSampler(trial_wavefunction, step_size, rng_key)\n",
    "\n",
    "# Generate 10,000 samples with burn-in of 1,000 steps\n",
    "num_samples = 10000\n",
    "samples = sampler.sample(initial_positions, initial_params, num_samples, burn_in=1000)\n",
    "\n",
    "# Compute the energy\n",
    "mean_energy = jnp.mean(local_energy(hamiltonian, trial_wavefunction, initial_params, samples))\n",
    "print(\"Estimated Ground State Energy:\", mean_energy)\n"
   ]
  },
  {
   "cell_type": "code",
   "execution_count": 31,
   "metadata": {},
   "outputs": [
    {
     "data": {
      "text/plain": [
       "Array([[-1.910675 ],\n",
       "       [-2.0129116],\n",
       "       [-2.0724275],\n",
       "       ...,\n",
       "       [-0.9059723],\n",
       "       [-0.9245706],\n",
       "       [-0.9791429]], dtype=float32)"
      ]
     },
     "execution_count": 31,
     "metadata": {},
     "output_type": "execute_result"
    }
   ],
   "source": [
    "samples"
   ]
  },
  {
   "cell_type": "code",
   "execution_count": 19,
   "metadata": {},
   "outputs": [
    {
     "name": "stdout",
     "output_type": "stream",
     "text": [
      "Step 0, params: [1.999309]\n",
      "Estimated Ground State Energy: 0.92327857\n",
      "Step 1, params: [1.9986179]\n",
      "Estimated Ground State Energy: 0.9232342\n",
      "Step 2, params: [1.9979268]\n",
      "Estimated Ground State Energy: 0.92318994\n",
      "Step 3, params: [1.9972358]\n",
      "Estimated Ground State Energy: 0.9231454\n",
      "Step 4, params: [1.9965446]\n",
      "Estimated Ground State Energy: 0.9231011\n",
      "Step 5, params: [1.9958534]\n",
      "Estimated Ground State Energy: 0.9230566\n",
      "Step 6, params: [1.9951622]\n",
      "Estimated Ground State Energy: 0.92301226\n",
      "Step 7, params: [1.9944711]\n",
      "Estimated Ground State Energy: 0.922968\n",
      "Step 8, params: [1.9937798]\n",
      "Estimated Ground State Energy: 0.9229235\n",
      "Step 9, params: [1.9930885]\n",
      "Estimated Ground State Energy: 0.922879\n",
      "Step 10, params: [1.9923974]\n",
      "Estimated Ground State Energy: 0.92283463\n",
      "Step 11, params: [1.9917091]\n",
      "Estimated Ground State Energy: 0.9227903\n",
      "Step 12, params: [1.9910309]\n",
      "Estimated Ground State Energy: 0.92274666\n",
      "Step 13, params: [1.9903526]\n",
      "Estimated Ground State Energy: 0.922703\n",
      "Step 14, params: [1.9896743]\n",
      "Estimated Ground State Energy: 0.92265934\n",
      "Step 15, params: [1.988996]\n",
      "Estimated Ground State Energy: 0.9226158\n",
      "Step 16, params: [1.9883176]\n",
      "Estimated Ground State Energy: 0.92257214\n",
      "Step 17, params: [1.9876392]\n",
      "Estimated Ground State Energy: 0.9225285\n",
      "Step 18, params: [1.9869608]\n",
      "Estimated Ground State Energy: 0.92248476\n",
      "Step 19, params: [1.9862822]\n",
      "Estimated Ground State Energy: 0.92244107\n",
      "Step 20, params: [1.9856037]\n",
      "Estimated Ground State Energy: 0.92239743\n",
      "Step 21, params: [1.9849252]\n",
      "Estimated Ground State Energy: 0.92235357\n",
      "Step 22, params: [1.9842465]\n",
      "Estimated Ground State Energy: 0.92231005\n",
      "Step 23, params: [1.9835678]\n",
      "Estimated Ground State Energy: 0.9222663\n",
      "Step 24, params: [1.9828892]\n",
      "Estimated Ground State Energy: 0.92222255\n",
      "Step 25, params: [1.9822104]\n",
      "Estimated Ground State Energy: 0.9221788\n",
      "Step 26, params: [1.9815316]\n",
      "Estimated Ground State Energy: 0.92213506\n",
      "Step 27, params: [1.980849]\n",
      "Estimated Ground State Energy: 0.922091\n",
      "Step 28, params: [1.9801663]\n",
      "Estimated Ground State Energy: 0.92204714\n",
      "Step 29, params: [1.9794836]\n",
      "Estimated Ground State Energy: 0.92200303\n",
      "Step 30, params: [1.9788009]\n",
      "Estimated Ground State Energy: 0.921959\n",
      "Step 31, params: [1.9781182]\n",
      "Estimated Ground State Energy: 0.92191494\n",
      "Step 32, params: [1.9774354]\n",
      "Estimated Ground State Energy: 0.92187095\n",
      "Step 33, params: [1.9767089]\n",
      "Estimated Ground State Energy: 0.921824\n",
      "Step 34, params: [1.9759824]\n",
      "Estimated Ground State Energy: 0.92177725\n",
      "Step 35, params: [1.975256]\n",
      "Estimated Ground State Energy: 0.9217303\n",
      "Step 36, params: [1.9745295]\n",
      "Estimated Ground State Energy: 0.9216835\n",
      "Step 37, params: [1.9738029]\n",
      "Estimated Ground State Energy: 0.9216366\n",
      "Step 38, params: [1.9730763]\n",
      "Estimated Ground State Energy: 0.92158955\n",
      "Step 39, params: [1.9723498]\n",
      "Estimated Ground State Energy: 0.92154264\n",
      "Step 40, params: [1.9716232]\n",
      "Estimated Ground State Energy: 0.92149585\n",
      "Step 41, params: [1.9708966]\n",
      "Estimated Ground State Energy: 0.9214489\n",
      "Step 42, params: [1.9701699]\n",
      "Estimated Ground State Energy: 0.9214019\n",
      "Step 43, params: [1.9694432]\n",
      "Estimated Ground State Energy: 0.9213548\n",
      "Step 44, params: [1.9687165]\n",
      "Estimated Ground State Energy: 0.921308\n",
      "Step 45, params: [1.9679898]\n",
      "Estimated Ground State Energy: 0.9212609\n",
      "Step 46, params: [1.9672631]\n",
      "Estimated Ground State Energy: 0.9212139\n",
      "Step 47, params: [1.9665809]\n",
      "Estimated Ground State Energy: 0.9211699\n",
      "Step 48, params: [1.9659008]\n",
      "Estimated Ground State Energy: 0.9211258\n",
      "Step 49, params: [1.9652207]\n",
      "Estimated Ground State Energy: 0.9210819\n",
      "Step 50, params: [1.9645405]\n",
      "Estimated Ground State Energy: 0.92103785\n",
      "Step 51, params: [1.9638603]\n",
      "Estimated Ground State Energy: 0.9209939\n",
      "Step 52, params: [1.9631526]\n",
      "Estimated Ground State Energy: 0.920948\n",
      "Step 53, params: [1.962445]\n",
      "Estimated Ground State Energy: 0.92090243\n",
      "Step 54, params: [1.9617374]\n",
      "Estimated Ground State Energy: 0.9208564\n",
      "Step 55, params: [1.9610298]\n",
      "Estimated Ground State Energy: 0.9208107\n",
      "Step 56, params: [1.9603223]\n",
      "Estimated Ground State Energy: 0.9207649\n",
      "Step 57, params: [1.9596148]\n",
      "Estimated Ground State Energy: 0.9207189\n",
      "Step 58, params: [1.9589072]\n",
      "Estimated Ground State Energy: 0.9206733\n",
      "Step 59, params: [1.9581997]\n",
      "Estimated Ground State Energy: 0.9206273\n",
      "Step 60, params: [1.9574922]\n",
      "Estimated Ground State Energy: 0.9205815\n",
      "Step 61, params: [1.9567847]\n",
      "Estimated Ground State Energy: 0.92053574\n",
      "Step 62, params: [1.9560773]\n",
      "Estimated Ground State Energy: 0.92048985\n",
      "Step 63, params: [1.95537]\n",
      "Estimated Ground State Energy: 0.920444\n",
      "Step 64, params: [1.9546626]\n",
      "Estimated Ground State Energy: 0.9203981\n",
      "Step 65, params: [1.9539552]\n",
      "Estimated Ground State Energy: 0.9203522\n",
      "Step 66, params: [1.9533262]\n",
      "Estimated Ground State Energy: 0.9203115\n",
      "Step 67, params: [1.9526973]\n",
      "Estimated Ground State Energy: 0.9202707\n",
      "Step 68, params: [1.9520682]\n",
      "Estimated Ground State Energy: 0.92022985\n",
      "Step 69, params: [1.9514391]\n",
      "Estimated Ground State Energy: 0.920189\n",
      "Step 70, params: [1.95081]\n",
      "Estimated Ground State Energy: 0.9201482\n",
      "Step 71, params: [1.9501808]\n",
      "Estimated Ground State Energy: 0.9201072\n",
      "Step 72, params: [1.9495516]\n",
      "Estimated Ground State Energy: 0.9200666\n",
      "Step 73, params: [1.9489223]\n",
      "Estimated Ground State Energy: 0.92002577\n",
      "Step 74, params: [1.948293]\n",
      "Estimated Ground State Energy: 0.9199848\n",
      "Step 75, params: [1.9476637]\n",
      "Estimated Ground State Energy: 0.9199439\n",
      "Step 76, params: [1.9470342]\n",
      "Estimated Ground State Energy: 0.9199031\n",
      "Step 77, params: [1.9464048]\n",
      "Estimated Ground State Energy: 0.9198622\n",
      "Step 78, params: [1.9457786]\n",
      "Estimated Ground State Energy: 0.91982144\n",
      "Step 79, params: [1.9451524]\n",
      "Estimated Ground State Energy: 0.91978085\n",
      "Step 80, params: [1.9445261]\n",
      "Estimated Ground State Energy: 0.91974014\n",
      "Step 81, params: [1.9438998]\n",
      "Estimated Ground State Energy: 0.9196994\n",
      "Step 82, params: [1.9432734]\n",
      "Estimated Ground State Energy: 0.91965866\n",
      "Step 83, params: [1.942647]\n",
      "Estimated Ground State Energy: 0.91961795\n",
      "Step 84, params: [1.9420205]\n",
      "Estimated Ground State Energy: 0.91957724\n",
      "Step 85, params: [1.941394]\n",
      "Estimated Ground State Energy: 0.9195364\n",
      "Step 86, params: [1.9407674]\n",
      "Estimated Ground State Energy: 0.91949576\n",
      "Step 87, params: [1.9401408]\n",
      "Estimated Ground State Energy: 0.91945493\n",
      "Step 88, params: [1.9395142]\n",
      "Estimated Ground State Energy: 0.91941416\n",
      "Step 89, params: [1.9388573]\n",
      "Estimated Ground State Energy: 0.91937137\n",
      "Step 90, params: [1.9382005]\n",
      "Estimated Ground State Energy: 0.9193286\n",
      "Step 91, params: [1.9375436]\n",
      "Estimated Ground State Energy: 0.91928583\n",
      "Step 92, params: [1.9368869]\n",
      "Estimated Ground State Energy: 0.91924316\n",
      "Step 93, params: [1.9362302]\n",
      "Estimated Ground State Energy: 0.9192005\n",
      "Step 94, params: [1.9355735]\n",
      "Estimated Ground State Energy: 0.91915756\n",
      "Step 95, params: [1.9349167]\n",
      "Estimated Ground State Energy: 0.91911495\n",
      "Step 96, params: [1.93426]\n",
      "Estimated Ground State Energy: 0.91907215\n",
      "Step 97, params: [1.9336033]\n",
      "Estimated Ground State Energy: 0.9190293\n",
      "Step 98, params: [1.9329467]\n",
      "Estimated Ground State Energy: 0.9189865\n",
      "Step 99, params: [1.9322901]\n",
      "Estimated Ground State Energy: 0.9189437\n"
     ]
    }
   ],
   "source": [
    "@jit\n",
    "def energy_fn(params, positions):\n",
    "    samples = sampler.sample(positions, params, num_samples=1000, burn_in=1000)\n",
    "    return compute_energy(samples, hamiltonian, trial_wavefunction, params)\n",
    "\n",
    "# Gradient of the energy with respect to the wavefunction parameters\n",
    "energy_grad = grad(energy_fn)\n",
    "\n",
    "# Gradient descent loop\n",
    "learning_rate = 0.01\n",
    "params = initial_params\n",
    "positions = initial_positions\n",
    "\n",
    "for i in range(100):  # Perform 100 gradient descent steps\n",
    "    grads = energy_grad(params, positions)\n",
    "    params -= learning_rate * grads\n",
    "    print(f\"Step {i}, params: {params}\")\n",
    "\n",
    "    mean_energy = jnp.mean(local_energy(hamiltonian, trial_wavefunction, params, samples))\n",
    "    print(\"Estimated Ground State Energy:\", mean_energy)\n"
   ]
  },
  {
   "cell_type": "code",
   "execution_count": 42,
   "metadata": {},
   "outputs": [],
   "source": [
    "import jax\n",
    "import jax.numpy as jnp\n",
    "from jax import grad, jit, vmap, random\n",
    "import functools\n",
    "\n",
    "class TrialWavefunction:\n",
    "    def __init__(self, params):\n",
    "        self.params = params\n",
    "\n",
    "    # Function to evaluate the wavefunction\n",
    "    def evaluate(self, positions, params):\n",
    "        \"\"\"Evaluate the Gaussian wavefunction: Ψ(x) = exp(-α * r²).\"\"\"\n",
    "        alpha = params[0]  # Assuming params is a vector\n",
    "        return jnp.exp(-alpha * jnp.sum(jnp.square(positions)))\n",
    "\n",
    "    # Function to compute the gradient of the wavefunction\n",
    "    def grad(self, positions, params):\n",
    "        \"\"\"Compute the gradient of the wavefunction with respect to positions.\"\"\"\n",
    "        alpha = params[0]\n",
    "        return -2 * alpha * positions * self.evaluate(positions, params)\n"
   ]
  },
  {
   "cell_type": "code",
   "execution_count": 43,
   "metadata": {},
   "outputs": [],
   "source": [
    "class ManyBodyHamiltonian:\n",
    "    def __init__(self, mass, omega):\n",
    "        self.mass = mass\n",
    "        self.omega = omega\n",
    "\n",
    "    def kinetic_energy(self, positions, evaluate_wavefunction, params):\n",
    "        \"\"\"Compute the kinetic energy using the gradient of the wavefunction.\"\"\"\n",
    "        grad_psi = grad(evaluate_wavefunction)(positions, params)\n",
    "        return 0.5 * self.mass * jnp.sum(grad_psi ** 2)  # Example kinetic energy formula\n",
    "\n",
    "    def potential_energy(self, positions):\n",
    "        \"\"\"Compute the potential energy using a harmonic oscillator.\"\"\"\n",
    "        return 0.5 * self.mass * self.omega ** 2 * jnp.sum(positions ** 2)\n"
   ]
  },
  {
   "cell_type": "code",
   "execution_count": 44,
   "metadata": {},
   "outputs": [],
   "source": [
    "class MetropolisHastingsSampler:\n",
    "    def __init__(self, trial_wavefunction, step_size, rng_key):\n",
    "        self.trial_wavefunction = trial_wavefunction\n",
    "        self.step_size = step_size\n",
    "        self.rng_key = rng_key\n",
    "\n",
    "    @functools.partial(jit, static_argnums=(0,))\n",
    "    def propose_move(self, positions, key):\n",
    "        \"\"\"Propose a new move by adding Gaussian noise to the current positions.\"\"\"\n",
    "        move = random.normal(key, shape=positions.shape) * self.step_size\n",
    "        new_positions = positions + move\n",
    "        return new_positions\n",
    "\n",
    "    @functools.partial(jit, static_argnums=(0,))\n",
    "    def acceptance_prob(self, old_positions, new_positions, params):\n",
    "        \"\"\"Compute the Metropolis-Hastings acceptance probability.\"\"\"\n",
    "        # Use the evaluate method of trial_wavefunction, not the object itself\n",
    "        psi_old = self.trial_wavefunction.evaluate(old_positions, params)\n",
    "        psi_new = self.trial_wavefunction.evaluate(new_positions, params)\n",
    "        return jnp.minimum(1.0, jnp.square(psi_new) / jnp.square(psi_old))\n",
    "\n",
    "    @functools.partial(jit, static_argnums=(0,))\n",
    "    def metropolis_step(self, positions, params, key):\n",
    "        \"\"\"Perform a single Metropolis-Hastings step.\"\"\"\n",
    "        new_key, subkey = random.split(key)\n",
    "        new_positions = self.propose_move(positions, subkey)\n",
    "        acc_prob = self.acceptance_prob(positions, new_positions, params)\n",
    "        accept = random.uniform(subkey) < acc_prob\n",
    "        positions = jnp.where(accept, new_positions, positions)\n",
    "        return positions, new_key\n",
    "\n",
    "    def sample(self, initial_positions, params, num_samples, burn_in=1000):\n",
    "        \"\"\"Generate samples using Metropolis-Hastings with fori_loop.\"\"\"\n",
    "\n",
    "        # Define a burn-in loop function\n",
    "        def burn_in_step(i, state):\n",
    "            positions, key = state\n",
    "            positions, key = self.metropolis_step(positions, params, key)\n",
    "            return positions, key\n",
    "\n",
    "        # Define a sampling loop function\n",
    "        def sample_step(i, state):\n",
    "            positions, key, samples = state\n",
    "            positions, key = self.metropolis_step(positions, params, key)\n",
    "            samples = samples.at[i].set(positions)  # Store the positions\n",
    "            return positions, key, samples\n",
    "\n",
    "        # Burn-in phase\n",
    "        positions, key = lax.fori_loop(0, burn_in, burn_in_step, (initial_positions, self.rng_key))\n",
    "\n",
    "        # Initialize an array to store the samples\n",
    "        samples = jnp.zeros((num_samples, initial_positions.shape[0]))\n",
    "\n",
    "        # Sampling phase\n",
    "        positions, key, samples = lax.fori_loop(\n",
    "            0, num_samples, sample_step, (positions, key, samples)\n",
    "        )\n",
    "\n",
    "        return samples\n"
   ]
  },
  {
   "cell_type": "code",
   "execution_count": null,
   "metadata": {},
   "outputs": [],
   "source": [
    "@functools.partial(jit, static_argnums=(1,))\n",
    "def compute_energy(samples, hamiltonian, trial_wavefunction, params):\n",
    "    def local_energy(positions):\n",
    "        # Use the evaluate method of trial_wavefunction, not the object itself\n",
    "        kinetic = hamiltonian.kinetic_energy(positions, trial_wavefunction.evaluate, params)\n",
    "        potential = hamiltonian.potential_energy(positions)\n",
    "        return kinetic + potential\n",
    "\n",
    "    energies = vmap(local_energy)(samples)\n",
    "    return jnp.mean(energies)\n"
   ]
  },
  {
   "cell_type": "code",
   "execution_count": 47,
   "metadata": {},
   "outputs": [
    {
     "ename": "TypeError",
     "evalue": "Cannot interpret value of type <class 'method'> as an abstract array; it does not have a dtype attribute",
     "output_type": "error",
     "traceback": [
      "\u001b[0;31m---------------------------------------------------------------------------\u001b[0m",
      "\u001b[0;31mTypeError\u001b[0m                                 Traceback (most recent call last)",
      "Cell \u001b[0;32mIn[47], line 23\u001b[0m\n\u001b[1;32m     20\u001b[0m samples \u001b[38;5;241m=\u001b[39m sampler\u001b[38;5;241m.\u001b[39msample(initial_positions, initial_params, num_samples, burn_in\u001b[38;5;241m=\u001b[39m\u001b[38;5;241m1000\u001b[39m)\n\u001b[1;32m     22\u001b[0m \u001b[38;5;66;03m# Compute the energy\u001b[39;00m\n\u001b[0;32m---> 23\u001b[0m mean_energy \u001b[38;5;241m=\u001b[39m \u001b[43mcompute_energy\u001b[49m\u001b[43m(\u001b[49m\u001b[43msamples\u001b[49m\u001b[43m,\u001b[49m\u001b[43m \u001b[49m\u001b[43mhamiltonian\u001b[49m\u001b[43m,\u001b[49m\u001b[43m \u001b[49m\u001b[43mtrial_wavefunction\u001b[49m\u001b[38;5;241;43m.\u001b[39;49m\u001b[43mevaluate\u001b[49m\u001b[43m,\u001b[49m\u001b[43m \u001b[49m\u001b[43minitial_params\u001b[49m\u001b[43m)\u001b[49m\n\u001b[1;32m     24\u001b[0m \u001b[38;5;28mprint\u001b[39m(\u001b[38;5;124m\"\u001b[39m\u001b[38;5;124mEstimated Ground State Energy:\u001b[39m\u001b[38;5;124m\"\u001b[39m, mean_energy)\n",
      "    \u001b[0;31m[... skipping hidden 5 frame]\u001b[0m\n",
      "File \u001b[0;32m/Library/Frameworks/Python.framework/Versions/3.12/lib/python3.12/site-packages/jax/_src/api_util.py:577\u001b[0m, in \u001b[0;36m_shaped_abstractify_slow\u001b[0;34m(x)\u001b[0m\n\u001b[1;32m    575\u001b[0m   dtype \u001b[38;5;241m=\u001b[39m dtypes\u001b[38;5;241m.\u001b[39mcanonicalize_dtype(x\u001b[38;5;241m.\u001b[39mdtype, allow_extended_dtype\u001b[38;5;241m=\u001b[39m\u001b[38;5;28;01mTrue\u001b[39;00m)\n\u001b[1;32m    576\u001b[0m \u001b[38;5;28;01melse\u001b[39;00m:\n\u001b[0;32m--> 577\u001b[0m   \u001b[38;5;28;01mraise\u001b[39;00m \u001b[38;5;167;01mTypeError\u001b[39;00m(\n\u001b[1;32m    578\u001b[0m       \u001b[38;5;124mf\u001b[39m\u001b[38;5;124m\"\u001b[39m\u001b[38;5;124mCannot interpret value of type \u001b[39m\u001b[38;5;132;01m{\u001b[39;00m\u001b[38;5;28mtype\u001b[39m(x)\u001b[38;5;132;01m}\u001b[39;00m\u001b[38;5;124m as an abstract array; it \u001b[39m\u001b[38;5;124m\"\u001b[39m\n\u001b[1;32m    579\u001b[0m       \u001b[38;5;124m\"\u001b[39m\u001b[38;5;124mdoes not have a dtype attribute\u001b[39m\u001b[38;5;124m\"\u001b[39m)\n\u001b[1;32m    580\u001b[0m \u001b[38;5;28;01mreturn\u001b[39;00m core\u001b[38;5;241m.\u001b[39mShapedArray(np\u001b[38;5;241m.\u001b[39mshape(x), dtype, weak_type\u001b[38;5;241m=\u001b[39mweak_type,\n\u001b[1;32m    581\u001b[0m                         named_shape\u001b[38;5;241m=\u001b[39mnamed_shape)\n",
      "\u001b[0;31mTypeError\u001b[0m: Cannot interpret value of type <class 'method'> as an abstract array; it does not have a dtype attribute"
     ]
    }
   ],
   "source": [
    "# Set up the system\n",
    "mass = 1.0\n",
    "omega = 1.0\n",
    "hamiltonian = ManyBodyHamiltonian(mass, omega)\n",
    "\n",
    "# Initialize trial wavefunction parameters (e.g., alpha = 1.0 for Gaussian)\n",
    "initial_params = jnp.array([1.0])\n",
    "trial_wavefunction = TrialWavefunction(initial_params)\n",
    "\n",
    "# Initialize particle positions (for a single particle)\n",
    "initial_positions = jnp.array([0.0])\n",
    "\n",
    "# Initialize the Metropolis-Hastings sampler\n",
    "step_size = 0.1\n",
    "rng_key = random.PRNGKey(42)\n",
    "sampler = MetropolisHastingsSampler(trial_wavefunction, step_size, rng_key)\n",
    "\n",
    "# Generate 10,000 samples with burn-in of 1,000 steps\n",
    "num_samples = 10000\n",
    "samples = sampler.sample(initial_positions, initial_params, num_samples, burn_in=1000)\n",
    "\n",
    "# Compute the energy\n",
    "mean_energy = compute_energy(samples, hamiltonian, trial_wavefunction.evaluate, initial_params)\n",
    "print(\"Estimated Ground State Energy:\", mean_energy)\n"
   ]
  },
  {
   "cell_type": "code",
   "execution_count": 48,
   "metadata": {},
   "outputs": [],
   "source": [
    "import jax\n",
    "import jax.numpy as jnp\n",
    "from jax import grad, jit, vmap, random\n",
    "import functools\n",
    "\n",
    "class TrialWavefunction:\n",
    "    def __init__(self, params):\n",
    "        self.params = params\n",
    "\n",
    "    def evaluate(self, positions, params):\n",
    "        \"\"\"Evaluate the Gaussian wavefunction: Ψ(x) = exp(-α * r²).\"\"\"\n",
    "        alpha = params[0]  # Assuming params is a vector\n",
    "        return jnp.exp(-alpha * jnp.sum(jnp.square(positions)))\n",
    "\n",
    "    def grad(self, positions, params):\n",
    "        \"\"\"Compute the gradient of the wavefunction with respect to positions.\"\"\"\n",
    "        alpha = params[0]\n",
    "        return -2 * alpha * positions * self.evaluate(positions, params)\n"
   ]
  },
  {
   "cell_type": "code",
   "execution_count": 49,
   "metadata": {},
   "outputs": [],
   "source": [
    "class ManyBodyHamiltonian:\n",
    "    def __init__(self, mass, omega):\n",
    "        self.mass = mass\n",
    "        self.omega = omega\n",
    "\n",
    "    def kinetic_energy(self, positions, evaluate_wavefunction, params):\n",
    "        \"\"\"Compute the kinetic energy using the gradient of the wavefunction.\"\"\"\n",
    "        grad_psi = grad(evaluate_wavefunction)(positions, params)\n",
    "        return 0.5 * self.mass * jnp.sum(grad_psi ** 2)\n",
    "\n",
    "    def potential_energy(self, positions):\n",
    "        \"\"\"Compute the potential energy using a harmonic oscillator.\"\"\"\n",
    "        return 0.5 * self.mass * self.omega ** 2 * jnp.sum(positions ** 2)\n"
   ]
  },
  {
   "cell_type": "code",
   "execution_count": 50,
   "metadata": {},
   "outputs": [],
   "source": [
    "class MetropolisHastingsSampler:\n",
    "    def __init__(self, trial_wavefunction, step_size, rng_key):\n",
    "        self.trial_wavefunction = trial_wavefunction\n",
    "        self.step_size = step_size\n",
    "        self.rng_key = rng_key\n",
    "\n",
    "    @functools.partial(jit, static_argnums=(0,))\n",
    "    def propose_move(self, positions, key):\n",
    "        \"\"\"Propose a new move by adding Gaussian noise to the current positions.\"\"\"\n",
    "        move = random.normal(key, shape=positions.shape) * self.step_size\n",
    "        new_positions = positions + move\n",
    "        return new_positions\n",
    "\n",
    "    @functools.partial(jit, static_argnums=(0,))\n",
    "    def acceptance_prob(self, old_positions, new_positions, params):\n",
    "        \"\"\"Compute the Metropolis-Hastings acceptance probability.\"\"\"\n",
    "        psi_old = self.trial_wavefunction.evaluate(old_positions, params)\n",
    "        psi_new = self.trial_wavefunction.evaluate(new_positions, params)\n",
    "        return jnp.minimum(1.0, jnp.square(psi_new) / jnp.square(psi_old))\n",
    "\n",
    "    @functools.partial(jit, static_argnums=(0,))\n",
    "    def metropolis_step(self, positions, params, key):\n",
    "        \"\"\"Perform a single Metropolis-Hastings step.\"\"\"\n",
    "        new_key, subkey = random.split(key)\n",
    "        new_positions = self.propose_move(positions, subkey)\n",
    "        acc_prob = self.acceptance_prob(positions, new_positions, params)\n",
    "        accept = random.uniform(subkey) < acc_prob\n",
    "        positions = jnp.where(accept, new_positions, positions)\n",
    "        return positions, new_key\n",
    "\n",
    "    def sample(self, initial_positions, params, num_samples, burn_in=1000):\n",
    "        \"\"\"Generate samples using Metropolis-Hastings with fori_loop.\"\"\"\n",
    "\n",
    "        # Define a burn-in loop function\n",
    "        def burn_in_step(i, state):\n",
    "            positions, key = state\n",
    "            positions, key = self.metropolis_step(positions, params, key)\n",
    "            return positions, key\n",
    "\n",
    "        # Define a sampling loop function\n",
    "        def sample_step(i, state):\n",
    "            positions, key, samples = state\n",
    "            positions, key = self.metropolis_step(positions, params, key)\n",
    "            samples = samples.at[i].set(positions)  # Store the positions\n",
    "            return positions, key, samples\n",
    "\n",
    "        # Burn-in phase\n",
    "        positions, key = lax.fori_loop(0, burn_in, burn_in_step, (initial_positions, self.rng_key))\n",
    "\n",
    "        # Initialize an array to store the samples\n",
    "        samples = jnp.zeros((num_samples, initial_positions.shape[0]))\n",
    "\n",
    "        # Sampling phase\n",
    "        positions, key, samples = lax.fori_loop(\n",
    "            0, num_samples, sample_step, (positions, key, samples)\n",
    "        )\n",
    "\n",
    "        return samples\n"
   ]
  },
  {
   "cell_type": "code",
   "execution_count": null,
   "metadata": {},
   "outputs": [],
   "source": [
    "def evaluate_wavefunction_fn(trial_wavefunction):\n",
    "    \"\"\"Helper function to return the evaluation function.\"\"\"\n",
    "    return lambda positions, params: trial_wavefunction.evaluate(positions, params)\n",
    "\n",
    "@functools.partial(jit, static_argnums=(1,))\n",
    "def compute_energy(samples, hamiltonian, evaluate_wavefunction_fn, params):\n",
    "    \"\"\"\n",
    "    Compute the energy of the system using the provided wavefunction evaluation function.\n",
    "    \"\"\"\n",
    "    def local_energy(positions):\n",
    "        \"\"\"Calculate the local energy (kinetic + potential) at each position.\"\"\"\n",
    "        # Compute the kinetic energy using the gradient of the wavefunction\n",
    "        kinetic = hamiltonian.kinetic_energy(positions, evaluate_wavefunction_fn, params)\n",
    "\n",
    "        # Compute the potential energy\n",
    "        potential = hamiltonian.potential_energy(positions)\n",
    "\n",
    "        return kinetic + potential\n",
    "\n",
    "    # Use vmap to evaluate energy over all the samples\n",
    "    energies = vmap(local_energy)(samples)\n",
    "\n",
    "    # Return the mean energy\n",
    "    return jnp.mean(energies)\n"
   ]
  },
  {
   "cell_type": "code",
   "execution_count": 56,
   "metadata": {},
   "outputs": [
    {
     "ename": "TypeError",
     "evalue": "Cannot interpret value of type <class 'function'> as an abstract array; it does not have a dtype attribute",
     "output_type": "error",
     "traceback": [
      "\u001b[0;31m---------------------------------------------------------------------------\u001b[0m",
      "\u001b[0;31mTypeError\u001b[0m                                 Traceback (most recent call last)",
      "Cell \u001b[0;32mIn[56], line 26\u001b[0m\n\u001b[1;32m     23\u001b[0m evaluate_fn \u001b[38;5;241m=\u001b[39m evaluate_wavefunction_fn(trial_wavefunction)\n\u001b[1;32m     25\u001b[0m \u001b[38;5;66;03m# Compute the energy\u001b[39;00m\n\u001b[0;32m---> 26\u001b[0m mean_energy \u001b[38;5;241m=\u001b[39m \u001b[43mcompute_energy\u001b[49m\u001b[43m(\u001b[49m\u001b[43msamples\u001b[49m\u001b[43m,\u001b[49m\u001b[43m \u001b[49m\u001b[43mhamiltonian\u001b[49m\u001b[43m,\u001b[49m\u001b[43m \u001b[49m\u001b[43mevaluate_fn\u001b[49m\u001b[43m,\u001b[49m\u001b[43m \u001b[49m\u001b[43minitial_params\u001b[49m\u001b[43m)\u001b[49m\n\u001b[1;32m     27\u001b[0m \u001b[38;5;28mprint\u001b[39m(\u001b[38;5;124m\"\u001b[39m\u001b[38;5;124mEstimated Ground State Energy:\u001b[39m\u001b[38;5;124m\"\u001b[39m, mean_energy)\n",
      "    \u001b[0;31m[... skipping hidden 5 frame]\u001b[0m\n",
      "File \u001b[0;32m/Library/Frameworks/Python.framework/Versions/3.12/lib/python3.12/site-packages/jax/_src/api_util.py:577\u001b[0m, in \u001b[0;36m_shaped_abstractify_slow\u001b[0;34m(x)\u001b[0m\n\u001b[1;32m    575\u001b[0m   dtype \u001b[38;5;241m=\u001b[39m dtypes\u001b[38;5;241m.\u001b[39mcanonicalize_dtype(x\u001b[38;5;241m.\u001b[39mdtype, allow_extended_dtype\u001b[38;5;241m=\u001b[39m\u001b[38;5;28;01mTrue\u001b[39;00m)\n\u001b[1;32m    576\u001b[0m \u001b[38;5;28;01melse\u001b[39;00m:\n\u001b[0;32m--> 577\u001b[0m   \u001b[38;5;28;01mraise\u001b[39;00m \u001b[38;5;167;01mTypeError\u001b[39;00m(\n\u001b[1;32m    578\u001b[0m       \u001b[38;5;124mf\u001b[39m\u001b[38;5;124m\"\u001b[39m\u001b[38;5;124mCannot interpret value of type \u001b[39m\u001b[38;5;132;01m{\u001b[39;00m\u001b[38;5;28mtype\u001b[39m(x)\u001b[38;5;132;01m}\u001b[39;00m\u001b[38;5;124m as an abstract array; it \u001b[39m\u001b[38;5;124m\"\u001b[39m\n\u001b[1;32m    579\u001b[0m       \u001b[38;5;124m\"\u001b[39m\u001b[38;5;124mdoes not have a dtype attribute\u001b[39m\u001b[38;5;124m\"\u001b[39m)\n\u001b[1;32m    580\u001b[0m \u001b[38;5;28;01mreturn\u001b[39;00m core\u001b[38;5;241m.\u001b[39mShapedArray(np\u001b[38;5;241m.\u001b[39mshape(x), dtype, weak_type\u001b[38;5;241m=\u001b[39mweak_type,\n\u001b[1;32m    581\u001b[0m                         named_shape\u001b[38;5;241m=\u001b[39mnamed_shape)\n",
      "\u001b[0;31mTypeError\u001b[0m: Cannot interpret value of type <class 'function'> as an abstract array; it does not have a dtype attribute"
     ]
    }
   ],
   "source": [
    "# Set up the system\n",
    "mass = 1.0\n",
    "omega = 1.0\n",
    "hamiltonian = ManyBodyHamiltonian(mass, omega)\n",
    "\n",
    "# Initialize trial wavefunction parameters (e.g., alpha = 1.0 for Gaussian)\n",
    "initial_params = jnp.array([1.0])\n",
    "trial_wavefunction = TrialWavefunction(initial_params)\n",
    "\n",
    "# Initialize particle positions (for a single particle)\n",
    "initial_positions = jnp.array([0.0])\n",
    "\n",
    "# Initialize the Metropolis-Hastings sampler\n",
    "step_size = 0.1\n",
    "rng_key = random.PRNGKey(42)\n",
    "sampler = MetropolisHastingsSampler(trial_wavefunction, step_size, rng_key)\n",
    "\n",
    "# Generate 10,000 samples with burn-in of 1,000 steps\n",
    "num_samples = 10000\n",
    "samples = sampler.sample(initial_positions, initial_params, num_samples, burn_in=1000)\n",
    "\n",
    "# Create a function to access the evaluate method\n",
    "evaluate_fn = evaluate_wavefunction_fn(trial_wavefunction)\n",
    "\n",
    "# Compute the energy\n",
    "mean_energy = compute_energy(samples, hamiltonian, evaluate_fn, initial_params)\n",
    "print(\"Estimated Ground State Energy:\", mean_energy)\n"
   ]
  },
  {
   "cell_type": "code",
   "execution_count": 57,
   "metadata": {},
   "outputs": [
    {
     "data": {
      "text/plain": [
       "<function __main__.evaluate_wavefunction_fn.<locals>.<lambda>(positions, params)>"
      ]
     },
     "execution_count": 57,
     "metadata": {},
     "output_type": "execute_result"
    }
   ],
   "source": [
    "evaluate_fn"
   ]
  },
  {
   "cell_type": "code",
   "execution_count": 58,
   "metadata": {},
   "outputs": [
    {
     "ename": "TypeError",
     "evalue": "Cannot interpret value of type <class 'function'> as an abstract array; it does not have a dtype attribute",
     "output_type": "error",
     "traceback": [
      "\u001b[0;31m---------------------------------------------------------------------------\u001b[0m",
      "\u001b[0;31mTypeError\u001b[0m                                 Traceback (most recent call last)",
      "Cell \u001b[0;32mIn[58], line 92\u001b[0m\n\u001b[1;32m     89\u001b[0m evaluate_fn \u001b[38;5;241m=\u001b[39m evaluate_wavefunction_fn(trial_wavefunction)\n\u001b[1;32m     91\u001b[0m \u001b[38;5;66;03m# Compute the energy\u001b[39;00m\n\u001b[0;32m---> 92\u001b[0m mean_energy \u001b[38;5;241m=\u001b[39m \u001b[43mcompute_energy\u001b[49m\u001b[43m(\u001b[49m\u001b[43msamples\u001b[49m\u001b[43m,\u001b[49m\u001b[43m \u001b[49m\u001b[43mhamiltonian\u001b[49m\u001b[43m,\u001b[49m\u001b[43m \u001b[49m\u001b[43mevaluate_fn\u001b[49m\u001b[43m,\u001b[49m\u001b[43m \u001b[49m\u001b[43minitial_params\u001b[49m\u001b[43m)\u001b[49m\n\u001b[1;32m     93\u001b[0m \u001b[38;5;28mprint\u001b[39m(\u001b[38;5;124m\"\u001b[39m\u001b[38;5;124mEstimated Ground State Energy:\u001b[39m\u001b[38;5;124m\"\u001b[39m, mean_energy)\n",
      "    \u001b[0;31m[... skipping hidden 5 frame]\u001b[0m\n",
      "File \u001b[0;32m/Library/Frameworks/Python.framework/Versions/3.12/lib/python3.12/site-packages/jax/_src/api_util.py:577\u001b[0m, in \u001b[0;36m_shaped_abstractify_slow\u001b[0;34m(x)\u001b[0m\n\u001b[1;32m    575\u001b[0m   dtype \u001b[38;5;241m=\u001b[39m dtypes\u001b[38;5;241m.\u001b[39mcanonicalize_dtype(x\u001b[38;5;241m.\u001b[39mdtype, allow_extended_dtype\u001b[38;5;241m=\u001b[39m\u001b[38;5;28;01mTrue\u001b[39;00m)\n\u001b[1;32m    576\u001b[0m \u001b[38;5;28;01melse\u001b[39;00m:\n\u001b[0;32m--> 577\u001b[0m   \u001b[38;5;28;01mraise\u001b[39;00m \u001b[38;5;167;01mTypeError\u001b[39;00m(\n\u001b[1;32m    578\u001b[0m       \u001b[38;5;124mf\u001b[39m\u001b[38;5;124m\"\u001b[39m\u001b[38;5;124mCannot interpret value of type \u001b[39m\u001b[38;5;132;01m{\u001b[39;00m\u001b[38;5;28mtype\u001b[39m(x)\u001b[38;5;132;01m}\u001b[39;00m\u001b[38;5;124m as an abstract array; it \u001b[39m\u001b[38;5;124m\"\u001b[39m\n\u001b[1;32m    579\u001b[0m       \u001b[38;5;124m\"\u001b[39m\u001b[38;5;124mdoes not have a dtype attribute\u001b[39m\u001b[38;5;124m\"\u001b[39m)\n\u001b[1;32m    580\u001b[0m \u001b[38;5;28;01mreturn\u001b[39;00m core\u001b[38;5;241m.\u001b[39mShapedArray(np\u001b[38;5;241m.\u001b[39mshape(x), dtype, weak_type\u001b[38;5;241m=\u001b[39mweak_type,\n\u001b[1;32m    581\u001b[0m                         named_shape\u001b[38;5;241m=\u001b[39mnamed_shape)\n",
      "\u001b[0;31mTypeError\u001b[0m: Cannot interpret value of type <class 'function'> as an abstract array; it does not have a dtype attribute"
     ]
    }
   ],
   "source": [
    "import jax\n",
    "import jax.numpy as jnp\n",
    "from jax import random, vmap, jit\n",
    "import functools\n",
    "\n",
    "# Define the TrialWavefunction class\n",
    "class TrialWavefunction:\n",
    "    def __init__(self, params):\n",
    "        self.params = params\n",
    "\n",
    "    def evaluate(self, positions, params):\n",
    "        \"\"\"Evaluate the trial wavefunction at given positions with parameters.\"\"\"\n",
    "        alpha = params[0]\n",
    "        return jnp.exp(-alpha * jnp.sum(positions ** 2))  # Example wavefunction\n",
    "\n",
    "# Hamiltonian class (simplified for this example)\n",
    "class ManyBodyHamiltonian:\n",
    "    def __init__(self, mass, omega):\n",
    "        self.mass = mass\n",
    "        self.omega = omega\n",
    "\n",
    "    def kinetic_energy(self, positions, evaluate_fn, params):\n",
    "        \"\"\"Compute the kinetic energy.\"\"\"\n",
    "        grad_wavefunction = jax.grad(lambda x: evaluate_fn(x, params))(positions)\n",
    "        return -0.5 * jnp.sum(grad_wavefunction ** 2) / self.mass\n",
    "\n",
    "    def potential_energy(self, positions):\n",
    "        \"\"\"Compute the potential energy.\"\"\"\n",
    "        return 0.5 * self.omega ** 2 * jnp.sum(positions ** 2)\n",
    "\n",
    "# Refactor to make compute_energy compatible with JAX\n",
    "@functools.partial(jit, static_argnums=(1,))\n",
    "def compute_energy(samples, hamiltonian, evaluate_fn, params):\n",
    "    def local_energy(positions):\n",
    "        kinetic = hamiltonian.kinetic_energy(positions, evaluate_fn, params)\n",
    "        potential = hamiltonian.potential_energy(positions)\n",
    "        return kinetic + potential\n",
    "\n",
    "    # Use vmap to vectorize energy computation over all samples\n",
    "    energies = vmap(local_energy)(samples)\n",
    "    return jnp.mean(energies)\n",
    "\n",
    "# JAX sampler using Metropolis-Hastings\n",
    "class MetropolisHastingsSampler:\n",
    "    def __init__(self, trial_wavefunction, step_size, rng_key):\n",
    "        self.trial_wavefunction = trial_wavefunction\n",
    "        self.step_size = step_size\n",
    "        self.rng_key = rng_key\n",
    "\n",
    "    def sample(self, initial_positions, initial_params, num_samples, burn_in=0):\n",
    "        positions = initial_positions\n",
    "        params = initial_params\n",
    "        samples = []\n",
    "        for _ in range(num_samples + burn_in):\n",
    "            new_positions = positions + self.step_size * random.normal(self.rng_key, positions.shape)\n",
    "            acceptance_ratio = self.trial_wavefunction.evaluate(new_positions, params) / self.trial_wavefunction.evaluate(positions, params)\n",
    "            if random.uniform(self.rng_key) < acceptance_ratio:\n",
    "                positions = new_positions\n",
    "            if _ >= burn_in:\n",
    "                samples.append(positions)\n",
    "        return jnp.array(samples)\n",
    "\n",
    "# Helper function to wrap the `evaluate` method as a pure function\n",
    "def evaluate_wavefunction_fn(trial_wavefunction):\n",
    "    return lambda positions, params: trial_wavefunction.evaluate(positions, params)\n",
    "\n",
    "# Example usage:\n",
    "mass = 1.0\n",
    "omega = 1.0\n",
    "hamiltonian = ManyBodyHamiltonian(mass, omega)\n",
    "\n",
    "# Initialize trial wavefunction parameters (e.g., alpha = 1.0 for Gaussian)\n",
    "initial_params = jnp.array([1.0])\n",
    "trial_wavefunction = TrialWavefunction(initial_params)\n",
    "\n",
    "# Initialize particle positions (for a single particle)\n",
    "initial_positions = jnp.array([0.0])\n",
    "\n",
    "# Initialize the Metropolis-Hastings sampler\n",
    "step_size = 0.1\n",
    "rng_key = random.PRNGKey(42)\n",
    "sampler = MetropolisHastingsSampler(trial_wavefunction, step_size, rng_key)\n",
    "\n",
    "# Generate 10,000 samples with burn-in of 1,000 steps\n",
    "num_samples = 10000\n",
    "samples = sampler.sample(initial_positions, initial_params, num_samples, burn_in=1000)\n",
    "\n",
    "# Create a function to access the evaluate method as a pure function\n",
    "evaluate_fn = evaluate_wavefunction_fn(trial_wavefunction)\n",
    "\n",
    "# Compute the energy\n",
    "mean_energy = compute_energy(samples, hamiltonian, evaluate_fn, initial_params)\n",
    "print(\"Estimated Ground State Energy:\", mean_energy)\n"
   ]
  },
  {
   "cell_type": "code",
   "execution_count": 59,
   "metadata": {},
   "outputs": [
    {
     "data": {
      "text/plain": [
       "Array([[-9.327932],\n",
       "       [-9.327932],\n",
       "       [-9.327932],\n",
       "       ...,\n",
       "       [-9.327932],\n",
       "       [-9.327932],\n",
       "       [-9.327932]], dtype=float32)"
      ]
     },
     "execution_count": 59,
     "metadata": {},
     "output_type": "execute_result"
    }
   ],
   "source": [
    "samples"
   ]
  },
  {
   "cell_type": "code",
   "execution_count": 1,
   "metadata": {},
   "outputs": [],
   "source": [
    "import jax.numpy as jnp\n",
    "import jax\n",
    "from jax import random, jit, vmap, grad\n",
    "import functools\n",
    "\n",
    "class TrialWavefunction:\n",
    "    def __init__(self, params):\n",
    "        self.params = params\n",
    "\n",
    "    def evaluate(self, positions, params):\n",
    "        \"\"\"Gaussian trial wavefunction evaluation.\"\"\"\n",
    "        alpha = params[0]\n",
    "        return jnp.exp(-alpha * jnp.sum(positions**2))\n"
   ]
  },
  {
   "cell_type": "code",
   "execution_count": 2,
   "metadata": {},
   "outputs": [],
   "source": [
    "class ManyBodyHamiltonian:\n",
    "    def __init__(self, mass, omega):\n",
    "        self.mass = mass\n",
    "        self.omega = omega\n",
    "\n",
    "    def potential_energy(self, positions):\n",
    "        \"\"\"Harmonic oscillator potential: V(x) = 1/2 * m * omega^2 * x^2\"\"\"\n",
    "        return 0.5 * self.mass * self.omega**2 * jnp.sum(positions**2)\n",
    "\n",
    "    def kinetic_energy(self, positions, evaluate_wavefunction_fn, params):\n",
    "        \"\"\"Kinetic energy: -1/2m * Laplacian of the wavefunction.\"\"\"\n",
    "        def log_psi(positions):\n",
    "            return jnp.log(evaluate_wavefunction_fn(positions, params))\n",
    "\n",
    "        grad_log_psi = grad(log_psi)\n",
    "        grad2_log_psi = grad(lambda pos: jnp.sum(grad_log_psi(pos)**2))\n",
    "\n",
    "        return -0.5 / self.mass * grad2_log_psi(positions)\n"
   ]
  },
  {
   "cell_type": "code",
   "execution_count": 3,
   "metadata": {},
   "outputs": [],
   "source": [
    "class MetropolisHastingsSampler:\n",
    "    def __init__(self, wavefunction, step_size, rng_key):\n",
    "        self.wavefunction = wavefunction\n",
    "        self.step_size = step_size\n",
    "        self.rng_key = rng_key\n",
    "\n",
    "    def sample(self, initial_positions, params, num_samples, burn_in=1000):\n",
    "        def metropolis_step(carry, _):\n",
    "            key, positions, accepted = carry\n",
    "            key, subkey = random.split(key)\n",
    "            proposed_move = positions + random.normal(subkey, shape=positions.shape) * self.step_size\n",
    "\n",
    "            psi_old = self.wavefunction.evaluate(positions, params)\n",
    "            psi_new = self.wavefunction.evaluate(proposed_move, params)\n",
    "            acceptance_ratio = (psi_new / psi_old)**2\n",
    "\n",
    "            key, subkey = random.split(key)\n",
    "            accept = random.uniform(subkey) < acceptance_ratio\n",
    "            new_positions = jnp.where(accept, proposed_move, positions)\n",
    "            return (key, new_positions, accepted + accept), new_positions\n",
    "\n",
    "        # Run Metropolis-Hastings for burn-in\n",
    "        carry = (self.rng_key, initial_positions, 0)\n",
    "        carry, _ = jax.lax.fori_loop(0, burn_in, metropolis_step, carry)\n",
    "\n",
    "        # Generate samples after burn-in\n",
    "        carry, samples = jax.lax.scan(metropolis_step, carry, None, length=num_samples)\n",
    "        return samples\n"
   ]
  },
  {
   "cell_type": "code",
   "execution_count": null,
   "metadata": {},
   "outputs": [],
   "source": [
    "@functools.partial(jit, static_argnums=(2,))\n",
    "def compute_energy(samples, hamiltonian, evaluate_wavefunction_fn, params):\n",
    "    \"\"\"\n",
    "    Compute the energy of the system using the provided wavefunction evaluation function.\n",
    "    \"\"\"\n",
    "    def local_energy(positions):\n",
    "        \"\"\"Calculate the local energy (kinetic + potential) at each position.\"\"\"\n",
    "        # Compute the kinetic energy using the gradient of the wavefunction\n",
    "        kinetic = hamiltonian.kinetic_energy(positions, evaluate_wavefunction_fn, params)\n",
    "\n",
    "        # Compute the potential energy\n",
    "        potential = hamiltonian.potential_energy(positions)\n",
    "\n",
    "        return kinetic + potential\n",
    "\n",
    "    # Use vmap to evaluate energy over all the samples\n",
    "    energies = vmap(local_energy)(samples)\n",
    "\n",
    "    # Return the mean energy\n",
    "    return jnp.mean(energies)\n"
   ]
  },
  {
   "cell_type": "code",
   "execution_count": 5,
   "metadata": {},
   "outputs": [
    {
     "ename": "TypeError",
     "evalue": "iteration over a 0-d array",
     "output_type": "error",
     "traceback": [
      "\u001b[0;31m---------------------------------------------------------------------------\u001b[0m",
      "\u001b[0;31mTypeError\u001b[0m                                 Traceback (most recent call last)",
      "Cell \u001b[0;32mIn[5], line 25\u001b[0m\n\u001b[1;32m     23\u001b[0m \u001b[38;5;66;03m# Generate 10,000 samples with burn-in of 1,000 steps\u001b[39;00m\n\u001b[1;32m     24\u001b[0m num_samples \u001b[38;5;241m=\u001b[39m \u001b[38;5;241m10000\u001b[39m\n\u001b[0;32m---> 25\u001b[0m samples \u001b[38;5;241m=\u001b[39m \u001b[43msampler\u001b[49m\u001b[38;5;241;43m.\u001b[39;49m\u001b[43msample\u001b[49m\u001b[43m(\u001b[49m\u001b[43minitial_positions\u001b[49m\u001b[43m,\u001b[49m\u001b[43m \u001b[49m\u001b[43minitial_params\u001b[49m\u001b[43m,\u001b[49m\u001b[43m \u001b[49m\u001b[43mnum_samples\u001b[49m\u001b[43m,\u001b[49m\u001b[43m \u001b[49m\u001b[43mburn_in\u001b[49m\u001b[38;5;241;43m=\u001b[39;49m\u001b[38;5;241;43m1000\u001b[39;49m\u001b[43m)\u001b[49m\n\u001b[1;32m     27\u001b[0m \u001b[38;5;66;03m# Create a function to access the evaluate method\u001b[39;00m\n\u001b[1;32m     28\u001b[0m evaluate_fn \u001b[38;5;241m=\u001b[39m evaluate_wavefunction_fn(trial_wavefunction)\n",
      "Cell \u001b[0;32mIn[3], line 24\u001b[0m, in \u001b[0;36mMetropolisHastingsSampler.sample\u001b[0;34m(self, initial_positions, params, num_samples, burn_in)\u001b[0m\n\u001b[1;32m     22\u001b[0m \u001b[38;5;66;03m# Run Metropolis-Hastings for burn-in\u001b[39;00m\n\u001b[1;32m     23\u001b[0m carry \u001b[38;5;241m=\u001b[39m (\u001b[38;5;28mself\u001b[39m\u001b[38;5;241m.\u001b[39mrng_key, initial_positions, \u001b[38;5;241m0\u001b[39m)\n\u001b[0;32m---> 24\u001b[0m carry, _ \u001b[38;5;241m=\u001b[39m \u001b[43mjax\u001b[49m\u001b[38;5;241;43m.\u001b[39;49m\u001b[43mlax\u001b[49m\u001b[38;5;241;43m.\u001b[39;49m\u001b[43mfori_loop\u001b[49m\u001b[43m(\u001b[49m\u001b[38;5;241;43m0\u001b[39;49m\u001b[43m,\u001b[49m\u001b[43m \u001b[49m\u001b[43mburn_in\u001b[49m\u001b[43m,\u001b[49m\u001b[43m \u001b[49m\u001b[43mmetropolis_step\u001b[49m\u001b[43m,\u001b[49m\u001b[43m \u001b[49m\u001b[43mcarry\u001b[49m\u001b[43m)\u001b[49m\n\u001b[1;32m     26\u001b[0m \u001b[38;5;66;03m# Generate samples after burn-in\u001b[39;00m\n\u001b[1;32m     27\u001b[0m carry, samples \u001b[38;5;241m=\u001b[39m jax\u001b[38;5;241m.\u001b[39mlax\u001b[38;5;241m.\u001b[39mscan(metropolis_step, carry, \u001b[38;5;28;01mNone\u001b[39;00m, length\u001b[38;5;241m=\u001b[39mnum_samples)\n",
      "    \u001b[0;31m[... skipping hidden 12 frame]\u001b[0m\n",
      "Cell \u001b[0;32mIn[3], line 9\u001b[0m, in \u001b[0;36mMetropolisHastingsSampler.sample.<locals>.metropolis_step\u001b[0;34m(carry, _)\u001b[0m\n\u001b[1;32m      8\u001b[0m \u001b[38;5;28;01mdef\u001b[39;00m \u001b[38;5;21mmetropolis_step\u001b[39m(carry, _):\n\u001b[0;32m----> 9\u001b[0m     key, positions, accepted \u001b[38;5;241m=\u001b[39m carry\n\u001b[1;32m     10\u001b[0m     key, subkey \u001b[38;5;241m=\u001b[39m random\u001b[38;5;241m.\u001b[39msplit(key)\n\u001b[1;32m     11\u001b[0m     proposed_move \u001b[38;5;241m=\u001b[39m positions \u001b[38;5;241m+\u001b[39m random\u001b[38;5;241m.\u001b[39mnormal(subkey, shape\u001b[38;5;241m=\u001b[39mpositions\u001b[38;5;241m.\u001b[39mshape) \u001b[38;5;241m*\u001b[39m \u001b[38;5;28mself\u001b[39m\u001b[38;5;241m.\u001b[39mstep_size\n",
      "    \u001b[0;31m[... skipping hidden 1 frame]\u001b[0m\n",
      "File \u001b[0;32m/Library/Frameworks/Python.framework/Versions/3.12/lib/python3.12/site-packages/jax/_src/lax/lax.py:1552\u001b[0m, in \u001b[0;36m_iter\u001b[0;34m(tracer)\u001b[0m\n\u001b[1;32m   1550\u001b[0m \u001b[38;5;28;01mdef\u001b[39;00m \u001b[38;5;21m_iter\u001b[39m(tracer):\n\u001b[1;32m   1551\u001b[0m   \u001b[38;5;28;01mif\u001b[39;00m tracer\u001b[38;5;241m.\u001b[39mndim \u001b[38;5;241m==\u001b[39m \u001b[38;5;241m0\u001b[39m:\n\u001b[0;32m-> 1552\u001b[0m     \u001b[38;5;28;01mraise\u001b[39;00m \u001b[38;5;167;01mTypeError\u001b[39;00m(\u001b[38;5;124m\"\u001b[39m\u001b[38;5;124miteration over a 0-d array\u001b[39m\u001b[38;5;124m\"\u001b[39m)  \u001b[38;5;66;03m# same as numpy error\u001b[39;00m\n\u001b[1;32m   1553\u001b[0m   \u001b[38;5;28;01melse\u001b[39;00m:\n\u001b[1;32m   1554\u001b[0m     n \u001b[38;5;241m=\u001b[39m \u001b[38;5;28mint\u001b[39m(tracer\u001b[38;5;241m.\u001b[39mshape[\u001b[38;5;241m0\u001b[39m])\n",
      "\u001b[0;31mTypeError\u001b[0m: iteration over a 0-d array"
     ]
    }
   ],
   "source": [
    "# Define helper function for wavefunction evaluation\n",
    "def evaluate_wavefunction_fn(trial_wavefunction):\n",
    "    \"\"\"Helper function to return the evaluation function.\"\"\"\n",
    "    return lambda positions, params: trial_wavefunction.evaluate(positions, params)\n",
    "\n",
    "# Set up the system\n",
    "mass = 1.0\n",
    "omega = 1.0\n",
    "hamiltonian = ManyBodyHamiltonian(mass, omega)\n",
    "\n",
    "# Initialize trial wavefunction parameters (e.g., alpha = 1.0 for Gaussian)\n",
    "initial_params = jnp.array([1.0])\n",
    "trial_wavefunction = TrialWavefunction(initial_params)\n",
    "\n",
    "# Initialize particle positions (for a single particle)\n",
    "initial_positions = jnp.array([0.0])\n",
    "\n",
    "# Initialize the Metropolis-Hastings sampler\n",
    "step_size = 0.1\n",
    "rng_key = random.PRNGKey(42)\n",
    "sampler = MetropolisHastingsSampler(trial_wavefunction, step_size, rng_key)\n",
    "\n",
    "# Generate 10,000 samples with burn-in of 1,000 steps\n",
    "num_samples = 10000\n",
    "samples = sampler.sample(initial_positions, initial_params, num_samples, burn_in=1000)\n",
    "\n",
    "# Create a function to access the evaluate method\n",
    "evaluate_fn = evaluate_wavefunction_fn(trial_wavefunction)\n",
    "\n",
    "# Compute the energy using the static argument for the wavefunction evaluation\n",
    "mean_energy = compute_energy(samples, hamiltonian, evaluate_fn, initial_params)\n",
    "print(\"Estimated Ground State Energy:\", mean_energy)\n"
   ]
  },
  {
   "cell_type": "code",
   "execution_count": null,
   "metadata": {},
   "outputs": [
    {
     "ename": "TypeError",
     "evalue": "iteration over a 0-d array",
     "output_type": "error",
     "traceback": [
      "\u001b[0;31m---------------------------------------------------------------------------\u001b[0m",
      "\u001b[0;31mTypeError\u001b[0m                                 Traceback (most recent call last)",
      "Cell \u001b[0;32mIn[6], line 109\u001b[0m\n\u001b[1;32m    107\u001b[0m \u001b[38;5;66;03m# Generate 10,000 samples with burn-in of 1,000 steps\u001b[39;00m\n\u001b[1;32m    108\u001b[0m num_samples \u001b[38;5;241m=\u001b[39m \u001b[38;5;241m10000\u001b[39m\n\u001b[0;32m--> 109\u001b[0m samples \u001b[38;5;241m=\u001b[39m \u001b[43msampler\u001b[49m\u001b[38;5;241;43m.\u001b[39;49m\u001b[43msample\u001b[49m\u001b[43m(\u001b[49m\u001b[43minitial_positions\u001b[49m\u001b[43m,\u001b[49m\u001b[43m \u001b[49m\u001b[43minitial_params\u001b[49m\u001b[43m,\u001b[49m\u001b[43m \u001b[49m\u001b[43mnum_samples\u001b[49m\u001b[43m,\u001b[49m\u001b[43m \u001b[49m\u001b[43mburn_in\u001b[49m\u001b[38;5;241;43m=\u001b[39;49m\u001b[38;5;241;43m1000\u001b[39;49m\u001b[43m)\u001b[49m\n\u001b[1;32m    111\u001b[0m \u001b[38;5;66;03m# Create a function to access the evaluate method\u001b[39;00m\n\u001b[1;32m    112\u001b[0m evaluate_fn \u001b[38;5;241m=\u001b[39m evaluate_wavefunction_fn(trial_wavefunction)\n",
      "Cell \u001b[0;32mIn[6], line 63\u001b[0m, in \u001b[0;36mMetropolisHastingsSampler.sample\u001b[0;34m(self, initial_positions, params, num_samples, burn_in)\u001b[0m\n\u001b[1;32m     61\u001b[0m \u001b[38;5;66;03m# Run Metropolis-Hastings for burn-in\u001b[39;00m\n\u001b[1;32m     62\u001b[0m carry \u001b[38;5;241m=\u001b[39m (\u001b[38;5;28mself\u001b[39m\u001b[38;5;241m.\u001b[39mrng_key, initial_positions, \u001b[38;5;241m0\u001b[39m)\n\u001b[0;32m---> 63\u001b[0m carry, _ \u001b[38;5;241m=\u001b[39m \u001b[43mjax\u001b[49m\u001b[38;5;241;43m.\u001b[39;49m\u001b[43mlax\u001b[49m\u001b[38;5;241;43m.\u001b[39;49m\u001b[43mfori_loop\u001b[49m\u001b[43m(\u001b[49m\u001b[38;5;241;43m0\u001b[39;49m\u001b[43m,\u001b[49m\u001b[43m \u001b[49m\u001b[43mburn_in\u001b[49m\u001b[43m,\u001b[49m\u001b[43m \u001b[49m\u001b[43mmetropolis_step\u001b[49m\u001b[43m,\u001b[49m\u001b[43m \u001b[49m\u001b[43mcarry\u001b[49m\u001b[43m)\u001b[49m\n\u001b[1;32m     65\u001b[0m \u001b[38;5;66;03m# Generate samples after burn-in\u001b[39;00m\n\u001b[1;32m     66\u001b[0m carry, samples \u001b[38;5;241m=\u001b[39m jax\u001b[38;5;241m.\u001b[39mlax\u001b[38;5;241m.\u001b[39mscan(metropolis_step, carry, \u001b[38;5;28;01mNone\u001b[39;00m, length\u001b[38;5;241m=\u001b[39mnum_samples)\n",
      "    \u001b[0;31m[... skipping hidden 12 frame]\u001b[0m\n",
      "Cell \u001b[0;32mIn[6], line 45\u001b[0m, in \u001b[0;36mMetropolisHastingsSampler.sample.<locals>.metropolis_step\u001b[0;34m(carry, _)\u001b[0m\n\u001b[1;32m     44\u001b[0m \u001b[38;5;28;01mdef\u001b[39;00m \u001b[38;5;21mmetropolis_step\u001b[39m(carry, _):\n\u001b[0;32m---> 45\u001b[0m     key, positions, accepted \u001b[38;5;241m=\u001b[39m carry\n\u001b[1;32m     46\u001b[0m     key, subkey \u001b[38;5;241m=\u001b[39m random\u001b[38;5;241m.\u001b[39msplit(key)\n\u001b[1;32m     47\u001b[0m     proposed_move \u001b[38;5;241m=\u001b[39m positions \u001b[38;5;241m+\u001b[39m random\u001b[38;5;241m.\u001b[39mnormal(subkey, shape\u001b[38;5;241m=\u001b[39mpositions\u001b[38;5;241m.\u001b[39mshape) \u001b[38;5;241m*\u001b[39m \u001b[38;5;28mself\u001b[39m\u001b[38;5;241m.\u001b[39mstep_size\n",
      "    \u001b[0;31m[... skipping hidden 1 frame]\u001b[0m\n",
      "File \u001b[0;32m/Library/Frameworks/Python.framework/Versions/3.12/lib/python3.12/site-packages/jax/_src/lax/lax.py:1552\u001b[0m, in \u001b[0;36m_iter\u001b[0;34m(tracer)\u001b[0m\n\u001b[1;32m   1550\u001b[0m \u001b[38;5;28;01mdef\u001b[39;00m \u001b[38;5;21m_iter\u001b[39m(tracer):\n\u001b[1;32m   1551\u001b[0m   \u001b[38;5;28;01mif\u001b[39;00m tracer\u001b[38;5;241m.\u001b[39mndim \u001b[38;5;241m==\u001b[39m \u001b[38;5;241m0\u001b[39m:\n\u001b[0;32m-> 1552\u001b[0m     \u001b[38;5;28;01mraise\u001b[39;00m \u001b[38;5;167;01mTypeError\u001b[39;00m(\u001b[38;5;124m\"\u001b[39m\u001b[38;5;124miteration over a 0-d array\u001b[39m\u001b[38;5;124m\"\u001b[39m)  \u001b[38;5;66;03m# same as numpy error\u001b[39;00m\n\u001b[1;32m   1553\u001b[0m   \u001b[38;5;28;01melse\u001b[39;00m:\n\u001b[1;32m   1554\u001b[0m     n \u001b[38;5;241m=\u001b[39m \u001b[38;5;28mint\u001b[39m(tracer\u001b[38;5;241m.\u001b[39mshape[\u001b[38;5;241m0\u001b[39m])\n",
      "\u001b[0;31mTypeError\u001b[0m: iteration over a 0-d array"
     ]
    }
   ],
   "source": [
    "import jax.numpy as jnp\n",
    "import jax\n",
    "from jax import random, jit, vmap, grad\n",
    "import functools\n",
    "\n",
    "# Trial wavefunction class\n",
    "class TrialWavefunction:\n",
    "    def __init__(self, params):\n",
    "        self.params = params\n",
    "\n",
    "    def evaluate(self, positions, params):\n",
    "        \"\"\"Gaussian trial wavefunction evaluation.\"\"\"\n",
    "        alpha = params[0]\n",
    "        return jnp.exp(-alpha * jnp.sum(positions**2))\n",
    "\n",
    "# Hamiltonian class\n",
    "class ManyBodyHamiltonian:\n",
    "    def __init__(self, mass, omega):\n",
    "        self.mass = mass\n",
    "        self.omega = omega\n",
    "\n",
    "    def potential_energy(self, positions):\n",
    "        \"\"\"Harmonic oscillator potential: V(x) = 1/2 * m * omega^2 * x^2\"\"\"\n",
    "        return 0.5 * self.mass * self.omega**2 * jnp.sum(positions**2)\n",
    "\n",
    "    def kinetic_energy(self, positions, evaluate_wavefunction_fn, params):\n",
    "        \"\"\"Kinetic energy: -1/2m * Laplacian of the wavefunction.\"\"\"\n",
    "        def log_psi(positions):\n",
    "            return jnp.log(evaluate_wavefunction_fn(positions, params))\n",
    "\n",
    "        grad_log_psi = grad(log_psi)\n",
    "        grad2_log_psi = grad(lambda pos: jnp.sum(grad_log_psi(pos)**2))\n",
    "\n",
    "        return -0.5 / self.mass * grad2_log_psi(positions)\n",
    "\n",
    "# Metropolis-Hastings sampler class\n",
    "class MetropolisHastingsSampler:\n",
    "    def __init__(self, wavefunction, step_size, rng_key):\n",
    "        self.wavefunction = wavefunction\n",
    "        self.step_size = step_size\n",
    "        self.rng_key = rng_key\n",
    "\n",
    "    def sample(self, initial_positions, params, num_samples, burn_in=1000):\n",
    "        def metropolis_step(carry, _):\n",
    "            key, positions, accepted = carry\n",
    "            key, subkey = random.split(key)\n",
    "            proposed_move = positions + random.normal(subkey, shape=positions.shape) * self.step_size\n",
    "\n",
    "            psi_old = self.wavefunction.evaluate(positions, params)\n",
    "            psi_new = self.wavefunction.evaluate(proposed_move, params)\n",
    "            acceptance_ratio = (psi_new / psi_old)**2\n",
    "\n",
    "            key, subkey = random.split(key)\n",
    "            accept = random.uniform(subkey) < acceptance_ratio\n",
    "            new_positions = jnp.where(accept, proposed_move, positions)\n",
    "            return (key, new_positions, accepted + accept), new_positions\n",
    "\n",
    "        # Ensure that initial_positions is at least 1D\n",
    "        initial_positions = jnp.atleast_1d(initial_positions)\n",
    "\n",
    "        # Run Metropolis-Hastings for burn-in\n",
    "        carry = (self.rng_key, initial_positions, 0)\n",
    "        carry, _ = jax.lax.fori_loop(0, burn_in, metropolis_step, carry)\n",
    "\n",
    "        # Generate samples after burn-in\n",
    "        carry, samples = jax.lax.scan(metropolis_step, carry, None, length=num_samples)\n",
    "        return samples\n",
    "\n",
    "# Energy computation function\n",
    "@functools.partial(jit, static_argnums=(2,))\n",
    "def compute_energy(samples, hamiltonian, evaluate_wavefunction_fn, params):\n",
    "    \"\"\"\n",
    "    Compute the energy of the system using the provided wavefunction evaluation function.\n",
    "    \"\"\"\n",
    "    def local_energy(positions):\n",
    "        \"\"\"Calculate the local energy (kinetic + potential) at each position.\"\"\"\n",
    "        kinetic = hamiltonian.kinetic_energy(positions, evaluate_wavefunction_fn, params)\n",
    "        potential = hamiltonian.potential_energy(positions)\n",
    "        return kinetic + potential\n",
    "\n",
    "    # Use vmap to evaluate energy over all the samples\n",
    "    energies = vmap(local_energy)(samples)\n",
    "\n",
    "    return jnp.mean(energies)\n",
    "\n",
    "# Define helper function for wavefunction evaluation\n",
    "def evaluate_wavefunction_fn(trial_wavefunction):\n",
    "    return lambda positions, params: trial_wavefunction.evaluate(positions, params)\n",
    "\n",
    "# Set up the system\n",
    "mass = 1.0\n",
    "omega = 1.0\n",
    "hamiltonian = ManyBodyHamiltonian(mass, omega)\n",
    "\n",
    "# Initialize trial wavefunction parameters\n",
    "initial_params = jnp.array([1.0])\n",
    "trial_wavefunction = TrialWavefunction(initial_params)\n",
    "\n",
    "# Initialize particle positions (ensure 1D array)\n",
    "initial_positions = jnp.array([0.0])\n",
    "\n",
    "# Initialize the Metropolis-Hastings sampler\n",
    "step_size = 0.1\n",
    "rng_key = random.PRNGKey(42)\n",
    "sampler = MetropolisHastingsSampler(trial_wavefunction, step_size, rng_key)\n",
    "\n",
    "# Generate 10,000 samples with burn-in of 1,000 steps\n",
    "num_samples = 10000\n",
    "samples = sampler.sample(initial_positions, initial_params, num_samples, burn_in=1000)\n",
    "\n",
    "# Create a function to access the evaluate method\n",
    "evaluate_fn = evaluate_wavefunction_fn(trial_wavefunction)\n",
    "\n",
    "# Compute the energy using the static argument for the wavefunction evaluation\n",
    "mean_energy = compute_energy(samples, hamiltonian, evaluate_fn, initial_params)\n",
    "print(\"Estimated Ground State Energy:\", mean_energy)\n"
   ]
  },
  {
   "cell_type": "code",
   "execution_count": null,
   "metadata": {},
   "outputs": [],
   "source": []
  }
 ],
 "metadata": {
  "kernelspec": {
   "display_name": "Python 3",
   "language": "python",
   "name": "python3"
  },
  "language_info": {
   "codemirror_mode": {
    "name": "ipython",
    "version": 3
   },
   "file_extension": ".py",
   "mimetype": "text/x-python",
   "name": "python",
   "nbconvert_exporter": "python",
   "pygments_lexer": "ipython3",
   "version": "3.12.3"
  }
 },
 "nbformat": 4,
 "nbformat_minor": 2
}
